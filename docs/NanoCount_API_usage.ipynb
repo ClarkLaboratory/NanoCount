{
 "cells": [
  {
   "cell_type": "markdown",
   "metadata": {
    "ExecuteTime": {
     "end_time": "2020-05-04T11:02:46.918334Z",
     "start_time": "2020-05-04T11:02:46.911996Z"
    }
   },
   "source": [
    "# NanoCount python API"
   ]
  },
  {
   "cell_type": "markdown",
   "metadata": {
    "ExecuteTime": {
     "end_time": "2020-05-04T12:47:10.312567Z",
     "start_time": "2020-05-04T12:47:10.033440Z"
    }
   },
   "source": [
    "### Activate virtual environment"
   ]
  },
  {
   "cell_type": "code",
   "execution_count": 3,
   "metadata": {
    "ExecuteTime": {
     "end_time": "2021-08-20T11:16:49.355261Z",
     "start_time": "2021-08-20T11:16:49.353245Z"
    },
    "init_cell": true
   },
   "outputs": [],
   "source": [
    "from NanoCount.NanoCount import NanoCount\n",
    "from NanoCount.common import jhelp, head"
   ]
  },
  {
   "cell_type": "markdown",
   "metadata": {},
   "source": [
    "### Running NanoCount "
   ]
  },
  {
   "cell_type": "code",
   "execution_count": 4,
   "metadata": {
    "ExecuteTime": {
     "end_time": "2021-08-20T11:16:49.359634Z",
     "start_time": "2021-08-20T11:16:49.356632Z"
    },
    "init_cell": true
   },
   "outputs": [
    {
     "data": {
      "text/markdown": [
       "**NanoCount** (alignment_file, count_file, filter_bam_out, min_alignment_length, keep_suplementary, min_query_fraction_aligned, sec_scoring_threshold, sec_scoring_value, convergence_target, max_em_rounds, extra_tx_info, primary_score, max_dist_3_prime, max_dist_5_prime, verbose, quiet)\n",
       "\n",
       "Estimate abundance of transcripts using an EM\n",
       "\n",
       "---\n",
       "\n",
       "* **alignment_file** (required) [str]\n",
       "\n",
       "BAM or SAM file containing aligned ONT dRNA-Seq reads including secondary and supplementary alignment\n",
       "\n",
       "* **count_file** (default: \"\") [str]\n",
       "\n",
       "Output file path where to write estimated counts (TSV format)\n",
       "\n",
       "* **filter_bam_out** (default: \"\") [str]\n",
       "\n",
       "Optional output file path where to write filtered reads selected by NanoCount to perform quantification estimation (BAM format)\n",
       "\n",
       "* **min_alignment_length** (default: 50) [int]\n",
       "\n",
       "Minimal length of the alignment to be considered valid\n",
       "\n",
       "* **keep_suplementary** (default: False) [bool]\n",
       "\n",
       "Retain any supplementary alignment and considered them like secondary alignments. discarded by default.\n",
       "\n",
       "* **min_query_fraction_aligned** (default: 0.5) [float]\n",
       "\n",
       "Minimal fraction of the primary alignment query aligned to consider the read valid\n",
       "\n",
       "* **sec_scoring_threshold** (default: 0.95) [float]\n",
       "\n",
       "Fraction of the alignment score or the alignment length of secondary alignments compared to the primary alignment to be considered valid alignments\n",
       "\n",
       "* **sec_scoring_value** (default: alignment_score) [str]\n",
       "\n",
       "Value to use for score thresholding of secondary alignments either \"alignment_score\" or \"alignment_length\"\n",
       "\n",
       "* **convergence_target** (default: 0.005) [float]\n",
       "\n",
       "Convergence target value of the cummulative difference between abundance values of successive EM round to trigger the end of the EM loop.\n",
       "\n",
       "* **max_em_rounds** (default: 100) [int]\n",
       "\n",
       "Maximum number of EM rounds before triggering stop\n",
       "\n",
       "* **extra_tx_info** (default: False) [bool]\n",
       "\n",
       "Add transcripts length and zero coverage transcripts to the output file (required valid bam/sam header)\n",
       "\n",
       "* **primary_score** (default: primary) [str]\n",
       "\n",
       "Method to pick the best alignment for each read. By default (\"primary\") it uses the primary read defined by the aligner but it can be changed to use either the best alignment score (\"align_score\") or the best alignment length (\"align_len\"). choices = [primary, align_score, align_len]\n",
       "\n",
       "* **max_dist_3_prime** (default: 50) [int]\n",
       "\n",
       "Maximum distance of alignment end to 3 prime of transcript. In ONT dRNA-Seq reads are assumed to start from the polyA tail (-1 to deactivate)\n",
       "\n",
       "* **max_dist_5_prime** (default: -1) [int]\n",
       "\n",
       "Maximum distance of alignment start to 5 prime of transcript. In conjunction with max_dist_3_prime it can be used to select near full transcript length reads only (-1 to deactivate).\n",
       "\n",
       "* **verbose** (default: False) [bool]\n",
       "\n",
       "Increase verbosity for QC and debugging\n",
       "\n",
       "* **quiet** (default: False) [bool]\n",
       "\n",
       "Reduce verbosity\n",
       "\n"
      ],
      "text/plain": [
       "<IPython.core.display.Markdown object>"
      ]
     },
     "metadata": {},
     "output_type": "display_data"
    }
   ],
   "source": [
    "jhelp(NanoCount)"
   ]
  },
  {
   "cell_type": "markdown",
   "metadata": {},
   "source": [
    "#### Basic command"
   ]
  },
  {
   "cell_type": "code",
   "execution_count": 5,
   "metadata": {
    "ExecuteTime": {
     "end_time": "2021-08-20T11:16:52.519712Z",
     "start_time": "2021-08-20T11:16:49.361454Z"
    },
    "scrolled": true
   },
   "outputs": [
    {
     "name": "stderr",
     "output_type": "stream",
     "text": [
      "\u001b[01;34m## Checking options and input files ##\u001b[0m\n",
      "\u001b[01;34m## Initialise Nanocount ##\u001b[0m\n",
      "\u001b[32m\tParse Bam file and filter low quality alignments\u001b[0m\n",
      "\u001b[32m\tSummary of alignments parsed in input bam file\u001b[0m\n",
      "\u001b[32m\t\tValid alignments: 150,517\u001b[0m\n",
      "\u001b[32m\t\tDiscarded unmapped alignments: 9,545\u001b[0m\n",
      "\u001b[32m\t\tDiscarded alignment with invalid 3 prime end: 6,133\u001b[0m\n",
      "\u001b[32m\t\tDiscarded negative strand alignments: 4,515\u001b[0m\n",
      "\u001b[32m\t\tDiscarded supplementary alignments: 334\u001b[0m\n",
      "\u001b[32m\tSummary of reads filtered\u001b[0m\n",
      "\u001b[32m\t\tReads with valid best alignment: 85,174\u001b[0m\n",
      "\u001b[32m\t\tInvalid secondary alignments: 59,993\u001b[0m\n",
      "\u001b[32m\t\tValid secondary alignments: 2,618\u001b[0m\n",
      "\u001b[32m\t\tReads with low query fraction aligned: 2,362\u001b[0m\n",
      "\u001b[32m\tGenerate initial read/transcript compatibility index\u001b[0m\n",
      "\u001b[01;34m## Start EM abundance estimate ##\u001b[0m\n",
      "\tProgress: 2.00 rounds [00:00, 7.40 rounds/s]\n",
      "\u001b[32m\tExit EM loop after 2 rounds\u001b[0m\n",
      "\u001b[32m\tConvergence value: 0.0019459404177855882\u001b[0m\n",
      "\u001b[01;34m## Summarize data ##\u001b[0m\n",
      "\u001b[32m\tConvert results to dataframe\u001b[0m\n",
      "\u001b[32m\tCompute estimated counts and TPM\u001b[0m\n",
      "\u001b[32m\tWrite file\u001b[0m\n"
     ]
    },
    {
     "name": "stdout",
     "output_type": "stream",
     "text": [
      "transcript_name raw                  est_count          tpm                \n",
      "YHR174W_mRNA    0.5931738182127508   50522.98679245284  593173.8182127508  \n",
      "YGR192C_mRNA    0.021012356886554624 1789.7064854554035 21012.356886554626 \n",
      "YLR110C_mRNA    0.009674313757719492 824.0              9674.313757719492  \n",
      "YOL086C_mRNA    0.008371099161716017 713.0              8371.099161716018  \n",
      "YKL060C_mRNA    0.006574776340197713 560.0              6574.776340197713  \n",
      "YPR080W_mRNA    0.005300913424284406 451.5              5300.913424284407  \n",
      "YBR118W_mRNA    0.005300913424284406 451.5              5300.913424284407  \n",
      "YLR044C_mRNA    0.005107192335689295 435.0              5107.192335689295  \n",
      "YKL152C_mRNA    0.004238382605020311 361.0              4238.3826050203115 \n",
      "\n"
     ]
    }
   ],
   "source": [
    "NanoCount (alignment_file=\"./data/aligned_reads_sorted.bam\", count_file=\"./output/tx_counts.tsv\")\n",
    "head(\"./output/tx_counts.tsv\")"
   ]
  },
  {
   "cell_type": "markdown",
   "metadata": {},
   "source": [
    "#### Using Best Alignment score rather than Primary reads as best reads"
   ]
  },
  {
   "cell_type": "code",
   "execution_count": 6,
   "metadata": {
    "ExecuteTime": {
     "end_time": "2021-08-20T11:16:55.594920Z",
     "start_time": "2021-08-20T11:16:52.521909Z"
    },
    "scrolled": false
   },
   "outputs": [
    {
     "name": "stderr",
     "output_type": "stream",
     "text": [
      "\u001b[01;34m## Checking options and input files ##\u001b[0m\n",
      "\u001b[01;34m## Initialise Nanocount ##\u001b[0m\n",
      "\u001b[32m\tParse Bam file and filter low quality alignments\u001b[0m\n",
      "\u001b[32m\tSummary of alignments parsed in input bam file\u001b[0m\n",
      "\u001b[32m\t\tValid alignments: 150,517\u001b[0m\n",
      "\u001b[32m\t\tDiscarded unmapped alignments: 9,545\u001b[0m\n",
      "\u001b[32m\t\tDiscarded alignment with invalid 3 prime end: 6,133\u001b[0m\n",
      "\u001b[32m\t\tDiscarded negative strand alignments: 4,515\u001b[0m\n",
      "\u001b[32m\t\tDiscarded supplementary alignments: 334\u001b[0m\n",
      "\u001b[32m\tSummary of reads filtered\u001b[0m\n",
      "\u001b[32m\t\tReads with valid best alignment: 84,953\u001b[0m\n",
      "\u001b[32m\t\tInvalid secondary alignments: 59,975\u001b[0m\n",
      "\u001b[32m\t\tReads with low query fraction aligned: 2,583\u001b[0m\n",
      "\u001b[32m\t\tValid secondary alignments: 2,262\u001b[0m\n",
      "\u001b[32m\tGenerate initial read/transcript compatibility index\u001b[0m\n",
      "\u001b[01;34m## Start EM abundance estimate ##\u001b[0m\n",
      "\tProgress: 2.00 rounds [00:00, 8.33 rounds/s]\n",
      "\u001b[32m\tExit EM loop after 2 rounds\u001b[0m\n",
      "\u001b[32m\tConvergence value: 0.001906212433901406\u001b[0m\n",
      "\u001b[01;34m## Summarize data ##\u001b[0m\n",
      "\u001b[32m\tConvert results to dataframe\u001b[0m\n",
      "\u001b[32m\tCompute estimated counts and TPM\u001b[0m\n",
      "\u001b[32m\tWrite file\u001b[0m\n"
     ]
    },
    {
     "name": "stdout",
     "output_type": "stream",
     "text": [
      "transcript_name raw                   est_count          tpm                \n",
      "YHR174W_mRNA    0.5947169233864942    50522.98679245284  594716.9233864942  \n",
      "YGR192C_mRNA    0.021067019239525427  1789.7064854554035 21067.019239525427 \n",
      "YLR110C_mRNA    0.00969948088943298   824.0              9699.48088943298   \n",
      "YOL086C_mRNA    0.008392876060880723  713.0              8392.876060880722  \n",
      "YKL060C_mRNA    0.006591880216119501  560.0              6591.880216119501  \n",
      "YLR044C_mRNA    0.0051204783821642555 435.0              5120.478382164256  \n",
      "YPR080W_mRNA    0.004590773721940367  390.0              4590.773721940367  \n",
      "YBR118W_mRNA    0.004590773721940367  390.0              4590.773721940367  \n",
      "YKL152C_mRNA    0.00424940849646275   361.0              4249.40849646275   \n",
      "\n"
     ]
    }
   ],
   "source": [
    "NanoCount (alignment_file=\"./data/aligned_reads_sorted.bam\", count_file=\"./output/tx_counts.tsv\", primary_score=\"align_score\")\n",
    "head(\"./output/tx_counts.tsv\")"
   ]
  },
  {
   "cell_type": "markdown",
   "metadata": {},
   "source": [
    "#### Write selected alignment to BAM file "
   ]
  },
  {
   "cell_type": "code",
   "execution_count": 7,
   "metadata": {
    "ExecuteTime": {
     "end_time": "2021-08-20T11:17:08.370856Z",
     "start_time": "2021-08-20T11:16:55.598652Z"
    },
    "scrolled": false
   },
   "outputs": [
    {
     "name": "stderr",
     "output_type": "stream",
     "text": [
      "\u001b[01;34m## Checking options and input files ##\u001b[0m\n",
      "\u001b[01;34m## Initialise Nanocount ##\u001b[0m\n",
      "\u001b[32m\tParse Bam file and filter low quality alignments\u001b[0m\n",
      "\u001b[32m\tSummary of alignments parsed in input bam file\u001b[0m\n",
      "\u001b[32m\t\tValid alignments: 150,517\u001b[0m\n",
      "\u001b[32m\t\tDiscarded unmapped alignments: 9,545\u001b[0m\n",
      "\u001b[32m\t\tDiscarded alignment with invalid 3 prime end: 6,133\u001b[0m\n",
      "\u001b[32m\t\tDiscarded negative strand alignments: 4,515\u001b[0m\n",
      "\u001b[32m\t\tDiscarded supplementary alignments: 334\u001b[0m\n",
      "\u001b[32m\tSummary of reads filtered\u001b[0m\n",
      "\u001b[32m\t\tReads with valid best alignment: 84,953\u001b[0m\n",
      "\u001b[32m\t\tInvalid secondary alignments: 59,975\u001b[0m\n",
      "\u001b[32m\t\tReads with low query fraction aligned: 2,583\u001b[0m\n",
      "\u001b[32m\t\tValid secondary alignments: 2,262\u001b[0m\n",
      "\u001b[32m\tWrite selected alignments to BAM file\u001b[0m\n",
      "\u001b[32m\tSummary of alignments written to bam\u001b[0m\n",
      "\u001b[32m\t\tAlignments to select: 87,215\u001b[0m\n",
      "\u001b[32m\t\tAlignments written: 87,215\u001b[0m\n",
      "\u001b[32m\t\tAlignments skipped: 83,829\u001b[0m\n",
      "\u001b[32m\tGenerate initial read/transcript compatibility index\u001b[0m\n",
      "\u001b[01;34m## Start EM abundance estimate ##\u001b[0m\n",
      "\tProgress: 2.00 rounds [00:00, 8.20 rounds/s]\n",
      "\u001b[32m\tExit EM loop after 2 rounds\u001b[0m\n",
      "\u001b[32m\tConvergence value: 0.001906212433901406\u001b[0m\n",
      "\u001b[01;34m## Summarize data ##\u001b[0m\n",
      "\u001b[32m\tConvert results to dataframe\u001b[0m\n",
      "\u001b[32m\tCompute estimated counts and TPM\u001b[0m\n",
      "\u001b[32m\tWrite file\u001b[0m\n"
     ]
    },
    {
     "name": "stdout",
     "output_type": "stream",
     "text": [
      "transcript_name raw                   est_count          tpm                \n",
      "YHR174W_mRNA    0.5947169233864942    50522.98679245284  594716.9233864942  \n",
      "YGR192C_mRNA    0.021067019239525427  1789.7064854554035 21067.019239525427 \n",
      "YLR110C_mRNA    0.00969948088943298   824.0              9699.48088943298   \n",
      "YOL086C_mRNA    0.008392876060880723  713.0              8392.876060880722  \n",
      "YKL060C_mRNA    0.006591880216119501  560.0              6591.880216119501  \n",
      "YLR044C_mRNA    0.0051204783821642555 435.0              5120.478382164256  \n",
      "YPR080W_mRNA    0.004590773721940367  390.0              4590.773721940367  \n",
      "YBR118W_mRNA    0.004590773721940367  390.0              4590.773721940367  \n",
      "YKL152C_mRNA    0.00424940849646275   361.0              4249.40849646275   \n",
      "\n"
     ]
    }
   ],
   "source": [
    "NanoCount (\n",
    "    alignment_file=\"./data/aligned_reads_sorted.bam\",\n",
    "    count_file=\"./output/tx_counts.tsv\",\n",
    "    filter_bam_out = \"./output/aligned_reads_selected.bam\",\n",
    "    primary_score=\"align_score\")\n",
    "\n",
    "head(\"./output/tx_counts.tsv\")"
   ]
  },
  {
   "cell_type": "markdown",
   "metadata": {},
   "source": [
    "#### Basic command without file writing and Dataframe output"
   ]
  },
  {
   "cell_type": "markdown",
   "metadata": {},
   "source": [
    "In interactive mode it is also possible not to write the results out but instead to access the data directly as a pandas DataFrame"
   ]
  },
  {
   "cell_type": "code",
   "execution_count": 8,
   "metadata": {
    "ExecuteTime": {
     "end_time": "2021-08-20T11:17:11.364466Z",
     "start_time": "2021-08-20T11:17:08.373109Z"
    },
    "scrolled": false
   },
   "outputs": [
    {
     "name": "stderr",
     "output_type": "stream",
     "text": [
      "\u001b[01;34m## Checking options and input files ##\u001b[0m\n",
      "\u001b[01;34m## Initialise Nanocount ##\u001b[0m\n",
      "\u001b[32m\tParse Bam file and filter low quality alignments\u001b[0m\n",
      "\u001b[32m\tSummary of alignments parsed in input bam file\u001b[0m\n",
      "\u001b[32m\t\tValid alignments: 150,517\u001b[0m\n",
      "\u001b[32m\t\tDiscarded unmapped alignments: 9,545\u001b[0m\n",
      "\u001b[32m\t\tDiscarded alignment with invalid 3 prime end: 6,133\u001b[0m\n",
      "\u001b[32m\t\tDiscarded negative strand alignments: 4,515\u001b[0m\n",
      "\u001b[32m\t\tDiscarded supplementary alignments: 334\u001b[0m\n",
      "\u001b[32m\tSummary of reads filtered\u001b[0m\n",
      "\u001b[32m\t\tReads with valid best alignment: 85,174\u001b[0m\n",
      "\u001b[32m\t\tInvalid secondary alignments: 59,993\u001b[0m\n",
      "\u001b[32m\t\tValid secondary alignments: 2,618\u001b[0m\n",
      "\u001b[32m\t\tReads with low query fraction aligned: 2,362\u001b[0m\n",
      "\u001b[32m\tGenerate initial read/transcript compatibility index\u001b[0m\n",
      "\u001b[01;34m## Start EM abundance estimate ##\u001b[0m\n",
      "\tProgress: 2.00 rounds [00:00, 8.32 rounds/s]\n",
      "\u001b[32m\tExit EM loop after 2 rounds\u001b[0m\n",
      "\u001b[32m\tConvergence value: 0.0019459404177855882\u001b[0m\n",
      "\u001b[01;34m## Summarize data ##\u001b[0m\n",
      "\u001b[32m\tConvert results to dataframe\u001b[0m\n",
      "\u001b[32m\tCompute estimated counts and TPM\u001b[0m\n"
     ]
    },
    {
     "data": {
      "text/html": [
       "<div>\n",
       "<style scoped>\n",
       "    .dataframe tbody tr th:only-of-type {\n",
       "        vertical-align: middle;\n",
       "    }\n",
       "\n",
       "    .dataframe tbody tr th {\n",
       "        vertical-align: top;\n",
       "    }\n",
       "\n",
       "    .dataframe thead th {\n",
       "        text-align: right;\n",
       "    }\n",
       "</style>\n",
       "<table border=\"1\" class=\"dataframe\">\n",
       "  <thead>\n",
       "    <tr style=\"text-align: right;\">\n",
       "      <th></th>\n",
       "      <th>raw</th>\n",
       "      <th>est_count</th>\n",
       "      <th>tpm</th>\n",
       "    </tr>\n",
       "    <tr>\n",
       "      <th>transcript_name</th>\n",
       "      <th></th>\n",
       "      <th></th>\n",
       "      <th></th>\n",
       "    </tr>\n",
       "  </thead>\n",
       "  <tbody>\n",
       "    <tr>\n",
       "      <th>YHR174W_mRNA</th>\n",
       "      <td>5.931738e-01</td>\n",
       "      <td>50522.986792</td>\n",
       "      <td>593173.818213</td>\n",
       "    </tr>\n",
       "    <tr>\n",
       "      <th>YGR192C_mRNA</th>\n",
       "      <td>2.101236e-02</td>\n",
       "      <td>1789.706485</td>\n",
       "      <td>21012.356887</td>\n",
       "    </tr>\n",
       "    <tr>\n",
       "      <th>YLR110C_mRNA</th>\n",
       "      <td>9.674314e-03</td>\n",
       "      <td>824.000000</td>\n",
       "      <td>9674.313758</td>\n",
       "    </tr>\n",
       "    <tr>\n",
       "      <th>YOL086C_mRNA</th>\n",
       "      <td>8.371099e-03</td>\n",
       "      <td>713.000000</td>\n",
       "      <td>8371.099162</td>\n",
       "    </tr>\n",
       "    <tr>\n",
       "      <th>YKL060C_mRNA</th>\n",
       "      <td>6.574776e-03</td>\n",
       "      <td>560.000000</td>\n",
       "      <td>6574.776340</td>\n",
       "    </tr>\n",
       "    <tr>\n",
       "      <th>...</th>\n",
       "      <td>...</td>\n",
       "      <td>...</td>\n",
       "      <td>...</td>\n",
       "    </tr>\n",
       "    <tr>\n",
       "      <th>YDR433W_mRNA</th>\n",
       "      <td>2.348134e-06</td>\n",
       "      <td>0.200000</td>\n",
       "      <td>2.348134</td>\n",
       "    </tr>\n",
       "    <tr>\n",
       "      <th>YHL050C_mRNA</th>\n",
       "      <td>1.684879e-06</td>\n",
       "      <td>0.143508</td>\n",
       "      <td>1.684879</td>\n",
       "    </tr>\n",
       "    <tr>\n",
       "      <th>YPR204W_mRNA</th>\n",
       "      <td>1.684879e-06</td>\n",
       "      <td>0.143508</td>\n",
       "      <td>1.684879</td>\n",
       "    </tr>\n",
       "    <tr>\n",
       "      <th>YEL077C_mRNA</th>\n",
       "      <td>3.453139e-07</td>\n",
       "      <td>0.029412</td>\n",
       "      <td>0.345314</td>\n",
       "    </tr>\n",
       "    <tr>\n",
       "      <th>YOR248W_mRNA</th>\n",
       "      <td>1.834480e-07</td>\n",
       "      <td>0.015625</td>\n",
       "      <td>0.183448</td>\n",
       "    </tr>\n",
       "  </tbody>\n",
       "</table>\n",
       "<p>3040 rows × 3 columns</p>\n",
       "</div>"
      ],
      "text/plain": [
       "                          raw     est_count            tpm\n",
       "transcript_name                                           \n",
       "YHR174W_mRNA     5.931738e-01  50522.986792  593173.818213\n",
       "YGR192C_mRNA     2.101236e-02   1789.706485   21012.356887\n",
       "YLR110C_mRNA     9.674314e-03    824.000000    9674.313758\n",
       "YOL086C_mRNA     8.371099e-03    713.000000    8371.099162\n",
       "YKL060C_mRNA     6.574776e-03    560.000000    6574.776340\n",
       "...                       ...           ...            ...\n",
       "YDR433W_mRNA     2.348134e-06      0.200000       2.348134\n",
       "YHL050C_mRNA     1.684879e-06      0.143508       1.684879\n",
       "YPR204W_mRNA     1.684879e-06      0.143508       1.684879\n",
       "YEL077C_mRNA     3.453139e-07      0.029412       0.345314\n",
       "YOR248W_mRNA     1.834480e-07      0.015625       0.183448\n",
       "\n",
       "[3040 rows x 3 columns]"
      ]
     },
     "metadata": {},
     "output_type": "display_data"
    }
   ],
   "source": [
    "nc = NanoCount (alignment_file=\"./data/aligned_reads_sorted.bam\")\n",
    "display(nc.count_df)"
   ]
  },
  {
   "cell_type": "markdown",
   "metadata": {
    "ExecuteTime": {
     "end_time": "2020-05-04T16:45:12.397835Z",
     "start_time": "2020-05-04T16:45:12.393091Z"
    }
   },
   "source": [
    "#### Adding extra transcripts information"
   ]
  },
  {
   "cell_type": "markdown",
   "metadata": {},
   "source": [
    "The `extra_tx_info` option adds a columns with the transcript lengths and also includes all the zero-coverage transcripts in the results   "
   ]
  },
  {
   "cell_type": "code",
   "execution_count": 9,
   "metadata": {
    "ExecuteTime": {
     "end_time": "2021-08-20T11:17:14.468747Z",
     "start_time": "2021-08-20T11:17:11.366009Z"
    }
   },
   "outputs": [
    {
     "name": "stderr",
     "output_type": "stream",
     "text": [
      "\u001b[01;34m## Checking options and input files ##\u001b[0m\n",
      "\u001b[01;34m## Initialise Nanocount ##\u001b[0m\n",
      "\u001b[32m\tParse Bam file and filter low quality alignments\u001b[0m\n",
      "\u001b[32m\tSummary of alignments parsed in input bam file\u001b[0m\n",
      "\u001b[32m\t\tValid alignments: 150,517\u001b[0m\n",
      "\u001b[32m\t\tDiscarded unmapped alignments: 9,545\u001b[0m\n",
      "\u001b[32m\t\tDiscarded alignment with invalid 3 prime end: 6,133\u001b[0m\n",
      "\u001b[32m\t\tDiscarded negative strand alignments: 4,515\u001b[0m\n",
      "\u001b[32m\t\tDiscarded supplementary alignments: 334\u001b[0m\n",
      "\u001b[32m\tSummary of reads filtered\u001b[0m\n",
      "\u001b[32m\t\tReads with valid best alignment: 85,174\u001b[0m\n",
      "\u001b[32m\t\tInvalid secondary alignments: 59,993\u001b[0m\n",
      "\u001b[32m\t\tValid secondary alignments: 2,618\u001b[0m\n",
      "\u001b[32m\t\tReads with low query fraction aligned: 2,362\u001b[0m\n",
      "\u001b[32m\tGenerate initial read/transcript compatibility index\u001b[0m\n",
      "\u001b[01;34m## Start EM abundance estimate ##\u001b[0m\n",
      "\tProgress: 2.00 rounds [00:00, 7.95 rounds/s]\n",
      "\u001b[32m\tExit EM loop after 2 rounds\u001b[0m\n",
      "\u001b[32m\tConvergence value: 0.0019459404177855882\u001b[0m\n",
      "\u001b[01;34m## Summarize data ##\u001b[0m\n",
      "\u001b[32m\tConvert results to dataframe\u001b[0m\n",
      "\u001b[32m\tCompute estimated counts and TPM\u001b[0m\n"
     ]
    },
    {
     "data": {
      "text/html": [
       "<div>\n",
       "<style scoped>\n",
       "    .dataframe tbody tr th:only-of-type {\n",
       "        vertical-align: middle;\n",
       "    }\n",
       "\n",
       "    .dataframe tbody tr th {\n",
       "        vertical-align: top;\n",
       "    }\n",
       "\n",
       "    .dataframe thead th {\n",
       "        text-align: right;\n",
       "    }\n",
       "</style>\n",
       "<table border=\"1\" class=\"dataframe\">\n",
       "  <thead>\n",
       "    <tr style=\"text-align: right;\">\n",
       "      <th></th>\n",
       "      <th>raw</th>\n",
       "      <th>est_count</th>\n",
       "      <th>tpm</th>\n",
       "      <th>transcript_length</th>\n",
       "    </tr>\n",
       "    <tr>\n",
       "      <th>transcript_name</th>\n",
       "      <th></th>\n",
       "      <th></th>\n",
       "      <th></th>\n",
       "      <th></th>\n",
       "    </tr>\n",
       "  </thead>\n",
       "  <tbody>\n",
       "    <tr>\n",
       "      <th>YHR174W_mRNA</th>\n",
       "      <td>0.593174</td>\n",
       "      <td>50522.986792</td>\n",
       "      <td>593173.818213</td>\n",
       "      <td>1314</td>\n",
       "    </tr>\n",
       "    <tr>\n",
       "      <th>YGR192C_mRNA</th>\n",
       "      <td>0.021012</td>\n",
       "      <td>1789.706485</td>\n",
       "      <td>21012.356887</td>\n",
       "      <td>999</td>\n",
       "    </tr>\n",
       "    <tr>\n",
       "      <th>YLR110C_mRNA</th>\n",
       "      <td>0.009674</td>\n",
       "      <td>824.000000</td>\n",
       "      <td>9674.313758</td>\n",
       "      <td>402</td>\n",
       "    </tr>\n",
       "    <tr>\n",
       "      <th>YOL086C_mRNA</th>\n",
       "      <td>0.008371</td>\n",
       "      <td>713.000000</td>\n",
       "      <td>8371.099162</td>\n",
       "      <td>1047</td>\n",
       "    </tr>\n",
       "    <tr>\n",
       "      <th>YKL060C_mRNA</th>\n",
       "      <td>0.006575</td>\n",
       "      <td>560.000000</td>\n",
       "      <td>6574.776340</td>\n",
       "      <td>1080</td>\n",
       "    </tr>\n",
       "    <tr>\n",
       "      <th>...</th>\n",
       "      <td>...</td>\n",
       "      <td>...</td>\n",
       "      <td>...</td>\n",
       "      <td>...</td>\n",
       "    </tr>\n",
       "    <tr>\n",
       "      <th>YPR200C_mRNA</th>\n",
       "      <td>0.000000</td>\n",
       "      <td>0.000000</td>\n",
       "      <td>0.000000</td>\n",
       "      <td>393</td>\n",
       "    </tr>\n",
       "    <tr>\n",
       "      <th>YPR201W_mRNA</th>\n",
       "      <td>0.000000</td>\n",
       "      <td>0.000000</td>\n",
       "      <td>0.000000</td>\n",
       "      <td>1215</td>\n",
       "    </tr>\n",
       "    <tr>\n",
       "      <th>YPR202W_mRNA</th>\n",
       "      <td>0.000000</td>\n",
       "      <td>0.000000</td>\n",
       "      <td>0.000000</td>\n",
       "      <td>717</td>\n",
       "    </tr>\n",
       "    <tr>\n",
       "      <th>YPR203W_mRNA</th>\n",
       "      <td>0.000000</td>\n",
       "      <td>0.000000</td>\n",
       "      <td>0.000000</td>\n",
       "      <td>309</td>\n",
       "    </tr>\n",
       "    <tr>\n",
       "      <th>YPR204C-A_mRNA</th>\n",
       "      <td>0.000000</td>\n",
       "      <td>0.000000</td>\n",
       "      <td>0.000000</td>\n",
       "      <td>483</td>\n",
       "    </tr>\n",
       "  </tbody>\n",
       "</table>\n",
       "<p>6612 rows × 4 columns</p>\n",
       "</div>"
      ],
      "text/plain": [
       "                      raw     est_count            tpm  transcript_length\n",
       "transcript_name                                                          \n",
       "YHR174W_mRNA     0.593174  50522.986792  593173.818213               1314\n",
       "YGR192C_mRNA     0.021012   1789.706485   21012.356887                999\n",
       "YLR110C_mRNA     0.009674    824.000000    9674.313758                402\n",
       "YOL086C_mRNA     0.008371    713.000000    8371.099162               1047\n",
       "YKL060C_mRNA     0.006575    560.000000    6574.776340               1080\n",
       "...                   ...           ...            ...                ...\n",
       "YPR200C_mRNA     0.000000      0.000000       0.000000                393\n",
       "YPR201W_mRNA     0.000000      0.000000       0.000000               1215\n",
       "YPR202W_mRNA     0.000000      0.000000       0.000000                717\n",
       "YPR203W_mRNA     0.000000      0.000000       0.000000                309\n",
       "YPR204C-A_mRNA   0.000000      0.000000       0.000000                483\n",
       "\n",
       "[6612 rows x 4 columns]"
      ]
     },
     "metadata": {},
     "output_type": "display_data"
    }
   ],
   "source": [
    "nc = NanoCount (alignment_file=\"./data/aligned_reads_sorted.bam\", extra_tx_info=True)\n",
    "display(nc.count_df)"
   ]
  },
  {
   "cell_type": "markdown",
   "metadata": {},
   "source": [
    "#### Relaxing the secondary alignment scoring threshold"
   ]
  },
  {
   "cell_type": "markdown",
   "metadata": {},
   "source": [
    "The default value is 0.95 (95% of the alignment score of the primary alignment) but this value could be lowered to allow more secondary alignments to be included in the uncertainty calculation.\n",
    "Lowering the value bellow 0.75 might not be relevant and will considerably increase the computation time."
   ]
  },
  {
   "cell_type": "code",
   "execution_count": 11,
   "metadata": {
    "ExecuteTime": {
     "end_time": "2021-08-20T11:17:40.380511Z",
     "start_time": "2021-08-20T11:17:34.746389Z"
    },
    "scrolled": false
   },
   "outputs": [
    {
     "name": "stderr",
     "output_type": "stream",
     "text": [
      "\u001b[01;34m## Checking options and input files ##\u001b[0m\n",
      "\u001b[01;34m## Initialise Nanocount ##\u001b[0m\n",
      "\u001b[32m\tParse Bam file and filter low quality alignments\u001b[0m\n",
      "\u001b[32m\tSummary of alignments parsed in input bam file\u001b[0m\n",
      "\u001b[32m\t\tValid alignments: 150,517\u001b[0m\n",
      "\u001b[32m\t\tDiscarded unmapped alignments: 9,545\u001b[0m\n",
      "\u001b[32m\t\tDiscarded alignment with invalid 3 prime end: 6,133\u001b[0m\n",
      "\u001b[32m\t\tDiscarded negative strand alignments: 4,515\u001b[0m\n",
      "\u001b[32m\t\tDiscarded supplementary alignments: 334\u001b[0m\n",
      "\u001b[32m\tSummary of reads filtered\u001b[0m\n",
      "\u001b[32m\t\tReads with valid best alignment: 85,174\u001b[0m\n",
      "\u001b[32m\t\tValid secondary alignments: 49,061\u001b[0m\n",
      "\u001b[32m\t\tInvalid secondary alignments: 13,550\u001b[0m\n",
      "\u001b[32m\t\tReads with low query fraction aligned: 2,362\u001b[0m\n",
      "\u001b[32m\tGenerate initial read/transcript compatibility index\u001b[0m\n",
      "\u001b[01;34m## Start EM abundance estimate ##\u001b[0m\n",
      "\tProgress: 17.0 rounds [00:02, 6.18 rounds/s]\n",
      "\u001b[32m\tExit EM loop after 17 rounds\u001b[0m\n",
      "\u001b[32m\tConvergence value: 0.004898135236430615\u001b[0m\n",
      "\u001b[01;34m## Summarize data ##\u001b[0m\n",
      "\u001b[32m\tConvert results to dataframe\u001b[0m\n",
      "\u001b[32m\tCompute estimated counts and TPM\u001b[0m\n",
      "\u001b[32m\tWrite file\u001b[0m\n"
     ]
    },
    {
     "name": "stdout",
     "output_type": "stream",
     "text": [
      "transcript_name raw                   est_count          tpm               transcript_length \n",
      "YHR174W_mRNA    0.5829682504382943    49653.737762831275 582968.2504382943 1314              \n",
      "YGR192C_mRNA    0.01511479453374923   1287.3875096175568 15114.79453374923 999               \n",
      "YGR254W_mRNA    0.01128586466687533   961.2622371364395  11285.86466687533 1314              \n",
      "YLR110C_mRNA    0.009674313757719525  824.0000000000028  9674.313757719525 402               \n",
      "YJR009C_mRNA    0.009499248602267904  809.0890004495665  9499.248602267904 999               \n",
      "YOL086C_mRNA    0.008371099161716045  713.0000000000024  8371.099161716045 1047              \n",
      "YKL060C_mRNA    0.0065747763401977355 560.0000000000019  6574.776340197735 1080              \n",
      "YBR118W_mRNA    0.005300913424284424  451.5000000000016  5300.913424284425 1377              \n",
      "YPR080W_mRNA    0.005300913424284424  451.5000000000016  5300.913424284425 1377              \n",
      "\n"
     ]
    }
   ],
   "source": [
    "NanoCount (alignment_file=\"./data/aligned_reads_sorted.bam\", count_file=\"./output/tx_counts.tsv\", sec_scoring_threshold=0.8, extra_tx_info=True)\n",
    "head(\"./output/tx_counts.tsv\")"
   ]
  }
 ],
 "metadata": {
  "celltoolbar": "Initialization Cell",
  "kernelspec": {
   "display_name": "Python [conda env:nanocount]",
   "language": "python",
   "name": "conda-env-nanocount-py"
  },
  "language_info": {
   "codemirror_mode": {
    "name": "ipython",
    "version": 3
   },
   "file_extension": ".py",
   "mimetype": "text/x-python",
   "name": "python",
   "nbconvert_exporter": "python",
   "pygments_lexer": "ipython3",
   "version": "3.8.10"
  }
 },
 "nbformat": 4,
 "nbformat_minor": 4
}
