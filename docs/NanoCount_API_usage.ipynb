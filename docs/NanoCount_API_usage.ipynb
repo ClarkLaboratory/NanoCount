{
 "cells": [
  {
   "cell_type": "markdown",
   "metadata": {
    "ExecuteTime": {
     "end_time": "2020-05-04T11:02:46.918334Z",
     "start_time": "2020-05-04T11:02:46.911996Z"
    }
   },
   "source": [
    "# NanoCount python API"
   ]
  },
  {
   "cell_type": "markdown",
   "metadata": {
    "ExecuteTime": {
     "end_time": "2020-05-04T12:47:10.312567Z",
     "start_time": "2020-05-04T12:47:10.033440Z"
    }
   },
   "source": [
    "### Activate virtual environment"
   ]
  },
  {
   "cell_type": "code",
   "execution_count": 3,
   "metadata": {
    "ExecuteTime": {
     "end_time": "2021-09-08T21:51:42.245739Z",
     "start_time": "2021-09-08T21:51:42.243924Z"
    },
    "init_cell": true
   },
   "outputs": [],
   "source": [
    "from NanoCount.NanoCount import NanoCount\n",
    "from NanoCount.common import jhelp, head"
   ]
  },
  {
   "cell_type": "markdown",
   "metadata": {},
   "source": [
    "### Running NanoCount "
   ]
  },
  {
   "cell_type": "code",
   "execution_count": 4,
   "metadata": {
    "ExecuteTime": {
     "end_time": "2021-09-08T21:51:42.250915Z",
     "start_time": "2021-09-08T21:51:42.247776Z"
    },
    "init_cell": true
   },
   "outputs": [
    {
     "data": {
      "text/markdown": [
       "**NanoCount** (alignment_file, count_file, filter_bam_out, min_alignment_length, keep_supplementary, min_query_fraction_aligned, sec_scoring_threshold, sec_scoring_value, convergence_target, max_em_rounds, extra_tx_info, primary_score, max_dist_3_prime, max_dist_5_prime, verbose, quiet)\n",
       "\n",
       "Estimate abundance of transcripts using an EM\n",
       "\n",
       "---\n",
       "\n",
       "* **alignment_file** (required) [str]\n",
       "\n",
       "Sorted and indexed BAM or SAM file containing aligned ONT dRNA-Seq reads including secondary alignments\n",
       "\n",
       "* **count_file** (default: \"\") [str]\n",
       "\n",
       "Output file path where to write estimated counts (TSV format)\n",
       "\n",
       "* **filter_bam_out** (default: \"\") [str]\n",
       "\n",
       "Optional output file path where to write filtered reads selected by NanoCount to perform quantification estimation (BAM format)\n",
       "\n",
       "* **min_alignment_length** (default: 50) [int]\n",
       "\n",
       "Minimal length of the alignment to be considered valid\n",
       "\n",
       "* **keep_supplementary** (default: False) [bool]\n",
       "\n",
       "Retain any supplementary alignments and considered them like secondary alignments. Discarded by default.\n",
       "\n",
       "* **min_query_fraction_aligned** (default: 0.5) [float]\n",
       "\n",
       "Minimal fraction of the primary alignment query aligned to consider the read valid\n",
       "\n",
       "* **sec_scoring_threshold** (default: 0.95) [float]\n",
       "\n",
       "Fraction of the alignment score or the alignment length of secondary alignments compared to the primary alignment to be considered valid alignments\n",
       "\n",
       "* **sec_scoring_value** (default: alignment_score) [str]\n",
       "\n",
       "Value to use for score thresholding of secondary alignments either \"alignment_score\" or \"alignment_length\"\n",
       "\n",
       "* **convergence_target** (default: 0.005) [float]\n",
       "\n",
       "Convergence target value of the cummulative difference between abundance values of successive EM round to trigger the end of the EM loop.\n",
       "\n",
       "* **max_em_rounds** (default: 100) [int]\n",
       "\n",
       "Maximum number of EM rounds before triggering stop\n",
       "\n",
       "* **extra_tx_info** (default: False) [bool]\n",
       "\n",
       "Add transcripts length and zero coverage transcripts to the output file (required valid bam/sam header)\n",
       "\n",
       "* **primary_score** (default: alignment_score) [str]\n",
       "\n",
       "Method to pick the best alignment for each read. By default (\"alignment_score\") uses the best alignment score (AS optional field), but it can be changed to use either the primary alignment defined by the aligner (\"primary\") or the longest alignment (\"alignment_length\"). choices = [primary, alignment_score, alignment_length]\n",
       "\n",
       "* **max_dist_3_prime** (default: 50) [int]\n",
       "\n",
       "Maximum distance of alignment end to 3 prime of transcript. In ONT dRNA-Seq reads are assumed to start from the polyA tail (-1 to deactivate)\n",
       "\n",
       "* **max_dist_5_prime** (default: -1) [int]\n",
       "\n",
       "Maximum distance of alignment start to 5 prime of transcript. In conjunction with max_dist_3_prime it can be used to select near full transcript reads only (-1 to deactivate).\n",
       "\n",
       "* **verbose** (default: False) [bool]\n",
       "\n",
       "Increase verbosity for QC and debugging\n",
       "\n",
       "* **quiet** (default: False) [bool]\n",
       "\n",
       "Reduce verbosity\n",
       "\n"
      ],
      "text/plain": [
       "<IPython.core.display.Markdown object>"
      ]
     },
     "metadata": {},
     "output_type": "display_data"
    }
   ],
   "source": [
    "jhelp(NanoCount)"
   ]
  },
  {
   "cell_type": "markdown",
   "metadata": {},
   "source": [
    "#### Basic command"
   ]
  },
  {
   "cell_type": "code",
   "execution_count": 5,
   "metadata": {
    "ExecuteTime": {
     "end_time": "2021-09-08T21:51:45.478523Z",
     "start_time": "2021-09-08T21:51:42.252379Z"
    },
    "scrolled": false
   },
   "outputs": [
    {
     "name": "stderr",
     "output_type": "stream",
     "text": [
      "\u001b[01;34m## Checking options and input files ##\u001b[0m\n",
      "\u001b[01;34m## Initialise Nanocount ##\u001b[0m\n",
      "\u001b[32m\tParse Bam file and filter low quality alignments\u001b[0m\n",
      "\u001b[32m\tSummary of alignments parsed in input bam file\u001b[0m\n",
      "\u001b[32m\t\tValid alignments: 150,517\u001b[0m\n",
      "\u001b[32m\t\tDiscarded unmapped alignments: 9,545\u001b[0m\n",
      "\u001b[32m\t\tDiscarded alignment with invalid 3 prime end: 6,133\u001b[0m\n",
      "\u001b[32m\t\tDiscarded negative strand alignments: 4,515\u001b[0m\n",
      "\u001b[32m\t\tDiscarded supplementary alignments: 334\u001b[0m\n",
      "\u001b[32m\tSummary of reads filtered\u001b[0m\n",
      "\u001b[32m\t\tReads with valid best alignment: 85,908\u001b[0m\n",
      "\u001b[32m\t\tInvalid secondary alignments: 60,120\u001b[0m\n",
      "\u001b[32m\t\tValid secondary alignments: 2,622\u001b[0m\n",
      "\u001b[32m\t\tReads with low query fraction aligned: 1,628\u001b[0m\n",
      "\u001b[32m\tGenerate initial read/transcript compatibility index\u001b[0m\n",
      "\u001b[01;34m## Start EM abundance estimate ##\u001b[0m\n",
      "\tProgress: 2.00 rounds [00:00, 7.55 rounds/s]\n",
      "\u001b[32m\tExit EM loop after 2 rounds\u001b[0m\n",
      "\u001b[32m\tConvergence value: 0.0019361726963877538\u001b[0m\n",
      "\u001b[01;34m## Summarize data ##\u001b[0m\n",
      "\u001b[32m\tConvert results to dataframe\u001b[0m\n",
      "\u001b[32m\tCompute estimated counts and TPM\u001b[0m\n",
      "\u001b[32m\tWrite file\u001b[0m\n"
     ]
    },
    {
     "name": "stdout",
     "output_type": "stream",
     "text": [
      "transcript_name raw                  est_count          tpm                \n",
      "YHR174W_mRNA    0.5881056948454584   50522.984032783635 588105.6948454584  \n",
      "YGR192C_mRNA    0.02083282680839274  1789.7064854554035 20832.82680839274  \n",
      "YLR110C_mRNA    0.009591656190343158 824.0              9591.656190343158  \n",
      "YOL086C_mRNA    0.008299576290915864 713.0              8299.576290915864  \n",
      "YKL060C_mRNA    0.006518601294407972 560.0              6518.601294407972  \n",
      "YCR012W_mRNA    0.005412767146249476 464.99999999999994 5412.767146249475  \n",
      "YPR080W_mRNA    0.005255622293616427 451.5              5255.622293616427  \n",
      "YBR118W_mRNA    0.005255622293616427 451.5              5255.622293616427  \n",
      "YKL152C_mRNA    0.005226521394980677 449.0              5226.5213949806775 \n",
      "\n"
     ]
    }
   ],
   "source": [
    "NanoCount (alignment_file=\"./data/aligned_reads_sorted.bam\", count_file=\"./output/tx_counts.tsv\")\n",
    "head(\"./output/tx_counts.tsv\")"
   ]
  },
  {
   "cell_type": "markdown",
   "metadata": {},
   "source": [
    "#### Using Best Alignment score rather than Primary reads as best reads"
   ]
  },
  {
   "cell_type": "code",
   "execution_count": 6,
   "metadata": {
    "ExecuteTime": {
     "end_time": "2021-09-08T21:51:54.196932Z",
     "start_time": "2021-09-08T21:51:45.480623Z"
    },
    "scrolled": false
   },
   "outputs": [
    {
     "name": "stderr",
     "output_type": "stream",
     "text": [
      "\u001b[01;34m## Checking options and input files ##\u001b[0m\n",
      "\u001b[01;34m## Initialise Nanocount ##\u001b[0m\n",
      "\u001b[32m\tParse Bam file and filter low quality alignments\u001b[0m\n",
      "\u001b[32m\tSummary of alignments parsed in input bam file\u001b[0m\n",
      "\u001b[32m\t\tValid alignments: 150,517\u001b[0m\n",
      "\u001b[32m\t\tDiscarded unmapped alignments: 9,545\u001b[0m\n",
      "\u001b[32m\t\tDiscarded alignment with invalid 3 prime end: 6,133\u001b[0m\n",
      "\u001b[32m\t\tDiscarded negative strand alignments: 4,515\u001b[0m\n",
      "\u001b[32m\t\tDiscarded supplementary alignments: 334\u001b[0m\n",
      "\u001b[32m\tSummary of reads filtered\u001b[0m\n",
      "\u001b[32m\t\tReads with valid best alignment: 85,805\u001b[0m\n",
      "\u001b[32m\t\tValid secondary alignments: 54,985\u001b[0m\n",
      "\u001b[32m\t\tInvalid secondary alignments: 7,651\u001b[0m\n",
      "\u001b[32m\t\tReads with low query fraction aligned: 1,731\u001b[0m\n",
      "\u001b[32m\tGenerate initial read/transcript compatibility index\u001b[0m\n",
      "\u001b[01;34m## Start EM abundance estimate ##\u001b[0m\n",
      "\tProgress: 37.0 rounds [00:05, 6.40 rounds/s]\n",
      "\u001b[32m\tExit EM loop after 37 rounds\u001b[0m\n",
      "\u001b[32m\tConvergence value: 0.004936880753967912\u001b[0m\n",
      "\u001b[01;34m## Summarize data ##\u001b[0m\n",
      "\u001b[32m\tConvert results to dataframe\u001b[0m\n",
      "\u001b[32m\tCompute estimated counts and TPM\u001b[0m\n",
      "\u001b[32m\tWrite file\u001b[0m\n"
     ]
    },
    {
     "name": "stdout",
     "output_type": "stream",
     "text": [
      "transcript_name raw                  est_count          tpm               \n",
      "YHR174W_mRNA    0.49362604198536425  42355.58253255418  493626.0419853642 \n",
      "YGR254W_mRNA    0.09619972574387689  8254.417467453357  96199.72574387689 \n",
      "YGR192C_mRNA    0.02461891539540753  2112.4260355029433 24618.91539540753 \n",
      "YLR110C_mRNA    0.009603169978439472 823.9999999999989  9603.169978439471 \n",
      "YOL086C_mRNA    0.008309539071149688 712.999999999999   8309.539071149688 \n",
      "YKL060C_mRNA    0.006526426198939447 559.9999999999992  6526.426198939446 \n",
      "YCR012W_mRNA    0.005419264611619362 464.9999999999994  5419.264611619362 \n",
      "YBR118W_mRNA    0.005261931122894929 451.4999999999994  5261.931122894929 \n",
      "YPR080W_mRNA    0.005261931122894929 451.4999999999994  5261.931122894929 \n",
      "\n"
     ]
    }
   ],
   "source": [
    "NanoCount (alignment_file=\"./data/aligned_reads_sorted.bam\", count_file=\"./output/tx_counts.tsv\", primary_score=\"align_score\")\n",
    "head(\"./output/tx_counts.tsv\")"
   ]
  },
  {
   "cell_type": "markdown",
   "metadata": {},
   "source": [
    "#### Write selected alignment to BAM file "
   ]
  },
  {
   "cell_type": "code",
   "execution_count": 7,
   "metadata": {
    "ExecuteTime": {
     "end_time": "2021-09-08T21:52:14.820441Z",
     "start_time": "2021-09-08T21:51:54.198981Z"
    },
    "scrolled": false
   },
   "outputs": [
    {
     "name": "stderr",
     "output_type": "stream",
     "text": [
      "\u001b[01;34m## Checking options and input files ##\u001b[0m\n",
      "\u001b[01;34m## Initialise Nanocount ##\u001b[0m\n",
      "\u001b[32m\tParse Bam file and filter low quality alignments\u001b[0m\n",
      "\u001b[32m\tSummary of alignments parsed in input bam file\u001b[0m\n",
      "\u001b[32m\t\tValid alignments: 150,517\u001b[0m\n",
      "\u001b[32m\t\tDiscarded unmapped alignments: 9,545\u001b[0m\n",
      "\u001b[32m\t\tDiscarded alignment with invalid 3 prime end: 6,133\u001b[0m\n",
      "\u001b[32m\t\tDiscarded negative strand alignments: 4,515\u001b[0m\n",
      "\u001b[32m\t\tDiscarded supplementary alignments: 334\u001b[0m\n",
      "\u001b[32m\tSummary of reads filtered\u001b[0m\n",
      "\u001b[32m\t\tReads with valid best alignment: 85,805\u001b[0m\n",
      "\u001b[32m\t\tValid secondary alignments: 54,985\u001b[0m\n",
      "\u001b[32m\t\tInvalid secondary alignments: 7,651\u001b[0m\n",
      "\u001b[32m\t\tReads with low query fraction aligned: 1,731\u001b[0m\n",
      "\u001b[32m\tWrite selected alignments to BAM file\u001b[0m\n",
      "\u001b[32m\tSummary of alignments written to bam\u001b[0m\n",
      "\u001b[32m\t\tAlignments to select: 140,790\u001b[0m\n",
      "\u001b[32m\t\tAlignments written: 140,790\u001b[0m\n",
      "\u001b[32m\t\tAlignments skipped: 30,254\u001b[0m\n",
      "\u001b[32m\tGenerate initial read/transcript compatibility index\u001b[0m\n",
      "\u001b[01;34m## Start EM abundance estimate ##\u001b[0m\n",
      "\tProgress: 37.0 rounds [00:05, 6.45 rounds/s]\n",
      "\u001b[32m\tExit EM loop after 37 rounds\u001b[0m\n",
      "\u001b[32m\tConvergence value: 0.004936880753967912\u001b[0m\n",
      "\u001b[01;34m## Summarize data ##\u001b[0m\n",
      "\u001b[32m\tConvert results to dataframe\u001b[0m\n",
      "\u001b[32m\tCompute estimated counts and TPM\u001b[0m\n",
      "\u001b[32m\tWrite file\u001b[0m\n"
     ]
    },
    {
     "name": "stdout",
     "output_type": "stream",
     "text": [
      "transcript_name raw                  est_count          tpm               \n",
      "YHR174W_mRNA    0.49362604198536425  42355.58253255418  493626.0419853642 \n",
      "YGR254W_mRNA    0.09619972574387689  8254.417467453357  96199.72574387689 \n",
      "YGR192C_mRNA    0.02461891539540753  2112.4260355029433 24618.91539540753 \n",
      "YLR110C_mRNA    0.009603169978439472 823.9999999999989  9603.169978439471 \n",
      "YOL086C_mRNA    0.008309539071149688 712.999999999999   8309.539071149688 \n",
      "YKL060C_mRNA    0.006526426198939447 559.9999999999992  6526.426198939446 \n",
      "YCR012W_mRNA    0.005419264611619362 464.9999999999994  5419.264611619362 \n",
      "YBR118W_mRNA    0.005261931122894929 451.4999999999994  5261.931122894929 \n",
      "YPR080W_mRNA    0.005261931122894929 451.4999999999994  5261.931122894929 \n",
      "\n"
     ]
    }
   ],
   "source": [
    "NanoCount (\n",
    "    alignment_file=\"./data/aligned_reads_sorted.bam\",\n",
    "    count_file=\"./output/tx_counts.tsv\",\n",
    "    filter_bam_out = \"./output/aligned_reads_selected.bam\",\n",
    "    primary_score=\"align_score\")\n",
    "\n",
    "head(\"./output/tx_counts.tsv\")"
   ]
  },
  {
   "cell_type": "markdown",
   "metadata": {},
   "source": [
    "#### Basic command without file writing and Dataframe output"
   ]
  },
  {
   "cell_type": "markdown",
   "metadata": {},
   "source": [
    "In interactive mode it is also possible not to write the results out but instead to access the data directly as a pandas DataFrame"
   ]
  },
  {
   "cell_type": "code",
   "execution_count": 8,
   "metadata": {
    "ExecuteTime": {
     "end_time": "2021-09-08T21:52:17.885223Z",
     "start_time": "2021-09-08T21:52:14.824575Z"
    },
    "scrolled": false
   },
   "outputs": [
    {
     "name": "stderr",
     "output_type": "stream",
     "text": [
      "\u001b[01;34m## Checking options and input files ##\u001b[0m\n",
      "\u001b[01;34m## Initialise Nanocount ##\u001b[0m\n",
      "\u001b[32m\tParse Bam file and filter low quality alignments\u001b[0m\n",
      "\u001b[32m\tSummary of alignments parsed in input bam file\u001b[0m\n",
      "\u001b[32m\t\tValid alignments: 150,517\u001b[0m\n",
      "\u001b[32m\t\tDiscarded unmapped alignments: 9,545\u001b[0m\n",
      "\u001b[32m\t\tDiscarded alignment with invalid 3 prime end: 6,133\u001b[0m\n",
      "\u001b[32m\t\tDiscarded negative strand alignments: 4,515\u001b[0m\n",
      "\u001b[32m\t\tDiscarded supplementary alignments: 334\u001b[0m\n",
      "\u001b[32m\tSummary of reads filtered\u001b[0m\n",
      "\u001b[32m\t\tReads with valid best alignment: 85,908\u001b[0m\n",
      "\u001b[32m\t\tInvalid secondary alignments: 60,120\u001b[0m\n",
      "\u001b[32m\t\tValid secondary alignments: 2,622\u001b[0m\n",
      "\u001b[32m\t\tReads with low query fraction aligned: 1,628\u001b[0m\n",
      "\u001b[32m\tGenerate initial read/transcript compatibility index\u001b[0m\n",
      "\u001b[01;34m## Start EM abundance estimate ##\u001b[0m\n",
      "\tProgress: 2.00 rounds [00:00, 8.28 rounds/s]\n",
      "\u001b[32m\tExit EM loop after 2 rounds\u001b[0m\n",
      "\u001b[32m\tConvergence value: 0.0019361726963877538\u001b[0m\n",
      "\u001b[01;34m## Summarize data ##\u001b[0m\n",
      "\u001b[32m\tConvert results to dataframe\u001b[0m\n",
      "\u001b[32m\tCompute estimated counts and TPM\u001b[0m\n"
     ]
    },
    {
     "data": {
      "text/html": [
       "<div>\n",
       "<style scoped>\n",
       "    .dataframe tbody tr th:only-of-type {\n",
       "        vertical-align: middle;\n",
       "    }\n",
       "\n",
       "    .dataframe tbody tr th {\n",
       "        vertical-align: top;\n",
       "    }\n",
       "\n",
       "    .dataframe thead th {\n",
       "        text-align: right;\n",
       "    }\n",
       "</style>\n",
       "<table border=\"1\" class=\"dataframe\">\n",
       "  <thead>\n",
       "    <tr style=\"text-align: right;\">\n",
       "      <th></th>\n",
       "      <th>raw</th>\n",
       "      <th>est_count</th>\n",
       "      <th>tpm</th>\n",
       "    </tr>\n",
       "    <tr>\n",
       "      <th>transcript_name</th>\n",
       "      <th></th>\n",
       "      <th></th>\n",
       "      <th></th>\n",
       "    </tr>\n",
       "  </thead>\n",
       "  <tbody>\n",
       "    <tr>\n",
       "      <th>YHR174W_mRNA</th>\n",
       "      <td>5.881057e-01</td>\n",
       "      <td>50522.984033</td>\n",
       "      <td>588105.694845</td>\n",
       "    </tr>\n",
       "    <tr>\n",
       "      <th>YGR192C_mRNA</th>\n",
       "      <td>2.083283e-02</td>\n",
       "      <td>1789.706485</td>\n",
       "      <td>20832.826808</td>\n",
       "    </tr>\n",
       "    <tr>\n",
       "      <th>YLR110C_mRNA</th>\n",
       "      <td>9.591656e-03</td>\n",
       "      <td>824.000000</td>\n",
       "      <td>9591.656190</td>\n",
       "    </tr>\n",
       "    <tr>\n",
       "      <th>YOL086C_mRNA</th>\n",
       "      <td>8.299576e-03</td>\n",
       "      <td>713.000000</td>\n",
       "      <td>8299.576291</td>\n",
       "    </tr>\n",
       "    <tr>\n",
       "      <th>YKL060C_mRNA</th>\n",
       "      <td>6.518601e-03</td>\n",
       "      <td>560.000000</td>\n",
       "      <td>6518.601294</td>\n",
       "    </tr>\n",
       "    <tr>\n",
       "      <th>...</th>\n",
       "      <td>...</td>\n",
       "      <td>...</td>\n",
       "      <td>...</td>\n",
       "    </tr>\n",
       "    <tr>\n",
       "      <th>YDR433W_mRNA</th>\n",
       "      <td>2.328072e-06</td>\n",
       "      <td>0.200000</td>\n",
       "      <td>2.328072</td>\n",
       "    </tr>\n",
       "    <tr>\n",
       "      <th>YHL050C_mRNA</th>\n",
       "      <td>1.670483e-06</td>\n",
       "      <td>0.143508</td>\n",
       "      <td>1.670483</td>\n",
       "    </tr>\n",
       "    <tr>\n",
       "      <th>YPR204W_mRNA</th>\n",
       "      <td>1.670483e-06</td>\n",
       "      <td>0.143508</td>\n",
       "      <td>1.670483</td>\n",
       "    </tr>\n",
       "    <tr>\n",
       "      <th>YEL077C_mRNA</th>\n",
       "      <td>3.423635e-07</td>\n",
       "      <td>0.029412</td>\n",
       "      <td>0.342364</td>\n",
       "    </tr>\n",
       "    <tr>\n",
       "      <th>YOR248W_mRNA</th>\n",
       "      <td>1.818806e-07</td>\n",
       "      <td>0.015625</td>\n",
       "      <td>0.181881</td>\n",
       "    </tr>\n",
       "  </tbody>\n",
       "</table>\n",
       "<p>3056 rows × 3 columns</p>\n",
       "</div>"
      ],
      "text/plain": [
       "                          raw     est_count            tpm\n",
       "transcript_name                                           \n",
       "YHR174W_mRNA     5.881057e-01  50522.984033  588105.694845\n",
       "YGR192C_mRNA     2.083283e-02   1789.706485   20832.826808\n",
       "YLR110C_mRNA     9.591656e-03    824.000000    9591.656190\n",
       "YOL086C_mRNA     8.299576e-03    713.000000    8299.576291\n",
       "YKL060C_mRNA     6.518601e-03    560.000000    6518.601294\n",
       "...                       ...           ...            ...\n",
       "YDR433W_mRNA     2.328072e-06      0.200000       2.328072\n",
       "YHL050C_mRNA     1.670483e-06      0.143508       1.670483\n",
       "YPR204W_mRNA     1.670483e-06      0.143508       1.670483\n",
       "YEL077C_mRNA     3.423635e-07      0.029412       0.342364\n",
       "YOR248W_mRNA     1.818806e-07      0.015625       0.181881\n",
       "\n",
       "[3056 rows x 3 columns]"
      ]
     },
     "metadata": {},
     "output_type": "display_data"
    }
   ],
   "source": [
    "nc = NanoCount (alignment_file=\"./data/aligned_reads_sorted.bam\")\n",
    "display(nc.count_df)"
   ]
  },
  {
   "cell_type": "markdown",
   "metadata": {
    "ExecuteTime": {
     "end_time": "2020-05-04T16:45:12.397835Z",
     "start_time": "2020-05-04T16:45:12.393091Z"
    }
   },
   "source": [
    "#### Adding extra transcripts information"
   ]
  },
  {
   "cell_type": "markdown",
   "metadata": {},
   "source": [
    "The `extra_tx_info` option adds a columns with the transcript lengths and also includes all the zero-coverage transcripts in the results   "
   ]
  },
  {
   "cell_type": "code",
   "execution_count": 9,
   "metadata": {
    "ExecuteTime": {
     "end_time": "2021-09-08T21:52:21.049940Z",
     "start_time": "2021-09-08T21:52:17.886891Z"
    }
   },
   "outputs": [
    {
     "name": "stderr",
     "output_type": "stream",
     "text": [
      "\u001b[01;34m## Checking options and input files ##\u001b[0m\n",
      "\u001b[01;34m## Initialise Nanocount ##\u001b[0m\n",
      "\u001b[32m\tParse Bam file and filter low quality alignments\u001b[0m\n",
      "\u001b[32m\tSummary of alignments parsed in input bam file\u001b[0m\n",
      "\u001b[32m\t\tValid alignments: 150,517\u001b[0m\n",
      "\u001b[32m\t\tDiscarded unmapped alignments: 9,545\u001b[0m\n",
      "\u001b[32m\t\tDiscarded alignment with invalid 3 prime end: 6,133\u001b[0m\n",
      "\u001b[32m\t\tDiscarded negative strand alignments: 4,515\u001b[0m\n",
      "\u001b[32m\t\tDiscarded supplementary alignments: 334\u001b[0m\n",
      "\u001b[32m\tSummary of reads filtered\u001b[0m\n",
      "\u001b[32m\t\tReads with valid best alignment: 85,908\u001b[0m\n",
      "\u001b[32m\t\tInvalid secondary alignments: 60,120\u001b[0m\n",
      "\u001b[32m\t\tValid secondary alignments: 2,622\u001b[0m\n",
      "\u001b[32m\t\tReads with low query fraction aligned: 1,628\u001b[0m\n",
      "\u001b[32m\tGenerate initial read/transcript compatibility index\u001b[0m\n",
      "\u001b[01;34m## Start EM abundance estimate ##\u001b[0m\n",
      "\tProgress: 2.00 rounds [00:00, 7.69 rounds/s]\n",
      "\u001b[32m\tExit EM loop after 2 rounds\u001b[0m\n",
      "\u001b[32m\tConvergence value: 0.0019361726963877538\u001b[0m\n",
      "\u001b[01;34m## Summarize data ##\u001b[0m\n",
      "\u001b[32m\tConvert results to dataframe\u001b[0m\n",
      "\u001b[32m\tCompute estimated counts and TPM\u001b[0m\n"
     ]
    },
    {
     "data": {
      "text/html": [
       "<div>\n",
       "<style scoped>\n",
       "    .dataframe tbody tr th:only-of-type {\n",
       "        vertical-align: middle;\n",
       "    }\n",
       "\n",
       "    .dataframe tbody tr th {\n",
       "        vertical-align: top;\n",
       "    }\n",
       "\n",
       "    .dataframe thead th {\n",
       "        text-align: right;\n",
       "    }\n",
       "</style>\n",
       "<table border=\"1\" class=\"dataframe\">\n",
       "  <thead>\n",
       "    <tr style=\"text-align: right;\">\n",
       "      <th></th>\n",
       "      <th>raw</th>\n",
       "      <th>est_count</th>\n",
       "      <th>tpm</th>\n",
       "      <th>transcript_length</th>\n",
       "    </tr>\n",
       "    <tr>\n",
       "      <th>transcript_name</th>\n",
       "      <th></th>\n",
       "      <th></th>\n",
       "      <th></th>\n",
       "      <th></th>\n",
       "    </tr>\n",
       "  </thead>\n",
       "  <tbody>\n",
       "    <tr>\n",
       "      <th>YHR174W_mRNA</th>\n",
       "      <td>0.588106</td>\n",
       "      <td>50522.984033</td>\n",
       "      <td>588105.694845</td>\n",
       "      <td>1314</td>\n",
       "    </tr>\n",
       "    <tr>\n",
       "      <th>YGR192C_mRNA</th>\n",
       "      <td>0.020833</td>\n",
       "      <td>1789.706485</td>\n",
       "      <td>20832.826808</td>\n",
       "      <td>999</td>\n",
       "    </tr>\n",
       "    <tr>\n",
       "      <th>YLR110C_mRNA</th>\n",
       "      <td>0.009592</td>\n",
       "      <td>824.000000</td>\n",
       "      <td>9591.656190</td>\n",
       "      <td>402</td>\n",
       "    </tr>\n",
       "    <tr>\n",
       "      <th>YOL086C_mRNA</th>\n",
       "      <td>0.008300</td>\n",
       "      <td>713.000000</td>\n",
       "      <td>8299.576291</td>\n",
       "      <td>1047</td>\n",
       "    </tr>\n",
       "    <tr>\n",
       "      <th>YKL060C_mRNA</th>\n",
       "      <td>0.006519</td>\n",
       "      <td>560.000000</td>\n",
       "      <td>6518.601294</td>\n",
       "      <td>1080</td>\n",
       "    </tr>\n",
       "    <tr>\n",
       "      <th>...</th>\n",
       "      <td>...</td>\n",
       "      <td>...</td>\n",
       "      <td>...</td>\n",
       "      <td>...</td>\n",
       "    </tr>\n",
       "    <tr>\n",
       "      <th>YPR200C_mRNA</th>\n",
       "      <td>0.000000</td>\n",
       "      <td>0.000000</td>\n",
       "      <td>0.000000</td>\n",
       "      <td>393</td>\n",
       "    </tr>\n",
       "    <tr>\n",
       "      <th>YPR201W_mRNA</th>\n",
       "      <td>0.000000</td>\n",
       "      <td>0.000000</td>\n",
       "      <td>0.000000</td>\n",
       "      <td>1215</td>\n",
       "    </tr>\n",
       "    <tr>\n",
       "      <th>YPR202W_mRNA</th>\n",
       "      <td>0.000000</td>\n",
       "      <td>0.000000</td>\n",
       "      <td>0.000000</td>\n",
       "      <td>717</td>\n",
       "    </tr>\n",
       "    <tr>\n",
       "      <th>YPR203W_mRNA</th>\n",
       "      <td>0.000000</td>\n",
       "      <td>0.000000</td>\n",
       "      <td>0.000000</td>\n",
       "      <td>309</td>\n",
       "    </tr>\n",
       "    <tr>\n",
       "      <th>YPR204C-A_mRNA</th>\n",
       "      <td>0.000000</td>\n",
       "      <td>0.000000</td>\n",
       "      <td>0.000000</td>\n",
       "      <td>483</td>\n",
       "    </tr>\n",
       "  </tbody>\n",
       "</table>\n",
       "<p>6612 rows × 4 columns</p>\n",
       "</div>"
      ],
      "text/plain": [
       "                      raw     est_count            tpm  transcript_length\n",
       "transcript_name                                                          \n",
       "YHR174W_mRNA     0.588106  50522.984033  588105.694845               1314\n",
       "YGR192C_mRNA     0.020833   1789.706485   20832.826808                999\n",
       "YLR110C_mRNA     0.009592    824.000000    9591.656190                402\n",
       "YOL086C_mRNA     0.008300    713.000000    8299.576291               1047\n",
       "YKL060C_mRNA     0.006519    560.000000    6518.601294               1080\n",
       "...                   ...           ...            ...                ...\n",
       "YPR200C_mRNA     0.000000      0.000000       0.000000                393\n",
       "YPR201W_mRNA     0.000000      0.000000       0.000000               1215\n",
       "YPR202W_mRNA     0.000000      0.000000       0.000000                717\n",
       "YPR203W_mRNA     0.000000      0.000000       0.000000                309\n",
       "YPR204C-A_mRNA   0.000000      0.000000       0.000000                483\n",
       "\n",
       "[6612 rows x 4 columns]"
      ]
     },
     "metadata": {},
     "output_type": "display_data"
    }
   ],
   "source": [
    "nc = NanoCount (alignment_file=\"./data/aligned_reads_sorted.bam\", extra_tx_info=True)\n",
    "display(nc.count_df)"
   ]
  },
  {
   "cell_type": "markdown",
   "metadata": {},
   "source": [
    "#### Relaxing the secondary alignment scoring threshold"
   ]
  },
  {
   "cell_type": "markdown",
   "metadata": {},
   "source": [
    "The default value is 0.95 (95% of the alignment score of the primary alignment) but this value could be lowered to allow more secondary alignments to be included in the uncertainty calculation.\n",
    "Lowering the value bellow 0.75 might not be relevant and will considerably increase the computation time."
   ]
  },
  {
   "cell_type": "code",
   "execution_count": 10,
   "metadata": {
    "ExecuteTime": {
     "end_time": "2021-09-08T21:52:26.611490Z",
     "start_time": "2021-09-08T21:52:21.051492Z"
    },
    "scrolled": false
   },
   "outputs": [
    {
     "name": "stderr",
     "output_type": "stream",
     "text": [
      "\u001b[01;34m## Checking options and input files ##\u001b[0m\n",
      "\u001b[01;34m## Initialise Nanocount ##\u001b[0m\n",
      "\u001b[32m\tParse Bam file and filter low quality alignments\u001b[0m\n",
      "\u001b[32m\tSummary of alignments parsed in input bam file\u001b[0m\n",
      "\u001b[32m\t\tValid alignments: 150,517\u001b[0m\n",
      "\u001b[32m\t\tDiscarded unmapped alignments: 9,545\u001b[0m\n",
      "\u001b[32m\t\tDiscarded alignment with invalid 3 prime end: 6,133\u001b[0m\n",
      "\u001b[32m\t\tDiscarded negative strand alignments: 4,515\u001b[0m\n",
      "\u001b[32m\t\tDiscarded supplementary alignments: 334\u001b[0m\n",
      "\u001b[32m\tSummary of reads filtered\u001b[0m\n",
      "\u001b[32m\t\tReads with valid best alignment: 85,908\u001b[0m\n",
      "\u001b[32m\t\tValid secondary alignments: 49,092\u001b[0m\n",
      "\u001b[32m\t\tInvalid secondary alignments: 13,650\u001b[0m\n",
      "\u001b[32m\t\tReads with low query fraction aligned: 1,628\u001b[0m\n",
      "\u001b[32m\tGenerate initial read/transcript compatibility index\u001b[0m\n",
      "\u001b[01;34m## Start EM abundance estimate ##\u001b[0m\n",
      "\tProgress: 17.0 rounds [00:02, 6.81 rounds/s]\n",
      "\u001b[32m\tExit EM loop after 17 rounds\u001b[0m\n",
      "\u001b[32m\tConvergence value: 0.004795139982321842\u001b[0m\n",
      "\u001b[01;34m## Summarize data ##\u001b[0m\n",
      "\u001b[32m\tConvert results to dataframe\u001b[0m\n",
      "\u001b[32m\tCompute estimated counts and TPM\u001b[0m\n",
      "\u001b[32m\tWrite file\u001b[0m\n"
     ]
    },
    {
     "name": "stdout",
     "output_type": "stream",
     "text": [
      "transcript_name raw                   est_count          tpm                transcript_length \n",
      "YHR174W_mRNA    0.5770419415271139    49572.5191127113   577041.9415271139  1314              \n",
      "YGR192C_mRNA    0.014985653368924351  1287.3875096175532 14985.653368924352 999               \n",
      "YGR254W_mRNA    0.012367659441483866  1062.480887298996  12367.659441483866 1314              \n",
      "YLR110C_mRNA    0.009591656190343162  824.0000000000003  9591.656190343161  402               \n",
      "YJR009C_mRNA    0.00941808679575318   809.0890004495642  9418.08679575318   999               \n",
      "YOL086C_mRNA    0.008299576290915867  713.0000000000003  8299.576290915868  1047              \n",
      "YKL060C_mRNA    0.006518601294407974  560.0000000000002  6518.601294407974  1080              \n",
      "YCR012W_mRNA    0.005412767146249479  465.0000000000003  5412.767146249479  1251              \n",
      "YBR118W_mRNA    0.0052556222936164295 451.5000000000002  5255.6222936164295 1377              \n",
      "\n"
     ]
    }
   ],
   "source": [
    "NanoCount (alignment_file=\"./data/aligned_reads_sorted.bam\", count_file=\"./output/tx_counts.tsv\", sec_scoring_threshold=0.8, extra_tx_info=True)\n",
    "head(\"./output/tx_counts.tsv\")"
   ]
  }
 ],
 "metadata": {
  "celltoolbar": "Initialization Cell",
  "kernelspec": {
   "display_name": "Python [conda env:nanocount]",
   "language": "python",
   "name": "conda-env-nanocount-py"
  },
  "language_info": {
   "codemirror_mode": {
    "name": "ipython",
    "version": 3
   },
   "file_extension": ".py",
   "mimetype": "text/x-python",
   "name": "python",
   "nbconvert_exporter": "python",
   "pygments_lexer": "ipython3",
   "version": "3.8.10"
  }
 },
 "nbformat": 4,
 "nbformat_minor": 4
}
