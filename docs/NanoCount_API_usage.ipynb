{
 "cells": [
  {
   "cell_type": "markdown",
   "metadata": {
    "ExecuteTime": {
     "end_time": "2020-05-04T11:02:46.918334Z",
     "start_time": "2020-05-04T11:02:46.911996Z"
    }
   },
   "source": [
    "# NanoCount python API"
   ]
  },
  {
   "cell_type": "markdown",
   "metadata": {
    "ExecuteTime": {
     "end_time": "2020-05-04T12:47:10.312567Z",
     "start_time": "2020-05-04T12:47:10.033440Z"
    }
   },
   "source": [
    "### Activate virtual environment"
   ]
  },
  {
   "cell_type": "code",
   "execution_count": 2,
   "metadata": {
    "ExecuteTime": {
     "end_time": "2020-06-08T14:28:22.670883Z",
     "start_time": "2020-06-08T14:28:22.299358Z"
    },
    "init_cell": true
   },
   "outputs": [],
   "source": [
    "from NanoCount.NanoCount import NanoCount\n",
    "from NanoCount.common import jhelp, head"
   ]
  },
  {
   "cell_type": "markdown",
   "metadata": {},
   "source": [
    "### Running NanoCount "
   ]
  },
  {
   "cell_type": "code",
   "execution_count": 3,
   "metadata": {
    "ExecuteTime": {
     "end_time": "2020-06-08T14:28:23.706573Z",
     "start_time": "2020-06-08T14:28:23.672186Z"
    },
    "init_cell": true
   },
   "outputs": [
    {
     "data": {
      "text/markdown": [
       "**NanoCount** (alignment_file, count_file, min_read_length, min_query_fraction_aligned, equivalent_threshold, scoring_value, convergence_target, max_em_rounds, extra_tx_info, primary_score, verbose, quiet)\n",
       "\n",
       "Estimate abundance of transcripts using an EM\n",
       "\n",
       "---\n",
       "\n",
       "* **alignment_file** (required) [str]\n",
       "\n",
       "BAM or SAM file containing aligned ONT dRNA-Seq reads including secondary and supplementary alignment\n",
       "\n",
       "* **count_file** (default: \"\") [str]\n",
       "\n",
       "Output file path where to write estimated counts (TSV format)\n",
       "\n",
       "* **min_read_length** (default: 50) [int]\n",
       "\n",
       "Minimal length of the read to be considered valid\n",
       "\n",
       "* **min_query_fraction_aligned** (default: 0.5) [float]\n",
       "\n",
       "Minimal fraction of the primary hit query aligned to consider the read valid\n",
       "\n",
       "* **equivalent_threshold** (default: 0.9) [float]\n",
       "\n",
       "Fraction of the alignment score or the alignment length of secondary hits compared to the primary hit to be considered valid hits\n",
       "\n",
       "* **scoring_value** (default: alignment_score) [str]\n",
       "\n",
       "Value to use for score thresholding of secondary hits either \"alignment_score\" or \"alignment_length\"\n",
       "\n",
       "* **convergence_target** (default: 0.005) [float]\n",
       "\n",
       "Convergence target value of the cummulative difference between abundance values of successive EM round to trigger the end of the EM loop.\n",
       "\n",
       "* **max_em_rounds** (default: 100) [int]\n",
       "\n",
       "Maximum number of EM rounds before triggering stop\n",
       "\n",
       "* **extra_tx_info** (default: False) [bool]\n",
       "\n",
       "Add transcripts length and zero coverage transcripts to the output file (required valid bam/sam header)\n",
       "\n",
       "* **primary_score** (default: \"\") [str]\n",
       "\n",
       "Method to pick the best alignment for each read. By default it uses the primary read defined by the aligner but it can be changed to use either the best alignment score (\"align_score\") or the best alignment length (\"align_len\").\n",
       "\n",
       "* **verbose** (default: False) [bool]\n",
       "\n",
       "Increase verbosity for QC and debugging\n",
       "\n",
       "* **quiet** (default: False) [bool]\n",
       "\n",
       "Reduce verbosity\n",
       "\n"
      ],
      "text/plain": [
       "<IPython.core.display.Markdown object>"
      ]
     },
     "metadata": {},
     "output_type": "display_data"
    }
   ],
   "source": [
    "jhelp(NanoCount)"
   ]
  },
  {
   "cell_type": "markdown",
   "metadata": {},
   "source": [
    "#### Basic command"
   ]
  },
  {
   "cell_type": "code",
   "execution_count": 12,
   "metadata": {
    "ExecuteTime": {
     "end_time": "2020-06-08T14:32:22.152619Z",
     "start_time": "2020-06-08T14:32:18.265516Z"
    },
    "scrolled": false
   },
   "outputs": [
    {
     "name": "stderr",
     "output_type": "stream",
     "text": [
      "\u001b[01;34m## Checking options and input files ##\u001b[0m\n",
      "\u001b[01;34m## Initialise Nanocount ##\u001b[0m\n",
      "\u001b[32m\tParse Bam file and filter low quality hits\u001b[0m\n",
      "\u001b[32m\tGenerate initial read/transcript compatibility index\u001b[0m\n",
      "\u001b[01;34m## Start EM abundance estimate ##\u001b[0m\n",
      "\tProgress: 2.00 rounds [00:00, 14.0 rounds/s]\n",
      "\u001b[32m\tExit EM loop after 2 rounds\u001b[0m\n",
      "\u001b[32m\tConvergence value: 0.0026556625233718663\u001b[0m\n",
      "\u001b[01;34m## Summarize data ##\u001b[0m\n",
      "\u001b[32m\tConvert results to dataframe\u001b[0m\n",
      "\u001b[32m\tCompute estimated counts and TPM\u001b[0m\n",
      "\u001b[32m\tWrite file\u001b[0m\n"
     ]
    },
    {
     "name": "stdout",
     "output_type": "stream",
     "text": [
      "transcript_name raw                  est_count          tpm                \n",
      "YHR174W_mRNA    0.037525253303454735 921.3950696130275  37525.25330345474  \n",
      "YLR110C_mRNA    0.032926045534605486 808.466122056703   32926.04553460549  \n",
      "YKL060C_mRNA    0.023539952757188228 577.9999999999998  23539.952757188228 \n",
      "YKL152C_mRNA    0.014865195080231321 364.99999999999983 14865.19508023132  \n",
      "YCR012W_mRNA    0.014539382585322141 356.9999999999999  14539.38258532214  \n",
      "YDR050C_mRNA    0.014539382585322141 356.9999999999999  14539.38258532214  \n",
      "YOR369C_mRNA    0.013165221113714695 323.2588392261506  13165.221113714695 \n",
      "YMR116C_mRNA    0.012340148244685179 302.9999999999999  12340.148244685179 \n",
      "YLR340W_mRNA    0.011810702940457761 289.9999999999999  11810.70294045776  \n",
      "\n"
     ]
    }
   ],
   "source": [
    "NanoCount (alignment_file=\"./data/aligned_reads.bam\", count_file=\"./output/tx_counts.tsv\")\n",
    "head(\"./output/tx_counts.tsv\")"
   ]
  },
  {
   "cell_type": "markdown",
   "metadata": {},
   "source": [
    "#### Using Best Alignment score rather than Primary reads as best reads + verbose mode"
   ]
  },
  {
   "cell_type": "code",
   "execution_count": 11,
   "metadata": {
    "ExecuteTime": {
     "end_time": "2020-06-08T14:31:58.101567Z",
     "start_time": "2020-06-08T14:31:54.269017Z"
    },
    "scrolled": true
   },
   "outputs": [
    {
     "name": "stderr",
     "output_type": "stream",
     "text": [
      "\u001b[01;34m## Checking options and input files ##\u001b[0m\n",
      "\u001b[37m\t[DEBUG]: Options summary\u001b[0m\n",
      "\u001b[37m\t[DEBUG]: \tPackage name: NanoCount\u001b[0m\n",
      "\u001b[37m\t[DEBUG]: \tPackage version: 0.2.2\u001b[0m\n",
      "\u001b[37m\t[DEBUG]: \tTimestamp: 2020-06-08 15:31:54.276602\u001b[0m\n",
      "\u001b[37m\t[DEBUG]: \tquiet: False\u001b[0m\n",
      "\u001b[37m\t[DEBUG]: \tverbose: True\u001b[0m\n",
      "\u001b[37m\t[DEBUG]: \tprimary_score: align_score\u001b[0m\n",
      "\u001b[37m\t[DEBUG]: \textra_tx_info: False\u001b[0m\n",
      "\u001b[37m\t[DEBUG]: \tmax_em_rounds: 100\u001b[0m\n",
      "\u001b[37m\t[DEBUG]: \tconvergence_target: 0.005\u001b[0m\n",
      "\u001b[37m\t[DEBUG]: \tscoring_value: alignment_score\u001b[0m\n",
      "\u001b[37m\t[DEBUG]: \tequivalent_threshold: 0.9\u001b[0m\n",
      "\u001b[37m\t[DEBUG]: \tmin_query_fraction_aligned: 0.5\u001b[0m\n",
      "\u001b[37m\t[DEBUG]: \tmin_read_length: 50\u001b[0m\n",
      "\u001b[37m\t[DEBUG]: \tcount_file: ./output/tx_counts.tsv\u001b[0m\n",
      "\u001b[37m\t[DEBUG]: \talignment_file: ./data/aligned_reads.bam\u001b[0m\n",
      "\u001b[01;34m## Initialise Nanocount ##\u001b[0m\n",
      "\u001b[32m\tParse Bam file and filter low quality hits\u001b[0m\n",
      "\u001b[37m\t[DEBUG]: Summary of reads parsed in input bam file\u001b[0m\n",
      "\u001b[37m\t[DEBUG]: \tMapped hits: 156,984\u001b[0m\n",
      "\u001b[37m\t[DEBUG]: \tUnmapped hits: 9,545\u001b[0m\n",
      "\u001b[37m\t[DEBUG]: \tWrong strand hits: 4,515\u001b[0m\n",
      "\u001b[37m\t[DEBUG]: Summary of reads parsed in input bam file\u001b[0m\n",
      "\u001b[37m\t[DEBUG]: \tReads too short: 64,129\u001b[0m\n",
      "\u001b[37m\t[DEBUG]: \tValid best hit: 24,554\u001b[0m\n",
      "\u001b[37m\t[DEBUG]: \tBest hit with low query fraction aligned: 1,374\u001b[0m\n",
      "\u001b[37m\t[DEBUG]: \tValid secondary hit: 321\u001b[0m\n",
      "\u001b[37m\t[DEBUG]: \tReads with zero score: 1\u001b[0m\n",
      "\u001b[32m\tGenerate initial read/transcript compatibility index\u001b[0m\n",
      "\u001b[01;34m## Start EM abundance estimate ##\u001b[0m\n",
      "\u001b[37m\t[DEBUG]: EM Round: 1 / Convergence value: 1\u001b[0m\n",
      "\u001b[37m\t[DEBUG]: EM Round: 2 / Convergence value: 0.0026556625233718663\u001b[0m\n",
      "\u001b[32m\tExit EM loop after 2 rounds\u001b[0m\n",
      "\u001b[32m\tConvergence value: 0.0026556625233718663\u001b[0m\n",
      "\u001b[01;34m## Summarize data ##\u001b[0m\n",
      "\u001b[32m\tConvert results to dataframe\u001b[0m\n",
      "\u001b[32m\tCompute estimated counts and TPM\u001b[0m\n",
      "\u001b[32m\tWrite file\u001b[0m\n"
     ]
    },
    {
     "name": "stdout",
     "output_type": "stream",
     "text": [
      "transcript_name raw                  est_count          tpm                \n",
      "YHR174W_mRNA    0.037525253303454735 921.3950696130275  37525.25330345474  \n",
      "YLR110C_mRNA    0.032926045534605486 808.466122056703   32926.04553460549  \n",
      "YKL060C_mRNA    0.023539952757188228 577.9999999999998  23539.952757188228 \n",
      "YKL152C_mRNA    0.014865195080231321 364.99999999999983 14865.19508023132  \n",
      "YCR012W_mRNA    0.014539382585322141 356.9999999999999  14539.38258532214  \n",
      "YDR050C_mRNA    0.014539382585322141 356.9999999999999  14539.38258532214  \n",
      "YOR369C_mRNA    0.013165221113714695 323.2588392261506  13165.221113714695 \n",
      "YMR116C_mRNA    0.012340148244685179 302.9999999999999  12340.148244685179 \n",
      "YLR340W_mRNA    0.011810702940457761 289.9999999999999  11810.70294045776  \n",
      "\n"
     ]
    }
   ],
   "source": [
    "NanoCount (alignment_file=\"./data/aligned_reads.bam\", count_file=\"./output/tx_counts.tsv\", verbose=True, primary_score=\"align_score\")\n",
    "head(\"./output/tx_counts.tsv\")"
   ]
  },
  {
   "cell_type": "markdown",
   "metadata": {},
   "source": [
    "#### Basic command without file writing and Dataframe output"
   ]
  },
  {
   "cell_type": "markdown",
   "metadata": {},
   "source": [
    "In interactive mode it is also possible not to write the results out but instead to access the data directly as a pandas DataFrame"
   ]
  },
  {
   "cell_type": "code",
   "execution_count": 7,
   "metadata": {
    "ExecuteTime": {
     "end_time": "2020-06-08T14:30:20.596913Z",
     "start_time": "2020-06-08T14:30:17.131926Z"
    },
    "scrolled": false
   },
   "outputs": [
    {
     "name": "stderr",
     "output_type": "stream",
     "text": [
      "\u001b[01;34m## Checking options and input files ##\u001b[0m\n",
      "\u001b[01;34m## Initialise Nanocount ##\u001b[0m\n",
      "\u001b[32m\tParse Bam file and filter low quality hits\u001b[0m\n",
      "\u001b[32m\tGenerate initial read/transcript compatibility index\u001b[0m\n",
      "\u001b[01;34m## Start EM abundance estimate ##\u001b[0m\n",
      "\tProgress: 2.00 rounds [00:00, 13.7 rounds/s]\n",
      "\u001b[32m\tExit EM loop after 2 rounds\u001b[0m\n",
      "\u001b[32m\tConvergence value: 0.0026556625233718663\u001b[0m\n",
      "\u001b[01;34m## Summarize data ##\u001b[0m\n",
      "\u001b[32m\tConvert results to dataframe\u001b[0m\n",
      "\u001b[32m\tCompute estimated counts and TPM\u001b[0m\n"
     ]
    },
    {
     "data": {
      "text/html": [
       "<div>\n",
       "<style scoped>\n",
       "    .dataframe tbody tr th:only-of-type {\n",
       "        vertical-align: middle;\n",
       "    }\n",
       "\n",
       "    .dataframe tbody tr th {\n",
       "        vertical-align: top;\n",
       "    }\n",
       "\n",
       "    .dataframe thead th {\n",
       "        text-align: right;\n",
       "    }\n",
       "</style>\n",
       "<table border=\"1\" class=\"dataframe\">\n",
       "  <thead>\n",
       "    <tr style=\"text-align: right;\">\n",
       "      <th></th>\n",
       "      <th>raw</th>\n",
       "      <th>est_count</th>\n",
       "      <th>tpm</th>\n",
       "    </tr>\n",
       "    <tr>\n",
       "      <th>transcript_name</th>\n",
       "      <th></th>\n",
       "      <th></th>\n",
       "      <th></th>\n",
       "    </tr>\n",
       "  </thead>\n",
       "  <tbody>\n",
       "    <tr>\n",
       "      <th>YHR174W_mRNA</th>\n",
       "      <td>3.752525e-02</td>\n",
       "      <td>921.395070</td>\n",
       "      <td>37525.253303</td>\n",
       "    </tr>\n",
       "    <tr>\n",
       "      <th>YLR110C_mRNA</th>\n",
       "      <td>3.292605e-02</td>\n",
       "      <td>808.466122</td>\n",
       "      <td>32926.045535</td>\n",
       "    </tr>\n",
       "    <tr>\n",
       "      <th>YKL060C_mRNA</th>\n",
       "      <td>2.353995e-02</td>\n",
       "      <td>578.000000</td>\n",
       "      <td>23539.952757</td>\n",
       "    </tr>\n",
       "    <tr>\n",
       "      <th>YKL152C_mRNA</th>\n",
       "      <td>1.486520e-02</td>\n",
       "      <td>365.000000</td>\n",
       "      <td>14865.195080</td>\n",
       "    </tr>\n",
       "    <tr>\n",
       "      <th>YCR012W_mRNA</th>\n",
       "      <td>1.453938e-02</td>\n",
       "      <td>357.000000</td>\n",
       "      <td>14539.382585</td>\n",
       "    </tr>\n",
       "    <tr>\n",
       "      <th>...</th>\n",
       "      <td>...</td>\n",
       "      <td>...</td>\n",
       "      <td>...</td>\n",
       "    </tr>\n",
       "    <tr>\n",
       "      <th>YLR285C-A_mRNA</th>\n",
       "      <td>1.480966e-06</td>\n",
       "      <td>0.036364</td>\n",
       "      <td>1.480966</td>\n",
       "    </tr>\n",
       "    <tr>\n",
       "      <th>YCL041C_mRNA</th>\n",
       "      <td>7.272600e-07</td>\n",
       "      <td>0.017857</td>\n",
       "      <td>0.727260</td>\n",
       "    </tr>\n",
       "    <tr>\n",
       "      <th>YCL008C_mRNA</th>\n",
       "      <td>6.787760e-07</td>\n",
       "      <td>0.016667</td>\n",
       "      <td>0.678776</td>\n",
       "    </tr>\n",
       "    <tr>\n",
       "      <th>YOR192C-C_mRNA</th>\n",
       "      <td>5.656467e-07</td>\n",
       "      <td>0.013889</td>\n",
       "      <td>0.565647</td>\n",
       "    </tr>\n",
       "    <tr>\n",
       "      <th>YMR076C_mRNA</th>\n",
       "      <td>1.465775e-08</td>\n",
       "      <td>0.000360</td>\n",
       "      <td>0.014658</td>\n",
       "    </tr>\n",
       "  </tbody>\n",
       "</table>\n",
       "<p>3099 rows × 3 columns</p>\n",
       "</div>"
      ],
      "text/plain": [
       "                          raw   est_count           tpm\n",
       "transcript_name                                        \n",
       "YHR174W_mRNA     3.752525e-02  921.395070  37525.253303\n",
       "YLR110C_mRNA     3.292605e-02  808.466122  32926.045535\n",
       "YKL060C_mRNA     2.353995e-02  578.000000  23539.952757\n",
       "YKL152C_mRNA     1.486520e-02  365.000000  14865.195080\n",
       "YCR012W_mRNA     1.453938e-02  357.000000  14539.382585\n",
       "...                       ...         ...           ...\n",
       "YLR285C-A_mRNA   1.480966e-06    0.036364      1.480966\n",
       "YCL041C_mRNA     7.272600e-07    0.017857      0.727260\n",
       "YCL008C_mRNA     6.787760e-07    0.016667      0.678776\n",
       "YOR192C-C_mRNA   5.656467e-07    0.013889      0.565647\n",
       "YMR076C_mRNA     1.465775e-08    0.000360      0.014658\n",
       "\n",
       "[3099 rows x 3 columns]"
      ]
     },
     "metadata": {},
     "output_type": "display_data"
    }
   ],
   "source": [
    "nc = NanoCount (alignment_file=\"./data/aligned_reads.bam\")\n",
    "display(nc.count_df)"
   ]
  },
  {
   "cell_type": "markdown",
   "metadata": {
    "ExecuteTime": {
     "end_time": "2020-05-04T16:45:12.397835Z",
     "start_time": "2020-05-04T16:45:12.393091Z"
    }
   },
   "source": [
    "#### Adding extra transcripts information"
   ]
  },
  {
   "cell_type": "markdown",
   "metadata": {},
   "source": [
    "The `extra_tx_info` option adds a columns with the transcript lengths and also includes all the zero-coverage transcripts in the results   "
   ]
  },
  {
   "cell_type": "code",
   "execution_count": 8,
   "metadata": {
    "ExecuteTime": {
     "end_time": "2020-06-08T14:30:31.468733Z",
     "start_time": "2020-06-08T14:30:28.098955Z"
    }
   },
   "outputs": [
    {
     "name": "stderr",
     "output_type": "stream",
     "text": [
      "\u001b[01;34m## Checking options and input files ##\u001b[0m\n",
      "\u001b[01;34m## Initialise Nanocount ##\u001b[0m\n",
      "\u001b[32m\tParse Bam file and filter low quality hits\u001b[0m\n",
      "\u001b[32m\tGenerate initial read/transcript compatibility index\u001b[0m\n",
      "\u001b[01;34m## Start EM abundance estimate ##\u001b[0m\n",
      "\tProgress: 2.00 rounds [00:00, 13.2 rounds/s]\n",
      "\u001b[32m\tExit EM loop after 2 rounds\u001b[0m\n",
      "\u001b[32m\tConvergence value: 0.0026556625233718663\u001b[0m\n",
      "\u001b[01;34m## Summarize data ##\u001b[0m\n",
      "\u001b[32m\tConvert results to dataframe\u001b[0m\n",
      "\u001b[32m\tCompute estimated counts and TPM\u001b[0m\n"
     ]
    },
    {
     "data": {
      "text/html": [
       "<div>\n",
       "<style scoped>\n",
       "    .dataframe tbody tr th:only-of-type {\n",
       "        vertical-align: middle;\n",
       "    }\n",
       "\n",
       "    .dataframe tbody tr th {\n",
       "        vertical-align: top;\n",
       "    }\n",
       "\n",
       "    .dataframe thead th {\n",
       "        text-align: right;\n",
       "    }\n",
       "</style>\n",
       "<table border=\"1\" class=\"dataframe\">\n",
       "  <thead>\n",
       "    <tr style=\"text-align: right;\">\n",
       "      <th></th>\n",
       "      <th>raw</th>\n",
       "      <th>est_count</th>\n",
       "      <th>tpm</th>\n",
       "      <th>transcript_length</th>\n",
       "    </tr>\n",
       "    <tr>\n",
       "      <th>transcript_name</th>\n",
       "      <th></th>\n",
       "      <th></th>\n",
       "      <th></th>\n",
       "      <th></th>\n",
       "    </tr>\n",
       "  </thead>\n",
       "  <tbody>\n",
       "    <tr>\n",
       "      <th>YHR174W_mRNA</th>\n",
       "      <td>0.037525</td>\n",
       "      <td>921.395070</td>\n",
       "      <td>37525.253303</td>\n",
       "      <td>1314</td>\n",
       "    </tr>\n",
       "    <tr>\n",
       "      <th>YLR110C_mRNA</th>\n",
       "      <td>0.032926</td>\n",
       "      <td>808.466122</td>\n",
       "      <td>32926.045535</td>\n",
       "      <td>402</td>\n",
       "    </tr>\n",
       "    <tr>\n",
       "      <th>YKL060C_mRNA</th>\n",
       "      <td>0.023540</td>\n",
       "      <td>578.000000</td>\n",
       "      <td>23539.952757</td>\n",
       "      <td>1080</td>\n",
       "    </tr>\n",
       "    <tr>\n",
       "      <th>YKL152C_mRNA</th>\n",
       "      <td>0.014865</td>\n",
       "      <td>365.000000</td>\n",
       "      <td>14865.195080</td>\n",
       "      <td>744</td>\n",
       "    </tr>\n",
       "    <tr>\n",
       "      <th>YCR012W_mRNA</th>\n",
       "      <td>0.014539</td>\n",
       "      <td>357.000000</td>\n",
       "      <td>14539.382585</td>\n",
       "      <td>1251</td>\n",
       "    </tr>\n",
       "    <tr>\n",
       "      <th>...</th>\n",
       "      <td>...</td>\n",
       "      <td>...</td>\n",
       "      <td>...</td>\n",
       "      <td>...</td>\n",
       "    </tr>\n",
       "    <tr>\n",
       "      <th>YPR201W_mRNA</th>\n",
       "      <td>0.000000</td>\n",
       "      <td>0.000000</td>\n",
       "      <td>0.000000</td>\n",
       "      <td>1215</td>\n",
       "    </tr>\n",
       "    <tr>\n",
       "      <th>YPR202W_mRNA</th>\n",
       "      <td>0.000000</td>\n",
       "      <td>0.000000</td>\n",
       "      <td>0.000000</td>\n",
       "      <td>717</td>\n",
       "    </tr>\n",
       "    <tr>\n",
       "      <th>YPR203W_mRNA</th>\n",
       "      <td>0.000000</td>\n",
       "      <td>0.000000</td>\n",
       "      <td>0.000000</td>\n",
       "      <td>309</td>\n",
       "    </tr>\n",
       "    <tr>\n",
       "      <th>YPR204C-A_mRNA</th>\n",
       "      <td>0.000000</td>\n",
       "      <td>0.000000</td>\n",
       "      <td>0.000000</td>\n",
       "      <td>483</td>\n",
       "    </tr>\n",
       "    <tr>\n",
       "      <th>YPR204W_mRNA</th>\n",
       "      <td>0.000000</td>\n",
       "      <td>0.000000</td>\n",
       "      <td>0.000000</td>\n",
       "      <td>3099</td>\n",
       "    </tr>\n",
       "  </tbody>\n",
       "</table>\n",
       "<p>6612 rows × 4 columns</p>\n",
       "</div>"
      ],
      "text/plain": [
       "                      raw   est_count           tpm  transcript_length\n",
       "transcript_name                                                       \n",
       "YHR174W_mRNA     0.037525  921.395070  37525.253303               1314\n",
       "YLR110C_mRNA     0.032926  808.466122  32926.045535                402\n",
       "YKL060C_mRNA     0.023540  578.000000  23539.952757               1080\n",
       "YKL152C_mRNA     0.014865  365.000000  14865.195080                744\n",
       "YCR012W_mRNA     0.014539  357.000000  14539.382585               1251\n",
       "...                   ...         ...           ...                ...\n",
       "YPR201W_mRNA     0.000000    0.000000      0.000000               1215\n",
       "YPR202W_mRNA     0.000000    0.000000      0.000000                717\n",
       "YPR203W_mRNA     0.000000    0.000000      0.000000                309\n",
       "YPR204C-A_mRNA   0.000000    0.000000      0.000000                483\n",
       "YPR204W_mRNA     0.000000    0.000000      0.000000               3099\n",
       "\n",
       "[6612 rows x 4 columns]"
      ]
     },
     "metadata": {},
     "output_type": "display_data"
    }
   ],
   "source": [
    "nc = NanoCount (alignment_file=\"./data/aligned_reads.bam\", extra_tx_info=True)\n",
    "display(nc.count_df)"
   ]
  },
  {
   "cell_type": "markdown",
   "metadata": {},
   "source": [
    "#### Relaxing the equivalence threshold"
   ]
  },
  {
   "cell_type": "markdown",
   "metadata": {},
   "source": [
    "The default value is 0.9 (90% of the alignment score of the primary alignment) but this value could be lowered to allow more secondary alignments to be included in the uncertainty calculation.\n",
    "Lowering the value bellow 0.75 might not be relevant and will considerably increase the computation time."
   ]
  },
  {
   "cell_type": "code",
   "execution_count": 9,
   "metadata": {
    "ExecuteTime": {
     "end_time": "2020-06-08T14:30:45.631303Z",
     "start_time": "2020-06-08T14:30:42.138132Z"
    },
    "scrolled": true
   },
   "outputs": [
    {
     "name": "stderr",
     "output_type": "stream",
     "text": [
      "\u001b[01;34m## Checking options and input files ##\u001b[0m\n",
      "\u001b[01;34m## Initialise Nanocount ##\u001b[0m\n",
      "\u001b[32m\tParse Bam file and filter low quality hits\u001b[0m\n",
      "\u001b[32m\tGenerate initial read/transcript compatibility index\u001b[0m\n",
      "\u001b[01;34m## Start EM abundance estimate ##\u001b[0m\n",
      "\tProgress: 2.00 rounds [00:00, 14.6 rounds/s]\n",
      "\u001b[32m\tExit EM loop after 2 rounds\u001b[0m\n",
      "\u001b[32m\tConvergence value: 0.0026556625233718663\u001b[0m\n",
      "\u001b[01;34m## Summarize data ##\u001b[0m\n",
      "\u001b[32m\tConvert results to dataframe\u001b[0m\n",
      "\u001b[32m\tCompute estimated counts and TPM\u001b[0m\n",
      "\u001b[32m\tWrite file\u001b[0m\n"
     ]
    },
    {
     "name": "stdout",
     "output_type": "stream",
     "text": [
      "transcript_name raw                  est_count          tpm                transcript_length \n",
      "YHR174W_mRNA    0.037525253303454735 921.3950696130275  37525.25330345474  1314              \n",
      "YLR110C_mRNA    0.032926045534605486 808.466122056703   32926.04553460549  402               \n",
      "YKL060C_mRNA    0.023539952757188228 577.9999999999998  23539.952757188228 1080              \n",
      "YKL152C_mRNA    0.014865195080231321 364.99999999999983 14865.19508023132  744               \n",
      "YCR012W_mRNA    0.014539382585322141 356.9999999999999  14539.38258532214  1251              \n",
      "YDR050C_mRNA    0.014539382585322141 356.9999999999999  14539.38258532214  747               \n",
      "YOR369C_mRNA    0.013165221113714695 323.2588392261506  13165.221113714695 432               \n",
      "YMR116C_mRNA    0.012340148244685179 302.9999999999999  12340.148244685179 960               \n",
      "YLR340W_mRNA    0.011810702940457761 289.9999999999999  11810.70294045776  939               \n",
      "\n"
     ]
    }
   ],
   "source": [
    "NanoCount (alignment_file=\"./data/aligned_reads.bam\", count_file=\"./output/tx_counts.tsv\", equivalent_threshold=0.8, extra_tx_info=True)\n",
    "head(\"./output/tx_counts.tsv\")"
   ]
  }
 ],
 "metadata": {
  "celltoolbar": "Initialization Cell",
  "kernelspec": {
   "display_name": "Python [conda env:NanoCount]",
   "language": "python",
   "name": "conda-env-NanoCount-py"
  },
  "language_info": {
   "codemirror_mode": {
    "name": "ipython",
    "version": 3
   },
   "file_extension": ".py",
   "mimetype": "text/x-python",
   "name": "python",
   "nbconvert_exporter": "python",
   "pygments_lexer": "ipython3",
   "version": "3.6.10"
  }
 },
 "nbformat": 4,
 "nbformat_minor": 4
}
