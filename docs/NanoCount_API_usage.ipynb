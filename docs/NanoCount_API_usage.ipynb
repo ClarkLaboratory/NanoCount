{
 "cells": [
  {
   "cell_type": "markdown",
   "metadata": {
    "ExecuteTime": {
     "end_time": "2020-05-04T11:02:46.918334Z",
     "start_time": "2020-05-04T11:02:46.911996Z"
    }
   },
   "source": [
    "# NanoCount python API"
   ]
  },
  {
   "cell_type": "markdown",
   "metadata": {
    "ExecuteTime": {
     "end_time": "2020-05-04T12:47:10.312567Z",
     "start_time": "2020-05-04T12:47:10.033440Z"
    }
   },
   "source": [
    "### Activate virtual environment"
   ]
  },
  {
   "cell_type": "code",
   "execution_count": 3,
   "metadata": {
    "ExecuteTime": {
     "end_time": "2021-06-27T14:49:31.856203Z",
     "start_time": "2021-06-27T14:49:31.854168Z"
    },
    "init_cell": true
   },
   "outputs": [],
   "source": [
    "from NanoCount.NanoCount import NanoCount\n",
    "from NanoCount.common import jhelp, head"
   ]
  },
  {
   "cell_type": "markdown",
   "metadata": {},
   "source": [
    "### Running NanoCount "
   ]
  },
  {
   "cell_type": "code",
   "execution_count": 4,
   "metadata": {
    "ExecuteTime": {
     "end_time": "2021-06-27T14:49:32.950725Z",
     "start_time": "2021-06-27T14:49:32.946671Z"
    },
    "init_cell": true
   },
   "outputs": [
    {
     "data": {
      "text/markdown": [
       "**NanoCount** (alignment_file, count_file, filter_bam_out, min_read_length, discard_suplementary, min_query_fraction_aligned, equivalent_threshold, scoring_value, convergence_target, max_em_rounds, extra_tx_info, primary_score, max_dist_3_prime, max_dist_5_prime, verbose, quiet)\n",
       "\n",
       "Estimate abundance of transcripts using an EM\n",
       "\n",
       "---\n",
       "\n",
       "* **alignment_file** (required) [str]\n",
       "\n",
       "BAM or SAM file containing aligned ONT dRNA-Seq reads including secondary and supplementary alignment\n",
       "\n",
       "* **count_file** (default: \"\") [str]\n",
       "\n",
       "Output file path where to write estimated counts (TSV format)\n",
       "\n",
       "* **filter_bam_out** (default: \"\") [str]\n",
       "\n",
       "Optional output file path where to write filtered reads selected by NanoCount to perform quantification estimation (BAM format)\n",
       "\n",
       "* **min_read_length** (default: 50) [int]\n",
       "\n",
       "Minimal length of the read to be considered valid\n",
       "\n",
       "* **discard_suplementary** (default: False) [bool]\n",
       "\n",
       "Discard any supplementary alignment. Otherwise they are considered like secondary alignments\n",
       "\n",
       "* **min_query_fraction_aligned** (default: 0.5) [float]\n",
       "\n",
       "Minimal fraction of the primary alignment query aligned to consider the read valid\n",
       "\n",
       "* **equivalent_threshold** (default: 0.9) [float]\n",
       "\n",
       "Fraction of the alignment score or the alignment length of secondary alignments compared to the primary alignment to be considered valid alignments\n",
       "\n",
       "* **scoring_value** (default: alignment_score) [str]\n",
       "\n",
       "Value to use for score thresholding of secondary alignments either \"alignment_score\" or \"alignment_length\"\n",
       "\n",
       "* **convergence_target** (default: 0.005) [float]\n",
       "\n",
       "Convergence target value of the cummulative difference between abundance values of successive EM round to trigger the end of the EM loop.\n",
       "\n",
       "* **max_em_rounds** (default: 100) [int]\n",
       "\n",
       "Maximum number of EM rounds before triggering stop\n",
       "\n",
       "* **extra_tx_info** (default: False) [bool]\n",
       "\n",
       "Add transcripts length and zero coverage transcripts to the output file (required valid bam/sam header)\n",
       "\n",
       "* **primary_score** (default: primary) [str]\n",
       "\n",
       "Method to pick the best alignment for each read. By default (\"primary\") it uses the primary read defined by the aligner but it can be changed to use either the best alignment score (\"align_score\") or the best alignment length (\"align_len\"). choices = [primary, align_score, align_len]\n",
       "\n",
       "* **max_dist_3_prime** (default: 100) [int]\n",
       "\n",
       "Maximum distance of alignment end to 3 prime of transcript. In ONT dRNA-Seq reads are assumed to start from the polyA tail (-1 to deactivate)\n",
       "\n",
       "* **max_dist_5_prime** (default: -1) [int]\n",
       "\n",
       "Maximum distance of alignment start to 5 prime of transcript. In conjunction with max_dist_3_prime it can be used to select near full transcript length reads only (-1 to deactivate).\n",
       "\n",
       "* **verbose** (default: False) [bool]\n",
       "\n",
       "Increase verbosity for QC and debugging\n",
       "\n",
       "* **quiet** (default: False) [bool]\n",
       "\n",
       "Reduce verbosity\n",
       "\n"
      ],
      "text/plain": [
       "<IPython.core.display.Markdown object>"
      ]
     },
     "metadata": {},
     "output_type": "display_data"
    }
   ],
   "source": [
    "jhelp(NanoCount)"
   ]
  },
  {
   "cell_type": "markdown",
   "metadata": {},
   "source": [
    "#### Basic command"
   ]
  },
  {
   "cell_type": "code",
   "execution_count": 5,
   "metadata": {
    "ExecuteTime": {
     "end_time": "2021-06-27T14:27:05.396929Z",
     "start_time": "2021-06-27T14:27:02.168031Z"
    },
    "scrolled": true
   },
   "outputs": [
    {
     "name": "stderr",
     "output_type": "stream",
     "text": [
      "\u001b[01;34m## Checking options and input files ##\u001b[0m\n",
      "\u001b[01;34m## Initialise Nanocount ##\u001b[0m\n",
      "\u001b[32m\tParse Bam file and filter low quality alignments\u001b[0m\n",
      "\u001b[32m\tSummary of alignments parsed in input bam file\u001b[0m\n",
      "\u001b[32m\t\tValid alignments: 153,201\u001b[0m\n",
      "\u001b[32m\t\tDiscarded unmapped alignments: 9,545\u001b[0m\n",
      "\u001b[32m\t\tDiscarded negative strand alignments: 4,515\u001b[0m\n",
      "\u001b[32m\t\tDiscarded alignment with invalid 3 prime end: 3,783\u001b[0m\n",
      "\u001b[32m\tSummary of reads filtered\u001b[0m\n",
      "\u001b[32m\t\tReads with valid best alignment: 85,899\u001b[0m\n",
      "\u001b[32m\t\tInvalid secondary alignments: 60,112\u001b[0m\n",
      "\u001b[32m\t\tValid secondary alignments: 4,375\u001b[0m\n",
      "\u001b[32m\t\tReads with low query fraction aligned: 1,580\u001b[0m\n",
      "\u001b[32m\t\tReads too short: 798\u001b[0m\n",
      "\u001b[32m\tGenerate initial read/transcript compatibility index\u001b[0m\n",
      "\u001b[01;34m## Start EM abundance estimate ##\u001b[0m\n",
      "\tProgress: 3.00 rounds [00:00, 7.67 rounds/s]\n",
      "\u001b[32m\tExit EM loop after 3 rounds\u001b[0m\n",
      "\u001b[32m\tConvergence value: 0.0019319339005414125\u001b[0m\n",
      "\u001b[01;34m## Summarize data ##\u001b[0m\n",
      "\u001b[32m\tConvert results to dataframe\u001b[0m\n",
      "\u001b[32m\tCompute estimated counts and TPM\u001b[0m\n",
      "\u001b[32m\tWrite file\u001b[0m\n"
     ]
    },
    {
     "name": "stdout",
     "output_type": "stream",
     "text": [
      "transcript_name raw                  est_count          tpm                \n",
      "YHR174W_mRNA    0.5932131975393657   50956.42045543398  593213.1975393657  \n",
      "YGR192C_mRNA    0.020661735359370912 1774.8224056346019 20661.735359370912 \n",
      "YLR110C_mRNA    0.00961594430668576  826.0000000000001  9615.94430668576   \n",
      "YOL086C_mRNA    0.008358653767797064 718.0              8358.653767797065  \n",
      "YKL060C_mRNA    0.006635700066357001 570.0              6635.700066357001  \n",
      "YPR080W_mRNA    0.005273635315894248 453.0              5273.6353158942475 \n",
      "YBR118W_mRNA    0.005273635315894248 453.0              5273.6353158942475 \n",
      "YLR044C_mRNA    0.0050873700508737   436.99999999999994 5087.3700508737    \n",
      "YKL152C_mRNA    0.004237534779217453 364.0              4237.534779217453  \n",
      "\n"
     ]
    }
   ],
   "source": [
    "NanoCount (alignment_file=\"./data/aligned_reads_sorted.bam\", count_file=\"./output/tx_counts.tsv\")\n",
    "head(\"./output/tx_counts.tsv\")"
   ]
  },
  {
   "cell_type": "markdown",
   "metadata": {},
   "source": [
    "#### Using Best Alignment score rather than Primary reads as best reads"
   ]
  },
  {
   "cell_type": "code",
   "execution_count": 6,
   "metadata": {
    "ExecuteTime": {
     "end_time": "2021-06-27T14:27:08.547362Z",
     "start_time": "2021-06-27T14:27:05.398733Z"
    },
    "scrolled": false
   },
   "outputs": [
    {
     "name": "stderr",
     "output_type": "stream",
     "text": [
      "\u001b[01;34m## Checking options and input files ##\u001b[0m\n",
      "\u001b[01;34m## Initialise Nanocount ##\u001b[0m\n",
      "\u001b[32m\tParse Bam file and filter low quality alignments\u001b[0m\n",
      "\u001b[32m\tSummary of alignments parsed in input bam file\u001b[0m\n",
      "\u001b[32m\t\tValid alignments: 153,201\u001b[0m\n",
      "\u001b[32m\t\tDiscarded unmapped alignments: 9,545\u001b[0m\n",
      "\u001b[32m\t\tDiscarded negative strand alignments: 4,515\u001b[0m\n",
      "\u001b[32m\t\tDiscarded alignment with invalid 3 prime end: 3,783\u001b[0m\n",
      "\u001b[32m\tSummary of reads filtered\u001b[0m\n",
      "\u001b[32m\t\tReads with valid best alignment: 85,678\u001b[0m\n",
      "\u001b[32m\t\tInvalid secondary alignments: 60,098\u001b[0m\n",
      "\u001b[32m\t\tValid secondary alignments: 4,015\u001b[0m\n",
      "\u001b[32m\t\tReads with low query fraction aligned: 1,568\u001b[0m\n",
      "\u001b[32m\t\tReads too short: 1,031\u001b[0m\n",
      "\u001b[32m\tGenerate initial read/transcript compatibility index\u001b[0m\n",
      "\u001b[01;34m## Start EM abundance estimate ##\u001b[0m\n",
      "\tProgress: 3.00 rounds [00:00, 8.47 rounds/s]\n",
      "\u001b[32m\tExit EM loop after 3 rounds\u001b[0m\n",
      "\u001b[32m\tConvergence value: 0.001932406000350424\u001b[0m\n",
      "\u001b[01;34m## Summarize data ##\u001b[0m\n",
      "\u001b[32m\tConvert results to dataframe\u001b[0m\n",
      "\u001b[32m\tCompute estimated counts and TPM\u001b[0m\n",
      "\u001b[32m\tWrite file\u001b[0m\n"
     ]
    },
    {
     "name": "stdout",
     "output_type": "stream",
     "text": [
      "transcript_name raw                  est_count          tpm                \n",
      "YHR174W_mRNA    0.5947433466634839   50956.420455433974 594743.3466634839  \n",
      "YGR192C_mRNA    0.020715030762092974 1774.8224056346019 20715.030762092974 \n",
      "YLR110C_mRNA    0.009640747916618035 826.0              9640.747916618035  \n",
      "YOL086C_mRNA    0.008380214290716403 718.0              8380.214290716403  \n",
      "YKL060C_mRNA    0.006652816358925278 570.0              6652.816358925278  \n",
      "YLR044C_mRNA    0.005100492541842714 437.00000000000006 5100.492541842714  \n",
      "YPR080W_mRNA    0.004569434393893415 391.5              4569.434393893415  \n",
      "YBR118W_mRNA    0.004569434393893415 391.5              4569.434393893415  \n",
      "YKL152C_mRNA    0.004248465183594389 364.00000000000006 4248.465183594389  \n",
      "\n"
     ]
    }
   ],
   "source": [
    "NanoCount (alignment_file=\"./data/aligned_reads_sorted.bam\", count_file=\"./output/tx_counts.tsv\", primary_score=\"align_score\")\n",
    "head(\"./output/tx_counts.tsv\")"
   ]
  },
  {
   "cell_type": "markdown",
   "metadata": {},
   "source": [
    "#### Write selected alignment to BAM file "
   ]
  },
  {
   "cell_type": "code",
   "execution_count": 7,
   "metadata": {
    "ExecuteTime": {
     "end_time": "2021-06-27T14:27:21.312802Z",
     "start_time": "2021-06-27T14:27:08.549194Z"
    },
    "scrolled": false
   },
   "outputs": [
    {
     "name": "stderr",
     "output_type": "stream",
     "text": [
      "\u001b[01;34m## Checking options and input files ##\u001b[0m\n",
      "\u001b[01;34m## Initialise Nanocount ##\u001b[0m\n",
      "\u001b[32m\tParse Bam file and filter low quality alignments\u001b[0m\n",
      "\u001b[32m\tSummary of alignments parsed in input bam file\u001b[0m\n",
      "\u001b[32m\t\tValid alignments: 153,201\u001b[0m\n",
      "\u001b[32m\t\tDiscarded unmapped alignments: 9,545\u001b[0m\n",
      "\u001b[32m\t\tDiscarded negative strand alignments: 4,515\u001b[0m\n",
      "\u001b[32m\t\tDiscarded alignment with invalid 3 prime end: 3,783\u001b[0m\n",
      "\u001b[32m\tSummary of reads filtered\u001b[0m\n",
      "\u001b[32m\t\tReads with valid best alignment: 85,678\u001b[0m\n",
      "\u001b[32m\t\tInvalid secondary alignments: 60,098\u001b[0m\n",
      "\u001b[32m\t\tValid secondary alignments: 4,015\u001b[0m\n",
      "\u001b[32m\t\tReads with low query fraction aligned: 1,568\u001b[0m\n",
      "\u001b[32m\t\tReads too short: 1,031\u001b[0m\n",
      "\u001b[32m\tWrite selected reads to BAM file\u001b[0m\n",
      "\u001b[32m\tSummary of reads written to bam\u001b[0m\n",
      "\u001b[32m\t\tAlignments to select: 89,693\u001b[0m\n",
      "\u001b[32m\t\tAlignments written: 89,693\u001b[0m\n",
      "\u001b[32m\t\tAlignments skipped: 81,351\u001b[0m\n",
      "\u001b[32m\tGenerate initial read/transcript compatibility index\u001b[0m\n",
      "\u001b[01;34m## Start EM abundance estimate ##\u001b[0m\n",
      "\tProgress: 3.00 rounds [00:00, 8.22 rounds/s]\n",
      "\u001b[32m\tExit EM loop after 3 rounds\u001b[0m\n",
      "\u001b[32m\tConvergence value: 0.001932406000350424\u001b[0m\n",
      "\u001b[01;34m## Summarize data ##\u001b[0m\n",
      "\u001b[32m\tConvert results to dataframe\u001b[0m\n",
      "\u001b[32m\tCompute estimated counts and TPM\u001b[0m\n",
      "\u001b[32m\tWrite file\u001b[0m\n"
     ]
    },
    {
     "name": "stdout",
     "output_type": "stream",
     "text": [
      "transcript_name raw                  est_count          tpm                \n",
      "YHR174W_mRNA    0.5947433466634839   50956.420455433974 594743.3466634839  \n",
      "YGR192C_mRNA    0.020715030762092974 1774.8224056346019 20715.030762092974 \n",
      "YLR110C_mRNA    0.009640747916618035 826.0              9640.747916618035  \n",
      "YOL086C_mRNA    0.008380214290716403 718.0              8380.214290716403  \n",
      "YKL060C_mRNA    0.006652816358925278 570.0              6652.816358925278  \n",
      "YLR044C_mRNA    0.005100492541842714 437.00000000000006 5100.492541842714  \n",
      "YPR080W_mRNA    0.004569434393893415 391.5              4569.434393893415  \n",
      "YBR118W_mRNA    0.004569434393893415 391.5              4569.434393893415  \n",
      "YKL152C_mRNA    0.004248465183594389 364.00000000000006 4248.465183594389  \n",
      "\n"
     ]
    }
   ],
   "source": [
    "NanoCount (\n",
    "    alignment_file=\"./data/aligned_reads_sorted.bam\",\n",
    "    count_file=\"./output/tx_counts.tsv\",\n",
    "    filter_bam_out = \"./output/aligned_reads_selected.bam\",\n",
    "    primary_score=\"align_score\")\n",
    "\n",
    "head(\"./output/tx_counts.tsv\")"
   ]
  },
  {
   "cell_type": "markdown",
   "metadata": {},
   "source": [
    "#### Basic command without file writing and Dataframe output"
   ]
  },
  {
   "cell_type": "markdown",
   "metadata": {},
   "source": [
    "In interactive mode it is also possible not to write the results out but instead to access the data directly as a pandas DataFrame"
   ]
  },
  {
   "cell_type": "code",
   "execution_count": 8,
   "metadata": {
    "ExecuteTime": {
     "end_time": "2021-06-27T14:27:24.469330Z",
     "start_time": "2021-06-27T14:27:21.318261Z"
    },
    "scrolled": false
   },
   "outputs": [
    {
     "name": "stderr",
     "output_type": "stream",
     "text": [
      "\u001b[01;34m## Checking options and input files ##\u001b[0m\n",
      "\u001b[01;34m## Initialise Nanocount ##\u001b[0m\n",
      "\u001b[32m\tParse Bam file and filter low quality alignments\u001b[0m\n",
      "\u001b[32m\tSummary of alignments parsed in input bam file\u001b[0m\n",
      "\u001b[32m\t\tValid alignments: 153,201\u001b[0m\n",
      "\u001b[32m\t\tDiscarded unmapped alignments: 9,545\u001b[0m\n",
      "\u001b[32m\t\tDiscarded negative strand alignments: 4,515\u001b[0m\n",
      "\u001b[32m\t\tDiscarded alignment with invalid 3 prime end: 3,783\u001b[0m\n",
      "\u001b[32m\tSummary of reads filtered\u001b[0m\n",
      "\u001b[32m\t\tReads with valid best alignment: 85,899\u001b[0m\n",
      "\u001b[32m\t\tInvalid secondary alignments: 60,112\u001b[0m\n",
      "\u001b[32m\t\tValid secondary alignments: 4,375\u001b[0m\n",
      "\u001b[32m\t\tReads with low query fraction aligned: 1,580\u001b[0m\n",
      "\u001b[32m\t\tReads too short: 798\u001b[0m\n",
      "\u001b[32m\tGenerate initial read/transcript compatibility index\u001b[0m\n",
      "\u001b[01;34m## Start EM abundance estimate ##\u001b[0m\n",
      "\tProgress: 3.00 rounds [00:00, 8.14 rounds/s]\n",
      "\u001b[32m\tExit EM loop after 3 rounds\u001b[0m\n",
      "\u001b[32m\tConvergence value: 0.0019319339005414125\u001b[0m\n",
      "\u001b[01;34m## Summarize data ##\u001b[0m\n",
      "\u001b[32m\tConvert results to dataframe\u001b[0m\n",
      "\u001b[32m\tCompute estimated counts and TPM\u001b[0m\n"
     ]
    },
    {
     "data": {
      "text/html": [
       "<div>\n",
       "<style scoped>\n",
       "    .dataframe tbody tr th:only-of-type {\n",
       "        vertical-align: middle;\n",
       "    }\n",
       "\n",
       "    .dataframe tbody tr th {\n",
       "        vertical-align: top;\n",
       "    }\n",
       "\n",
       "    .dataframe thead th {\n",
       "        text-align: right;\n",
       "    }\n",
       "</style>\n",
       "<table border=\"1\" class=\"dataframe\">\n",
       "  <thead>\n",
       "    <tr style=\"text-align: right;\">\n",
       "      <th></th>\n",
       "      <th>raw</th>\n",
       "      <th>est_count</th>\n",
       "      <th>tpm</th>\n",
       "    </tr>\n",
       "    <tr>\n",
       "      <th>transcript_name</th>\n",
       "      <th></th>\n",
       "      <th></th>\n",
       "      <th></th>\n",
       "    </tr>\n",
       "  </thead>\n",
       "  <tbody>\n",
       "    <tr>\n",
       "      <th>YHR174W_mRNA</th>\n",
       "      <td>5.932132e-01</td>\n",
       "      <td>50956.420455</td>\n",
       "      <td>593213.197539</td>\n",
       "    </tr>\n",
       "    <tr>\n",
       "      <th>YGR192C_mRNA</th>\n",
       "      <td>2.066174e-02</td>\n",
       "      <td>1774.822406</td>\n",
       "      <td>20661.735359</td>\n",
       "    </tr>\n",
       "    <tr>\n",
       "      <th>YLR110C_mRNA</th>\n",
       "      <td>9.615944e-03</td>\n",
       "      <td>826.000000</td>\n",
       "      <td>9615.944307</td>\n",
       "    </tr>\n",
       "    <tr>\n",
       "      <th>YOL086C_mRNA</th>\n",
       "      <td>8.358654e-03</td>\n",
       "      <td>718.000000</td>\n",
       "      <td>8358.653768</td>\n",
       "    </tr>\n",
       "    <tr>\n",
       "      <th>YKL060C_mRNA</th>\n",
       "      <td>6.635700e-03</td>\n",
       "      <td>570.000000</td>\n",
       "      <td>6635.700066</td>\n",
       "    </tr>\n",
       "    <tr>\n",
       "      <th>...</th>\n",
       "      <td>...</td>\n",
       "      <td>...</td>\n",
       "      <td>...</td>\n",
       "    </tr>\n",
       "    <tr>\n",
       "      <th>YBL083C_mRNA</th>\n",
       "      <td>6.467544e-07</td>\n",
       "      <td>0.055556</td>\n",
       "      <td>0.646754</td>\n",
       "    </tr>\n",
       "    <tr>\n",
       "      <th>YIL047C-A_mRNA</th>\n",
       "      <td>3.637993e-07</td>\n",
       "      <td>0.031250</td>\n",
       "      <td>0.363799</td>\n",
       "    </tr>\n",
       "    <tr>\n",
       "      <th>YFL062W_mRNA</th>\n",
       "      <td>3.637993e-07</td>\n",
       "      <td>0.031250</td>\n",
       "      <td>0.363799</td>\n",
       "    </tr>\n",
       "    <tr>\n",
       "      <th>YOR309C_mRNA</th>\n",
       "      <td>3.444254e-08</td>\n",
       "      <td>0.002959</td>\n",
       "      <td>0.034443</td>\n",
       "    </tr>\n",
       "    <tr>\n",
       "      <th>YLL067C_mRNA</th>\n",
       "      <td>1.010554e-08</td>\n",
       "      <td>0.000868</td>\n",
       "      <td>0.010106</td>\n",
       "    </tr>\n",
       "  </tbody>\n",
       "</table>\n",
       "<p>3065 rows × 3 columns</p>\n",
       "</div>"
      ],
      "text/plain": [
       "                          raw     est_count            tpm\n",
       "transcript_name                                           \n",
       "YHR174W_mRNA     5.932132e-01  50956.420455  593213.197539\n",
       "YGR192C_mRNA     2.066174e-02   1774.822406   20661.735359\n",
       "YLR110C_mRNA     9.615944e-03    826.000000    9615.944307\n",
       "YOL086C_mRNA     8.358654e-03    718.000000    8358.653768\n",
       "YKL060C_mRNA     6.635700e-03    570.000000    6635.700066\n",
       "...                       ...           ...            ...\n",
       "YBL083C_mRNA     6.467544e-07      0.055556       0.646754\n",
       "YIL047C-A_mRNA   3.637993e-07      0.031250       0.363799\n",
       "YFL062W_mRNA     3.637993e-07      0.031250       0.363799\n",
       "YOR309C_mRNA     3.444254e-08      0.002959       0.034443\n",
       "YLL067C_mRNA     1.010554e-08      0.000868       0.010106\n",
       "\n",
       "[3065 rows x 3 columns]"
      ]
     },
     "metadata": {},
     "output_type": "display_data"
    }
   ],
   "source": [
    "nc = NanoCount (alignment_file=\"./data/aligned_reads_sorted.bam\")\n",
    "display(nc.count_df)"
   ]
  },
  {
   "cell_type": "markdown",
   "metadata": {
    "ExecuteTime": {
     "end_time": "2020-05-04T16:45:12.397835Z",
     "start_time": "2020-05-04T16:45:12.393091Z"
    }
   },
   "source": [
    "#### Adding extra transcripts information"
   ]
  },
  {
   "cell_type": "markdown",
   "metadata": {},
   "source": [
    "The `extra_tx_info` option adds a columns with the transcript lengths and also includes all the zero-coverage transcripts in the results   "
   ]
  },
  {
   "cell_type": "code",
   "execution_count": 9,
   "metadata": {
    "ExecuteTime": {
     "end_time": "2021-06-27T14:27:27.779387Z",
     "start_time": "2021-06-27T14:27:24.471461Z"
    }
   },
   "outputs": [
    {
     "name": "stderr",
     "output_type": "stream",
     "text": [
      "\u001b[01;34m## Checking options and input files ##\u001b[0m\n",
      "\u001b[01;34m## Initialise Nanocount ##\u001b[0m\n",
      "\u001b[32m\tParse Bam file and filter low quality alignments\u001b[0m\n",
      "\u001b[32m\tSummary of alignments parsed in input bam file\u001b[0m\n",
      "\u001b[32m\t\tValid alignments: 153,201\u001b[0m\n",
      "\u001b[32m\t\tDiscarded unmapped alignments: 9,545\u001b[0m\n",
      "\u001b[32m\t\tDiscarded negative strand alignments: 4,515\u001b[0m\n",
      "\u001b[32m\t\tDiscarded alignment with invalid 3 prime end: 3,783\u001b[0m\n",
      "\u001b[32m\tSummary of reads filtered\u001b[0m\n",
      "\u001b[32m\t\tReads with valid best alignment: 85,899\u001b[0m\n",
      "\u001b[32m\t\tInvalid secondary alignments: 60,112\u001b[0m\n",
      "\u001b[32m\t\tValid secondary alignments: 4,375\u001b[0m\n",
      "\u001b[32m\t\tReads with low query fraction aligned: 1,580\u001b[0m\n",
      "\u001b[32m\t\tReads too short: 798\u001b[0m\n",
      "\u001b[32m\tGenerate initial read/transcript compatibility index\u001b[0m\n",
      "\u001b[01;34m## Start EM abundance estimate ##\u001b[0m\n",
      "\tProgress: 3.00 rounds [00:00, 7.50 rounds/s]\n",
      "\u001b[32m\tExit EM loop after 3 rounds\u001b[0m\n",
      "\u001b[32m\tConvergence value: 0.0019319339005414125\u001b[0m\n",
      "\u001b[01;34m## Summarize data ##\u001b[0m\n",
      "\u001b[32m\tConvert results to dataframe\u001b[0m\n",
      "\u001b[32m\tCompute estimated counts and TPM\u001b[0m\n"
     ]
    },
    {
     "data": {
      "text/html": [
       "<div>\n",
       "<style scoped>\n",
       "    .dataframe tbody tr th:only-of-type {\n",
       "        vertical-align: middle;\n",
       "    }\n",
       "\n",
       "    .dataframe tbody tr th {\n",
       "        vertical-align: top;\n",
       "    }\n",
       "\n",
       "    .dataframe thead th {\n",
       "        text-align: right;\n",
       "    }\n",
       "</style>\n",
       "<table border=\"1\" class=\"dataframe\">\n",
       "  <thead>\n",
       "    <tr style=\"text-align: right;\">\n",
       "      <th></th>\n",
       "      <th>raw</th>\n",
       "      <th>est_count</th>\n",
       "      <th>tpm</th>\n",
       "      <th>transcript_length</th>\n",
       "    </tr>\n",
       "    <tr>\n",
       "      <th>transcript_name</th>\n",
       "      <th></th>\n",
       "      <th></th>\n",
       "      <th></th>\n",
       "      <th></th>\n",
       "    </tr>\n",
       "  </thead>\n",
       "  <tbody>\n",
       "    <tr>\n",
       "      <th>YHR174W_mRNA</th>\n",
       "      <td>0.593213</td>\n",
       "      <td>50956.420455</td>\n",
       "      <td>593213.197539</td>\n",
       "      <td>1314</td>\n",
       "    </tr>\n",
       "    <tr>\n",
       "      <th>YGR192C_mRNA</th>\n",
       "      <td>0.020662</td>\n",
       "      <td>1774.822406</td>\n",
       "      <td>20661.735359</td>\n",
       "      <td>999</td>\n",
       "    </tr>\n",
       "    <tr>\n",
       "      <th>YLR110C_mRNA</th>\n",
       "      <td>0.009616</td>\n",
       "      <td>826.000000</td>\n",
       "      <td>9615.944307</td>\n",
       "      <td>402</td>\n",
       "    </tr>\n",
       "    <tr>\n",
       "      <th>YOL086C_mRNA</th>\n",
       "      <td>0.008359</td>\n",
       "      <td>718.000000</td>\n",
       "      <td>8358.653768</td>\n",
       "      <td>1047</td>\n",
       "    </tr>\n",
       "    <tr>\n",
       "      <th>YKL060C_mRNA</th>\n",
       "      <td>0.006636</td>\n",
       "      <td>570.000000</td>\n",
       "      <td>6635.700066</td>\n",
       "      <td>1080</td>\n",
       "    </tr>\n",
       "    <tr>\n",
       "      <th>...</th>\n",
       "      <td>...</td>\n",
       "      <td>...</td>\n",
       "      <td>...</td>\n",
       "      <td>...</td>\n",
       "    </tr>\n",
       "    <tr>\n",
       "      <th>YPR200C_mRNA</th>\n",
       "      <td>0.000000</td>\n",
       "      <td>0.000000</td>\n",
       "      <td>0.000000</td>\n",
       "      <td>393</td>\n",
       "    </tr>\n",
       "    <tr>\n",
       "      <th>YPR201W_mRNA</th>\n",
       "      <td>0.000000</td>\n",
       "      <td>0.000000</td>\n",
       "      <td>0.000000</td>\n",
       "      <td>1215</td>\n",
       "    </tr>\n",
       "    <tr>\n",
       "      <th>YPR202W_mRNA</th>\n",
       "      <td>0.000000</td>\n",
       "      <td>0.000000</td>\n",
       "      <td>0.000000</td>\n",
       "      <td>717</td>\n",
       "    </tr>\n",
       "    <tr>\n",
       "      <th>YPR203W_mRNA</th>\n",
       "      <td>0.000000</td>\n",
       "      <td>0.000000</td>\n",
       "      <td>0.000000</td>\n",
       "      <td>309</td>\n",
       "    </tr>\n",
       "    <tr>\n",
       "      <th>YPR204C-A_mRNA</th>\n",
       "      <td>0.000000</td>\n",
       "      <td>0.000000</td>\n",
       "      <td>0.000000</td>\n",
       "      <td>483</td>\n",
       "    </tr>\n",
       "  </tbody>\n",
       "</table>\n",
       "<p>6612 rows × 4 columns</p>\n",
       "</div>"
      ],
      "text/plain": [
       "                      raw     est_count            tpm  transcript_length\n",
       "transcript_name                                                          \n",
       "YHR174W_mRNA     0.593213  50956.420455  593213.197539               1314\n",
       "YGR192C_mRNA     0.020662   1774.822406   20661.735359                999\n",
       "YLR110C_mRNA     0.009616    826.000000    9615.944307                402\n",
       "YOL086C_mRNA     0.008359    718.000000    8358.653768               1047\n",
       "YKL060C_mRNA     0.006636    570.000000    6635.700066               1080\n",
       "...                   ...           ...            ...                ...\n",
       "YPR200C_mRNA     0.000000      0.000000       0.000000                393\n",
       "YPR201W_mRNA     0.000000      0.000000       0.000000               1215\n",
       "YPR202W_mRNA     0.000000      0.000000       0.000000                717\n",
       "YPR203W_mRNA     0.000000      0.000000       0.000000                309\n",
       "YPR204C-A_mRNA   0.000000      0.000000       0.000000                483\n",
       "\n",
       "[6612 rows x 4 columns]"
      ]
     },
     "metadata": {},
     "output_type": "display_data"
    }
   ],
   "source": [
    "nc = NanoCount (alignment_file=\"./data/aligned_reads_sorted.bam\", extra_tx_info=True)\n",
    "display(nc.count_df)"
   ]
  },
  {
   "cell_type": "markdown",
   "metadata": {},
   "source": [
    "#### Relaxing the equivalence threshold"
   ]
  },
  {
   "cell_type": "markdown",
   "metadata": {},
   "source": [
    "The default value is 0.9 (90% of the alignment score of the primary alignment) but this value could be lowered to allow more secondary alignments to be included in the uncertainty calculation.\n",
    "Lowering the value bellow 0.75 might not be relevant and will considerably increase the computation time."
   ]
  },
  {
   "cell_type": "code",
   "execution_count": 10,
   "metadata": {
    "ExecuteTime": {
     "end_time": "2021-06-27T14:27:33.899808Z",
     "start_time": "2021-06-27T14:27:27.781196Z"
    },
    "scrolled": false
   },
   "outputs": [
    {
     "name": "stderr",
     "output_type": "stream",
     "text": [
      "\u001b[01;34m## Checking options and input files ##\u001b[0m\n",
      "\u001b[01;34m## Initialise Nanocount ##\u001b[0m\n",
      "\u001b[32m\tParse Bam file and filter low quality alignments\u001b[0m\n",
      "\u001b[32m\tSummary of alignments parsed in input bam file\u001b[0m\n",
      "\u001b[32m\t\tValid alignments: 153,201\u001b[0m\n",
      "\u001b[32m\t\tDiscarded unmapped alignments: 9,545\u001b[0m\n",
      "\u001b[32m\t\tDiscarded negative strand alignments: 4,515\u001b[0m\n",
      "\u001b[32m\t\tDiscarded alignment with invalid 3 prime end: 3,783\u001b[0m\n",
      "\u001b[32m\tSummary of reads filtered\u001b[0m\n",
      "\u001b[32m\t\tReads with valid best alignment: 85,899\u001b[0m\n",
      "\u001b[32m\t\tValid secondary alignments: 50,019\u001b[0m\n",
      "\u001b[32m\t\tInvalid secondary alignments: 14,468\u001b[0m\n",
      "\u001b[32m\t\tReads with low query fraction aligned: 1,580\u001b[0m\n",
      "\u001b[32m\t\tReads too short: 798\u001b[0m\n",
      "\u001b[32m\tGenerate initial read/transcript compatibility index\u001b[0m\n",
      "\u001b[01;34m## Start EM abundance estimate ##\u001b[0m\n",
      "\tProgress: 18.0 rounds [00:03, 5.97 rounds/s]\n",
      "\u001b[32m\tExit EM loop after 18 rounds\u001b[0m\n",
      "\u001b[32m\tConvergence value: 0.0046267497351846565\u001b[0m\n",
      "\u001b[01;34m## Summarize data ##\u001b[0m\n",
      "\u001b[32m\tConvert results to dataframe\u001b[0m\n",
      "\u001b[32m\tCompute estimated counts and TPM\u001b[0m\n",
      "\u001b[32m\tWrite file\u001b[0m\n"
     ]
    },
    {
     "name": "stdout",
     "output_type": "stream",
     "text": [
      "transcript_name raw                  est_count          tpm                transcript_length \n",
      "YHR174W_mRNA    0.5828216847430354   50063.799897742    582821.6847430355  1314              \n",
      "YGR192C_mRNA    0.015176437715561316 1303.6408233290015 15176.437715561317 999               \n",
      "YGR254W_mRNA    0.011446001726217528 983.2001022803594  11446.001726217528 1314              \n",
      "YLR110C_mRNA    0.00961594430668582  826.0000000000052  9615.94430668582   402               \n",
      "YJR009C_mRNA    0.009392668850428337 806.8208615829437  9392.668850428337  999               \n",
      "YOL086C_mRNA    0.008358653767797118 718.0000000000047  8358.653767797117  1047              \n",
      "YKL060C_mRNA    0.006635700066357044 570.0000000000036  6635.700066357043  1080              \n",
      "YBR118W_mRNA    0.005273635315894282 453.0000000000029  5273.635315894282  1377              \n",
      "YPR080W_mRNA    0.005273635315894282 453.0000000000029  5273.635315894282  1377              \n",
      "\n"
     ]
    }
   ],
   "source": [
    "NanoCount (alignment_file=\"./data/aligned_reads_sorted.bam\", count_file=\"./output/tx_counts.tsv\", equivalent_threshold=0.8, extra_tx_info=True)\n",
    "head(\"./output/tx_counts.tsv\")"
   ]
  }
 ],
 "metadata": {
  "celltoolbar": "Initialization Cell",
  "kernelspec": {
   "display_name": "Python [conda env:nanocount]",
   "language": "python",
   "name": "conda-env-nanocount-py"
  },
  "language_info": {
   "codemirror_mode": {
    "name": "ipython",
    "version": 3
   },
   "file_extension": ".py",
   "mimetype": "text/x-python",
   "name": "python",
   "nbconvert_exporter": "python",
   "pygments_lexer": "ipython3",
   "version": "3.8.10"
  }
 },
 "nbformat": 4,
 "nbformat_minor": 4
}
