{
 "cells": [
  {
   "cell_type": "markdown",
   "metadata": {
    "ExecuteTime": {
     "end_time": "2020-05-04T11:02:46.918334Z",
     "start_time": "2020-05-04T11:02:46.911996Z"
    }
   },
   "source": [
    "# NanoCount python API"
   ]
  },
  {
   "cell_type": "markdown",
   "metadata": {
    "ExecuteTime": {
     "end_time": "2020-05-04T12:47:10.312567Z",
     "start_time": "2020-05-04T12:47:10.033440Z"
    }
   },
   "source": [
    "### Activate virtual environment"
   ]
  },
  {
   "cell_type": "code",
   "execution_count": 3,
   "metadata": {
    "ExecuteTime": {
     "end_time": "2021-08-17T09:05:43.061078Z",
     "start_time": "2021-08-17T09:05:43.059335Z"
    },
    "init_cell": true
   },
   "outputs": [],
   "source": [
    "from NanoCount.NanoCount import NanoCount\n",
    "from NanoCount.common import jhelp, head"
   ]
  },
  {
   "cell_type": "markdown",
   "metadata": {},
   "source": [
    "### Running NanoCount "
   ]
  },
  {
   "cell_type": "code",
   "execution_count": 4,
   "metadata": {
    "ExecuteTime": {
     "end_time": "2021-08-17T09:05:43.065955Z",
     "start_time": "2021-08-17T09:05:43.062849Z"
    },
    "init_cell": true
   },
   "outputs": [
    {
     "data": {
      "text/markdown": [
       "**NanoCount** (alignment_file, count_file, filter_bam_out, min_read_length, discard_suplementary, min_query_fraction_aligned, equivalent_threshold, scoring_value, convergence_target, max_em_rounds, extra_tx_info, primary_score, max_dist_3_prime, max_dist_5_prime, verbose, quiet)\n",
       "\n",
       "Estimate abundance of transcripts using an EM\n",
       "\n",
       "---\n",
       "\n",
       "* **alignment_file** (required) [str]\n",
       "\n",
       "BAM or SAM file containing aligned ONT dRNA-Seq reads including secondary and supplementary alignment\n",
       "\n",
       "* **count_file** (default: \"\") [str]\n",
       "\n",
       "Output file path where to write estimated counts (TSV format)\n",
       "\n",
       "* **filter_bam_out** (default: \"\") [str]\n",
       "\n",
       "Optional output file path where to write filtered reads selected by NanoCount to perform quantification estimation (BAM format)\n",
       "\n",
       "* **min_read_length** (default: 50) [int]\n",
       "\n",
       "Minimal length of the read to be considered valid\n",
       "\n",
       "* **discard_suplementary** (default: False) [bool]\n",
       "\n",
       "Discard any supplementary alignment. Otherwise they are considered like secondary alignments\n",
       "\n",
       "* **min_query_fraction_aligned** (default: 0.5) [float]\n",
       "\n",
       "Minimal fraction of the primary alignment query aligned to consider the read valid\n",
       "\n",
       "* **equivalent_threshold** (default: 0.95) [float]\n",
       "\n",
       "Fraction of the alignment score or the alignment length of secondary alignments compared to the primary alignment to be considered valid alignments\n",
       "\n",
       "* **scoring_value** (default: alignment_score) [str]\n",
       "\n",
       "Value to use for score thresholding of secondary alignments either \"alignment_score\" or \"alignment_length\"\n",
       "\n",
       "* **convergence_target** (default: 0.005) [float]\n",
       "\n",
       "Convergence target value of the cummulative difference between abundance values of successive EM round to trigger the end of the EM loop.\n",
       "\n",
       "* **max_em_rounds** (default: 100) [int]\n",
       "\n",
       "Maximum number of EM rounds before triggering stop\n",
       "\n",
       "* **extra_tx_info** (default: False) [bool]\n",
       "\n",
       "Add transcripts length and zero coverage transcripts to the output file (required valid bam/sam header)\n",
       "\n",
       "* **primary_score** (default: primary) [str]\n",
       "\n",
       "Method to pick the best alignment for each read. By default (\"primary\") it uses the primary read defined by the aligner but it can be changed to use either the best alignment score (\"align_score\") or the best alignment length (\"align_len\"). choices = [primary, align_score, align_len]\n",
       "\n",
       "* **max_dist_3_prime** (default: 50) [int]\n",
       "\n",
       "Maximum distance of alignment end to 3 prime of transcript. In ONT dRNA-Seq reads are assumed to start from the polyA tail (-1 to deactivate)\n",
       "\n",
       "* **max_dist_5_prime** (default: -1) [int]\n",
       "\n",
       "Maximum distance of alignment start to 5 prime of transcript. In conjunction with max_dist_3_prime it can be used to select near full transcript length reads only (-1 to deactivate).\n",
       "\n",
       "* **verbose** (default: False) [bool]\n",
       "\n",
       "Increase verbosity for QC and debugging\n",
       "\n",
       "* **quiet** (default: False) [bool]\n",
       "\n",
       "Reduce verbosity\n",
       "\n"
      ],
      "text/plain": [
       "<IPython.core.display.Markdown object>"
      ]
     },
     "metadata": {},
     "output_type": "display_data"
    }
   ],
   "source": [
    "jhelp(NanoCount)"
   ]
  },
  {
   "cell_type": "markdown",
   "metadata": {},
   "source": [
    "#### Basic command"
   ]
  },
  {
   "cell_type": "code",
   "execution_count": 5,
   "metadata": {
    "ExecuteTime": {
     "end_time": "2021-08-17T09:05:46.123507Z",
     "start_time": "2021-08-17T09:05:43.067405Z"
    },
    "scrolled": true
   },
   "outputs": [
    {
     "name": "stderr",
     "output_type": "stream",
     "text": [
      "\u001b[01;34m## Checking options and input files ##\u001b[0m\n",
      "\u001b[01;34m## Initialise Nanocount ##\u001b[0m\n",
      "\u001b[32m\tParse Bam file and filter low quality alignments\u001b[0m\n",
      "\u001b[32m\tSummary of alignments parsed in input bam file\u001b[0m\n",
      "\u001b[32m\t\tValid alignments: 150,779\u001b[0m\n",
      "\u001b[32m\t\tDiscarded unmapped alignments: 9,545\u001b[0m\n",
      "\u001b[32m\t\tDiscarded alignment with invalid 3 prime end: 6,205\u001b[0m\n",
      "\u001b[32m\t\tDiscarded negative strand alignments: 4,515\u001b[0m\n",
      "\u001b[32m\tSummary of reads filtered\u001b[0m\n",
      "\u001b[32m\t\tReads with valid best alignment: 85,200\u001b[0m\n",
      "\u001b[32m\t\tInvalid secondary alignments: 60,168\u001b[0m\n",
      "\u001b[32m\t\tValid secondary alignments: 2,626\u001b[0m\n",
      "\u001b[32m\t\tReads with low query fraction aligned: 1,544\u001b[0m\n",
      "\u001b[32m\t\tReads too short: 817\u001b[0m\n",
      "\u001b[32m\tGenerate initial read/transcript compatibility index\u001b[0m\n",
      "\u001b[01;34m## Start EM abundance estimate ##\u001b[0m\n",
      "\tProgress: 2.00 rounds [00:00, 7.82 rounds/s]\n",
      "\u001b[32m\tExit EM loop after 2 rounds\u001b[0m\n",
      "\u001b[32m\tConvergence value: 0.002000099856041238\u001b[0m\n",
      "\u001b[01;34m## Summarize data ##\u001b[0m\n",
      "\u001b[32m\tConvert results to dataframe\u001b[0m\n",
      "\u001b[32m\tCompute estimated counts and TPM\u001b[0m\n",
      "\u001b[32m\tWrite file\u001b[0m\n"
     ]
    },
    {
     "name": "stdout",
     "output_type": "stream",
     "text": [
      "transcript_name raw                   est_count          tpm                \n",
      "YHR174W_mRNA    0.5929928027283197    50522.98679245284  592992.8027283197  \n",
      "YGR192C_mRNA    0.021005944664969526  1789.7064854554037 21005.944664969527 \n",
      "YLR110C_mRNA    0.009671361502347417  823.9999999999999  9671.361502347418  \n",
      "YOL086C_mRNA    0.008368544600938967  713.0              8368.544600938967  \n",
      "YKL060C_mRNA    0.006572769953051643  560.0              6572.769953051643  \n",
      "YPR080W_mRNA    0.005299295774647887  451.5              5299.295774647888  \n",
      "YBR118W_mRNA    0.005299295774647887  451.5              5299.295774647888  \n",
      "YLR044C_mRNA    0.0051056338028169015 435.0              5105.633802816901  \n",
      "YKL152C_mRNA    0.004237089201877934  361.0              4237.089201877934  \n",
      "\n"
     ]
    }
   ],
   "source": [
    "NanoCount (alignment_file=\"./data/aligned_reads_sorted.bam\", count_file=\"./output/tx_counts.tsv\")\n",
    "head(\"./output/tx_counts.tsv\")"
   ]
  },
  {
   "cell_type": "markdown",
   "metadata": {},
   "source": [
    "#### Using Best Alignment score rather than Primary reads as best reads"
   ]
  },
  {
   "cell_type": "code",
   "execution_count": 6,
   "metadata": {
    "ExecuteTime": {
     "end_time": "2021-08-17T09:05:49.142131Z",
     "start_time": "2021-08-17T09:05:46.125715Z"
    },
    "scrolled": false
   },
   "outputs": [
    {
     "name": "stderr",
     "output_type": "stream",
     "text": [
      "\u001b[01;34m## Checking options and input files ##\u001b[0m\n",
      "\u001b[01;34m## Initialise Nanocount ##\u001b[0m\n",
      "\u001b[32m\tParse Bam file and filter low quality alignments\u001b[0m\n",
      "\u001b[32m\tSummary of alignments parsed in input bam file\u001b[0m\n",
      "\u001b[32m\t\tValid alignments: 150,779\u001b[0m\n",
      "\u001b[32m\t\tDiscarded unmapped alignments: 9,545\u001b[0m\n",
      "\u001b[32m\t\tDiscarded alignment with invalid 3 prime end: 6,205\u001b[0m\n",
      "\u001b[32m\t\tDiscarded negative strand alignments: 4,515\u001b[0m\n",
      "\u001b[32m\tSummary of reads filtered\u001b[0m\n",
      "\u001b[32m\t\tReads with valid best alignment: 84,978\u001b[0m\n",
      "\u001b[32m\t\tInvalid secondary alignments: 60,150\u001b[0m\n",
      "\u001b[32m\t\tValid secondary alignments: 2,269\u001b[0m\n",
      "\u001b[32m\t\tReads with low query fraction aligned: 1,532\u001b[0m\n",
      "\u001b[32m\t\tReads too short: 1,051\u001b[0m\n",
      "\u001b[32m\tGenerate initial read/transcript compatibility index\u001b[0m\n",
      "\u001b[01;34m## Start EM abundance estimate ##\u001b[0m\n",
      "\tProgress: 2.00 rounds [00:00, 8.52 rounds/s]\n",
      "\u001b[32m\tExit EM loop after 2 rounds\u001b[0m\n",
      "\u001b[32m\tConvergence value: 0.0019612500009223723\u001b[0m\n",
      "\u001b[01;34m## Summarize data ##\u001b[0m\n",
      "\u001b[32m\tConvert results to dataframe\u001b[0m\n",
      "\u001b[32m\tCompute estimated counts and TPM\u001b[0m\n",
      "\u001b[32m\tWrite file\u001b[0m\n"
     ]
    },
    {
     "name": "stdout",
     "output_type": "stream",
     "text": [
      "transcript_name raw                   est_count          tpm                \n",
      "YHR174W_mRNA    0.5945419613600325    50522.98679245284  594541.9613600324  \n",
      "YGR192C_mRNA    0.02106082145326324   1789.7064854554037 21060.82145326324  \n",
      "YLR110C_mRNA    0.009696627362376144  824.0              9696.627362376144  \n",
      "YOL086C_mRNA    0.008390406928852174  713.0              8390.406928852173  \n",
      "YKL060C_mRNA    0.0065899409258867005 560.0              6589.940925886701  \n",
      "YLR044C_mRNA    0.005118971969215562  435.0              5118.971969215562  \n",
      "YPR080W_mRNA    0.004589423144813952  390.0              4589.423144813952  \n",
      "YBR118W_mRNA    0.004589423144813952  390.0              4589.423144813952  \n",
      "YKL152C_mRNA    0.004248158346866248  361.0              4248.1583468662475 \n",
      "\n"
     ]
    }
   ],
   "source": [
    "NanoCount (alignment_file=\"./data/aligned_reads_sorted.bam\", count_file=\"./output/tx_counts.tsv\", primary_score=\"align_score\")\n",
    "head(\"./output/tx_counts.tsv\")"
   ]
  },
  {
   "cell_type": "markdown",
   "metadata": {},
   "source": [
    "#### Write selected alignment to BAM file "
   ]
  },
  {
   "cell_type": "code",
   "execution_count": 7,
   "metadata": {
    "ExecuteTime": {
     "end_time": "2021-08-17T09:06:01.551347Z",
     "start_time": "2021-08-17T09:05:49.144228Z"
    },
    "scrolled": false
   },
   "outputs": [
    {
     "name": "stderr",
     "output_type": "stream",
     "text": [
      "\u001b[01;34m## Checking options and input files ##\u001b[0m\n",
      "\u001b[01;34m## Initialise Nanocount ##\u001b[0m\n",
      "\u001b[32m\tParse Bam file and filter low quality alignments\u001b[0m\n",
      "\u001b[32m\tSummary of alignments parsed in input bam file\u001b[0m\n",
      "\u001b[32m\t\tValid alignments: 150,779\u001b[0m\n",
      "\u001b[32m\t\tDiscarded unmapped alignments: 9,545\u001b[0m\n",
      "\u001b[32m\t\tDiscarded alignment with invalid 3 prime end: 6,205\u001b[0m\n",
      "\u001b[32m\t\tDiscarded negative strand alignments: 4,515\u001b[0m\n",
      "\u001b[32m\tSummary of reads filtered\u001b[0m\n",
      "\u001b[32m\t\tReads with valid best alignment: 84,978\u001b[0m\n",
      "\u001b[32m\t\tInvalid secondary alignments: 60,150\u001b[0m\n",
      "\u001b[32m\t\tValid secondary alignments: 2,269\u001b[0m\n",
      "\u001b[32m\t\tReads with low query fraction aligned: 1,532\u001b[0m\n",
      "\u001b[32m\t\tReads too short: 1,051\u001b[0m\n",
      "\u001b[32m\tWrite selected alignments to BAM file\u001b[0m\n",
      "\u001b[32m\tSummary of alignments written to bam\u001b[0m\n",
      "\u001b[32m\t\tAlignments to select: 87,247\u001b[0m\n",
      "\u001b[32m\t\tAlignments written: 87,247\u001b[0m\n",
      "\u001b[32m\t\tAlignments skipped: 83,797\u001b[0m\n",
      "\u001b[32m\tGenerate initial read/transcript compatibility index\u001b[0m\n",
      "\u001b[01;34m## Start EM abundance estimate ##\u001b[0m\n",
      "\tProgress: 2.00 rounds [00:00, 8.51 rounds/s]\n",
      "\u001b[32m\tExit EM loop after 2 rounds\u001b[0m\n",
      "\u001b[32m\tConvergence value: 0.0019612500009223723\u001b[0m\n",
      "\u001b[01;34m## Summarize data ##\u001b[0m\n",
      "\u001b[32m\tConvert results to dataframe\u001b[0m\n",
      "\u001b[32m\tCompute estimated counts and TPM\u001b[0m\n",
      "\u001b[32m\tWrite file\u001b[0m\n"
     ]
    },
    {
     "name": "stdout",
     "output_type": "stream",
     "text": [
      "transcript_name raw                   est_count          tpm                \n",
      "YHR174W_mRNA    0.5945419613600325    50522.98679245284  594541.9613600324  \n",
      "YGR192C_mRNA    0.02106082145326324   1789.7064854554037 21060.82145326324  \n",
      "YLR110C_mRNA    0.009696627362376144  824.0              9696.627362376144  \n",
      "YOL086C_mRNA    0.008390406928852174  713.0              8390.406928852173  \n",
      "YKL060C_mRNA    0.0065899409258867005 560.0              6589.940925886701  \n",
      "YLR044C_mRNA    0.005118971969215562  435.0              5118.971969215562  \n",
      "YPR080W_mRNA    0.004589423144813952  390.0              4589.423144813952  \n",
      "YBR118W_mRNA    0.004589423144813952  390.0              4589.423144813952  \n",
      "YKL152C_mRNA    0.004248158346866248  361.0              4248.1583468662475 \n",
      "\n"
     ]
    }
   ],
   "source": [
    "NanoCount (\n",
    "    alignment_file=\"./data/aligned_reads_sorted.bam\",\n",
    "    count_file=\"./output/tx_counts.tsv\",\n",
    "    filter_bam_out = \"./output/aligned_reads_selected.bam\",\n",
    "    primary_score=\"align_score\")\n",
    "\n",
    "head(\"./output/tx_counts.tsv\")"
   ]
  },
  {
   "cell_type": "markdown",
   "metadata": {},
   "source": [
    "#### Basic command without file writing and Dataframe output"
   ]
  },
  {
   "cell_type": "markdown",
   "metadata": {},
   "source": [
    "In interactive mode it is also possible not to write the results out but instead to access the data directly as a pandas DataFrame"
   ]
  },
  {
   "cell_type": "code",
   "execution_count": 8,
   "metadata": {
    "ExecuteTime": {
     "end_time": "2021-08-17T09:06:04.526730Z",
     "start_time": "2021-08-17T09:06:01.555217Z"
    },
    "scrolled": false
   },
   "outputs": [
    {
     "name": "stderr",
     "output_type": "stream",
     "text": [
      "\u001b[01;34m## Checking options and input files ##\u001b[0m\n",
      "\u001b[01;34m## Initialise Nanocount ##\u001b[0m\n",
      "\u001b[32m\tParse Bam file and filter low quality alignments\u001b[0m\n",
      "\u001b[32m\tSummary of alignments parsed in input bam file\u001b[0m\n",
      "\u001b[32m\t\tValid alignments: 150,779\u001b[0m\n",
      "\u001b[32m\t\tDiscarded unmapped alignments: 9,545\u001b[0m\n",
      "\u001b[32m\t\tDiscarded alignment with invalid 3 prime end: 6,205\u001b[0m\n",
      "\u001b[32m\t\tDiscarded negative strand alignments: 4,515\u001b[0m\n",
      "\u001b[32m\tSummary of reads filtered\u001b[0m\n",
      "\u001b[32m\t\tReads with valid best alignment: 85,200\u001b[0m\n",
      "\u001b[32m\t\tInvalid secondary alignments: 60,168\u001b[0m\n",
      "\u001b[32m\t\tValid secondary alignments: 2,626\u001b[0m\n",
      "\u001b[32m\t\tReads with low query fraction aligned: 1,544\u001b[0m\n",
      "\u001b[32m\t\tReads too short: 817\u001b[0m\n",
      "\u001b[32m\tGenerate initial read/transcript compatibility index\u001b[0m\n",
      "\u001b[01;34m## Start EM abundance estimate ##\u001b[0m\n",
      "\tProgress: 2.00 rounds [00:00, 8.30 rounds/s]\n",
      "\u001b[32m\tExit EM loop after 2 rounds\u001b[0m\n",
      "\u001b[32m\tConvergence value: 0.002000099856041238\u001b[0m\n",
      "\u001b[01;34m## Summarize data ##\u001b[0m\n",
      "\u001b[32m\tConvert results to dataframe\u001b[0m\n",
      "\u001b[32m\tCompute estimated counts and TPM\u001b[0m\n"
     ]
    },
    {
     "data": {
      "text/html": [
       "<div>\n",
       "<style scoped>\n",
       "    .dataframe tbody tr th:only-of-type {\n",
       "        vertical-align: middle;\n",
       "    }\n",
       "\n",
       "    .dataframe tbody tr th {\n",
       "        vertical-align: top;\n",
       "    }\n",
       "\n",
       "    .dataframe thead th {\n",
       "        text-align: right;\n",
       "    }\n",
       "</style>\n",
       "<table border=\"1\" class=\"dataframe\">\n",
       "  <thead>\n",
       "    <tr style=\"text-align: right;\">\n",
       "      <th></th>\n",
       "      <th>raw</th>\n",
       "      <th>est_count</th>\n",
       "      <th>tpm</th>\n",
       "    </tr>\n",
       "    <tr>\n",
       "      <th>transcript_name</th>\n",
       "      <th></th>\n",
       "      <th></th>\n",
       "      <th></th>\n",
       "    </tr>\n",
       "  </thead>\n",
       "  <tbody>\n",
       "    <tr>\n",
       "      <th>YHR174W_mRNA</th>\n",
       "      <td>5.929928e-01</td>\n",
       "      <td>50522.986792</td>\n",
       "      <td>592992.802728</td>\n",
       "    </tr>\n",
       "    <tr>\n",
       "      <th>YGR192C_mRNA</th>\n",
       "      <td>2.100594e-02</td>\n",
       "      <td>1789.706485</td>\n",
       "      <td>21005.944665</td>\n",
       "    </tr>\n",
       "    <tr>\n",
       "      <th>YLR110C_mRNA</th>\n",
       "      <td>9.671362e-03</td>\n",
       "      <td>824.000000</td>\n",
       "      <td>9671.361502</td>\n",
       "    </tr>\n",
       "    <tr>\n",
       "      <th>YOL086C_mRNA</th>\n",
       "      <td>8.368545e-03</td>\n",
       "      <td>713.000000</td>\n",
       "      <td>8368.544601</td>\n",
       "    </tr>\n",
       "    <tr>\n",
       "      <th>YKL060C_mRNA</th>\n",
       "      <td>6.572770e-03</td>\n",
       "      <td>560.000000</td>\n",
       "      <td>6572.769953</td>\n",
       "    </tr>\n",
       "    <tr>\n",
       "      <th>...</th>\n",
       "      <td>...</td>\n",
       "      <td>...</td>\n",
       "      <td>...</td>\n",
       "    </tr>\n",
       "    <tr>\n",
       "      <th>YHR219W_mRNA</th>\n",
       "      <td>2.987545e-06</td>\n",
       "      <td>0.254539</td>\n",
       "      <td>2.987545</td>\n",
       "    </tr>\n",
       "    <tr>\n",
       "      <th>YDR433W_mRNA</th>\n",
       "      <td>2.347418e-06</td>\n",
       "      <td>0.200000</td>\n",
       "      <td>2.347418</td>\n",
       "    </tr>\n",
       "    <tr>\n",
       "      <th>YHL050C_mRNA</th>\n",
       "      <td>1.684364e-06</td>\n",
       "      <td>0.143508</td>\n",
       "      <td>1.684364</td>\n",
       "    </tr>\n",
       "    <tr>\n",
       "      <th>YPR204W_mRNA</th>\n",
       "      <td>1.684364e-06</td>\n",
       "      <td>0.143508</td>\n",
       "      <td>1.684364</td>\n",
       "    </tr>\n",
       "    <tr>\n",
       "      <th>YEL077C_mRNA</th>\n",
       "      <td>3.452085e-07</td>\n",
       "      <td>0.029412</td>\n",
       "      <td>0.345209</td>\n",
       "    </tr>\n",
       "  </tbody>\n",
       "</table>\n",
       "<p>3050 rows × 3 columns</p>\n",
       "</div>"
      ],
      "text/plain": [
       "                          raw     est_count            tpm\n",
       "transcript_name                                           \n",
       "YHR174W_mRNA     5.929928e-01  50522.986792  592992.802728\n",
       "YGR192C_mRNA     2.100594e-02   1789.706485   21005.944665\n",
       "YLR110C_mRNA     9.671362e-03    824.000000    9671.361502\n",
       "YOL086C_mRNA     8.368545e-03    713.000000    8368.544601\n",
       "YKL060C_mRNA     6.572770e-03    560.000000    6572.769953\n",
       "...                       ...           ...            ...\n",
       "YHR219W_mRNA     2.987545e-06      0.254539       2.987545\n",
       "YDR433W_mRNA     2.347418e-06      0.200000       2.347418\n",
       "YHL050C_mRNA     1.684364e-06      0.143508       1.684364\n",
       "YPR204W_mRNA     1.684364e-06      0.143508       1.684364\n",
       "YEL077C_mRNA     3.452085e-07      0.029412       0.345209\n",
       "\n",
       "[3050 rows x 3 columns]"
      ]
     },
     "metadata": {},
     "output_type": "display_data"
    }
   ],
   "source": [
    "nc = NanoCount (alignment_file=\"./data/aligned_reads_sorted.bam\")\n",
    "display(nc.count_df)"
   ]
  },
  {
   "cell_type": "markdown",
   "metadata": {
    "ExecuteTime": {
     "end_time": "2020-05-04T16:45:12.397835Z",
     "start_time": "2020-05-04T16:45:12.393091Z"
    }
   },
   "source": [
    "#### Adding extra transcripts information"
   ]
  },
  {
   "cell_type": "markdown",
   "metadata": {},
   "source": [
    "The `extra_tx_info` option adds a columns with the transcript lengths and also includes all the zero-coverage transcripts in the results   "
   ]
  },
  {
   "cell_type": "code",
   "execution_count": 9,
   "metadata": {
    "ExecuteTime": {
     "end_time": "2021-08-17T09:06:07.635547Z",
     "start_time": "2021-08-17T09:06:04.528529Z"
    }
   },
   "outputs": [
    {
     "name": "stderr",
     "output_type": "stream",
     "text": [
      "\u001b[01;34m## Checking options and input files ##\u001b[0m\n",
      "\u001b[01;34m## Initialise Nanocount ##\u001b[0m\n",
      "\u001b[32m\tParse Bam file and filter low quality alignments\u001b[0m\n",
      "\u001b[32m\tSummary of alignments parsed in input bam file\u001b[0m\n",
      "\u001b[32m\t\tValid alignments: 150,779\u001b[0m\n",
      "\u001b[32m\t\tDiscarded unmapped alignments: 9,545\u001b[0m\n",
      "\u001b[32m\t\tDiscarded alignment with invalid 3 prime end: 6,205\u001b[0m\n",
      "\u001b[32m\t\tDiscarded negative strand alignments: 4,515\u001b[0m\n",
      "\u001b[32m\tSummary of reads filtered\u001b[0m\n",
      "\u001b[32m\t\tReads with valid best alignment: 85,200\u001b[0m\n",
      "\u001b[32m\t\tInvalid secondary alignments: 60,168\u001b[0m\n",
      "\u001b[32m\t\tValid secondary alignments: 2,626\u001b[0m\n",
      "\u001b[32m\t\tReads with low query fraction aligned: 1,544\u001b[0m\n",
      "\u001b[32m\t\tReads too short: 817\u001b[0m\n",
      "\u001b[32m\tGenerate initial read/transcript compatibility index\u001b[0m\n",
      "\u001b[01;34m## Start EM abundance estimate ##\u001b[0m\n",
      "\tProgress: 2.00 rounds [00:00, 7.88 rounds/s]\n",
      "\u001b[32m\tExit EM loop after 2 rounds\u001b[0m\n",
      "\u001b[32m\tConvergence value: 0.002000099856041238\u001b[0m\n",
      "\u001b[01;34m## Summarize data ##\u001b[0m\n",
      "\u001b[32m\tConvert results to dataframe\u001b[0m\n",
      "\u001b[32m\tCompute estimated counts and TPM\u001b[0m\n"
     ]
    },
    {
     "data": {
      "text/html": [
       "<div>\n",
       "<style scoped>\n",
       "    .dataframe tbody tr th:only-of-type {\n",
       "        vertical-align: middle;\n",
       "    }\n",
       "\n",
       "    .dataframe tbody tr th {\n",
       "        vertical-align: top;\n",
       "    }\n",
       "\n",
       "    .dataframe thead th {\n",
       "        text-align: right;\n",
       "    }\n",
       "</style>\n",
       "<table border=\"1\" class=\"dataframe\">\n",
       "  <thead>\n",
       "    <tr style=\"text-align: right;\">\n",
       "      <th></th>\n",
       "      <th>raw</th>\n",
       "      <th>est_count</th>\n",
       "      <th>tpm</th>\n",
       "      <th>transcript_length</th>\n",
       "    </tr>\n",
       "    <tr>\n",
       "      <th>transcript_name</th>\n",
       "      <th></th>\n",
       "      <th></th>\n",
       "      <th></th>\n",
       "      <th></th>\n",
       "    </tr>\n",
       "  </thead>\n",
       "  <tbody>\n",
       "    <tr>\n",
       "      <th>YHR174W_mRNA</th>\n",
       "      <td>0.592993</td>\n",
       "      <td>50522.986792</td>\n",
       "      <td>592992.802728</td>\n",
       "      <td>1314</td>\n",
       "    </tr>\n",
       "    <tr>\n",
       "      <th>YGR192C_mRNA</th>\n",
       "      <td>0.021006</td>\n",
       "      <td>1789.706485</td>\n",
       "      <td>21005.944665</td>\n",
       "      <td>999</td>\n",
       "    </tr>\n",
       "    <tr>\n",
       "      <th>YLR110C_mRNA</th>\n",
       "      <td>0.009671</td>\n",
       "      <td>824.000000</td>\n",
       "      <td>9671.361502</td>\n",
       "      <td>402</td>\n",
       "    </tr>\n",
       "    <tr>\n",
       "      <th>YOL086C_mRNA</th>\n",
       "      <td>0.008369</td>\n",
       "      <td>713.000000</td>\n",
       "      <td>8368.544601</td>\n",
       "      <td>1047</td>\n",
       "    </tr>\n",
       "    <tr>\n",
       "      <th>YKL060C_mRNA</th>\n",
       "      <td>0.006573</td>\n",
       "      <td>560.000000</td>\n",
       "      <td>6572.769953</td>\n",
       "      <td>1080</td>\n",
       "    </tr>\n",
       "    <tr>\n",
       "      <th>...</th>\n",
       "      <td>...</td>\n",
       "      <td>...</td>\n",
       "      <td>...</td>\n",
       "      <td>...</td>\n",
       "    </tr>\n",
       "    <tr>\n",
       "      <th>YPR200C_mRNA</th>\n",
       "      <td>0.000000</td>\n",
       "      <td>0.000000</td>\n",
       "      <td>0.000000</td>\n",
       "      <td>393</td>\n",
       "    </tr>\n",
       "    <tr>\n",
       "      <th>YPR201W_mRNA</th>\n",
       "      <td>0.000000</td>\n",
       "      <td>0.000000</td>\n",
       "      <td>0.000000</td>\n",
       "      <td>1215</td>\n",
       "    </tr>\n",
       "    <tr>\n",
       "      <th>YPR202W_mRNA</th>\n",
       "      <td>0.000000</td>\n",
       "      <td>0.000000</td>\n",
       "      <td>0.000000</td>\n",
       "      <td>717</td>\n",
       "    </tr>\n",
       "    <tr>\n",
       "      <th>YPR203W_mRNA</th>\n",
       "      <td>0.000000</td>\n",
       "      <td>0.000000</td>\n",
       "      <td>0.000000</td>\n",
       "      <td>309</td>\n",
       "    </tr>\n",
       "    <tr>\n",
       "      <th>YPR204C-A_mRNA</th>\n",
       "      <td>0.000000</td>\n",
       "      <td>0.000000</td>\n",
       "      <td>0.000000</td>\n",
       "      <td>483</td>\n",
       "    </tr>\n",
       "  </tbody>\n",
       "</table>\n",
       "<p>6612 rows × 4 columns</p>\n",
       "</div>"
      ],
      "text/plain": [
       "                      raw     est_count            tpm  transcript_length\n",
       "transcript_name                                                          \n",
       "YHR174W_mRNA     0.592993  50522.986792  592992.802728               1314\n",
       "YGR192C_mRNA     0.021006   1789.706485   21005.944665                999\n",
       "YLR110C_mRNA     0.009671    824.000000    9671.361502                402\n",
       "YOL086C_mRNA     0.008369    713.000000    8368.544601               1047\n",
       "YKL060C_mRNA     0.006573    560.000000    6572.769953               1080\n",
       "...                   ...           ...            ...                ...\n",
       "YPR200C_mRNA     0.000000      0.000000       0.000000                393\n",
       "YPR201W_mRNA     0.000000      0.000000       0.000000               1215\n",
       "YPR202W_mRNA     0.000000      0.000000       0.000000                717\n",
       "YPR203W_mRNA     0.000000      0.000000       0.000000                309\n",
       "YPR204C-A_mRNA   0.000000      0.000000       0.000000                483\n",
       "\n",
       "[6612 rows x 4 columns]"
      ]
     },
     "metadata": {},
     "output_type": "display_data"
    }
   ],
   "source": [
    "nc = NanoCount (alignment_file=\"./data/aligned_reads_sorted.bam\", extra_tx_info=True)\n",
    "display(nc.count_df)"
   ]
  },
  {
   "cell_type": "markdown",
   "metadata": {},
   "source": [
    "#### Relaxing the equivalence threshold"
   ]
  },
  {
   "cell_type": "markdown",
   "metadata": {},
   "source": [
    "The default value is 0.9 (90% of the alignment score of the primary alignment) but this value could be lowered to allow more secondary alignments to be included in the uncertainty calculation.\n",
    "Lowering the value bellow 0.75 might not be relevant and will considerably increase the computation time."
   ]
  },
  {
   "cell_type": "code",
   "execution_count": 10,
   "metadata": {
    "ExecuteTime": {
     "end_time": "2021-08-17T09:06:13.125072Z",
     "start_time": "2021-08-17T09:06:07.637310Z"
    },
    "scrolled": false
   },
   "outputs": [
    {
     "name": "stderr",
     "output_type": "stream",
     "text": [
      "\u001b[01;34m## Checking options and input files ##\u001b[0m\n",
      "\u001b[01;34m## Initialise Nanocount ##\u001b[0m\n",
      "\u001b[32m\tParse Bam file and filter low quality alignments\u001b[0m\n",
      "\u001b[32m\tSummary of alignments parsed in input bam file\u001b[0m\n",
      "\u001b[32m\t\tValid alignments: 150,779\u001b[0m\n",
      "\u001b[32m\t\tDiscarded unmapped alignments: 9,545\u001b[0m\n",
      "\u001b[32m\t\tDiscarded alignment with invalid 3 prime end: 6,205\u001b[0m\n",
      "\u001b[32m\t\tDiscarded negative strand alignments: 4,515\u001b[0m\n",
      "\u001b[32m\tSummary of reads filtered\u001b[0m\n",
      "\u001b[32m\t\tReads with valid best alignment: 85,200\u001b[0m\n",
      "\u001b[32m\t\tValid secondary alignments: 49,096\u001b[0m\n",
      "\u001b[32m\t\tInvalid secondary alignments: 13,698\u001b[0m\n",
      "\u001b[32m\t\tReads with low query fraction aligned: 1,544\u001b[0m\n",
      "\u001b[32m\t\tReads too short: 817\u001b[0m\n",
      "\u001b[32m\tGenerate initial read/transcript compatibility index\u001b[0m\n",
      "\u001b[01;34m## Start EM abundance estimate ##\u001b[0m\n",
      "\tProgress: 17.0 rounds [00:02, 6.41 rounds/s]\n",
      "\u001b[32m\tExit EM loop after 17 rounds\u001b[0m\n",
      "\u001b[32m\tConvergence value: 0.004896640500345573\u001b[0m\n",
      "\u001b[01;34m## Summarize data ##\u001b[0m\n",
      "\u001b[32m\tConvert results to dataframe\u001b[0m\n",
      "\u001b[32m\tCompute estimated counts and TPM\u001b[0m\n",
      "\u001b[32m\tWrite file\u001b[0m\n"
     ]
    },
    {
     "name": "stdout",
     "output_type": "stream",
     "text": [
      "transcript_name raw                  est_count          tpm                transcript_length \n",
      "YHR174W_mRNA    0.5827903493290055   49653.73776283127  582790.3493290056  1314              \n",
      "YGR192C_mRNA    0.015110182037764753 1287.387509617557  15110.182037764753 999               \n",
      "YGR254W_mRNA    0.011282420623667128 961.2622371364394  11282.420623667127 1314              \n",
      "YLR110C_mRNA    0.009671361502347452 824.0000000000028  9671.361502347452  402               \n",
      "YJR009C_mRNA    0.009496349770534818 809.0890004495665  9496.349770534818  999               \n",
      "YOL086C_mRNA    0.008368544600938995 713.0000000000024  8368.544600938994  1047              \n",
      "YKL060C_mRNA    0.006572769953051665 560.0000000000019  6572.769953051666  1080              \n",
      "YPR080W_mRNA    0.005299295774647906 451.50000000000153 5299.295774647906  1377              \n",
      "YBR118W_mRNA    0.005299295774647906 451.50000000000153 5299.295774647906  1377              \n",
      "\n"
     ]
    }
   ],
   "source": [
    "NanoCount (alignment_file=\"./data/aligned_reads_sorted.bam\", count_file=\"./output/tx_counts.tsv\", equivalent_threshold=0.8, extra_tx_info=True)\n",
    "head(\"./output/tx_counts.tsv\")"
   ]
  }
 ],
 "metadata": {
  "celltoolbar": "Initialization Cell",
  "kernelspec": {
   "display_name": "Python [conda env:nanocount]",
   "language": "python",
   "name": "conda-env-nanocount-py"
  },
  "language_info": {
   "codemirror_mode": {
    "name": "ipython",
    "version": 3
   },
   "file_extension": ".py",
   "mimetype": "text/x-python",
   "name": "python",
   "nbconvert_exporter": "python",
   "pygments_lexer": "ipython3",
   "version": "3.8.10"
  }
 },
 "nbformat": 4,
 "nbformat_minor": 4
}
