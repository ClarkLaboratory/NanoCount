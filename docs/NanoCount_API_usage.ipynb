{
 "cells": [
  {
   "cell_type": "markdown",
   "metadata": {
    "ExecuteTime": {
     "end_time": "2020-05-04T11:02:46.918334Z",
     "start_time": "2020-05-04T11:02:46.911996Z"
    }
   },
   "source": [
    "# NanoCount python API"
   ]
  },
  {
   "cell_type": "markdown",
   "metadata": {
    "ExecuteTime": {
     "end_time": "2020-05-04T12:47:10.312567Z",
     "start_time": "2020-05-04T12:47:10.033440Z"
    }
   },
   "source": [
    "### Activate virtual environment"
   ]
  },
  {
   "cell_type": "code",
   "execution_count": 1,
   "metadata": {
    "ExecuteTime": {
     "end_time": "2020-05-04T16:54:57.331699Z",
     "start_time": "2020-05-04T16:54:56.933595Z"
    }
   },
   "outputs": [],
   "source": [
    "from NanoCount.NanoCount import NanoCount\n",
    "from NanoCount.common import jhelp, head"
   ]
  },
  {
   "cell_type": "markdown",
   "metadata": {},
   "source": [
    "### Running NanoCount "
   ]
  },
  {
   "cell_type": "markdown",
   "metadata": {},
   "source": [
    "#### Basic command"
   ]
  },
  {
   "cell_type": "code",
   "execution_count": 6,
   "metadata": {
    "ExecuteTime": {
     "end_time": "2020-05-04T16:45:05.220750Z",
     "start_time": "2020-05-04T16:45:00.824920Z"
    },
    "scrolled": false
   },
   "outputs": [
    {
     "name": "stderr",
     "output_type": "stream",
     "text": [
      "\u001b[01;34m## Checking options and input files ##\u001b[0m\n",
      "\u001b[01;34m## Initialise Nanocount ##\u001b[0m\n",
      "\u001b[32m\tParse Bam file and filter low quality hits\u001b[0m\n",
      "\u001b[32m\tGenerate initial read/transcript compatibility index\u001b[0m\n",
      "\u001b[01;34m## Start EM abundance estimate ##\u001b[0m\n",
      "\tProgress: 3.00 rounds [00:00, 4.59 rounds/s]\n",
      "\u001b[32m\tExit EM loop after 3 rounds\u001b[0m\n",
      "\u001b[32m\tConvergence value: 0.0019235550878568812\u001b[0m\n",
      "\u001b[01;34m## Summarize data ##\u001b[0m\n",
      "\u001b[32m\tConvert results to dataframe\u001b[0m\n",
      "\u001b[32m\tCompute estimated counts and TPM\u001b[0m\n",
      "\u001b[32m\tWrite file\u001b[0m\n"
     ]
    },
    {
     "name": "stdout",
     "output_type": "stream",
     "text": [
      "transcript_name raw                   est_count          tpm                \n",
      "YHR174W_mRNA    0.5953263925577137    52155.35459919618  595326.3925577137  \n",
      "YGR192C_mRNA    0.02051266206449663   1797.073298146421  20512.66206449663  \n",
      "YLR110C_mRNA    0.009451191671993415  827.9999999999991  9451.191671993416  \n",
      "YOL086C_mRNA    0.00827549995434206   724.9999999999992  8275.49995434206   \n",
      "YKL060C_mRNA    0.00659757099808236   577.9999999999994  6597.57099808236   \n",
      "YPR080W_mRNA    0.005222125833257232  457.49999999999955 5222.1258332572315 \n",
      "YBR118W_mRNA    0.005222125833257232  457.49999999999955 5222.1258332572315 \n",
      "YLR044C_mRNA    0.0050680303168660346 443.99999999999955 5068.030316866035  \n",
      "YKL152C_mRNA    0.004166286183910141  364.99999999999966 4166.2861839101415 \n",
      "\n"
     ]
    }
   ],
   "source": [
    "NanoCount (alignment_file=\"./data/aligned_reads.bam\", count_file=\"./output/tx_counts.tsv\")\n",
    "head(\"./output/tx_counts.tsv\")"
   ]
  },
  {
   "cell_type": "markdown",
   "metadata": {},
   "source": [
    "#### Basic command without file writing and Dataframe output"
   ]
  },
  {
   "cell_type": "markdown",
   "metadata": {},
   "source": [
    "In interactive mode it is also possible not to write the results out but instead to access the data directly as a pandas DataFrame"
   ]
  },
  {
   "cell_type": "code",
   "execution_count": 7,
   "metadata": {
    "ExecuteTime": {
     "end_time": "2020-05-04T16:45:11.419387Z",
     "start_time": "2020-05-04T16:45:07.121416Z"
    },
    "scrolled": false
   },
   "outputs": [
    {
     "name": "stderr",
     "output_type": "stream",
     "text": [
      "\u001b[01;34m## Checking options and input files ##\u001b[0m\n",
      "\u001b[01;34m## Initialise Nanocount ##\u001b[0m\n",
      "\u001b[32m\tParse Bam file and filter low quality hits\u001b[0m\n",
      "\u001b[32m\tGenerate initial read/transcript compatibility index\u001b[0m\n",
      "\u001b[01;34m## Start EM abundance estimate ##\u001b[0m\n",
      "\tProgress: 3.00 rounds [00:00, 4.68 rounds/s]\n",
      "\u001b[32m\tExit EM loop after 3 rounds\u001b[0m\n",
      "\u001b[32m\tConvergence value: 0.0019235550878568812\u001b[0m\n",
      "\u001b[01;34m## Summarize data ##\u001b[0m\n",
      "\u001b[32m\tConvert results to dataframe\u001b[0m\n",
      "\u001b[32m\tCompute estimated counts and TPM\u001b[0m\n"
     ]
    },
    {
     "data": {
      "text/html": [
       "<div>\n",
       "<style scoped>\n",
       "    .dataframe tbody tr th:only-of-type {\n",
       "        vertical-align: middle;\n",
       "    }\n",
       "\n",
       "    .dataframe tbody tr th {\n",
       "        vertical-align: top;\n",
       "    }\n",
       "\n",
       "    .dataframe thead th {\n",
       "        text-align: right;\n",
       "    }\n",
       "</style>\n",
       "<table border=\"1\" class=\"dataframe\">\n",
       "  <thead>\n",
       "    <tr style=\"text-align: right;\">\n",
       "      <th></th>\n",
       "      <th>raw</th>\n",
       "      <th>est_count</th>\n",
       "      <th>tpm</th>\n",
       "    </tr>\n",
       "    <tr>\n",
       "      <th>transcript_name</th>\n",
       "      <th></th>\n",
       "      <th></th>\n",
       "      <th></th>\n",
       "    </tr>\n",
       "  </thead>\n",
       "  <tbody>\n",
       "    <tr>\n",
       "      <th>YHR174W_mRNA</th>\n",
       "      <td>5.953264e-01</td>\n",
       "      <td>52155.354599</td>\n",
       "      <td>595326.392558</td>\n",
       "    </tr>\n",
       "    <tr>\n",
       "      <th>YGR192C_mRNA</th>\n",
       "      <td>2.051266e-02</td>\n",
       "      <td>1797.073298</td>\n",
       "      <td>20512.662064</td>\n",
       "    </tr>\n",
       "    <tr>\n",
       "      <th>YLR110C_mRNA</th>\n",
       "      <td>9.451192e-03</td>\n",
       "      <td>828.000000</td>\n",
       "      <td>9451.191672</td>\n",
       "    </tr>\n",
       "    <tr>\n",
       "      <th>YOL086C_mRNA</th>\n",
       "      <td>8.275500e-03</td>\n",
       "      <td>725.000000</td>\n",
       "      <td>8275.499954</td>\n",
       "    </tr>\n",
       "    <tr>\n",
       "      <th>YKL060C_mRNA</th>\n",
       "      <td>6.597571e-03</td>\n",
       "      <td>578.000000</td>\n",
       "      <td>6597.570998</td>\n",
       "    </tr>\n",
       "    <tr>\n",
       "      <th>...</th>\n",
       "      <td>...</td>\n",
       "      <td>...</td>\n",
       "      <td>...</td>\n",
       "    </tr>\n",
       "    <tr>\n",
       "      <th>YHR218W_mRNA</th>\n",
       "      <td>5.474187e-08</td>\n",
       "      <td>0.004796</td>\n",
       "      <td>0.054742</td>\n",
       "    </tr>\n",
       "    <tr>\n",
       "      <th>YBL111C_mRNA</th>\n",
       "      <td>5.474187e-08</td>\n",
       "      <td>0.004796</td>\n",
       "      <td>0.054742</td>\n",
       "    </tr>\n",
       "    <tr>\n",
       "      <th>YOR248W_mRNA</th>\n",
       "      <td>3.727178e-08</td>\n",
       "      <td>0.003265</td>\n",
       "      <td>0.037272</td>\n",
       "    </tr>\n",
       "    <tr>\n",
       "      <th>YOR309C_mRNA</th>\n",
       "      <td>3.377066e-08</td>\n",
       "      <td>0.002959</td>\n",
       "      <td>0.033771</td>\n",
       "    </tr>\n",
       "    <tr>\n",
       "      <th>YLL067C_mRNA</th>\n",
       "      <td>8.198191e-09</td>\n",
       "      <td>0.000718</td>\n",
       "      <td>0.008198</td>\n",
       "    </tr>\n",
       "  </tbody>\n",
       "</table>\n",
       "<p>3138 rows × 3 columns</p>\n",
       "</div>"
      ],
      "text/plain": [
       "                          raw     est_count            tpm\n",
       "transcript_name                                           \n",
       "YHR174W_mRNA     5.953264e-01  52155.354599  595326.392558\n",
       "YGR192C_mRNA     2.051266e-02   1797.073298   20512.662064\n",
       "YLR110C_mRNA     9.451192e-03    828.000000    9451.191672\n",
       "YOL086C_mRNA     8.275500e-03    725.000000    8275.499954\n",
       "YKL060C_mRNA     6.597571e-03    578.000000    6597.570998\n",
       "...                       ...           ...            ...\n",
       "YHR218W_mRNA     5.474187e-08      0.004796       0.054742\n",
       "YBL111C_mRNA     5.474187e-08      0.004796       0.054742\n",
       "YOR248W_mRNA     3.727178e-08      0.003265       0.037272\n",
       "YOR309C_mRNA     3.377066e-08      0.002959       0.033771\n",
       "YLL067C_mRNA     8.198191e-09      0.000718       0.008198\n",
       "\n",
       "[3138 rows x 3 columns]"
      ]
     },
     "metadata": {},
     "output_type": "display_data"
    }
   ],
   "source": [
    "nc = NanoCount (alignment_file=\"./data/aligned_reads.bam\")\n",
    "display(nc.count_df)"
   ]
  },
  {
   "cell_type": "markdown",
   "metadata": {
    "ExecuteTime": {
     "end_time": "2020-05-04T16:45:12.397835Z",
     "start_time": "2020-05-04T16:45:12.393091Z"
    }
   },
   "source": [
    "#### Adding extra transcripts information"
   ]
  },
  {
   "cell_type": "markdown",
   "metadata": {},
   "source": [
    "The `extra_tx_info` option adds a columns with the transcript lengths and also includes all the zero-coverage transcripts in the results   "
   ]
  },
  {
   "cell_type": "code",
   "execution_count": 9,
   "metadata": {
    "ExecuteTime": {
     "end_time": "2020-05-04T16:46:07.716491Z",
     "start_time": "2020-05-04T16:46:03.086486Z"
    }
   },
   "outputs": [
    {
     "name": "stderr",
     "output_type": "stream",
     "text": [
      "\u001b[01;34m## Checking options and input files ##\u001b[0m\n",
      "\u001b[01;34m## Initialise Nanocount ##\u001b[0m\n",
      "\u001b[32m\tParse Bam file and filter low quality hits\u001b[0m\n",
      "\u001b[32m\tGenerate initial read/transcript compatibility index\u001b[0m\n",
      "\u001b[01;34m## Start EM abundance estimate ##\u001b[0m\n",
      "\tProgress: 3.00 rounds [00:00, 4.34 rounds/s]\n",
      "\u001b[32m\tExit EM loop after 3 rounds\u001b[0m\n",
      "\u001b[32m\tConvergence value: 0.0019235550878568812\u001b[0m\n",
      "\u001b[01;34m## Summarize data ##\u001b[0m\n",
      "\u001b[32m\tConvert results to dataframe\u001b[0m\n",
      "\u001b[32m\tCompute estimated counts and TPM\u001b[0m\n"
     ]
    },
    {
     "data": {
      "text/html": [
       "<div>\n",
       "<style scoped>\n",
       "    .dataframe tbody tr th:only-of-type {\n",
       "        vertical-align: middle;\n",
       "    }\n",
       "\n",
       "    .dataframe tbody tr th {\n",
       "        vertical-align: top;\n",
       "    }\n",
       "\n",
       "    .dataframe thead th {\n",
       "        text-align: right;\n",
       "    }\n",
       "</style>\n",
       "<table border=\"1\" class=\"dataframe\">\n",
       "  <thead>\n",
       "    <tr style=\"text-align: right;\">\n",
       "      <th></th>\n",
       "      <th>raw</th>\n",
       "      <th>est_count</th>\n",
       "      <th>tpm</th>\n",
       "      <th>transcript_length</th>\n",
       "    </tr>\n",
       "  </thead>\n",
       "  <tbody>\n",
       "    <tr>\n",
       "      <th>YHR174W_mRNA</th>\n",
       "      <td>0.595326</td>\n",
       "      <td>52155.354599</td>\n",
       "      <td>595326.392558</td>\n",
       "      <td>1314</td>\n",
       "    </tr>\n",
       "    <tr>\n",
       "      <th>YGR192C_mRNA</th>\n",
       "      <td>0.020513</td>\n",
       "      <td>1797.073298</td>\n",
       "      <td>20512.662064</td>\n",
       "      <td>999</td>\n",
       "    </tr>\n",
       "    <tr>\n",
       "      <th>YLR110C_mRNA</th>\n",
       "      <td>0.009451</td>\n",
       "      <td>828.000000</td>\n",
       "      <td>9451.191672</td>\n",
       "      <td>402</td>\n",
       "    </tr>\n",
       "    <tr>\n",
       "      <th>YOL086C_mRNA</th>\n",
       "      <td>0.008275</td>\n",
       "      <td>725.000000</td>\n",
       "      <td>8275.499954</td>\n",
       "      <td>1047</td>\n",
       "    </tr>\n",
       "    <tr>\n",
       "      <th>YKL060C_mRNA</th>\n",
       "      <td>0.006598</td>\n",
       "      <td>578.000000</td>\n",
       "      <td>6597.570998</td>\n",
       "      <td>1080</td>\n",
       "    </tr>\n",
       "    <tr>\n",
       "      <th>...</th>\n",
       "      <td>...</td>\n",
       "      <td>...</td>\n",
       "      <td>...</td>\n",
       "      <td>...</td>\n",
       "    </tr>\n",
       "    <tr>\n",
       "      <th>YPR200C_mRNA</th>\n",
       "      <td>0.000000</td>\n",
       "      <td>0.000000</td>\n",
       "      <td>0.000000</td>\n",
       "      <td>393</td>\n",
       "    </tr>\n",
       "    <tr>\n",
       "      <th>YPR201W_mRNA</th>\n",
       "      <td>0.000000</td>\n",
       "      <td>0.000000</td>\n",
       "      <td>0.000000</td>\n",
       "      <td>1215</td>\n",
       "    </tr>\n",
       "    <tr>\n",
       "      <th>YPR202W_mRNA</th>\n",
       "      <td>0.000000</td>\n",
       "      <td>0.000000</td>\n",
       "      <td>0.000000</td>\n",
       "      <td>717</td>\n",
       "    </tr>\n",
       "    <tr>\n",
       "      <th>YPR203W_mRNA</th>\n",
       "      <td>0.000000</td>\n",
       "      <td>0.000000</td>\n",
       "      <td>0.000000</td>\n",
       "      <td>309</td>\n",
       "    </tr>\n",
       "    <tr>\n",
       "      <th>YPR204C-A_mRNA</th>\n",
       "      <td>0.000000</td>\n",
       "      <td>0.000000</td>\n",
       "      <td>0.000000</td>\n",
       "      <td>483</td>\n",
       "    </tr>\n",
       "  </tbody>\n",
       "</table>\n",
       "<p>6612 rows × 4 columns</p>\n",
       "</div>"
      ],
      "text/plain": [
       "                     raw     est_count            tpm  transcript_length\n",
       "YHR174W_mRNA    0.595326  52155.354599  595326.392558               1314\n",
       "YGR192C_mRNA    0.020513   1797.073298   20512.662064                999\n",
       "YLR110C_mRNA    0.009451    828.000000    9451.191672                402\n",
       "YOL086C_mRNA    0.008275    725.000000    8275.499954               1047\n",
       "YKL060C_mRNA    0.006598    578.000000    6597.570998               1080\n",
       "...                  ...           ...            ...                ...\n",
       "YPR200C_mRNA    0.000000      0.000000       0.000000                393\n",
       "YPR201W_mRNA    0.000000      0.000000       0.000000               1215\n",
       "YPR202W_mRNA    0.000000      0.000000       0.000000                717\n",
       "YPR203W_mRNA    0.000000      0.000000       0.000000                309\n",
       "YPR204C-A_mRNA  0.000000      0.000000       0.000000                483\n",
       "\n",
       "[6612 rows x 4 columns]"
      ]
     },
     "metadata": {},
     "output_type": "display_data"
    }
   ],
   "source": [
    "nc = NanoCount (alignment_file=\"./data/aligned_reads.bam\", extra_tx_info=True)\n",
    "display(nc.count_df)"
   ]
  },
  {
   "cell_type": "markdown",
   "metadata": {},
   "source": [
    "#### Relaxing the equivalence threshold"
   ]
  },
  {
   "cell_type": "markdown",
   "metadata": {},
   "source": [
    "The default value is 0.9 (90% of the alignment score of the primary alignment) but this value could be lowered to allow more secondary alignments to be included in the uncertainty calculation.\n",
    "Lowering the value bellow 0.75 might not be relevant and will considerably increase the computation time."
   ]
  },
  {
   "cell_type": "code",
   "execution_count": 2,
   "metadata": {
    "ExecuteTime": {
     "end_time": "2020-05-04T16:55:08.367985Z",
     "start_time": "2020-05-04T16:55:00.877977Z"
    },
    "scrolled": true
   },
   "outputs": [
    {
     "name": "stderr",
     "output_type": "stream",
     "text": [
      "\u001b[01;34m## Checking options and input files ##\u001b[0m\n",
      "\u001b[01;34m## Initialise Nanocount ##\u001b[0m\n",
      "\u001b[32m\tParse Bam file and filter low quality hits\u001b[0m\n",
      "\u001b[32m\tGenerate initial read/transcript compatibility index\u001b[0m\n",
      "\u001b[01;34m## Start EM abundance estimate ##\u001b[0m\n",
      "\tProgress: 17.0 rounds [00:03, 4.44 rounds/s]\n",
      "\u001b[32m\tExit EM loop after 17 rounds\u001b[0m\n",
      "\u001b[32m\tConvergence value: 0.004988077857734706\u001b[0m\n",
      "\u001b[01;34m## Summarize data ##\u001b[0m\n",
      "\u001b[32m\tConvert results to dataframe\u001b[0m\n",
      "\u001b[32m\tCompute estimated counts and TPM\u001b[0m\n",
      "\u001b[32m\tWrite file\u001b[0m\n"
     ]
    },
    {
     "name": "stdout",
     "output_type": "stream",
     "text": [
      "transcript_name raw                  est_count          tpm                transcript_length \n",
      "YHR174W_mRNA    0.5847481080119605   51228.61224671184  584748.1080119605  1314              \n",
      "YGR192C_mRNA    0.015286737423038144 1339.2404921575258 15286.737423038145 999               \n",
      "YGR254W_mRNA    0.011624369387633806 1018.3877533118225 11624.369387633806 1314              \n",
      "YLR110C_mRNA    0.00945119167199341  827.9999999999986  9451.19167199341   402               \n",
      "YJR009C_mRNA    0.009088112600958011 796.1913687447295  9088.112600958011  999               \n",
      "YOL086C_mRNA    0.008275499954342055 724.9999999999987  8275.499954342056  1047              \n",
      "YKL060C_mRNA    0.006597570998082356 577.9999999999991  6597.570998082356  1080              \n",
      "YBR118W_mRNA    0.005222125833257228 457.49999999999926 5222.125833257228  1377              \n",
      "YPR080W_mRNA    0.005222125833257228 457.49999999999926 5222.125833257228  1377              \n",
      "\n"
     ]
    }
   ],
   "source": [
    "NanoCount (alignment_file=\"./data/aligned_reads.bam\", count_file=\"./output/tx_counts.tsv\", equivalent_threshold=0.8, extra_tx_info=True)\n",
    "head(\"./output/tx_counts.tsv\")"
   ]
  },
  {
   "cell_type": "markdown",
   "metadata": {
    "ExecuteTime": {
     "end_time": "2020-05-04T12:47:52.779133Z",
     "start_time": "2020-05-04T12:47:52.530096Z"
    }
   },
   "source": [
    "### NanoCount help"
   ]
  },
  {
   "cell_type": "code",
   "execution_count": 12,
   "metadata": {
    "ExecuteTime": {
     "end_time": "2020-05-04T16:49:34.739350Z",
     "start_time": "2020-05-04T16:49:34.727795Z"
    },
    "scrolled": false
   },
   "outputs": [
    {
     "data": {
      "text/markdown": [
       "**NanoCount** (alignment_file, count_file, min_read_length, min_query_fraction_aligned, equivalent_threshold, scoring_value, convergence_target, max_em_rounds, extra_tx_info, verbose, quiet)\n",
       "\n",
       "Estimate abundance of transcripts using an EM\n",
       "\n",
       "---\n",
       "\n",
       "* **alignment_file** (required) [str]\n",
       "\n",
       "BAM or SAM file containing aligned ONT dRNA-Seq reads including secondary and supplementary alignment\n",
       "\n",
       "* **count_file** (default: \"\") [str]\n",
       "\n",
       "Output file path where to write estimated counts (TSV format)\n",
       "\n",
       "* **min_read_length** (default: 50) [int]\n",
       "\n",
       "Minimal length of the read to be considered valid\n",
       "\n",
       "* **min_query_fraction_aligned** (default: 0.5) [float]\n",
       "\n",
       "Minimal fraction of the primary hit query aligned to consider the read valid\n",
       "\n",
       "* **equivalent_threshold** (default: 0.9) [float]\n",
       "\n",
       "Fraction of the alignment score or the alignment length of secondary hits compared to the primary hit to be considered valid hits\n",
       "\n",
       "* **scoring_value** (default: alignment_score) [str]\n",
       "\n",
       "Value to use for score thresholding of secondary hits either \"alignment_score\" or \"alignment_length\"\n",
       "\n",
       "* **convergence_target** (default: 0.005) [float]\n",
       "\n",
       "Convergence target value of the cummulative difference between abundance values of successive EM round to trigger the end of the EM loop.\n",
       "\n",
       "* **max_em_rounds** (default: 100) [int]\n",
       "\n",
       "Maximum number of EM rounds before triggering stop\n",
       "\n",
       "* **extra_tx_info** (default: False) [bool]\n",
       "\n",
       "Add transcripts length and zero coverage transcripts to the output file (required valid bam/sam header)\n",
       "\n",
       "* **verbose** (default: False) [bool]\n",
       "\n",
       "Increase verbosity for QC and debugging\n",
       "\n",
       "* **quiet** (default: False) [bool]\n",
       "\n",
       "Reduce verbosity\n",
       "\n"
      ],
      "text/plain": [
       "<IPython.core.display.Markdown object>"
      ]
     },
     "metadata": {},
     "output_type": "display_data"
    }
   ],
   "source": [
    "jhelp(NanoCount)"
   ]
  }
 ],
 "metadata": {
  "kernelspec": {
   "display_name": "Python [conda env:NanoCount]",
   "language": "python",
   "name": "conda-env-NanoCount-py"
  },
  "language_info": {
   "codemirror_mode": {
    "name": "ipython",
    "version": 3
   },
   "file_extension": ".py",
   "mimetype": "text/x-python",
   "name": "python",
   "nbconvert_exporter": "python",
   "pygments_lexer": "ipython3",
   "version": "3.6.10"
  }
 },
 "nbformat": 4,
 "nbformat_minor": 4
}
