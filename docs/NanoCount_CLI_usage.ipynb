{
 "cells": [
  {
   "cell_type": "markdown",
   "metadata": {
    "ExecuteTime": {
     "end_time": "2020-05-04T11:02:46.918334Z",
     "start_time": "2020-05-04T11:02:46.911996Z"
    }
   },
   "source": [
    "# NanoCount command line usage"
   ]
  },
  {
   "cell_type": "markdown",
   "metadata": {
    "ExecuteTime": {
     "end_time": "2020-05-04T12:47:10.312567Z",
     "start_time": "2020-05-04T12:47:10.033440Z"
    }
   },
   "source": [
    "### Activate virtual environment"
   ]
  },
  {
   "cell_type": "code",
   "execution_count": 18,
   "metadata": {
    "ExecuteTime": {
     "end_time": "2020-05-04T16:33:35.206447Z",
     "start_time": "2020-05-04T16:33:34.996278Z"
    }
   },
   "outputs": [
    {
     "name": "stdout",
     "output_type": "stream",
     "text": [
      "(NanoCount) "
     ]
    },
    {
     "ename": "",
     "evalue": "1",
     "output_type": "error",
     "traceback": []
    }
   ],
   "source": [
    "conda activate NanoCount"
   ]
  },
  {
   "cell_type": "markdown",
   "metadata": {},
   "source": [
    "### Running NanoCount"
   ]
  },
  {
   "cell_type": "markdown",
   "metadata": {},
   "source": [
    "#### Basic command"
   ]
  },
  {
   "cell_type": "code",
   "execution_count": 26,
   "metadata": {
    "ExecuteTime": {
     "end_time": "2020-05-04T16:43:54.607481Z",
     "start_time": "2020-05-04T16:43:49.838838Z"
    },
    "scrolled": false
   },
   "outputs": [
    {
     "name": "stdout",
     "output_type": "stream",
     "text": [
      "\u001b[01;34m## Checking options and input files ##\u001b[0m\n",
      "\u001b[01;34m## Initialise Nanocount ##\u001b[0m\n",
      "\u001b[32m\tParse Bam file and filter low quality hits\u001b[0m\n",
      "\u001b[32m\tGenerate initial read/transcript compatibility index\u001b[0m\n",
      "\u001b[01;34m## Start EM abundance estimate ##\u001b[0m\n",
      "\tProgress: 3.00 rounds [00:00, 5.57 rounds/s]\n",
      "\u001b[32m\tExit EM loop after 3 rounds\u001b[0m\n",
      "\u001b[32m\tConvergence value: 0.0019235550878568812\u001b[0m\n",
      "\u001b[01;34m## Summarize data ##\u001b[0m\n",
      "\u001b[32m\tConvert results to dataframe\u001b[0m\n",
      "\u001b[32m\tCompute estimated counts and TPM\u001b[0m\n",
      "\u001b[32m\tWrite file\u001b[0m\n",
      "(NanoCount) transcript_name\traw\test_count\ttpm\n",
      "YHR174W_mRNA\t0.5953263925577137\t52155.35459919618\t595326.3925577137\n",
      "YGR192C_mRNA\t0.02051266206449663\t1797.073298146421\t20512.66206449663\n",
      "YLR110C_mRNA\t0.009451191671993415\t827.9999999999991\t9451.191671993416\n",
      "YOL086C_mRNA\t0.00827549995434206\t724.9999999999992\t8275.49995434206\n",
      "YKL060C_mRNA\t0.00659757099808236\t577.9999999999994\t6597.57099808236\n",
      "YPR080W_mRNA\t0.005222125833257232\t457.49999999999955\t5222.1258332572315\n",
      "YBR118W_mRNA\t0.005222125833257232\t457.49999999999955\t5222.1258332572315\n",
      "YLR044C_mRNA\t0.0050680303168660346\t443.99999999999955\t5068.030316866035\n",
      "YKL152C_mRNA\t0.004166286183910141\t364.99999999999966\t4166.2861839101415\n",
      "(NanoCount) "
     ]
    },
    {
     "ename": "",
     "evalue": "1",
     "output_type": "error",
     "traceback": []
    }
   ],
   "source": [
    "NanoCount -i ./data/aligned_reads.bam -o ./output/tx_counts.tsv\n",
    "head ./output/tx_counts.tsv"
   ]
  },
  {
   "cell_type": "markdown",
   "metadata": {},
   "source": [
    "#### Adding extra transcripts information"
   ]
  },
  {
   "cell_type": "markdown",
   "metadata": {},
   "source": [
    "The `extra_tx_info` option adds a columns with the transcript lengths and also includes all the zero-coverage transcripts in the results"
   ]
  },
  {
   "cell_type": "code",
   "execution_count": 25,
   "metadata": {
    "ExecuteTime": {
     "end_time": "2020-05-04T16:43:35.013632Z",
     "start_time": "2020-05-04T16:43:29.830890Z"
    },
    "scrolled": true
   },
   "outputs": [
    {
     "name": "stdout",
     "output_type": "stream",
     "text": [
      "\u001b[01;34m## Checking options and input files ##\u001b[0m\n",
      "\u001b[01;34m## Initialise Nanocount ##\u001b[0m\n",
      "\u001b[32m\tParse Bam file and filter low quality hits\u001b[0m\n",
      "\u001b[32m\tGenerate initial read/transcript compatibility index\u001b[0m\n",
      "\u001b[01;34m## Start EM abundance estimate ##\u001b[0m\n",
      "\tProgress: 3.00 rounds [00:00, 4.31 rounds/s]\n",
      "\u001b[32m\tExit EM loop after 3 rounds\u001b[0m\n",
      "\u001b[32m\tConvergence value: 0.0019235550878568812\u001b[0m\n",
      "\u001b[01;34m## Summarize data ##\u001b[0m\n",
      "\u001b[32m\tConvert results to dataframe\u001b[0m\n",
      "\u001b[32m\tCompute estimated counts and TPM\u001b[0m\n",
      "\u001b[32m\tWrite file\u001b[0m\n",
      "(NanoCount) \traw\test_count\ttpm\ttranscript_length\n",
      "YHR174W_mRNA\t0.5953263925577137\t52155.35459919618\t595326.3925577137\t1314\n",
      "YGR192C_mRNA\t0.02051266206449663\t1797.073298146421\t20512.66206449663\t999\n",
      "YLR110C_mRNA\t0.009451191671993415\t827.9999999999991\t9451.191671993416\t402\n",
      "YOL086C_mRNA\t0.00827549995434206\t724.9999999999992\t8275.49995434206\t1047\n",
      "YKL060C_mRNA\t0.00659757099808236\t577.9999999999994\t6597.57099808236\t1080\n",
      "YBR118W_mRNA\t0.005222125833257232\t457.49999999999955\t5222.1258332572315\t1377\n",
      "YPR080W_mRNA\t0.005222125833257232\t457.49999999999955\t5222.1258332572315\t1377\n",
      "YLR044C_mRNA\t0.0050680303168660346\t443.99999999999955\t5068.030316866035\t1692\n",
      "YKL152C_mRNA\t0.004166286183910141\t364.99999999999966\t4166.2861839101415\t744\n",
      "(NanoCount) "
     ]
    },
    {
     "ename": "",
     "evalue": "1",
     "output_type": "error",
     "traceback": []
    }
   ],
   "source": [
    "NanoCount -i ./data/aligned_reads.bam -o ./output/tx_counts.tsv --extra_tx_info\n",
    "head ./output/tx_counts.tsv"
   ]
  },
  {
   "cell_type": "markdown",
   "metadata": {},
   "source": [
    "#### Relaxing the equivalence threshold"
   ]
  },
  {
   "cell_type": "markdown",
   "metadata": {},
   "source": [
    "The default value is 0.9 (90% of the alignment score of the primary alignment) but this value could be lowered to allow more secondary alignments to be included in the uncertainty calculation.\n",
    "Lowering the value bellow 0.75 might not be relevant and will considerably increase the computation time."
   ]
  },
  {
   "cell_type": "code",
   "execution_count": 27,
   "metadata": {
    "ExecuteTime": {
     "end_time": "2020-05-04T16:44:17.229865Z",
     "start_time": "2020-05-04T16:44:08.997282Z"
    }
   },
   "outputs": [
    {
     "name": "stdout",
     "output_type": "stream",
     "text": [
      "\u001b[01;34m## Checking options and input files ##\u001b[0m\n",
      "\u001b[01;34m## Initialise Nanocount ##\u001b[0m\n",
      "\u001b[32m\tParse Bam file and filter low quality hits\u001b[0m\n",
      "\u001b[32m\tGenerate initial read/transcript compatibility index\u001b[0m\n",
      "\u001b[01;34m## Start EM abundance estimate ##\u001b[0m\n",
      "\tProgress: 17.0 rounds [00:03, 4.28 rounds/s]\n",
      "\u001b[32m\tExit EM loop after 17 rounds\u001b[0m\n",
      "\u001b[32m\tConvergence value: 0.004988077857734706\u001b[0m\n",
      "\u001b[01;34m## Summarize data ##\u001b[0m\n",
      "\u001b[32m\tConvert results to dataframe\u001b[0m\n",
      "\u001b[32m\tCompute estimated counts and TPM\u001b[0m\n",
      "\u001b[32m\tWrite file\u001b[0m\n",
      "(NanoCount) transcript_name\traw\test_count\ttpm\n",
      "YHR174W_mRNA\t0.5847481080119605\t51228.61224671184\t584748.1080119605\n",
      "YGR192C_mRNA\t0.015286737423038144\t1339.2404921575258\t15286.737423038145\n",
      "YGR254W_mRNA\t0.011624369387633806\t1018.3877533118225\t11624.369387633806\n",
      "YLR110C_mRNA\t0.00945119167199341\t827.9999999999986\t9451.19167199341\n",
      "YJR009C_mRNA\t0.009088112600958011\t796.1913687447295\t9088.112600958011\n",
      "YOL086C_mRNA\t0.008275499954342055\t724.9999999999987\t8275.499954342056\n",
      "YKL060C_mRNA\t0.006597570998082356\t577.9999999999991\t6597.570998082356\n",
      "YPR080W_mRNA\t0.005222125833257228\t457.49999999999926\t5222.125833257228\n",
      "YBR118W_mRNA\t0.005222125833257228\t457.49999999999926\t5222.125833257228\n",
      "(NanoCount) "
     ]
    },
    {
     "ename": "",
     "evalue": "1",
     "output_type": "error",
     "traceback": []
    }
   ],
   "source": [
    "NanoCount -i ./data/aligned_reads.bam -o ./output/tx_counts.tsv --equivalent_threshold 0.8\n",
    "head ./output/tx_counts.tsv"
   ]
  },
  {
   "cell_type": "markdown",
   "metadata": {},
   "source": [
    "#### verbose mode"
   ]
  },
  {
   "cell_type": "markdown",
   "metadata": {},
   "source": [
    "Print additional information for QC and debugging"
   ]
  },
  {
   "cell_type": "code",
   "execution_count": 28,
   "metadata": {
    "ExecuteTime": {
     "end_time": "2020-05-04T16:50:36.157151Z",
     "start_time": "2020-05-04T16:50:28.145781Z"
    }
   },
   "outputs": [
    {
     "name": "stdout",
     "output_type": "stream",
     "text": [
      "\u001b[01;34m## Checking options and input files ##\u001b[0m\n",
      "\u001b[37m\t[DEBUG]: Options summary\u001b[0m\n",
      "\u001b[37m\t[DEBUG]: \tPackage name: NanoCount\u001b[0m\n",
      "\u001b[37m\t[DEBUG]: \tPackage version: 0.2.0\u001b[0m\n",
      "\u001b[37m\t[DEBUG]: \tTimestamp: 2020-05-04 17:50:28.732014\u001b[0m\n",
      "\u001b[37m\t[DEBUG]: \tquiet: False\u001b[0m\n",
      "\u001b[37m\t[DEBUG]: \tverbose: True\u001b[0m\n",
      "\u001b[37m\t[DEBUG]: \textra_tx_info: False\u001b[0m\n",
      "\u001b[37m\t[DEBUG]: \tmax_em_rounds: 100\u001b[0m\n",
      "\u001b[37m\t[DEBUG]: \tconvergence_target: 0.005\u001b[0m\n",
      "\u001b[37m\t[DEBUG]: \tscoring_value: alignment_score\u001b[0m\n",
      "\u001b[37m\t[DEBUG]: \tequivalent_threshold: 0.8\u001b[0m\n",
      "\u001b[37m\t[DEBUG]: \tmin_query_fraction_aligned: 0.5\u001b[0m\n",
      "\u001b[37m\t[DEBUG]: \tmin_read_length: 50\u001b[0m\n",
      "\u001b[37m\t[DEBUG]: \tcount_file: ./output/tx_counts.tsv\u001b[0m\n",
      "\u001b[37m\t[DEBUG]: \talignment_file: ./data/aligned_reads.bam\u001b[0m\n",
      "\u001b[01;34m## Initialise Nanocount ##\u001b[0m\n",
      "\u001b[32m\tParse Bam file and filter low quality hits\u001b[0m\n",
      "\u001b[37m\t[DEBUG]: Summary of reads parsed in input bam file\u001b[0m\n",
      "\u001b[37m\t[DEBUG]: \tMapped hits: 156,984\u001b[0m\n",
      "\u001b[37m\t[DEBUG]: \tValid best hit: 87,608\u001b[0m\n",
      "\u001b[37m\t[DEBUG]: \tValid secondary hit: 50,657\u001b[0m\n",
      "\u001b[37m\t[DEBUG]: \tInvalid secondary hit: 15,746\u001b[0m\n",
      "\u001b[37m\t[DEBUG]: \tUnmapped hits: 9,545\u001b[0m\n",
      "\u001b[37m\t[DEBUG]: \tWrong strand hits: 4,515\u001b[0m\n",
      "\u001b[37m\t[DEBUG]: \tBest hit with low query fraction aligned: 1,628\u001b[0m\n",
      "\u001b[32m\tGenerate initial read/transcript compatibility index\u001b[0m\n",
      "\u001b[01;34m## Start EM abundance estimate ##\u001b[0m\n",
      "\u001b[37m\t[DEBUG]: EM Round: 1 / Convergence value: 1\u001b[0m\n",
      "\u001b[37m\t[DEBUG]: EM Round: 2 / Convergence value: 0.0907318210858972\u001b[0m\n",
      "\u001b[37m\t[DEBUG]: EM Round: 3 / Convergence value: 0.07354276996650695\u001b[0m\n",
      "\u001b[37m\t[DEBUG]: EM Round: 4 / Convergence value: 0.06026990671840486\u001b[0m\n",
      "\u001b[37m\t[DEBUG]: EM Round: 5 / Convergence value: 0.04950001350157995\u001b[0m\n",
      "\u001b[37m\t[DEBUG]: EM Round: 6 / Convergence value: 0.04069150240883942\u001b[0m\n",
      "\u001b[37m\t[DEBUG]: EM Round: 7 / Convergence value: 0.03347231888298066\u001b[0m\n",
      "\u001b[37m\t[DEBUG]: EM Round: 8 / Convergence value: 0.027551111299293083\u001b[0m\n",
      "\u001b[37m\t[DEBUG]: EM Round: 9 / Convergence value: 0.022692444013615403\u001b[0m\n",
      "\u001b[37m\t[DEBUG]: EM Round: 10 / Convergence value: 0.01870436600002255\u001b[0m\n",
      "\u001b[37m\t[DEBUG]: EM Round: 11 / Convergence value: 0.015429950966955779\u001b[0m\n",
      "\u001b[37m\t[DEBUG]: EM Round: 12 / Convergence value: 0.012740756287666424\u001b[0m\n",
      "\u001b[37m\t[DEBUG]: EM Round: 13 / Convergence value: 0.010531631581908925\u001b[0m\n",
      "\u001b[37m\t[DEBUG]: EM Round: 14 / Convergence value: 0.008716356976576946\u001b[0m\n",
      "\u001b[37m\t[DEBUG]: EM Round: 15 / Convergence value: 0.007224220701882046\u001b[0m\n",
      "\u001b[37m\t[DEBUG]: EM Round: 16 / Convergence value: 0.005997296467165983\u001b[0m\n",
      "\u001b[37m\t[DEBUG]: EM Round: 17 / Convergence value: 0.004988077857734706\u001b[0m\n",
      "\u001b[32m\tExit EM loop after 17 rounds\u001b[0m\n",
      "\u001b[32m\tConvergence value: 0.004988077857734706\u001b[0m\n",
      "\u001b[01;34m## Summarize data ##\u001b[0m\n",
      "\u001b[32m\tConvert results to dataframe\u001b[0m\n",
      "\u001b[32m\tCompute estimated counts and TPM\u001b[0m\n",
      "\u001b[32m\tWrite file\u001b[0m\n",
      "(NanoCount) "
     ]
    },
    {
     "ename": "",
     "evalue": "1",
     "output_type": "error",
     "traceback": []
    }
   ],
   "source": [
    "NanoCount -i ./data/aligned_reads.bam -o ./output/tx_counts.tsv --equivalent_threshold 0.8  --verbose"
   ]
  },
  {
   "cell_type": "markdown",
   "metadata": {
    "ExecuteTime": {
     "end_time": "2020-05-04T12:47:52.779133Z",
     "start_time": "2020-05-04T12:47:52.530096Z"
    }
   },
   "source": [
    "### NanoCount help"
   ]
  },
  {
   "cell_type": "code",
   "execution_count": 29,
   "metadata": {
    "ExecuteTime": {
     "end_time": "2020-05-04T16:50:40.431065Z",
     "start_time": "2020-05-04T16:50:39.650704Z"
    },
    "scrolled": false
   },
   "outputs": [
    {
     "name": "stdout",
     "output_type": "stream",
     "text": [
      "usage: NanoCount [-h] [--version] -i ALIGNMENT_FILE [-o COUNT_FILE]\n",
      "                 [-l MIN_READ_LENGTH] [-f MIN_QUERY_FRACTION_ALIGNED]\n",
      "                 [-t EQUIVALENT_THRESHOLD] [-s SCORING_VALUE]\n",
      "                 [-c CONVERGENCE_TARGET] [-e MAX_EM_ROUNDS] [-x] [-v] [-q]\n",
      "\n",
      "EM based transcript abundance from nanopore reads mapped to a transcriptome\n",
      "with minimap2\n",
      "\n",
      "optional arguments:\n",
      "  -h, --help            show this help message and exit\n",
      "  --version             show program's version number and exit\n",
      "\n",
      "Input/Output options:\n",
      "  -i ALIGNMENT_FILE, --alignment_file ALIGNMENT_FILE\n",
      "                        BAM or SAM file containing aligned ONT dRNA-Seq reads\n",
      "                        including secondary and supplementary alignment\n",
      "                        (required) [str]\n",
      "  -o COUNT_FILE, --count_file COUNT_FILE\n",
      "                        Output file path where to write estimated counts (TSV\n",
      "                        format) (default: None) [str]\n",
      "\n",
      "Misc options:\n",
      "  -l MIN_READ_LENGTH, --min_read_length MIN_READ_LENGTH\n",
      "                        Minimal length of the read to be considered valid\n",
      "                        (default: 50) [int]\n",
      "  -f MIN_QUERY_FRACTION_ALIGNED, --min_query_fraction_aligned MIN_QUERY_FRACTION_ALIGNED\n",
      "                        Minimal fraction of the primary hit query aligned to\n",
      "                        consider the read valid (default: 0.5) [float]\n",
      "  -t EQUIVALENT_THRESHOLD, --equivalent_threshold EQUIVALENT_THRESHOLD\n",
      "                        Fraction of the alignment score or the alignment\n",
      "                        length of secondary hits compared to the primary hit\n",
      "                        to be considered valid hits (default: 0.9) [float]\n",
      "  -s SCORING_VALUE, --scoring_value SCORING_VALUE\n",
      "                        Value to use for score thresholding of secondary hits\n",
      "                        either \"alignment_score\" or \"alignment_length\"\n",
      "                        (default: alignment_score) [str]\n",
      "  -c CONVERGENCE_TARGET, --convergence_target CONVERGENCE_TARGET\n",
      "                        Convergence target value of the cummulative difference\n",
      "                        between abundance values of successive EM round to\n",
      "                        trigger the end of the EM loop. (default: 0.005)\n",
      "                        [float]\n",
      "  -e MAX_EM_ROUNDS, --max_em_rounds MAX_EM_ROUNDS\n",
      "                        Maximum number of EM rounds before triggering stop\n",
      "                        (default: 100) [int]\n",
      "  -x, --extra_tx_info   Add transcripts length and zero coverage transcripts\n",
      "                        to the output file (required valid bam/sam header)\n",
      "                        (default: False) [boolean]\n",
      "\n",
      "Verbosity options:\n",
      "  -v, --verbose         Increase verbosity for QC and debugging (default:\n",
      "                        False) [boolean]\n",
      "  -q, --quiet           Reduce verbosity (default: False) [boolean]\n",
      "(NanoCount) "
     ]
    },
    {
     "ename": "",
     "evalue": "1",
     "output_type": "error",
     "traceback": []
    }
   ],
   "source": [
    "NanoCount --help"
   ]
  }
 ],
 "metadata": {
  "kernelspec": {
   "display_name": "Bash",
   "language": "bash",
   "name": "bash"
  },
  "language_info": {
   "codemirror_mode": "shell",
   "file_extension": ".sh",
   "mimetype": "text/x-sh",
   "name": "bash"
  }
 },
 "nbformat": 4,
 "nbformat_minor": 4
}
