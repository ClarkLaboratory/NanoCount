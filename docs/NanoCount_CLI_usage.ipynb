{
 "cells": [
  {
   "cell_type": "markdown",
   "metadata": {
    "ExecuteTime": {
     "end_time": "2020-05-04T11:02:46.918334Z",
     "start_time": "2020-05-04T11:02:46.911996Z"
    }
   },
   "source": [
    "# NanoCount command line usage"
   ]
  },
  {
   "cell_type": "markdown",
   "metadata": {
    "ExecuteTime": {
     "end_time": "2020-05-04T12:47:10.312567Z",
     "start_time": "2020-05-04T12:47:10.033440Z"
    }
   },
   "source": [
    "### Activate virtual environment"
   ]
  },
  {
   "cell_type": "code",
   "execution_count": 1,
   "metadata": {
    "ExecuteTime": {
     "end_time": "2021-08-17T09:04:00.423430Z",
     "start_time": "2021-08-17T09:04:00.197891Z"
    }
   },
   "outputs": [
    {
     "name": "stdout",
     "output_type": "stream",
     "text": [
      "(nanocount) "
     ]
    },
    {
     "ename": "",
     "evalue": "1",
     "output_type": "error",
     "traceback": []
    }
   ],
   "source": [
    "conda activate nanocount"
   ]
  },
  {
   "cell_type": "markdown",
   "metadata": {},
   "source": [
    "### Running NanoCount"
   ]
  },
  {
   "cell_type": "code",
   "execution_count": 2,
   "metadata": {
    "ExecuteTime": {
     "end_time": "2021-08-17T09:04:11.322711Z",
     "start_time": "2021-08-17T09:04:02.867440Z"
    },
    "scrolled": false
   },
   "outputs": [
    {
     "name": "stdout",
     "output_type": "stream",
     "text": [
      "usage: NanoCount [-h] [--version] -i ALIGNMENT_FILE [-o COUNT_FILE]\n",
      "                 [-b FILTER_BAM_OUT] [-l MIN_READ_LENGTH]\n",
      "                 [-f MIN_QUERY_FRACTION_ALIGNED] [-t EQUIVALENT_THRESHOLD]\n",
      "                 [-s SCORING_VALUE] [-c CONVERGENCE_TARGET] [-e MAX_EM_ROUNDS]\n",
      "                 [-x] [-p PRIMARY_SCORE] [-a] [-d MAX_DIST_3_PRIME]\n",
      "                 [-u MAX_DIST_5_PRIME] [-v] [-q]\n",
      "\n",
      "NanoCount estimates transcripts abundance from Oxford Nanopore *direct-RNA\n",
      "sequencing* datasets, using an expectation-maximization approach like RSEM,\n",
      "Kallisto, salmon, etc to handle the uncertainty of multi-mapping reads\n",
      "\n",
      "optional arguments:\n",
      "  -h, --help            show this help message and exit\n",
      "  --version             show program's version number and exit\n",
      "\n",
      "Input/Output options:\n",
      "  -i ALIGNMENT_FILE, --alignment_file ALIGNMENT_FILE\n",
      "                        BAM or SAM file containing aligned ONT dRNA-Seq reads\n",
      "                        including secondary and supplementary alignment\n",
      "                        (required) [str]\n",
      "  -o COUNT_FILE, --count_file COUNT_FILE\n",
      "                        Output file path where to write estimated counts (TSV\n",
      "                        format) (default: None) [str]\n",
      "  -b FILTER_BAM_OUT, --filter_bam_out FILTER_BAM_OUT\n",
      "                        Optional output file path where to write filtered\n",
      "                        reads selected by NanoCount to perform quantification\n",
      "                        estimation (BAM format) (default: None) [str]\n",
      "\n",
      "Misc options:\n",
      "  -l MIN_READ_LENGTH, --min_read_length MIN_READ_LENGTH\n",
      "                        Minimal length of the read to be considered valid\n",
      "                        (default: 50) [int]\n",
      "  -f MIN_QUERY_FRACTION_ALIGNED, --min_query_fraction_aligned MIN_QUERY_FRACTION_ALIGNED\n",
      "                        Minimal fraction of the primary alignment query\n",
      "                        aligned to consider the read valid (default: 0.5)\n",
      "                        [float]\n",
      "  -t EQUIVALENT_THRESHOLD, --equivalent_threshold EQUIVALENT_THRESHOLD\n",
      "                        Fraction of the alignment score or the alignment\n",
      "                        length of secondary alignments compared to the primary\n",
      "                        alignment to be considered valid alignments (default:\n",
      "                        0.95) [float]\n",
      "  -s SCORING_VALUE, --scoring_value SCORING_VALUE\n",
      "                        Value to use for score thresholding of secondary\n",
      "                        alignments either \"alignment_score\" or\n",
      "                        \"alignment_length\" (default: alignment_score) [str]\n",
      "  -c CONVERGENCE_TARGET, --convergence_target CONVERGENCE_TARGET\n",
      "                        Convergence target value of the cummulative difference\n",
      "                        between abundance values of successive EM round to\n",
      "                        trigger the end of the EM loop. (default: 0.005)\n",
      "                        [float]\n",
      "  -e MAX_EM_ROUNDS, --max_em_rounds MAX_EM_ROUNDS\n",
      "                        Maximum number of EM rounds before triggering stop\n",
      "                        (default: 100) [int]\n",
      "  -x, --extra_tx_info   Add transcripts length and zero coverage transcripts\n",
      "                        to the output file (required valid bam/sam header)\n",
      "                        (default: False) [boolean]\n",
      "  -p PRIMARY_SCORE, --primary_score PRIMARY_SCORE\n",
      "                        Method to pick the best alignment for each read. By\n",
      "                        default (\"primary\") it uses the primary read defined\n",
      "                        by the aligner but it can be changed to use either the\n",
      "                        best alignment score (\"align_score\") or the best\n",
      "                        alignment length (\"align_len\"). choices = [primary,\n",
      "                        align_score, align_len] (default: primary) [str]\n",
      "  -a, --discard_suplementary\n",
      "                        Discard any supplementary alignment. Otherwise they\n",
      "                        are considered like secondary alignments (default:\n",
      "                        False) [boolean]\n",
      "  -d MAX_DIST_3_PRIME, --max_dist_3_prime MAX_DIST_3_PRIME\n",
      "                        Maximum distance of alignment end to 3 prime of\n",
      "                        transcript. In ONT dRNA-Seq reads are assumed to start\n",
      "                        from the polyA tail (-1 to deactivate) (default: 50)\n",
      "                        [int]\n",
      "  -u MAX_DIST_5_PRIME, --max_dist_5_prime MAX_DIST_5_PRIME\n",
      "                        Maximum distance of alignment start to 5 prime of\n",
      "                        transcript. In conjunction with max_dist_3_prime it\n",
      "                        can be used to select near full transcript length\n",
      "                        reads only (-1 to deactivate). (default: -1) [int]\n",
      "\n",
      "Verbosity options:\n",
      "  -v, --verbose         Increase verbosity for QC and debugging (default:\n",
      "                        False) [boolean]\n",
      "  -q, --quiet           Reduce verbosity (default: False) [boolean]\n",
      "(nanocount) "
     ]
    },
    {
     "ename": "",
     "evalue": "1",
     "output_type": "error",
     "traceback": []
    }
   ],
   "source": [
    "NanoCount --help"
   ]
  },
  {
   "cell_type": "markdown",
   "metadata": {},
   "source": [
    "#### Basic command"
   ]
  },
  {
   "cell_type": "code",
   "execution_count": 3,
   "metadata": {
    "ExecuteTime": {
     "end_time": "2021-08-17T09:04:42.286057Z",
     "start_time": "2021-08-17T09:04:39.362793Z"
    }
   },
   "outputs": [
    {
     "name": "stdout",
     "output_type": "stream",
     "text": [
      "\u001b[01;34m## Checking options and input files ##\u001b[0m\n",
      "\u001b[01;34m## Initialise Nanocount ##\u001b[0m\n",
      "\u001b[32m\tParse Bam file and filter low quality alignments\u001b[0m\n",
      "\u001b[32m\tSummary of alignments parsed in input bam file\u001b[0m\n",
      "\u001b[32m\t\tValid alignments: 73,488\u001b[0m\n",
      "\u001b[32m\t\tDiscarded alignment with invalid 5 prime end: 44,969\u001b[0m\n",
      "\u001b[32m\t\tDiscarded alignment with invalid 3 prime end: 38,527\u001b[0m\n",
      "\u001b[32m\t\tDiscarded unmapped alignments: 9,545\u001b[0m\n",
      "\u001b[32m\t\tDiscarded negative strand alignments: 4,515\u001b[0m\n",
      "\u001b[32m\tSummary of reads filtered\u001b[0m\n",
      "\u001b[32m\t\tReads with valid best alignment: 46,006\u001b[0m\n",
      "\u001b[32m\t\tInvalid secondary alignments: 25,727\u001b[0m\n",
      "\u001b[32m\t\tReads with low query fraction aligned: 618\u001b[0m\n",
      "\u001b[32m\t\tValid secondary alignments: 606\u001b[0m\n",
      "\u001b[32m\t\tReads too short: 359\u001b[0m\n",
      "\u001b[32m\tGenerate initial read/transcript compatibility index\u001b[0m\n",
      "\u001b[01;34m## Start EM abundance estimate ##\u001b[0m\n",
      "\tProgress: 2.00 rounds [00:00, 13.0 rounds/s]\n",
      "\u001b[32m\tExit EM loop after 2 rounds\u001b[0m\n",
      "\u001b[32m\tConvergence value: 0.0006951205037166979\u001b[0m\n",
      "\u001b[01;34m## Summarize data ##\u001b[0m\n",
      "\u001b[32m\tConvert results to dataframe\u001b[0m\n",
      "\u001b[32m\tCompute estimated counts and TPM\u001b[0m\n",
      "\u001b[32m\tWrite file\u001b[0m\n",
      "(nanocount) transcript_name\traw\test_count\ttpm\n",
      "YHR174W_mRNA\t0.6345910956591089\t29194.997946892963\t634591.0956591088\n",
      "YGR192C_mRNA\t0.020279963483023952\t933.0\t20279.963483023952\n",
      "YLR110C_mRNA\t0.011520236490892493\t530.0\t11520.236490892494\n",
      "YOL086C_mRNA\t0.008259792201017259\t380.0\t8259.792201017259\n",
      "YKL152C_mRNA\t0.005455810111724558\t251.0\t5455.810111724558\n",
      "YKL060C_mRNA\t0.005412337521192888\t249.0\t5412.337521192888\n",
      "YDL081C_mRNA\t0.005151501978002869\t237.0\t5151.501978002869\n",
      "YOR369C_mRNA\t0.004477676824761988\t206.0\t4477.6768247619875\n",
      "YDL130W_mRNA\t0.004173368691040299\t192.0\t4173.368691040299\n",
      "(nanocount) "
     ]
    },
    {
     "ename": "",
     "evalue": "1",
     "output_type": "error",
     "traceback": []
    }
   ],
   "source": [
    "NanoCount -i ./data/aligned_reads_sorted.bam -o ./output/tx_counts.tsv --max_dist_3_prime 10 --max_dist_5_prime 10\n",
    "head ./output/tx_counts.tsv"
   ]
  },
  {
   "cell_type": "code",
   "execution_count": 4,
   "metadata": {
    "ExecuteTime": {
     "end_time": "2021-08-17T09:04:45.728720Z",
     "start_time": "2021-08-17T09:04:45.187446Z"
    },
    "scrolled": false
   },
   "outputs": [
    {
     "name": "stdout",
     "output_type": "stream",
     "text": [
      "usage: NanoCount [-h] [--version] -i ALIGNMENT_FILE [-o COUNT_FILE]\n",
      "                 [-b FILTER_BAM_OUT] [-l MIN_READ_LENGTH]\n",
      "                 [-f MIN_QUERY_FRACTION_ALIGNED] [-t EQUIVALENT_THRESHOLD]\n",
      "                 [-s SCORING_VALUE] [-c CONVERGENCE_TARGET] [-e MAX_EM_ROUNDS]\n",
      "                 [-x] [-p PRIMARY_SCORE] [-a] [-d MAX_DIST_3_PRIME]\n",
      "                 [-u MAX_DIST_5_PRIME] [-v] [-q]\n",
      "NanoCount: error: unrecognized arguments: -3 50\n",
      "(nanocount) transcript_name\traw\test_count\ttpm\n",
      "YHR174W_mRNA\t0.6345910956591089\t29194.997946892963\t634591.0956591088\n",
      "YGR192C_mRNA\t0.020279963483023952\t933.0\t20279.963483023952\n",
      "YLR110C_mRNA\t0.011520236490892493\t530.0\t11520.236490892494\n",
      "YOL086C_mRNA\t0.008259792201017259\t380.0\t8259.792201017259\n",
      "YKL152C_mRNA\t0.005455810111724558\t251.0\t5455.810111724558\n",
      "YKL060C_mRNA\t0.005412337521192888\t249.0\t5412.337521192888\n",
      "YDL081C_mRNA\t0.005151501978002869\t237.0\t5151.501978002869\n",
      "YOR369C_mRNA\t0.004477676824761988\t206.0\t4477.6768247619875\n",
      "YDL130W_mRNA\t0.004173368691040299\t192.0\t4173.368691040299\n",
      "(nanocount) "
     ]
    },
    {
     "ename": "",
     "evalue": "1",
     "output_type": "error",
     "traceback": []
    }
   ],
   "source": [
    "NanoCount -i ./data/aligned_reads_sorted.bam -o ./output/tx_counts.tsv -3 50\n",
    "head ./output/tx_counts.tsv"
   ]
  },
  {
   "cell_type": "markdown",
   "metadata": {},
   "source": [
    "#### Adding extra transcripts information"
   ]
  },
  {
   "cell_type": "markdown",
   "metadata": {},
   "source": [
    "The `extra_tx_info` option adds a columns with the transcript lengths and also includes all the zero-coverage transcripts in the results"
   ]
  },
  {
   "cell_type": "code",
   "execution_count": 5,
   "metadata": {
    "ExecuteTime": {
     "end_time": "2021-08-17T09:04:51.707586Z",
     "start_time": "2021-08-17T09:04:48.323813Z"
    },
    "scrolled": false
   },
   "outputs": [
    {
     "name": "stdout",
     "output_type": "stream",
     "text": [
      "\u001b[01;34m## Checking options and input files ##\u001b[0m\n",
      "\u001b[01;34m## Initialise Nanocount ##\u001b[0m\n",
      "\u001b[32m\tParse Bam file and filter low quality alignments\u001b[0m\n",
      "\u001b[32m\tSummary of alignments parsed in input bam file\u001b[0m\n",
      "\u001b[32m\t\tValid alignments: 150,779\u001b[0m\n",
      "\u001b[32m\t\tDiscarded unmapped alignments: 9,545\u001b[0m\n",
      "\u001b[32m\t\tDiscarded alignment with invalid 3 prime end: 6,205\u001b[0m\n",
      "\u001b[32m\t\tDiscarded negative strand alignments: 4,515\u001b[0m\n",
      "\u001b[32m\tSummary of reads filtered\u001b[0m\n",
      "\u001b[32m\t\tReads with valid best alignment: 85,200\u001b[0m\n",
      "\u001b[32m\t\tInvalid secondary alignments: 60,168\u001b[0m\n",
      "\u001b[32m\t\tValid secondary alignments: 2,626\u001b[0m\n",
      "\u001b[32m\t\tReads with low query fraction aligned: 1,544\u001b[0m\n",
      "\u001b[32m\t\tReads too short: 817\u001b[0m\n",
      "\u001b[32m\tGenerate initial read/transcript compatibility index\u001b[0m\n",
      "\u001b[01;34m## Start EM abundance estimate ##\u001b[0m\n",
      "\tProgress: 2.00 rounds [00:00, 9.10 rounds/s]\n",
      "\u001b[32m\tExit EM loop after 2 rounds\u001b[0m\n",
      "\u001b[32m\tConvergence value: 0.002000099856041238\u001b[0m\n",
      "\u001b[01;34m## Summarize data ##\u001b[0m\n",
      "\u001b[32m\tConvert results to dataframe\u001b[0m\n",
      "\u001b[32m\tCompute estimated counts and TPM\u001b[0m\n",
      "\u001b[32m\tWrite file\u001b[0m\n",
      "(nanocount) transcript_name\traw\test_count\ttpm\ttranscript_length\n",
      "YHR174W_mRNA\t0.5929928027283197\t50522.98679245284\t592992.8027283197\t1314\n",
      "YGR192C_mRNA\t0.021005944664969526\t1789.7064854554037\t21005.944664969527\t999\n",
      "YLR110C_mRNA\t0.009671361502347417\t823.9999999999999\t9671.361502347418\t402\n",
      "YOL086C_mRNA\t0.008368544600938967\t713.0\t8368.544600938967\t1047\n",
      "YKL060C_mRNA\t0.006572769953051643\t560.0\t6572.769953051643\t1080\n",
      "YPR080W_mRNA\t0.005299295774647887\t451.5\t5299.295774647888\t1377\n",
      "YBR118W_mRNA\t0.005299295774647887\t451.5\t5299.295774647888\t1377\n",
      "YLR044C_mRNA\t0.0051056338028169015\t435.0\t5105.633802816901\t1692\n",
      "YKL152C_mRNA\t0.004237089201877934\t361.0\t4237.089201877934\t744\n",
      "(nanocount) "
     ]
    },
    {
     "ename": "",
     "evalue": "1",
     "output_type": "error",
     "traceback": []
    }
   ],
   "source": [
    "NanoCount -i ./data/aligned_reads_sorted.bam -o ./output/tx_counts.tsv --extra_tx_info\n",
    "head ./output/tx_counts.tsv"
   ]
  },
  {
   "cell_type": "markdown",
   "metadata": {},
   "source": [
    "#### Write selected alignment to BAM file"
   ]
  },
  {
   "cell_type": "code",
   "execution_count": null,
   "metadata": {
    "ExecuteTime": {
     "end_time": "2021-08-17T09:04:51.714113Z",
     "start_time": "2021-08-17T09:04:51.712Z"
    }
   },
   "outputs": [],
   "source": [
    "NanoCount -i ./data/aligned_reads_sorted.bam -o ./output/tx_counts.tsv -b ./output/aligned_reads_selected.bam --extra_tx_info\n",
    "head ./output/tx_counts.tsv"
   ]
  },
  {
   "cell_type": "markdown",
   "metadata": {},
   "source": [
    "#### Relaxing the equivalence threshold"
   ]
  },
  {
   "cell_type": "markdown",
   "metadata": {},
   "source": [
    "The default value is 0.9 (90% of the alignment score of the primary alignment) but this value could be lowered to allow more secondary alignments to be included in the uncertainty calculation.\n",
    "Lowering the value bellow 0.75 might not be relevant and will considerably increase the computation time."
   ]
  },
  {
   "cell_type": "code",
   "execution_count": 6,
   "metadata": {
    "ExecuteTime": {
     "end_time": "2021-08-17T09:05:01.285460Z",
     "start_time": "2021-08-17T09:04:55.681977Z"
    }
   },
   "outputs": [
    {
     "name": "stdout",
     "output_type": "stream",
     "text": [
      "\u001b[01;34m## Checking options and input files ##\u001b[0m\n",
      "\u001b[01;34m## Initialise Nanocount ##\u001b[0m\n",
      "\u001b[32m\tParse Bam file and filter low quality alignments\u001b[0m\n",
      "\u001b[32m\tSummary of alignments parsed in input bam file\u001b[0m\n",
      "\u001b[32m\t\tValid alignments: 150,779\u001b[0m\n",
      "\u001b[32m\t\tDiscarded unmapped alignments: 9,545\u001b[0m\n",
      "\u001b[32m\t\tDiscarded alignment with invalid 3 prime end: 6,205\u001b[0m\n",
      "\u001b[32m\t\tDiscarded negative strand alignments: 4,515\u001b[0m\n",
      "\u001b[32m\tSummary of reads filtered\u001b[0m\n",
      "\u001b[32m\t\tReads with valid best alignment: 85,200\u001b[0m\n",
      "\u001b[32m\t\tValid secondary alignments: 49,096\u001b[0m\n",
      "\u001b[32m\t\tInvalid secondary alignments: 13,698\u001b[0m\n",
      "\u001b[32m\t\tReads with low query fraction aligned: 1,544\u001b[0m\n",
      "\u001b[32m\t\tReads too short: 817\u001b[0m\n",
      "\u001b[32m\tGenerate initial read/transcript compatibility index\u001b[0m\n",
      "\u001b[01;34m## Start EM abundance estimate ##\u001b[0m\n",
      "\tProgress: 17.0 rounds [00:02, 7.31 rounds/s]\n",
      "\u001b[32m\tExit EM loop after 17 rounds\u001b[0m\n",
      "\u001b[32m\tConvergence value: 0.004896640500345573\u001b[0m\n",
      "\u001b[01;34m## Summarize data ##\u001b[0m\n",
      "\u001b[32m\tConvert results to dataframe\u001b[0m\n",
      "\u001b[32m\tCompute estimated counts and TPM\u001b[0m\n",
      "\u001b[32m\tWrite file\u001b[0m\n",
      "(nanocount) transcript_name\traw\test_count\ttpm\n",
      "YHR174W_mRNA\t0.5827903493290055\t49653.73776283127\t582790.3493290056\n",
      "YGR192C_mRNA\t0.015110182037764753\t1287.387509617557\t15110.182037764753\n",
      "YGR254W_mRNA\t0.011282420623667128\t961.2622371364394\t11282.420623667127\n",
      "YLR110C_mRNA\t0.009671361502347452\t824.0000000000028\t9671.361502347452\n",
      "YJR009C_mRNA\t0.009496349770534818\t809.0890004495665\t9496.349770534818\n",
      "YOL086C_mRNA\t0.008368544600938995\t713.0000000000024\t8368.544600938994\n",
      "YKL060C_mRNA\t0.006572769953051665\t560.0000000000019\t6572.769953051666\n",
      "YPR080W_mRNA\t0.005299295774647906\t451.50000000000153\t5299.295774647906\n",
      "YBR118W_mRNA\t0.005299295774647906\t451.50000000000153\t5299.295774647906\n",
      "(nanocount) "
     ]
    },
    {
     "ename": "",
     "evalue": "1",
     "output_type": "error",
     "traceback": []
    }
   ],
   "source": [
    "NanoCount -i ./data/aligned_reads_sorted.bam -o ./output/tx_counts.tsv --equivalent_threshold 0.8\n",
    "head ./output/tx_counts.tsv"
   ]
  },
  {
   "cell_type": "markdown",
   "metadata": {},
   "source": [
    "#### verbose mode"
   ]
  },
  {
   "cell_type": "markdown",
   "metadata": {},
   "source": [
    "Print additional information for QC and debugging"
   ]
  },
  {
   "cell_type": "code",
   "execution_count": 7,
   "metadata": {
    "ExecuteTime": {
     "end_time": "2021-08-17T09:05:09.798247Z",
     "start_time": "2021-08-17T09:05:04.034276Z"
    }
   },
   "outputs": [
    {
     "name": "stdout",
     "output_type": "stream",
     "text": [
      "\u001b[01;34m## Checking options and input files ##\u001b[0m\n",
      "\u001b[37m\t[DEBUG]: Options summary\u001b[0m\n",
      "\u001b[37m\t[DEBUG]: \tPackage name: NanoCount\u001b[0m\n",
      "\u001b[37m\t[DEBUG]: \tPackage version: 0.2.6\u001b[0m\n",
      "\u001b[37m\t[DEBUG]: \tTimestamp: 2021-08-17 10:05:04.429901\u001b[0m\n",
      "\u001b[37m\t[DEBUG]: \talignment_file: ./data/aligned_reads_sorted.bam\u001b[0m\n",
      "\u001b[37m\t[DEBUG]: \tcount_file: ./output/tx_counts.tsv\u001b[0m\n",
      "\u001b[37m\t[DEBUG]: \tfilter_bam_out: \u001b[0m\n",
      "\u001b[37m\t[DEBUG]: \tmin_read_length: 50\u001b[0m\n",
      "\u001b[37m\t[DEBUG]: \tdiscard_suplementary: False\u001b[0m\n",
      "\u001b[37m\t[DEBUG]: \tmin_query_fraction_aligned: 0.5\u001b[0m\n",
      "\u001b[37m\t[DEBUG]: \tequivalent_threshold: 0.8\u001b[0m\n",
      "\u001b[37m\t[DEBUG]: \tscoring_value: alignment_score\u001b[0m\n",
      "\u001b[37m\t[DEBUG]: \tconvergence_target: 0.005\u001b[0m\n",
      "\u001b[37m\t[DEBUG]: \tmax_em_rounds: 100\u001b[0m\n",
      "\u001b[37m\t[DEBUG]: \textra_tx_info: False\u001b[0m\n",
      "\u001b[37m\t[DEBUG]: \tprimary_score: primary\u001b[0m\n",
      "\u001b[37m\t[DEBUG]: \tmax_dist_3_prime: 50\u001b[0m\n",
      "\u001b[37m\t[DEBUG]: \tmax_dist_5_prime: -1\u001b[0m\n",
      "\u001b[37m\t[DEBUG]: \tverbose: True\u001b[0m\n",
      "\u001b[37m\t[DEBUG]: \tquiet: False\u001b[0m\n",
      "\u001b[01;34m## Initialise Nanocount ##\u001b[0m\n",
      "\u001b[32m\tParse Bam file and filter low quality alignments\u001b[0m\n",
      "\u001b[32m\tSummary of alignments parsed in input bam file\u001b[0m\n",
      "\u001b[32m\t\tValid alignments: 150,779\u001b[0m\n",
      "\u001b[32m\t\tDiscarded unmapped alignments: 9,545\u001b[0m\n",
      "\u001b[32m\t\tDiscarded alignment with invalid 3 prime end: 6,205\u001b[0m\n",
      "\u001b[32m\t\tDiscarded negative strand alignments: 4,515\u001b[0m\n",
      "\u001b[32m\tSummary of reads filtered\u001b[0m\n",
      "\u001b[32m\t\tReads with valid best alignment: 85,200\u001b[0m\n",
      "\u001b[32m\t\tValid secondary alignments: 49,096\u001b[0m\n",
      "\u001b[32m\t\tInvalid secondary alignments: 13,698\u001b[0m\n",
      "\u001b[32m\t\tReads with low query fraction aligned: 1,544\u001b[0m\n",
      "\u001b[32m\t\tReads too short: 817\u001b[0m\n",
      "\u001b[32m\tGenerate initial read/transcript compatibility index\u001b[0m\n",
      "\u001b[01;34m## Start EM abundance estimate ##\u001b[0m\n",
      "\u001b[37m\t[DEBUG]: EM Round: 1 / Convergence value: 1\u001b[0m\n",
      "\u001b[37m\t[DEBUG]: EM Round: 2 / Convergence value: 0.09110761384246424\u001b[0m\n",
      "\u001b[37m\t[DEBUG]: EM Round: 3 / Convergence value: 0.07370969220304113\u001b[0m\n",
      "\u001b[37m\t[DEBUG]: EM Round: 4 / Convergence value: 0.060302646290398276\u001b[0m\n",
      "\u001b[37m\t[DEBUG]: EM Round: 5 / Convergence value: 0.04944295714468297\u001b[0m\n",
      "\u001b[37m\t[DEBUG]: EM Round: 6 / Convergence value: 0.04057661333830727\u001b[0m\n",
      "\u001b[37m\t[DEBUG]: EM Round: 7 / Convergence value: 0.03332288524871282\u001b[0m\n",
      "\u001b[37m\t[DEBUG]: EM Round: 8 / Convergence value: 0.027383824527203792\u001b[0m\n",
      "\u001b[37m\t[DEBUG]: EM Round: 9 / Convergence value: 0.022519018504997167\u001b[0m\n",
      "\u001b[37m\t[DEBUG]: EM Round: 10 / Convergence value: 0.01853280199345066\u001b[0m\n",
      "\u001b[37m\t[DEBUG]: EM Round: 11 / Convergence value: 0.01526550446548478\u001b[0m\n",
      "\u001b[37m\t[DEBUG]: EM Round: 12 / Convergence value: 0.012586677382734847\u001b[0m\n",
      "\u001b[37m\t[DEBUG]: EM Round: 13 / Convergence value: 0.010389724861164533\u001b[0m\n",
      "\u001b[37m\t[DEBUG]: EM Round: 14 / Convergence value: 0.008587400747358436\u001b[0m\n",
      "\u001b[37m\t[DEBUG]: EM Round: 15 / Convergence value: 0.00710828135623435\u001b[0m\n",
      "\u001b[37m\t[DEBUG]: EM Round: 16 / Convergence value: 0.005893964553260508\u001b[0m\n",
      "\u001b[37m\t[DEBUG]: EM Round: 17 / Convergence value: 0.004896640500345573\u001b[0m\n",
      "\u001b[32m\tExit EM loop after 17 rounds\u001b[0m\n",
      "\u001b[32m\tConvergence value: 0.004896640500345573\u001b[0m\n",
      "\u001b[01;34m## Summarize data ##\u001b[0m\n",
      "\u001b[32m\tConvert results to dataframe\u001b[0m\n",
      "\u001b[32m\tCompute estimated counts and TPM\u001b[0m\n",
      "\u001b[32m\tWrite file\u001b[0m\n",
      "(nanocount) "
     ]
    },
    {
     "ename": "",
     "evalue": "1",
     "output_type": "error",
     "traceback": []
    }
   ],
   "source": [
    "NanoCount -i ./data/aligned_reads_sorted.bam -o ./output/tx_counts.tsv --equivalent_threshold 0.8  --verbose"
   ]
  }
 ],
 "metadata": {
  "kernelspec": {
   "display_name": "Bash",
   "language": "bash",
   "name": "bash"
  },
  "language_info": {
   "codemirror_mode": "shell",
   "file_extension": ".sh",
   "mimetype": "text/x-sh",
   "name": "bash"
  }
 },
 "nbformat": 4,
 "nbformat_minor": 4
}
