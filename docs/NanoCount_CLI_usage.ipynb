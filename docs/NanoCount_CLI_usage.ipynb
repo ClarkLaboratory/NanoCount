{
 "cells": [
  {
   "cell_type": "markdown",
   "metadata": {
    "ExecuteTime": {
     "end_time": "2020-05-04T11:02:46.918334Z",
     "start_time": "2020-05-04T11:02:46.911996Z"
    }
   },
   "source": [
    "# NanoCount command line usage"
   ]
  },
  {
   "cell_type": "markdown",
   "metadata": {
    "ExecuteTime": {
     "end_time": "2020-05-04T12:47:10.312567Z",
     "start_time": "2020-05-04T12:47:10.033440Z"
    }
   },
   "source": [
    "### Activate virtual environment"
   ]
  },
  {
   "cell_type": "code",
   "execution_count": 4,
   "metadata": {
    "ExecuteTime": {
     "end_time": "2020-06-10T10:58:11.167192Z",
     "start_time": "2020-06-10T10:58:10.910059Z"
    }
   },
   "outputs": [
    {
     "name": "stdout",
     "output_type": "stream",
     "text": [
      "(NanoCount) "
     ]
    },
    {
     "ename": "",
     "evalue": "1",
     "output_type": "error",
     "traceback": []
    }
   ],
   "source": [
    "conda activate NanoCount"
   ]
  },
  {
   "cell_type": "markdown",
   "metadata": {},
   "source": [
    "### Running NanoCount"
   ]
  },
  {
   "cell_type": "code",
   "execution_count": 2,
   "metadata": {
    "ExecuteTime": {
     "end_time": "2020-06-10T10:57:29.878459Z",
     "start_time": "2020-06-10T10:57:29.072506Z"
    }
   },
   "outputs": [
    {
     "name": "stdout",
     "output_type": "stream",
     "text": [
      "usage: NanoCount [-h] [--version] -i ALIGNMENT_FILE [-o COUNT_FILE]\n",
      "                 [-l MIN_READ_LENGTH] [-f MIN_QUERY_FRACTION_ALIGNED]\n",
      "                 [-t EQUIVALENT_THRESHOLD] [-s SCORING_VALUE]\n",
      "                 [-c CONVERGENCE_TARGET] [-e MAX_EM_ROUNDS] [-x]\n",
      "                 [-p PRIMARY_SCORE] [-a] [-3 MAX_DIST_3_PRIME]\n",
      "                 [-5 MAX_DIST_5_PRIME] [-v] [-q]\n",
      "\n",
      "EM based transcripts abundance estimation from nanopore reads mapped to a\n",
      "transcriptome with minimap2\n",
      "\n",
      "optional arguments:\n",
      "  -h, --help            show this help message and exit\n",
      "  --version             show program's version number and exit\n",
      "\n",
      "Input/Output options:\n",
      "  -i ALIGNMENT_FILE, --alignment_file ALIGNMENT_FILE\n",
      "                        BAM or SAM file containing aligned ONT dRNA-Seq reads\n",
      "                        including secondary and supplementary alignment\n",
      "                        (required) [str]\n",
      "  -o COUNT_FILE, --count_file COUNT_FILE\n",
      "                        Output file path where to write estimated counts (TSV\n",
      "                        format) (default: None) [str]\n",
      "\n",
      "Misc options:\n",
      "  -l MIN_READ_LENGTH, --min_read_length MIN_READ_LENGTH\n",
      "                        Minimal length of the read to be considered valid\n",
      "                        (default: 50) [int]\n",
      "  -f MIN_QUERY_FRACTION_ALIGNED, --min_query_fraction_aligned MIN_QUERY_FRACTION_ALIGNED\n",
      "                        Minimal fraction of the primary alignment query\n",
      "                        aligned to consider the read valid (default: 0.5)\n",
      "                        [float]\n",
      "  -t EQUIVALENT_THRESHOLD, --equivalent_threshold EQUIVALENT_THRESHOLD\n",
      "                        Fraction of the alignment score or the alignment\n",
      "                        length of secondary alignments compared to the primary\n",
      "                        alignment to be considered valid alignments (default:\n",
      "                        0.9) [float]\n",
      "  -s SCORING_VALUE, --scoring_value SCORING_VALUE\n",
      "                        Value to use for score thresholding of secondary\n",
      "                        alignments either \"alignment_score\" or\n",
      "                        \"alignment_length\" (default: alignment_score) [str]\n",
      "  -c CONVERGENCE_TARGET, --convergence_target CONVERGENCE_TARGET\n",
      "                        Convergence target value of the cummulative difference\n",
      "                        between abundance values of successive EM round to\n",
      "                        trigger the end of the EM loop. (default: 0.005)\n",
      "                        [float]\n",
      "  -e MAX_EM_ROUNDS, --max_em_rounds MAX_EM_ROUNDS\n",
      "                        Maximum number of EM rounds before triggering stop\n",
      "                        (default: 100) [int]\n",
      "  -x, --extra_tx_info   Add transcripts length and zero coverage transcripts\n",
      "                        to the output file (required valid bam/sam header)\n",
      "                        (default: False) [boolean]\n",
      "  -p PRIMARY_SCORE, --primary_score PRIMARY_SCORE\n",
      "                        Method to pick the best alignment for each read. By\n",
      "                        default (\"primary\") it uses the primary read defined\n",
      "                        by the aligner but it can be changed to use either the\n",
      "                        best alignment score (\"align_score\") or the best\n",
      "                        alignment length (\"align_len\"). choices = [primary,\n",
      "                        align_score, align_len] (default: primary) [str]\n",
      "  -a, --discard_suplementary\n",
      "                        Discard any supplementary alignment. Otherwise they\n",
      "                        are considered like secondary alignments (default:\n",
      "                        False) [boolean]\n",
      "  -3 MAX_DIST_3_PRIME, --max_dist_3_prime MAX_DIST_3_PRIME\n",
      "                        Maximum distance of alignment end to 3 prime of\n",
      "                        transcript. In ONT dRNA-Seq reads are assumed to start\n",
      "                        from the polyA tail (-1 to deactivate) (default: 100)\n",
      "                        [int]\n",
      "  -5 MAX_DIST_5_PRIME, --max_dist_5_prime MAX_DIST_5_PRIME\n",
      "                        Maximum distance of alignment start to 5 prime of\n",
      "                        transcript. In conjunction with max_dist_3_prime it\n",
      "                        can be used to select near full lenght reads only (-1\n",
      "                        to deactivate). (default: -1) [int]\n",
      "\n",
      "Verbosity options:\n",
      "  -v, --verbose         Increase verbosity for QC and debugging (default:\n",
      "                        False) [boolean]\n",
      "  -q, --quiet           Reduce verbosity (default: False) [boolean]\n",
      "(NanoCount) "
     ]
    },
    {
     "ename": "",
     "evalue": "1",
     "output_type": "error",
     "traceback": []
    }
   ],
   "source": [
    "NanoCount --help"
   ]
  },
  {
   "cell_type": "markdown",
   "metadata": {},
   "source": [
    "#### Basic command"
   ]
  },
  {
   "cell_type": "code",
   "execution_count": 8,
   "metadata": {
    "ExecuteTime": {
     "end_time": "2020-06-10T11:00:05.402313Z",
     "start_time": "2020-06-10T11:00:00.371557Z"
    },
    "scrolled": false
   },
   "outputs": [
    {
     "name": "stdout",
     "output_type": "stream",
     "text": [
      "\u001b[01;34m## Checking options and input files ##\u001b[0m\n",
      "\u001b[01;34m## Initialise Nanocount ##\u001b[0m\n",
      "\u001b[32m\tParse Bam file and filter low quality alignments\u001b[0m\n",
      "\u001b[32m\tSummary of alignments parsed in input bam file\u001b[0m\n",
      "\u001b[32m\t\tValid alignments: 150,779\u001b[0m\n",
      "\u001b[32m\t\tDiscarded unmapped alignments: 9,545\u001b[0m\n",
      "\u001b[32m\t\tDiscarded alignment with invalid 3 prime end: 6,205\u001b[0m\n",
      "\u001b[32m\t\tDiscarded negative strand alignments: 4,515\u001b[0m\n",
      "\u001b[32m\tSummary of reads filtered\u001b[0m\n",
      "\u001b[32m\t\tReads with valid best alignment: 85,199\u001b[0m\n",
      "\u001b[32m\t\tInvalid secondary alignments: 58,464\u001b[0m\n",
      "\u001b[32m\t\tValid secondary alignments: 4,329\u001b[0m\n",
      "\u001b[32m\t\tReads with low query fraction aligned: 1,544\u001b[0m\n",
      "\u001b[32m\t\tReads too short: 818\u001b[0m\n",
      "\u001b[32m\tGenerate initial read/transcript compatibility index\u001b[0m\n",
      "\u001b[01;34m## Start EM abundance estimate ##\u001b[0m\n",
      "\tProgress: 3.00 rounds [00:00, 5.59 rounds/s]\n",
      "\u001b[32m\tExit EM loop after 3 rounds\u001b[0m\n",
      "\u001b[32m\tConvergence value: 0.0019414257239557444\u001b[0m\n",
      "\u001b[01;34m## Summarize data ##\u001b[0m\n",
      "\u001b[32m\tConvert results to dataframe\u001b[0m\n",
      "\u001b[32m\tCompute estimated counts and TPM\u001b[0m\n",
      "\u001b[32m\tWrite file\u001b[0m\n",
      "(NanoCount) transcript_name\traw\test_count\ttpm\n",
      "YHR174W_mRNA\t0.5930287964359037\t50525.46042754256\t593028.7964359036\n",
      "YGR192C_mRNA\t0.020697708914230995\t1763.4241017835666\t20697.708914230996\n",
      "YLR110C_mRNA\t0.009671475017312416\t824.0000000000006\t9671.475017312416\n",
      "YOL086C_mRNA\t0.008368642824446302\t713.0000000000005\t8368.642824446302\n",
      "YKL060C_mRNA\t0.006572847099144361\t560.0000000000005\t6572.847099144361\n",
      "YPR080W_mRNA\t0.0052993579736851405\t451.5000000000003\t5299.357973685141\n",
      "YBR118W_mRNA\t0.0052993579736851405\t451.5000000000003\t5299.357973685141\n",
      "YLR044C_mRNA\t0.0051056937287996375\t435.00000000000034\t5105.693728799638\n",
      "YKL152C_mRNA\t0.004237138933555561\t361.0000000000002\t4237.1389335555605\n",
      "(NanoCount) "
     ]
    },
    {
     "ename": "",
     "evalue": "1",
     "output_type": "error",
     "traceback": []
    }
   ],
   "source": [
    "NanoCount -i ./data/aligned_reads.bam -o ./output/tx_counts.tsv -3 50\n",
    "head ./output/tx_counts.tsv"
   ]
  },
  {
   "cell_type": "markdown",
   "metadata": {},
   "source": [
    "#### Adding extra transcripts information"
   ]
  },
  {
   "cell_type": "markdown",
   "metadata": {},
   "source": [
    "The `extra_tx_info` option adds a columns with the transcript lengths and also includes all the zero-coverage transcripts in the results"
   ]
  },
  {
   "cell_type": "code",
   "execution_count": 10,
   "metadata": {
    "ExecuteTime": {
     "end_time": "2020-06-10T11:00:23.177050Z",
     "start_time": "2020-06-10T11:00:18.089370Z"
    },
    "scrolled": true
   },
   "outputs": [
    {
     "name": "stdout",
     "output_type": "stream",
     "text": [
      "\u001b[01;34m## Checking options and input files ##\u001b[0m\n",
      "\u001b[01;34m## Initialise Nanocount ##\u001b[0m\n",
      "\u001b[32m\tParse Bam file and filter low quality alignments\u001b[0m\n",
      "\u001b[32m\tSummary of alignments parsed in input bam file\u001b[0m\n",
      "\u001b[32m\t\tValid alignments: 153,201\u001b[0m\n",
      "\u001b[32m\t\tDiscarded unmapped alignments: 9,545\u001b[0m\n",
      "\u001b[32m\t\tDiscarded negative strand alignments: 4,515\u001b[0m\n",
      "\u001b[32m\t\tDiscarded alignment with invalid 3 prime end: 3,783\u001b[0m\n",
      "\u001b[32m\tSummary of reads filtered\u001b[0m\n",
      "\u001b[32m\t\tReads with valid best alignment: 85,899\u001b[0m\n",
      "\u001b[32m\t\tInvalid secondary alignments: 60,113\u001b[0m\n",
      "\u001b[32m\t\tValid secondary alignments: 4,374\u001b[0m\n",
      "\u001b[32m\t\tReads with low query fraction aligned: 1,580\u001b[0m\n",
      "\u001b[32m\t\tReads too short: 798\u001b[0m\n",
      "\u001b[32m\tGenerate initial read/transcript compatibility index\u001b[0m\n",
      "\u001b[01;34m## Start EM abundance estimate ##\u001b[0m\n",
      "\tProgress: 3.00 rounds [00:00, 5.72 rounds/s]\n",
      "\u001b[32m\tExit EM loop after 3 rounds\u001b[0m\n",
      "\u001b[32m\tConvergence value: 0.0019319339005333133\u001b[0m\n",
      "\u001b[01;34m## Summarize data ##\u001b[0m\n",
      "\u001b[32m\tConvert results to dataframe\u001b[0m\n",
      "\u001b[32m\tCompute estimated counts and TPM\u001b[0m\n",
      "\u001b[32m\tWrite file\u001b[0m\n",
      "(NanoCount) transcript_name\traw\test_count\ttpm\ttranscript_length\n",
      "YHR174W_mRNA\t0.5932131975393656\t50956.42045543397\t593213.1975393656\t1314\n",
      "YGR192C_mRNA\t0.020661735359370926\t1774.8224056346032\t20661.735359370927\t999\n",
      "YLR110C_mRNA\t0.009615944306685765\t826.0000000000006\t9615.944306685766\t402\n",
      "YOL086C_mRNA\t0.00835865376779707\t718.0000000000005\t8358.65376779707\t1047\n",
      "YKL060C_mRNA\t0.006635700066357005\t570.0000000000005\t6635.700066357005\t1080\n",
      "YBR118W_mRNA\t0.005273635315894251\t453.0000000000003\t5273.635315894251\t1377\n",
      "YPR080W_mRNA\t0.005273635315894251\t453.0000000000003\t5273.635315894251\t1377\n",
      "YLR044C_mRNA\t0.005087370050873704\t437.0000000000003\t5087.370050873704\t1692\n",
      "YKL152C_mRNA\t0.004237534779217456\t364.0000000000002\t4237.534779217455\t744\n",
      "(NanoCount) "
     ]
    },
    {
     "ename": "",
     "evalue": "1",
     "output_type": "error",
     "traceback": []
    }
   ],
   "source": [
    "NanoCount -i ./data/aligned_reads.bam -o ./output/tx_counts.tsv --extra_tx_info\n",
    "head ./output/tx_counts.tsv"
   ]
  },
  {
   "cell_type": "markdown",
   "metadata": {},
   "source": [
    "#### Relaxing the equivalence threshold"
   ]
  },
  {
   "cell_type": "markdown",
   "metadata": {},
   "source": [
    "The default value is 0.9 (90% of the alignment score of the primary alignment) but this value could be lowered to allow more secondary alignments to be included in the uncertainty calculation.\n",
    "Lowering the value bellow 0.75 might not be relevant and will considerably increase the computation time."
   ]
  },
  {
   "cell_type": "code",
   "execution_count": 11,
   "metadata": {
    "ExecuteTime": {
     "end_time": "2020-06-10T11:00:32.160221Z",
     "start_time": "2020-06-10T11:00:23.809612Z"
    }
   },
   "outputs": [
    {
     "name": "stdout",
     "output_type": "stream",
     "text": [
      "\u001b[01;34m## Checking options and input files ##\u001b[0m\n",
      "\u001b[01;34m## Initialise Nanocount ##\u001b[0m\n",
      "\u001b[32m\tParse Bam file and filter low quality alignments\u001b[0m\n",
      "\u001b[32m\tSummary of alignments parsed in input bam file\u001b[0m\n",
      "\u001b[32m\t\tValid alignments: 153,201\u001b[0m\n",
      "\u001b[32m\t\tDiscarded unmapped alignments: 9,545\u001b[0m\n",
      "\u001b[32m\t\tDiscarded negative strand alignments: 4,515\u001b[0m\n",
      "\u001b[32m\t\tDiscarded alignment with invalid 3 prime end: 3,783\u001b[0m\n",
      "\u001b[32m\tSummary of reads filtered\u001b[0m\n",
      "\u001b[32m\t\tReads with valid best alignment: 85,899\u001b[0m\n",
      "\u001b[32m\t\tValid secondary alignments: 50,019\u001b[0m\n",
      "\u001b[32m\t\tInvalid secondary alignments: 14,468\u001b[0m\n",
      "\u001b[32m\t\tReads with low query fraction aligned: 1,580\u001b[0m\n",
      "\u001b[32m\t\tReads too short: 798\u001b[0m\n",
      "\u001b[32m\tGenerate initial read/transcript compatibility index\u001b[0m\n",
      "\u001b[01;34m## Start EM abundance estimate ##\u001b[0m\n",
      "\tProgress: 18.0 rounds [00:03, 4.75 rounds/s]\n",
      "\u001b[32m\tExit EM loop after 18 rounds\u001b[0m\n",
      "\u001b[32m\tConvergence value: 0.00462674973518923\u001b[0m\n",
      "\u001b[01;34m## Summarize data ##\u001b[0m\n",
      "\u001b[32m\tConvert results to dataframe\u001b[0m\n",
      "\u001b[32m\tCompute estimated counts and TPM\u001b[0m\n",
      "\u001b[32m\tWrite file\u001b[0m\n",
      "(NanoCount) transcript_name\traw\test_count\ttpm\n",
      "YHR174W_mRNA\t0.5828216847430426\t50063.79989774262\t582821.6847430427\n",
      "YGR192C_mRNA\t0.015176437715561169\t1303.6408233289887\t15176.43771556117\n",
      "YGR254W_mRNA\t0.011446001726217545\t983.200102280361\t11446.001726217546\n",
      "YLR110C_mRNA\t0.009615944306685751\t825.9999999999993\t9615.944306685751\n",
      "YJR009C_mRNA\t0.009392668850428238\t806.8208615829352\t9392.668850428237\n",
      "YOL086C_mRNA\t0.008358653767797057\t717.9999999999994\t8358.653767797057\n",
      "YKL060C_mRNA\t0.006635700066356995\t569.9999999999995\t6635.700066356995\n",
      "YPR080W_mRNA\t0.0052736353158942435\t452.9999999999996\t5273.635315894244\n",
      "YBR118W_mRNA\t0.0052736353158942435\t452.9999999999996\t5273.635315894244\n",
      "(NanoCount) "
     ]
    },
    {
     "ename": "",
     "evalue": "1",
     "output_type": "error",
     "traceback": []
    }
   ],
   "source": [
    "NanoCount -i ./data/aligned_reads.bam -o ./output/tx_counts.tsv --equivalent_threshold 0.8\n",
    "head ./output/tx_counts.tsv"
   ]
  },
  {
   "cell_type": "markdown",
   "metadata": {},
   "source": [
    "#### verbose mode"
   ]
  },
  {
   "cell_type": "markdown",
   "metadata": {},
   "source": [
    "Print additional information for QC and debugging"
   ]
  },
  {
   "cell_type": "code",
   "execution_count": 12,
   "metadata": {
    "ExecuteTime": {
     "end_time": "2020-06-10T11:00:41.582792Z",
     "start_time": "2020-06-10T11:00:32.905951Z"
    }
   },
   "outputs": [
    {
     "name": "stdout",
     "output_type": "stream",
     "text": [
      "\u001b[01;34m## Checking options and input files ##\u001b[0m\n",
      "\u001b[37m\t[DEBUG]: Options summary\u001b[0m\n",
      "\u001b[37m\t[DEBUG]: \tPackage name: NanoCount\u001b[0m\n",
      "\u001b[37m\t[DEBUG]: \tPackage version: 0.2.2\u001b[0m\n",
      "\u001b[37m\t[DEBUG]: \tTimestamp: 2020-06-10 12:00:33.502066\u001b[0m\n",
      "\u001b[37m\t[DEBUG]: \tquiet: False\u001b[0m\n",
      "\u001b[37m\t[DEBUG]: \tverbose: True\u001b[0m\n",
      "\u001b[37m\t[DEBUG]: \tmax_dist_5_prime: -1\u001b[0m\n",
      "\u001b[37m\t[DEBUG]: \tmax_dist_3_prime: 100\u001b[0m\n",
      "\u001b[37m\t[DEBUG]: \tprimary_score: primary\u001b[0m\n",
      "\u001b[37m\t[DEBUG]: \textra_tx_info: False\u001b[0m\n",
      "\u001b[37m\t[DEBUG]: \tmax_em_rounds: 100\u001b[0m\n",
      "\u001b[37m\t[DEBUG]: \tconvergence_target: 0.005\u001b[0m\n",
      "\u001b[37m\t[DEBUG]: \tscoring_value: alignment_score\u001b[0m\n",
      "\u001b[37m\t[DEBUG]: \tequivalent_threshold: 0.8\u001b[0m\n",
      "\u001b[37m\t[DEBUG]: \tmin_query_fraction_aligned: 0.5\u001b[0m\n",
      "\u001b[37m\t[DEBUG]: \tdiscard_suplementary: False\u001b[0m\n",
      "\u001b[37m\t[DEBUG]: \tmin_read_length: 50\u001b[0m\n",
      "\u001b[37m\t[DEBUG]: \tcount_file: ./output/tx_counts.tsv\u001b[0m\n",
      "\u001b[37m\t[DEBUG]: \talignment_file: ./data/aligned_reads.bam\u001b[0m\n",
      "\u001b[01;34m## Initialise Nanocount ##\u001b[0m\n",
      "\u001b[32m\tParse Bam file and filter low quality alignments\u001b[0m\n",
      "\u001b[32m\tSummary of alignments parsed in input bam file\u001b[0m\n",
      "\u001b[32m\t\tValid alignments: 153,201\u001b[0m\n",
      "\u001b[32m\t\tDiscarded unmapped alignments: 9,545\u001b[0m\n",
      "\u001b[32m\t\tDiscarded negative strand alignments: 4,515\u001b[0m\n",
      "\u001b[32m\t\tDiscarded alignment with invalid 3 prime end: 3,783\u001b[0m\n",
      "\u001b[32m\tSummary of reads filtered\u001b[0m\n",
      "\u001b[32m\t\tReads with valid best alignment: 85,899\u001b[0m\n",
      "\u001b[32m\t\tValid secondary alignments: 50,019\u001b[0m\n",
      "\u001b[32m\t\tInvalid secondary alignments: 14,468\u001b[0m\n",
      "\u001b[32m\t\tReads with low query fraction aligned: 1,580\u001b[0m\n",
      "\u001b[32m\t\tReads too short: 798\u001b[0m\n",
      "\u001b[32m\tGenerate initial read/transcript compatibility index\u001b[0m\n",
      "\u001b[01;34m## Start EM abundance estimate ##\u001b[0m\n",
      "\u001b[37m\t[DEBUG]: EM Round: 1 / Convergence value: 1\u001b[0m\n",
      "\u001b[37m\t[DEBUG]: EM Round: 2 / Convergence value: 0.08721433704903493\u001b[0m\n",
      "\u001b[37m\t[DEBUG]: EM Round: 3 / Convergence value: 0.07133654775693056\u001b[0m\n",
      "\u001b[37m\t[DEBUG]: EM Round: 4 / Convergence value: 0.059033545587865964\u001b[0m\n",
      "\u001b[37m\t[DEBUG]: EM Round: 5 / Convergence value: 0.04896313712434062\u001b[0m\n",
      "\u001b[37m\t[DEBUG]: EM Round: 6 / Convergence value: 0.0406473204128088\u001b[0m\n",
      "\u001b[37m\t[DEBUG]: EM Round: 7 / Convergence value: 0.03376476144803244\u001b[0m\n",
      "\u001b[37m\t[DEBUG]: EM Round: 8 / Convergence value: 0.028063598126606915\u001b[0m\n",
      "\u001b[37m\t[DEBUG]: EM Round: 9 / Convergence value: 0.023338884566888526\u001b[0m\n",
      "\u001b[37m\t[DEBUG]: EM Round: 10 / Convergence value: 0.019422067966005423\u001b[0m\n",
      "\u001b[37m\t[DEBUG]: EM Round: 11 / Convergence value: 0.016174069176600945\u001b[0m\n",
      "\u001b[37m\t[DEBUG]: EM Round: 12 / Convergence value: 0.013479965766651556\u001b[0m\n",
      "\u001b[37m\t[DEBUG]: EM Round: 13 / Convergence value: 0.011244768877662042\u001b[0m\n",
      "\u001b[37m\t[DEBUG]: EM Round: 14 / Convergence value: 0.00938982093096616\u001b[0m\n",
      "\u001b[37m\t[DEBUG]: EM Round: 15 / Convergence value: 0.007849972063295121\u001b[0m\n",
      "\u001b[37m\t[DEBUG]: EM Round: 16 / Convergence value: 0.006571327855512732\u001b[0m\n",
      "\u001b[37m\t[DEBUG]: EM Round: 17 / Convergence value: 0.005509248149721088\u001b[0m\n",
      "\u001b[37m\t[DEBUG]: EM Round: 18 / Convergence value: 0.00462674973518923\u001b[0m\n",
      "\u001b[32m\tExit EM loop after 18 rounds\u001b[0m\n",
      "\u001b[32m\tConvergence value: 0.00462674973518923\u001b[0m\n",
      "\u001b[01;34m## Summarize data ##\u001b[0m\n",
      "\u001b[32m\tConvert results to dataframe\u001b[0m\n",
      "\u001b[32m\tCompute estimated counts and TPM\u001b[0m\n",
      "\u001b[32m\tWrite file\u001b[0m\n",
      "(NanoCount) "
     ]
    },
    {
     "ename": "",
     "evalue": "1",
     "output_type": "error",
     "traceback": []
    }
   ],
   "source": [
    "NanoCount -i ./data/aligned_reads.bam -o ./output/tx_counts.tsv --equivalent_threshold 0.8  --verbose"
   ]
  }
 ],
 "metadata": {
  "kernelspec": {
   "display_name": "Bash",
   "language": "bash",
   "name": "bash"
  },
  "language_info": {
   "codemirror_mode": "shell",
   "file_extension": ".sh",
   "mimetype": "text/x-sh",
   "name": "bash"
  }
 },
 "nbformat": 4,
 "nbformat_minor": 4
}
