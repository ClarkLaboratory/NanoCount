{
 "cells": [
  {
   "cell_type": "markdown",
   "metadata": {
    "ExecuteTime": {
     "end_time": "2020-05-04T11:02:46.918334Z",
     "start_time": "2020-05-04T11:02:46.911996Z"
    }
   },
   "source": [
    "# NanoCount command line usage"
   ]
  },
  {
   "cell_type": "markdown",
   "metadata": {
    "ExecuteTime": {
     "end_time": "2020-05-04T12:47:10.312567Z",
     "start_time": "2020-05-04T12:47:10.033440Z"
    }
   },
   "source": [
    "### Activate virtual environment"
   ]
  },
  {
   "cell_type": "code",
   "execution_count": 1,
   "metadata": {
    "ExecuteTime": {
     "end_time": "2021-08-20T11:18:00.031497Z",
     "start_time": "2021-08-20T11:17:59.801280Z"
    }
   },
   "outputs": [
    {
     "name": "stdout",
     "output_type": "stream",
     "text": [
      "(nanocount) "
     ]
    },
    {
     "ename": "",
     "evalue": "1",
     "output_type": "error",
     "traceback": []
    }
   ],
   "source": [
    "conda activate nanocount"
   ]
  },
  {
   "cell_type": "markdown",
   "metadata": {},
   "source": [
    "### Running NanoCount"
   ]
  },
  {
   "cell_type": "code",
   "execution_count": 2,
   "metadata": {
    "ExecuteTime": {
     "end_time": "2021-08-20T11:18:01.600342Z",
     "start_time": "2021-08-20T11:18:01.097710Z"
    },
    "scrolled": false
   },
   "outputs": [
    {
     "name": "stdout",
     "output_type": "stream",
     "text": [
      "usage: NanoCount [-h] [--version] -i ALIGNMENT_FILE [-o COUNT_FILE]\n",
      "                 [-b FILTER_BAM_OUT] [-l MIN_ALIGNMENT_LENGTH]\n",
      "                 [-f MIN_QUERY_FRACTION_ALIGNED] [-s SEC_SCORING_VALUE]\n",
      "                 [-t SEC_SCORING_THRESHOLD] [-c CONVERGENCE_TARGET]\n",
      "                 [-e MAX_EM_ROUNDS] [-x] [-p PRIMARY_SCORE] [-a]\n",
      "                 [-d MAX_DIST_3_PRIME] [-u MAX_DIST_5_PRIME] [-v] [-q]\n",
      "\n",
      "NanoCount estimates transcripts abundance from Oxford Nanopore *direct-RNA\n",
      "sequencing* datasets, using an expectation-maximization approach like RSEM,\n",
      "Kallisto, salmon, etc to handle the uncertainty of multi-mapping reads\n",
      "\n",
      "optional arguments:\n",
      "  -h, --help            show this help message and exit\n",
      "  --version             show program's version number and exit\n",
      "\n",
      "Input/Output options:\n",
      "  -i ALIGNMENT_FILE, --alignment_file ALIGNMENT_FILE\n",
      "                        BAM or SAM file containing aligned ONT dRNA-Seq reads\n",
      "                        including secondary and supplementary alignment\n",
      "                        (required) [str]\n",
      "  -o COUNT_FILE, --count_file COUNT_FILE\n",
      "                        Output file path where to write estimated counts (TSV\n",
      "                        format) (default: None) [str]\n",
      "  -b FILTER_BAM_OUT, --filter_bam_out FILTER_BAM_OUT\n",
      "                        Optional output file path where to write filtered\n",
      "                        reads selected by NanoCount to perform quantification\n",
      "                        estimation (BAM format) (default: None) [str]\n",
      "\n",
      "Misc options:\n",
      "  -l MIN_ALIGNMENT_LENGTH, --min_alignment_length MIN_ALIGNMENT_LENGTH\n",
      "                        Minimal length of the alignment to be considered valid\n",
      "                        (default: 50) [int]\n",
      "  -f MIN_QUERY_FRACTION_ALIGNED, --min_query_fraction_aligned MIN_QUERY_FRACTION_ALIGNED\n",
      "                        Minimal fraction of the primary alignment query\n",
      "                        aligned to consider the read valid (default: 0.5)\n",
      "                        [float]\n",
      "  -s SEC_SCORING_VALUE, --sec_scoring_value SEC_SCORING_VALUE\n",
      "                        Value to use for score thresholding of secondary\n",
      "                        alignments either \"alignment_score\" or\n",
      "                        \"alignment_length\" (default: alignment_score) [str]\n",
      "  -t SEC_SCORING_THRESHOLD, --sec_scoring_threshold SEC_SCORING_THRESHOLD\n",
      "                        Fraction of the alignment score or the alignment\n",
      "                        length of secondary alignments compared to the primary\n",
      "                        alignment to be considered valid alignments (default:\n",
      "                        0.95) [float]\n",
      "  -c CONVERGENCE_TARGET, --convergence_target CONVERGENCE_TARGET\n",
      "                        Convergence target value of the cummulative difference\n",
      "                        between abundance values of successive EM round to\n",
      "                        trigger the end of the EM loop. (default: 0.005)\n",
      "                        [float]\n",
      "  -e MAX_EM_ROUNDS, --max_em_rounds MAX_EM_ROUNDS\n",
      "                        Maximum number of EM rounds before triggering stop\n",
      "                        (default: 100) [int]\n",
      "  -x, --extra_tx_info   Add transcripts length and zero coverage transcripts\n",
      "                        to the output file (required valid bam/sam header)\n",
      "                        (default: False) [boolean]\n",
      "  -p PRIMARY_SCORE, --primary_score PRIMARY_SCORE\n",
      "                        Method to pick the best alignment for each read. By\n",
      "                        default (\"primary\") it uses the primary read defined\n",
      "                        by the aligner but it can be changed to use either the\n",
      "                        best alignment score (\"align_score\") or the best\n",
      "                        alignment length (\"align_len\"). choices = [primary,\n",
      "                        align_score, align_len] (default: primary) [str]\n",
      "  -a, --keep_suplementary\n",
      "                        Retain any supplementary alignment and considered them\n",
      "                        like secondary alignments. discarded by default.\n",
      "                        (default: False) [boolean]\n",
      "  -d MAX_DIST_3_PRIME, --max_dist_3_prime MAX_DIST_3_PRIME\n",
      "                        Maximum distance of alignment end to 3 prime of\n",
      "                        transcript. In ONT dRNA-Seq reads are assumed to start\n",
      "                        from the polyA tail (-1 to deactivate) (default: 50)\n",
      "                        [int]\n",
      "  -u MAX_DIST_5_PRIME, --max_dist_5_prime MAX_DIST_5_PRIME\n",
      "                        Maximum distance of alignment start to 5 prime of\n",
      "                        transcript. In conjunction with max_dist_3_prime it\n",
      "                        can be used to select near full transcript length\n",
      "                        reads only (-1 to deactivate). (default: -1) [int]\n",
      "\n",
      "Verbosity options:\n",
      "  -v, --verbose         Increase verbosity for QC and debugging (default:\n",
      "                        False) [boolean]\n",
      "  -q, --quiet           Reduce verbosity (default: False) [boolean]\n",
      "(nanocount) "
     ]
    },
    {
     "ename": "",
     "evalue": "1",
     "output_type": "error",
     "traceback": []
    }
   ],
   "source": [
    "NanoCount --help"
   ]
  },
  {
   "cell_type": "markdown",
   "metadata": {},
   "source": [
    "#### Basic command"
   ]
  },
  {
   "cell_type": "code",
   "execution_count": 6,
   "metadata": {
    "ExecuteTime": {
     "end_time": "2021-08-20T11:19:27.045289Z",
     "start_time": "2021-08-20T11:19:23.403154Z"
    }
   },
   "outputs": [
    {
     "name": "stdout",
     "output_type": "stream",
     "text": [
      "\u001b[01;34m## Checking options and input files ##\u001b[0m\n",
      "\u001b[01;34m## Initialise Nanocount ##\u001b[0m\n",
      "\u001b[32m\tParse Bam file and filter low quality alignments\u001b[0m\n",
      "\u001b[32m\tSummary of alignments parsed in input bam file\u001b[0m\n",
      "\u001b[32m\t\tValid alignments: 150,517\u001b[0m\n",
      "\u001b[32m\t\tDiscarded unmapped alignments: 9,545\u001b[0m\n",
      "\u001b[32m\t\tDiscarded alignment with invalid 3 prime end: 6,133\u001b[0m\n",
      "\u001b[32m\t\tDiscarded negative strand alignments: 4,515\u001b[0m\n",
      "\u001b[32m\t\tDiscarded supplementary alignments: 334\u001b[0m\n",
      "\u001b[32m\tSummary of reads filtered\u001b[0m\n",
      "\u001b[32m\t\tReads with valid best alignment: 85,174\u001b[0m\n",
      "\u001b[32m\t\tInvalid secondary alignments: 59,993\u001b[0m\n",
      "\u001b[32m\t\tValid secondary alignments: 2,618\u001b[0m\n",
      "\u001b[32m\t\tReads with low query fraction aligned: 2,362\u001b[0m\n",
      "\u001b[32m\tGenerate initial read/transcript compatibility index\u001b[0m\n",
      "\u001b[01;34m## Start EM abundance estimate ##\u001b[0m\n",
      "\tProgress: 2.00 rounds [00:00, 7.82 rounds/s]\n",
      "\u001b[32m\tExit EM loop after 2 rounds\u001b[0m\n",
      "\u001b[32m\tConvergence value: 0.0019459404177855882\u001b[0m\n",
      "\u001b[01;34m## Summarize data ##\u001b[0m\n",
      "\u001b[32m\tConvert results to dataframe\u001b[0m\n",
      "\u001b[32m\tCompute estimated counts and TPM\u001b[0m\n",
      "\u001b[32m\tWrite file\u001b[0m\n",
      "(nanocount) transcript_name\traw\test_count\ttpm\n",
      "YHR174W_mRNA\t0.5931738182127508\t50522.98679245284\t593173.8182127508\n",
      "YGR192C_mRNA\t0.021012356886554624\t1789.7064854554035\t21012.356886554626\n",
      "YLR110C_mRNA\t0.009674313757719492\t824.0\t9674.313757719492\n",
      "YOL086C_mRNA\t0.008371099161716017\t713.0\t8371.099161716018\n",
      "YKL060C_mRNA\t0.006574776340197713\t560.0\t6574.776340197713\n",
      "YPR080W_mRNA\t0.005300913424284406\t451.5\t5300.913424284407\n",
      "YBR118W_mRNA\t0.005300913424284406\t451.5\t5300.913424284407\n",
      "YLR044C_mRNA\t0.005107192335689295\t435.0\t5107.192335689295\n",
      "YKL152C_mRNA\t0.004238382605020311\t361.0\t4238.3826050203115\n",
      "(nanocount) "
     ]
    },
    {
     "ename": "",
     "evalue": "1",
     "output_type": "error",
     "traceback": []
    }
   ],
   "source": [
    "NanoCount -i ./data/aligned_reads_sorted.bam -o ./output/tx_counts.tsv\n",
    "head ./output/tx_counts.tsv"
   ]
  },
  {
   "cell_type": "markdown",
   "metadata": {},
   "source": [
    "#### Changing default distance to transcripts ends filters"
   ]
  },
  {
   "cell_type": "code",
   "execution_count": 5,
   "metadata": {
    "ExecuteTime": {
     "end_time": "2021-08-20T11:18:58.498823Z",
     "start_time": "2021-08-20T11:18:54.875859Z"
    },
    "scrolled": false
   },
   "outputs": [
    {
     "name": "stdout",
     "output_type": "stream",
     "text": [
      "\u001b[01;34m## Checking options and input files ##\u001b[0m\n",
      "\u001b[01;34m## Initialise Nanocount ##\u001b[0m\n",
      "\u001b[32m\tParse Bam file and filter low quality alignments\u001b[0m\n",
      "\u001b[32m\tSummary of alignments parsed in input bam file\u001b[0m\n",
      "\u001b[32m\t\tValid alignments: 150,517\u001b[0m\n",
      "\u001b[32m\t\tDiscarded unmapped alignments: 9,545\u001b[0m\n",
      "\u001b[32m\t\tDiscarded alignment with invalid 3 prime end: 6,133\u001b[0m\n",
      "\u001b[32m\t\tDiscarded negative strand alignments: 4,515\u001b[0m\n",
      "\u001b[32m\t\tDiscarded supplementary alignments: 334\u001b[0m\n",
      "\u001b[32m\tSummary of reads filtered\u001b[0m\n",
      "\u001b[32m\t\tReads with valid best alignment: 85,174\u001b[0m\n",
      "\u001b[32m\t\tInvalid secondary alignments: 59,993\u001b[0m\n",
      "\u001b[32m\t\tValid secondary alignments: 2,618\u001b[0m\n",
      "\u001b[32m\t\tReads with low query fraction aligned: 2,362\u001b[0m\n",
      "\u001b[32m\tGenerate initial read/transcript compatibility index\u001b[0m\n",
      "\u001b[01;34m## Start EM abundance estimate ##\u001b[0m\n",
      "\tProgress: 2.00 rounds [00:00, 7.56 rounds/s]\n",
      "\u001b[32m\tExit EM loop after 2 rounds\u001b[0m\n",
      "\u001b[32m\tConvergence value: 0.0019459404177855882\u001b[0m\n",
      "\u001b[01;34m## Summarize data ##\u001b[0m\n",
      "\u001b[32m\tConvert results to dataframe\u001b[0m\n",
      "\u001b[32m\tCompute estimated counts and TPM\u001b[0m\n",
      "\u001b[32m\tWrite file\u001b[0m\n",
      "(nanocount) transcript_name\traw\test_count\ttpm\n",
      "YHR174W_mRNA\t0.5931738182127508\t50522.98679245284\t593173.8182127508\n",
      "YGR192C_mRNA\t0.021012356886554624\t1789.7064854554035\t21012.356886554626\n",
      "YLR110C_mRNA\t0.009674313757719492\t824.0\t9674.313757719492\n",
      "YOL086C_mRNA\t0.008371099161716017\t713.0\t8371.099161716018\n",
      "YKL060C_mRNA\t0.006574776340197713\t560.0\t6574.776340197713\n",
      "YPR080W_mRNA\t0.005300913424284406\t451.5\t5300.913424284407\n",
      "YBR118W_mRNA\t0.005300913424284406\t451.5\t5300.913424284407\n",
      "YLR044C_mRNA\t0.005107192335689295\t435.0\t5107.192335689295\n",
      "YKL152C_mRNA\t0.004238382605020311\t361.0\t4238.3826050203115\n",
      "(nanocount) "
     ]
    },
    {
     "ename": "",
     "evalue": "1",
     "output_type": "error",
     "traceback": []
    }
   ],
   "source": [
    "NanoCount -i ./data/aligned_reads_sorted.bam -o ./output/tx_counts.tsv  --max_dist_3_prime 10 --max_dist_5_prime 10\n",
    "head ./output/tx_counts.tsv"
   ]
  },
  {
   "cell_type": "markdown",
   "metadata": {},
   "source": [
    "#### Adding extra transcripts information"
   ]
  },
  {
   "cell_type": "markdown",
   "metadata": {},
   "source": [
    "The `extra_tx_info` option adds a columns with the transcript lengths and also includes all the zero-coverage transcripts in the results"
   ]
  },
  {
   "cell_type": "code",
   "execution_count": 7,
   "metadata": {
    "ExecuteTime": {
     "end_time": "2021-08-20T11:20:41.067658Z",
     "start_time": "2021-08-20T11:20:37.372644Z"
    },
    "scrolled": false
   },
   "outputs": [
    {
     "name": "stdout",
     "output_type": "stream",
     "text": [
      "\u001b[01;34m## Checking options and input files ##\u001b[0m\n",
      "\u001b[01;34m## Initialise Nanocount ##\u001b[0m\n",
      "\u001b[32m\tParse Bam file and filter low quality alignments\u001b[0m\n",
      "\u001b[32m\tSummary of alignments parsed in input bam file\u001b[0m\n",
      "\u001b[32m\t\tValid alignments: 150,517\u001b[0m\n",
      "\u001b[32m\t\tDiscarded unmapped alignments: 9,545\u001b[0m\n",
      "\u001b[32m\t\tDiscarded alignment with invalid 3 prime end: 6,133\u001b[0m\n",
      "\u001b[32m\t\tDiscarded negative strand alignments: 4,515\u001b[0m\n",
      "\u001b[32m\t\tDiscarded supplementary alignments: 334\u001b[0m\n",
      "\u001b[32m\tSummary of reads filtered\u001b[0m\n",
      "\u001b[32m\t\tReads with valid best alignment: 85,174\u001b[0m\n",
      "\u001b[32m\t\tInvalid secondary alignments: 59,993\u001b[0m\n",
      "\u001b[32m\t\tValid secondary alignments: 2,618\u001b[0m\n",
      "\u001b[32m\t\tReads with low query fraction aligned: 2,362\u001b[0m\n",
      "\u001b[32m\tGenerate initial read/transcript compatibility index\u001b[0m\n",
      "\u001b[01;34m## Start EM abundance estimate ##\u001b[0m\n",
      "\tProgress: 2.00 rounds [00:00, 7.76 rounds/s]\n",
      "\u001b[32m\tExit EM loop after 2 rounds\u001b[0m\n",
      "\u001b[32m\tConvergence value: 0.0019459404177855882\u001b[0m\n",
      "\u001b[01;34m## Summarize data ##\u001b[0m\n",
      "\u001b[32m\tConvert results to dataframe\u001b[0m\n",
      "\u001b[32m\tCompute estimated counts and TPM\u001b[0m\n",
      "\u001b[32m\tWrite file\u001b[0m\n",
      "(nanocount) transcript_name\traw\test_count\ttpm\ttranscript_length\n",
      "YHR174W_mRNA\t0.5931738182127508\t50522.98679245284\t593173.8182127508\t1314\n",
      "YGR192C_mRNA\t0.021012356886554624\t1789.7064854554035\t21012.356886554626\t999\n",
      "YLR110C_mRNA\t0.009674313757719492\t824.0\t9674.313757719492\t402\n",
      "YOL086C_mRNA\t0.008371099161716017\t713.0\t8371.099161716018\t1047\n",
      "YKL060C_mRNA\t0.006574776340197713\t560.0\t6574.776340197713\t1080\n",
      "YPR080W_mRNA\t0.005300913424284406\t451.5\t5300.913424284407\t1377\n",
      "YBR118W_mRNA\t0.005300913424284406\t451.5\t5300.913424284407\t1377\n",
      "YLR044C_mRNA\t0.005107192335689295\t435.0\t5107.192335689295\t1692\n",
      "YKL152C_mRNA\t0.004238382605020311\t361.0\t4238.3826050203115\t744\n",
      "(nanocount) "
     ]
    },
    {
     "ename": "",
     "evalue": "1",
     "output_type": "error",
     "traceback": []
    }
   ],
   "source": [
    "NanoCount -i ./data/aligned_reads_sorted.bam -o ./output/tx_counts.tsv --extra_tx_info\n",
    "head ./output/tx_counts.tsv"
   ]
  },
  {
   "cell_type": "markdown",
   "metadata": {},
   "source": [
    "#### Write selected alignment to BAM file"
   ]
  },
  {
   "cell_type": "code",
   "execution_count": 8,
   "metadata": {
    "ExecuteTime": {
     "end_time": "2021-08-20T11:20:56.534515Z",
     "start_time": "2021-08-20T11:20:43.260257Z"
    }
   },
   "outputs": [
    {
     "name": "stdout",
     "output_type": "stream",
     "text": [
      "\u001b[01;34m## Checking options and input files ##\u001b[0m\n",
      "\u001b[01;34m## Initialise Nanocount ##\u001b[0m\n",
      "\u001b[32m\tParse Bam file and filter low quality alignments\u001b[0m\n",
      "\u001b[32m\tSummary of alignments parsed in input bam file\u001b[0m\n",
      "\u001b[32m\t\tValid alignments: 150,517\u001b[0m\n",
      "\u001b[32m\t\tDiscarded unmapped alignments: 9,545\u001b[0m\n",
      "\u001b[32m\t\tDiscarded alignment with invalid 3 prime end: 6,133\u001b[0m\n",
      "\u001b[32m\t\tDiscarded negative strand alignments: 4,515\u001b[0m\n",
      "\u001b[32m\t\tDiscarded supplementary alignments: 334\u001b[0m\n",
      "\u001b[32m\tSummary of reads filtered\u001b[0m\n",
      "\u001b[32m\t\tReads with valid best alignment: 85,174\u001b[0m\n",
      "\u001b[32m\t\tInvalid secondary alignments: 59,993\u001b[0m\n",
      "\u001b[32m\t\tValid secondary alignments: 2,618\u001b[0m\n",
      "\u001b[32m\t\tReads with low query fraction aligned: 2,362\u001b[0m\n",
      "\u001b[32m\tWrite selected alignments to BAM file\u001b[0m\n",
      "\u001b[32m\tSummary of alignments written to bam\u001b[0m\n",
      "\u001b[32m\t\tAlignments to select: 87,792\u001b[0m\n",
      "\u001b[32m\t\tAlignments written: 87,792\u001b[0m\n",
      "\u001b[32m\t\tAlignments skipped: 83,252\u001b[0m\n",
      "\u001b[32m\tGenerate initial read/transcript compatibility index\u001b[0m\n",
      "\u001b[01;34m## Start EM abundance estimate ##\u001b[0m\n",
      "\tProgress: 2.00 rounds [00:00, 7.56 rounds/s]\n",
      "\u001b[32m\tExit EM loop after 2 rounds\u001b[0m\n",
      "\u001b[32m\tConvergence value: 0.0019459404177855882\u001b[0m\n",
      "\u001b[01;34m## Summarize data ##\u001b[0m\n",
      "\u001b[32m\tConvert results to dataframe\u001b[0m\n",
      "\u001b[32m\tCompute estimated counts and TPM\u001b[0m\n",
      "\u001b[32m\tWrite file\u001b[0m\n",
      "(nanocount) transcript_name\traw\test_count\ttpm\ttranscript_length\n",
      "YHR174W_mRNA\t0.5931738182127508\t50522.98679245284\t593173.8182127508\t1314\n",
      "YGR192C_mRNA\t0.021012356886554624\t1789.7064854554035\t21012.356886554626\t999\n",
      "YLR110C_mRNA\t0.009674313757719492\t824.0\t9674.313757719492\t402\n",
      "YOL086C_mRNA\t0.008371099161716017\t713.0\t8371.099161716018\t1047\n",
      "YKL060C_mRNA\t0.006574776340197713\t560.0\t6574.776340197713\t1080\n",
      "YPR080W_mRNA\t0.005300913424284406\t451.5\t5300.913424284407\t1377\n",
      "YBR118W_mRNA\t0.005300913424284406\t451.5\t5300.913424284407\t1377\n",
      "YLR044C_mRNA\t0.005107192335689295\t435.0\t5107.192335689295\t1692\n",
      "YKL152C_mRNA\t0.004238382605020311\t361.0\t4238.3826050203115\t744\n",
      "(nanocount) "
     ]
    },
    {
     "ename": "",
     "evalue": "1",
     "output_type": "error",
     "traceback": []
    }
   ],
   "source": [
    "NanoCount -i ./data/aligned_reads_sorted.bam -o ./output/tx_counts.tsv -b ./output/aligned_reads_selected.bam --extra_tx_info\n",
    "head ./output/tx_counts.tsv"
   ]
  },
  {
   "cell_type": "markdown",
   "metadata": {},
   "source": [
    "#### Relaxing the secondary alignment scoring threshold"
   ]
  },
  {
   "cell_type": "markdown",
   "metadata": {},
   "source": [
    "The default value is 0.95 (95% of the alignment score of the primary alignment) but this value could be lowered to allow more secondary alignments to be included in the uncertainty calculation.\n",
    "Lowering the value bellow 0.75 might not be relevant and will considerably increase the computation time."
   ]
  },
  {
   "cell_type": "code",
   "execution_count": 11,
   "metadata": {
    "ExecuteTime": {
     "end_time": "2021-08-20T11:23:16.033194Z",
     "start_time": "2021-08-20T11:23:10.049173Z"
    }
   },
   "outputs": [
    {
     "name": "stdout",
     "output_type": "stream",
     "text": [
      "\u001b[01;34m## Checking options and input files ##\u001b[0m\n",
      "\u001b[01;34m## Initialise Nanocount ##\u001b[0m\n",
      "\u001b[32m\tParse Bam file and filter low quality alignments\u001b[0m\n",
      "\u001b[32m\tSummary of alignments parsed in input bam file\u001b[0m\n",
      "\u001b[32m\t\tValid alignments: 150,517\u001b[0m\n",
      "\u001b[32m\t\tDiscarded unmapped alignments: 9,545\u001b[0m\n",
      "\u001b[32m\t\tDiscarded alignment with invalid 3 prime end: 6,133\u001b[0m\n",
      "\u001b[32m\t\tDiscarded negative strand alignments: 4,515\u001b[0m\n",
      "\u001b[32m\t\tDiscarded supplementary alignments: 334\u001b[0m\n",
      "\u001b[32m\tSummary of reads filtered\u001b[0m\n",
      "\u001b[32m\t\tReads with valid best alignment: 85,174\u001b[0m\n",
      "\u001b[32m\t\tValid secondary alignments: 49,061\u001b[0m\n",
      "\u001b[32m\t\tInvalid secondary alignments: 13,550\u001b[0m\n",
      "\u001b[32m\t\tReads with low query fraction aligned: 2,362\u001b[0m\n",
      "\u001b[32m\tGenerate initial read/transcript compatibility index\u001b[0m\n",
      "\u001b[01;34m## Start EM abundance estimate ##\u001b[0m\n",
      "\tProgress: 17.0 rounds [00:02, 6.69 rounds/s]\n",
      "\u001b[32m\tExit EM loop after 17 rounds\u001b[0m\n",
      "\u001b[32m\tConvergence value: 0.004898135236430615\u001b[0m\n",
      "\u001b[01;34m## Summarize data ##\u001b[0m\n",
      "\u001b[32m\tConvert results to dataframe\u001b[0m\n",
      "\u001b[32m\tCompute estimated counts and TPM\u001b[0m\n",
      "\u001b[32m\tWrite file\u001b[0m\n",
      "(nanocount) transcript_name\traw\test_count\ttpm\n",
      "YHR174W_mRNA\t0.5829682504382943\t49653.737762831275\t582968.2504382943\n",
      "YGR192C_mRNA\t0.01511479453374923\t1287.3875096175568\t15114.79453374923\n",
      "YGR254W_mRNA\t0.01128586466687533\t961.2622371364395\t11285.86466687533\n",
      "YLR110C_mRNA\t0.009674313757719525\t824.0000000000028\t9674.313757719525\n",
      "YJR009C_mRNA\t0.009499248602267904\t809.0890004495665\t9499.248602267904\n",
      "YOL086C_mRNA\t0.008371099161716045\t713.0000000000024\t8371.099161716045\n",
      "YKL060C_mRNA\t0.0065747763401977355\t560.0000000000019\t6574.776340197735\n",
      "YPR080W_mRNA\t0.005300913424284424\t451.5000000000016\t5300.913424284425\n",
      "YBR118W_mRNA\t0.005300913424284424\t451.5000000000016\t5300.913424284425\n",
      "(nanocount) "
     ]
    },
    {
     "ename": "",
     "evalue": "1",
     "output_type": "error",
     "traceback": []
    }
   ],
   "source": [
    "NanoCount -i ./data/aligned_reads_sorted.bam -o ./output/tx_counts.tsv --sec_scoring_threshold 0.8\n",
    "head ./output/tx_counts.tsv"
   ]
  },
  {
   "cell_type": "markdown",
   "metadata": {},
   "source": [
    "#### verbose mode"
   ]
  },
  {
   "cell_type": "markdown",
   "metadata": {},
   "source": [
    "Print additional information for QC and debugging"
   ]
  },
  {
   "cell_type": "code",
   "execution_count": 13,
   "metadata": {
    "ExecuteTime": {
     "end_time": "2021-08-20T11:24:05.525711Z",
     "start_time": "2021-08-20T11:23:59.679414Z"
    }
   },
   "outputs": [
    {
     "name": "stdout",
     "output_type": "stream",
     "text": [
      "\u001b[01;34m## Checking options and input files ##\u001b[0m\n",
      "\u001b[37m\t[DEBUG]: Options summary\u001b[0m\n",
      "\u001b[37m\t[DEBUG]: \tPackage name: NanoCount\u001b[0m\n",
      "\u001b[37m\t[DEBUG]: \tPackage version: 0.2.6.post2\u001b[0m\n",
      "\u001b[37m\t[DEBUG]: \tTimestamp: 2021-08-20 12:24:00.070099\u001b[0m\n",
      "\u001b[37m\t[DEBUG]: \talignment_file: ./data/aligned_reads_sorted.bam\u001b[0m\n",
      "\u001b[37m\t[DEBUG]: \tcount_file: ./output/tx_counts.tsv\u001b[0m\n",
      "\u001b[37m\t[DEBUG]: \tfilter_bam_out: \u001b[0m\n",
      "\u001b[37m\t[DEBUG]: \tmin_alignment_length: 50\u001b[0m\n",
      "\u001b[37m\t[DEBUG]: \tkeep_suplementary: False\u001b[0m\n",
      "\u001b[37m\t[DEBUG]: \tmin_query_fraction_aligned: 0.5\u001b[0m\n",
      "\u001b[37m\t[DEBUG]: \tsec_scoring_threshold: 0.8\u001b[0m\n",
      "\u001b[37m\t[DEBUG]: \tsec_scoring_value: alignment_score\u001b[0m\n",
      "\u001b[37m\t[DEBUG]: \tconvergence_target: 0.005\u001b[0m\n",
      "\u001b[37m\t[DEBUG]: \tmax_em_rounds: 100\u001b[0m\n",
      "\u001b[37m\t[DEBUG]: \textra_tx_info: False\u001b[0m\n",
      "\u001b[37m\t[DEBUG]: \tprimary_score: primary\u001b[0m\n",
      "\u001b[37m\t[DEBUG]: \tmax_dist_3_prime: 50\u001b[0m\n",
      "\u001b[37m\t[DEBUG]: \tmax_dist_5_prime: -1\u001b[0m\n",
      "\u001b[37m\t[DEBUG]: \tverbose: True\u001b[0m\n",
      "\u001b[37m\t[DEBUG]: \tquiet: False\u001b[0m\n",
      "\u001b[01;34m## Initialise Nanocount ##\u001b[0m\n",
      "\u001b[32m\tParse Bam file and filter low quality alignments\u001b[0m\n",
      "\u001b[32m\tSummary of alignments parsed in input bam file\u001b[0m\n",
      "\u001b[32m\t\tValid alignments: 150,517\u001b[0m\n",
      "\u001b[32m\t\tDiscarded unmapped alignments: 9,545\u001b[0m\n",
      "\u001b[32m\t\tDiscarded alignment with invalid 3 prime end: 6,133\u001b[0m\n",
      "\u001b[32m\t\tDiscarded negative strand alignments: 4,515\u001b[0m\n",
      "\u001b[32m\t\tDiscarded supplementary alignments: 334\u001b[0m\n",
      "\u001b[32m\tSummary of reads filtered\u001b[0m\n",
      "\u001b[32m\t\tReads with valid best alignment: 85,174\u001b[0m\n",
      "\u001b[32m\t\tValid secondary alignments: 49,061\u001b[0m\n",
      "\u001b[32m\t\tInvalid secondary alignments: 13,550\u001b[0m\n",
      "\u001b[32m\t\tReads with low query fraction aligned: 2,362\u001b[0m\n",
      "\u001b[32m\tGenerate initial read/transcript compatibility index\u001b[0m\n",
      "\u001b[01;34m## Start EM abundance estimate ##\u001b[0m\n",
      "\u001b[37m\t[DEBUG]: EM Round: 1 / Convergence value: 1\u001b[0m\n",
      "\u001b[37m\t[DEBUG]: EM Round: 2 / Convergence value: 0.09090203825252254\u001b[0m\n",
      "\u001b[37m\t[DEBUG]: EM Round: 3 / Convergence value: 0.0736696934145894\u001b[0m\n",
      "\u001b[37m\t[DEBUG]: EM Round: 4 / Convergence value: 0.06030744881675108\u001b[0m\n",
      "\u001b[37m\t[DEBUG]: EM Round: 5 / Convergence value: 0.04945520814609723\u001b[0m\n",
      "\u001b[37m\t[DEBUG]: EM Round: 6 / Convergence value: 0.040588411338554425\u001b[0m\n",
      "\u001b[37m\t[DEBUG]: EM Round: 7 / Convergence value: 0.033332935640257265\u001b[0m\n",
      "\u001b[37m\t[DEBUG]: EM Round: 8 / Convergence value: 0.027392158452253346\u001b[0m\n",
      "\u001b[37m\t[DEBUG]: EM Round: 9 / Convergence value: 0.02252588737728311\u001b[0m\n",
      "\u001b[37m\t[DEBUG]: EM Round: 10 / Convergence value: 0.01853845818292713\u001b[0m\n",
      "\u001b[37m\t[DEBUG]: EM Round: 11 / Convergence value: 0.015270164148204899\u001b[0m\n",
      "\u001b[37m\t[DEBUG]: EM Round: 12 / Convergence value: 0.012590519512687137\u001b[0m\n",
      "\u001b[37m\t[DEBUG]: EM Round: 13 / Convergence value: 0.01039289639238338\u001b[0m\n",
      "\u001b[37m\t[DEBUG]: EM Round: 14 / Convergence value: 0.008590022113519162\u001b[0m\n",
      "\u001b[37m\t[DEBUG]: EM Round: 15 / Convergence value: 0.0071104512117964\u001b[0m\n",
      "\u001b[37m\t[DEBUG]: EM Round: 16 / Convergence value: 0.0058957637298921554\u001b[0m\n",
      "\u001b[37m\t[DEBUG]: EM Round: 17 / Convergence value: 0.004898135236430615\u001b[0m\n",
      "\u001b[32m\tExit EM loop after 17 rounds\u001b[0m\n",
      "\u001b[32m\tConvergence value: 0.004898135236430615\u001b[0m\n",
      "\u001b[01;34m## Summarize data ##\u001b[0m\n",
      "\u001b[32m\tConvert results to dataframe\u001b[0m\n",
      "\u001b[32m\tCompute estimated counts and TPM\u001b[0m\n",
      "\u001b[32m\tWrite file\u001b[0m\n",
      "(nanocount) "
     ]
    },
    {
     "ename": "",
     "evalue": "1",
     "output_type": "error",
     "traceback": []
    }
   ],
   "source": [
    "NanoCount -i ./data/aligned_reads_sorted.bam -o ./output/tx_counts.tsv --sec_scoring_threshold 0.8  --verbose"
   ]
  }
 ],
 "metadata": {
  "kernelspec": {
   "display_name": "Bash",
   "language": "bash",
   "name": "bash"
  },
  "language_info": {
   "codemirror_mode": "shell",
   "file_extension": ".sh",
   "mimetype": "text/x-sh",
   "name": "bash"
  }
 },
 "nbformat": 4,
 "nbformat_minor": 4
}
