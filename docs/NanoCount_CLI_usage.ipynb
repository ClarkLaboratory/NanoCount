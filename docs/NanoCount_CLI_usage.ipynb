{
 "cells": [
  {
   "cell_type": "markdown",
   "metadata": {
    "ExecuteTime": {
     "end_time": "2020-05-04T11:02:46.918334Z",
     "start_time": "2020-05-04T11:02:46.911996Z"
    }
   },
   "source": [
    "# NanoCount command line usage"
   ]
  },
  {
   "cell_type": "markdown",
   "metadata": {
    "ExecuteTime": {
     "end_time": "2020-05-04T12:47:10.312567Z",
     "start_time": "2020-05-04T12:47:10.033440Z"
    }
   },
   "source": [
    "### Activate virtual environment"
   ]
  },
  {
   "cell_type": "code",
   "execution_count": 1,
   "metadata": {
    "ExecuteTime": {
     "end_time": "2021-09-08T21:52:45.483334Z",
     "start_time": "2021-09-08T21:52:45.263673Z"
    }
   },
   "outputs": [
    {
     "name": "stdout",
     "output_type": "stream",
     "text": [
      "(nanocount) "
     ]
    },
    {
     "ename": "",
     "evalue": "1",
     "output_type": "error",
     "traceback": []
    }
   ],
   "source": [
    "conda activate nanocount"
   ]
  },
  {
   "cell_type": "markdown",
   "metadata": {},
   "source": [
    "### Running NanoCount"
   ]
  },
  {
   "cell_type": "code",
   "execution_count": 2,
   "metadata": {
    "ExecuteTime": {
     "end_time": "2021-09-08T21:52:47.002419Z",
     "start_time": "2021-09-08T21:52:46.488767Z"
    },
    "scrolled": false
   },
   "outputs": [
    {
     "name": "stdout",
     "output_type": "stream",
     "text": [
      "usage: NanoCount [-h] [--version] -i ALIGNMENT_FILE [-o COUNT_FILE]\n",
      "                 [-b FILTER_BAM_OUT] [-l MIN_ALIGNMENT_LENGTH]\n",
      "                 [-f MIN_QUERY_FRACTION_ALIGNED] [-s SEC_SCORING_VALUE]\n",
      "                 [-t SEC_SCORING_THRESHOLD] [-c CONVERGENCE_TARGET]\n",
      "                 [-e MAX_EM_ROUNDS] [-x] [-p PRIMARY_SCORE] [-a]\n",
      "                 [-d MAX_DIST_3_PRIME] [-u MAX_DIST_5_PRIME] [-v] [-q]\n",
      "\n",
      "NanoCount estimates transcripts abundance from Oxford Nanopore *direct-RNA\n",
      "sequencing* datasets, using an expectation-maximization approach like RSEM,\n",
      "Kallisto, salmon, etc to handle the uncertainty of multi-mapping reads\n",
      "\n",
      "optional arguments:\n",
      "  -h, --help            show this help message and exit\n",
      "  --version             show program's version number and exit\n",
      "\n",
      "Input/Output options:\n",
      "  -i ALIGNMENT_FILE, --alignment_file ALIGNMENT_FILE\n",
      "                        Sorted and indexed BAM or SAM file containing aligned\n",
      "                        ONT dRNA-Seq reads including secondary alignments\n",
      "                        (required) [str]\n",
      "  -o COUNT_FILE, --count_file COUNT_FILE\n",
      "                        Output file path where to write estimated counts (TSV\n",
      "                        format) (default: None) [str]\n",
      "  -b FILTER_BAM_OUT, --filter_bam_out FILTER_BAM_OUT\n",
      "                        Optional output file path where to write filtered\n",
      "                        reads selected by NanoCount to perform quantification\n",
      "                        estimation (BAM format) (default: None) [str]\n",
      "\n",
      "Misc options:\n",
      "  -l MIN_ALIGNMENT_LENGTH, --min_alignment_length MIN_ALIGNMENT_LENGTH\n",
      "                        Minimal length of the alignment to be considered valid\n",
      "                        (default: 50) [int]\n",
      "  -f MIN_QUERY_FRACTION_ALIGNED, --min_query_fraction_aligned MIN_QUERY_FRACTION_ALIGNED\n",
      "                        Minimal fraction of the primary alignment query\n",
      "                        aligned to consider the read valid (default: 0.5)\n",
      "                        [float]\n",
      "  -s SEC_SCORING_VALUE, --sec_scoring_value SEC_SCORING_VALUE\n",
      "                        Value to use for score thresholding of secondary\n",
      "                        alignments either \"alignment_score\" or\n",
      "                        \"alignment_length\" (default: alignment_score) [str]\n",
      "  -t SEC_SCORING_THRESHOLD, --sec_scoring_threshold SEC_SCORING_THRESHOLD\n",
      "                        Fraction of the alignment score or the alignment\n",
      "                        length of secondary alignments compared to the primary\n",
      "                        alignment to be considered valid alignments (default:\n",
      "                        0.95) [float]\n",
      "  -c CONVERGENCE_TARGET, --convergence_target CONVERGENCE_TARGET\n",
      "                        Convergence target value of the cummulative difference\n",
      "                        between abundance values of successive EM round to\n",
      "                        trigger the end of the EM loop. (default: 0.005)\n",
      "                        [float]\n",
      "  -e MAX_EM_ROUNDS, --max_em_rounds MAX_EM_ROUNDS\n",
      "                        Maximum number of EM rounds before triggering stop\n",
      "                        (default: 100) [int]\n",
      "  -x, --extra_tx_info   Add transcripts length and zero coverage transcripts\n",
      "                        to the output file (required valid bam/sam header)\n",
      "                        (default: False) [boolean]\n",
      "  -p PRIMARY_SCORE, --primary_score PRIMARY_SCORE\n",
      "                        Method to pick the best alignment for each read. By\n",
      "                        default (\"alignment_score\") uses the best alignment\n",
      "                        score (AS optional field), but it can be changed to\n",
      "                        use either the primary alignment defined by the\n",
      "                        aligner (\"primary\") or the longest alignment\n",
      "                        (\"alignment_length\"). choices = [primary,\n",
      "                        alignment_score, alignment_length] (default:\n",
      "                        alignment_score) [str]\n",
      "  -a, --keep_supplementary\n",
      "                        Retain any supplementary alignments and considered\n",
      "                        them like secondary alignments. Discarded by default.\n",
      "                        (default: False) [boolean]\n",
      "  -d MAX_DIST_3_PRIME, --max_dist_3_prime MAX_DIST_3_PRIME\n",
      "                        Maximum distance of alignment end to 3 prime of\n",
      "                        transcript. In ONT dRNA-Seq reads are assumed to start\n",
      "                        from the polyA tail (-1 to deactivate) (default: 50)\n",
      "                        [int]\n",
      "  -u MAX_DIST_5_PRIME, --max_dist_5_prime MAX_DIST_5_PRIME\n",
      "                        Maximum distance of alignment start to 5 prime of\n",
      "                        transcript. In conjunction with max_dist_3_prime it\n",
      "                        can be used to select near full transcript reads only\n",
      "                        (-1 to deactivate). (default: -1) [int]\n",
      "\n",
      "Verbosity options:\n",
      "  -v, --verbose         Increase verbosity for QC and debugging (default:\n",
      "                        False) [boolean]\n",
      "  -q, --quiet           Reduce verbosity (default: False) [boolean]\n",
      "(nanocount) "
     ]
    },
    {
     "ename": "",
     "evalue": "1",
     "output_type": "error",
     "traceback": []
    }
   ],
   "source": [
    "NanoCount --help"
   ]
  },
  {
   "cell_type": "markdown",
   "metadata": {},
   "source": [
    "#### Basic command"
   ]
  },
  {
   "cell_type": "code",
   "execution_count": 3,
   "metadata": {
    "ExecuteTime": {
     "end_time": "2021-09-08T21:53:22.670410Z",
     "start_time": "2021-09-08T21:53:18.933338Z"
    }
   },
   "outputs": [
    {
     "name": "stdout",
     "output_type": "stream",
     "text": [
      "\u001b[01;34m## Checking options and input files ##\u001b[0m\n",
      "\u001b[01;34m## Initialise Nanocount ##\u001b[0m\n",
      "\u001b[32m\tParse Bam file and filter low quality alignments\u001b[0m\n",
      "\u001b[32m\tSummary of alignments parsed in input bam file\u001b[0m\n",
      "\u001b[32m\t\tValid alignments: 150,517\u001b[0m\n",
      "\u001b[32m\t\tDiscarded unmapped alignments: 9,545\u001b[0m\n",
      "\u001b[32m\t\tDiscarded alignment with invalid 3 prime end: 6,133\u001b[0m\n",
      "\u001b[32m\t\tDiscarded negative strand alignments: 4,515\u001b[0m\n",
      "\u001b[32m\t\tDiscarded supplementary alignments: 334\u001b[0m\n",
      "\u001b[32m\tSummary of reads filtered\u001b[0m\n",
      "\u001b[32m\t\tReads with valid best alignment: 85,908\u001b[0m\n",
      "\u001b[32m\t\tInvalid secondary alignments: 60,120\u001b[0m\n",
      "\u001b[32m\t\tValid secondary alignments: 2,622\u001b[0m\n",
      "\u001b[32m\t\tReads with low query fraction aligned: 1,628\u001b[0m\n",
      "\u001b[32m\tGenerate initial read/transcript compatibility index\u001b[0m\n",
      "\u001b[01;34m## Start EM abundance estimate ##\u001b[0m\n",
      "\tProgress: 2.00 rounds [00:00, 7.41 rounds/s]\n",
      "\u001b[32m\tExit EM loop after 2 rounds\u001b[0m\n",
      "\u001b[32m\tConvergence value: 0.0019361726963877538\u001b[0m\n",
      "\u001b[01;34m## Summarize data ##\u001b[0m\n",
      "\u001b[32m\tConvert results to dataframe\u001b[0m\n",
      "\u001b[32m\tCompute estimated counts and TPM\u001b[0m\n",
      "\u001b[32m\tWrite file\u001b[0m\n",
      "(nanocount) transcript_name\traw\test_count\ttpm\n",
      "YHR174W_mRNA\t0.5881056948454584\t50522.984032783635\t588105.6948454584\n",
      "YGR192C_mRNA\t0.02083282680839274\t1789.7064854554035\t20832.82680839274\n",
      "YLR110C_mRNA\t0.009591656190343158\t824.0\t9591.656190343158\n",
      "YOL086C_mRNA\t0.008299576290915864\t713.0\t8299.576290915864\n",
      "YKL060C_mRNA\t0.006518601294407972\t560.0\t6518.601294407972\n",
      "YCR012W_mRNA\t0.005412767146249476\t464.99999999999994\t5412.767146249475\n",
      "YPR080W_mRNA\t0.005255622293616427\t451.5\t5255.622293616427\n",
      "YBR118W_mRNA\t0.005255622293616427\t451.5\t5255.622293616427\n",
      "YKL152C_mRNA\t0.005226521394980677\t449.0\t5226.5213949806775\n",
      "(nanocount) "
     ]
    },
    {
     "ename": "",
     "evalue": "1",
     "output_type": "error",
     "traceback": []
    }
   ],
   "source": [
    "NanoCount -i ./data/aligned_reads_sorted.bam -o ./output/tx_counts.tsv\n",
    "head ./output/tx_counts.tsv"
   ]
  },
  {
   "cell_type": "markdown",
   "metadata": {},
   "source": [
    "#### Changing default distance to transcripts ends filters"
   ]
  },
  {
   "cell_type": "code",
   "execution_count": 4,
   "metadata": {
    "ExecuteTime": {
     "end_time": "2021-09-08T21:53:27.397477Z",
     "start_time": "2021-09-08T21:53:24.529351Z"
    },
    "scrolled": false
   },
   "outputs": [
    {
     "name": "stdout",
     "output_type": "stream",
     "text": [
      "\u001b[01;34m## Checking options and input files ##\u001b[0m\n",
      "\u001b[01;34m## Initialise Nanocount ##\u001b[0m\n",
      "\u001b[32m\tParse Bam file and filter low quality alignments\u001b[0m\n",
      "\u001b[32m\tSummary of alignments parsed in input bam file\u001b[0m\n",
      "\u001b[32m\t\tValid alignments: 73,329\u001b[0m\n",
      "\u001b[32m\t\tDiscarded alignment with invalid 5 prime end: 44,897\u001b[0m\n",
      "\u001b[32m\t\tDiscarded alignment with invalid 3 prime end: 38,424\u001b[0m\n",
      "\u001b[32m\t\tDiscarded unmapped alignments: 9,545\u001b[0m\n",
      "\u001b[32m\t\tDiscarded negative strand alignments: 4,515\u001b[0m\n",
      "\u001b[32m\t\tDiscarded supplementary alignments: 334\u001b[0m\n",
      "\u001b[32m\tSummary of reads filtered\u001b[0m\n",
      "\u001b[32m\t\tReads with valid best alignment: 46,241\u001b[0m\n",
      "\u001b[32m\t\tInvalid secondary alignments: 25,688\u001b[0m\n",
      "\u001b[32m\t\tReads with low query fraction aligned: 687\u001b[0m\n",
      "\u001b[32m\t\tValid secondary alignments: 606\u001b[0m\n",
      "\u001b[32m\tGenerate initial read/transcript compatibility index\u001b[0m\n",
      "\u001b[01;34m## Start EM abundance estimate ##\u001b[0m\n",
      "\tProgress: 2.00 rounds [00:00, 13.8 rounds/s]\n",
      "\u001b[32m\tExit EM loop after 2 rounds\u001b[0m\n",
      "\u001b[32m\tConvergence value: 0.000702479043822885\u001b[0m\n",
      "\u001b[01;34m## Summarize data ##\u001b[0m\n",
      "\u001b[32m\tConvert results to dataframe\u001b[0m\n",
      "\u001b[32m\tCompute estimated counts and TPM\u001b[0m\n",
      "\u001b[32m\tWrite file\u001b[0m\n",
      "(nanocount) transcript_name\traw\test_count\ttpm\n",
      "YHR174W_mRNA\t0.6314525433905865\t29198.997058924113\t631452.5433905865\n",
      "YGR192C_mRNA\t0.02019852511840142\t934.0\t20198.52511840142\n",
      "YLR110C_mRNA\t0.011461689842347701\t530.0\t11461.689842347701\n",
      "YOL086C_mRNA\t0.008217815358664388\t379.99999999999994\t8217.815358664388\n",
      "YKL152C_mRNA\t0.005428083302696741\t251.0\t5428.083302696741\n",
      "YKL060C_mRNA\t0.005384831642914297\t249.0\t5384.831642914297\n",
      "YDL081C_mRNA\t0.005125321684219632\t237.0\t5125.321684219632\n",
      "YOR369C_mRNA\t0.004433295127700526\t205.0\t4433.295127700526\n",
      "YDL130W_mRNA\t0.004152159339114638\t191.99999999999997\t4152.159339114638\n",
      "(nanocount) "
     ]
    },
    {
     "ename": "",
     "evalue": "1",
     "output_type": "error",
     "traceback": []
    }
   ],
   "source": [
    "NanoCount -i ./data/aligned_reads_sorted.bam -o ./output/tx_counts.tsv  --max_dist_3_prime 10 --max_dist_5_prime 10\n",
    "head ./output/tx_counts.tsv"
   ]
  },
  {
   "cell_type": "markdown",
   "metadata": {},
   "source": [
    "#### Adding extra transcripts information"
   ]
  },
  {
   "cell_type": "markdown",
   "metadata": {},
   "source": [
    "The `extra_tx_info` option adds a columns with the transcript lengths and also includes all the zero-coverage transcripts in the results"
   ]
  },
  {
   "cell_type": "code",
   "execution_count": 5,
   "metadata": {
    "ExecuteTime": {
     "end_time": "2021-09-08T21:53:34.881985Z",
     "start_time": "2021-09-08T21:53:31.280354Z"
    },
    "scrolled": false
   },
   "outputs": [
    {
     "name": "stdout",
     "output_type": "stream",
     "text": [
      "\u001b[01;34m## Checking options and input files ##\u001b[0m\n",
      "\u001b[01;34m## Initialise Nanocount ##\u001b[0m\n",
      "\u001b[32m\tParse Bam file and filter low quality alignments\u001b[0m\n",
      "\u001b[32m\tSummary of alignments parsed in input bam file\u001b[0m\n",
      "\u001b[32m\t\tValid alignments: 150,517\u001b[0m\n",
      "\u001b[32m\t\tDiscarded unmapped alignments: 9,545\u001b[0m\n",
      "\u001b[32m\t\tDiscarded alignment with invalid 3 prime end: 6,133\u001b[0m\n",
      "\u001b[32m\t\tDiscarded negative strand alignments: 4,515\u001b[0m\n",
      "\u001b[32m\t\tDiscarded supplementary alignments: 334\u001b[0m\n",
      "\u001b[32m\tSummary of reads filtered\u001b[0m\n",
      "\u001b[32m\t\tReads with valid best alignment: 85,908\u001b[0m\n",
      "\u001b[32m\t\tInvalid secondary alignments: 60,120\u001b[0m\n",
      "\u001b[32m\t\tValid secondary alignments: 2,622\u001b[0m\n",
      "\u001b[32m\t\tReads with low query fraction aligned: 1,628\u001b[0m\n",
      "\u001b[32m\tGenerate initial read/transcript compatibility index\u001b[0m\n",
      "\u001b[01;34m## Start EM abundance estimate ##\u001b[0m\n",
      "\tProgress: 2.00 rounds [00:00, 8.77 rounds/s]\n",
      "\u001b[32m\tExit EM loop after 2 rounds\u001b[0m\n",
      "\u001b[32m\tConvergence value: 0.0019361726963877538\u001b[0m\n",
      "\u001b[01;34m## Summarize data ##\u001b[0m\n",
      "\u001b[32m\tConvert results to dataframe\u001b[0m\n",
      "\u001b[32m\tCompute estimated counts and TPM\u001b[0m\n",
      "\u001b[32m\tWrite file\u001b[0m\n",
      "(nanocount) transcript_name\traw\test_count\ttpm\ttranscript_length\n",
      "YHR174W_mRNA\t0.5881056948454584\t50522.984032783635\t588105.6948454584\t1314\n",
      "YGR192C_mRNA\t0.02083282680839274\t1789.7064854554035\t20832.82680839274\t999\n",
      "YLR110C_mRNA\t0.009591656190343158\t824.0\t9591.656190343158\t402\n",
      "YOL086C_mRNA\t0.008299576290915864\t713.0\t8299.576290915864\t1047\n",
      "YKL060C_mRNA\t0.006518601294407972\t560.0\t6518.601294407972\t1080\n",
      "YCR012W_mRNA\t0.005412767146249476\t464.99999999999994\t5412.767146249475\t1251\n",
      "YBR118W_mRNA\t0.005255622293616427\t451.5\t5255.622293616427\t1377\n",
      "YPR080W_mRNA\t0.005255622293616427\t451.5\t5255.622293616427\t1377\n",
      "YKL152C_mRNA\t0.005226521394980677\t449.0\t5226.5213949806775\t744\n",
      "(nanocount) "
     ]
    },
    {
     "ename": "",
     "evalue": "1",
     "output_type": "error",
     "traceback": []
    }
   ],
   "source": [
    "NanoCount -i ./data/aligned_reads_sorted.bam -o ./output/tx_counts.tsv --extra_tx_info\n",
    "head ./output/tx_counts.tsv"
   ]
  },
  {
   "cell_type": "markdown",
   "metadata": {},
   "source": [
    "#### Write selected alignment to BAM file"
   ]
  },
  {
   "cell_type": "code",
   "execution_count": 6,
   "metadata": {
    "ExecuteTime": {
     "end_time": "2021-09-08T21:53:48.889182Z",
     "start_time": "2021-09-08T21:53:35.512182Z"
    }
   },
   "outputs": [
    {
     "name": "stdout",
     "output_type": "stream",
     "text": [
      "\u001b[01;34m## Checking options and input files ##\u001b[0m\n",
      "\u001b[01;34m## Initialise Nanocount ##\u001b[0m\n",
      "\u001b[32m\tParse Bam file and filter low quality alignments\u001b[0m\n",
      "\u001b[32m\tSummary of alignments parsed in input bam file\u001b[0m\n",
      "\u001b[32m\t\tValid alignments: 150,517\u001b[0m\n",
      "\u001b[32m\t\tDiscarded unmapped alignments: 9,545\u001b[0m\n",
      "\u001b[32m\t\tDiscarded alignment with invalid 3 prime end: 6,133\u001b[0m\n",
      "\u001b[32m\t\tDiscarded negative strand alignments: 4,515\u001b[0m\n",
      "\u001b[32m\t\tDiscarded supplementary alignments: 334\u001b[0m\n",
      "\u001b[32m\tSummary of reads filtered\u001b[0m\n",
      "\u001b[32m\t\tReads with valid best alignment: 85,908\u001b[0m\n",
      "\u001b[32m\t\tInvalid secondary alignments: 60,120\u001b[0m\n",
      "\u001b[32m\t\tValid secondary alignments: 2,622\u001b[0m\n",
      "\u001b[32m\t\tReads with low query fraction aligned: 1,628\u001b[0m\n",
      "\u001b[32m\tWrite selected alignments to BAM file\u001b[0m\n",
      "\u001b[32m\tSummary of alignments written to bam\u001b[0m\n",
      "\u001b[32m\t\tAlignments to select: 88,530\u001b[0m\n",
      "\u001b[32m\t\tAlignments written: 88,530\u001b[0m\n",
      "\u001b[32m\t\tAlignments skipped: 82,514\u001b[0m\n",
      "\u001b[32m\tGenerate initial read/transcript compatibility index\u001b[0m\n",
      "\u001b[01;34m## Start EM abundance estimate ##\u001b[0m\n",
      "\tProgress: 2.00 rounds [00:00, 7.98 rounds/s]\n",
      "\u001b[32m\tExit EM loop after 2 rounds\u001b[0m\n",
      "\u001b[32m\tConvergence value: 0.0019361726963877538\u001b[0m\n",
      "\u001b[01;34m## Summarize data ##\u001b[0m\n",
      "\u001b[32m\tConvert results to dataframe\u001b[0m\n",
      "\u001b[32m\tCompute estimated counts and TPM\u001b[0m\n",
      "\u001b[32m\tWrite file\u001b[0m\n",
      "(nanocount) transcript_name\traw\test_count\ttpm\ttranscript_length\n",
      "YHR174W_mRNA\t0.5881056948454584\t50522.984032783635\t588105.6948454584\t1314\n",
      "YGR192C_mRNA\t0.02083282680839274\t1789.7064854554035\t20832.82680839274\t999\n",
      "YLR110C_mRNA\t0.009591656190343158\t824.0\t9591.656190343158\t402\n",
      "YOL086C_mRNA\t0.008299576290915864\t713.0\t8299.576290915864\t1047\n",
      "YKL060C_mRNA\t0.006518601294407972\t560.0\t6518.601294407972\t1080\n",
      "YCR012W_mRNA\t0.005412767146249476\t464.99999999999994\t5412.767146249475\t1251\n",
      "YBR118W_mRNA\t0.005255622293616427\t451.5\t5255.622293616427\t1377\n",
      "YPR080W_mRNA\t0.005255622293616427\t451.5\t5255.622293616427\t1377\n",
      "YKL152C_mRNA\t0.005226521394980677\t449.0\t5226.5213949806775\t744\n",
      "(nanocount) "
     ]
    },
    {
     "ename": "",
     "evalue": "1",
     "output_type": "error",
     "traceback": []
    }
   ],
   "source": [
    "NanoCount -i ./data/aligned_reads_sorted.bam -o ./output/tx_counts.tsv -b ./output/aligned_reads_selected.bam --extra_tx_info\n",
    "head ./output/tx_counts.tsv"
   ]
  },
  {
   "cell_type": "markdown",
   "metadata": {},
   "source": [
    "#### Relaxing the secondary alignment scoring threshold"
   ]
  },
  {
   "cell_type": "markdown",
   "metadata": {},
   "source": [
    "The default value is 0.95 (95% of the alignment score of the primary alignment) but this value could be lowered to allow more secondary alignments to be included in the uncertainty calculation.\n",
    "Lowering the value bellow 0.75 might not be relevant and will considerably increase the computation time."
   ]
  },
  {
   "cell_type": "code",
   "execution_count": 7,
   "metadata": {
    "ExecuteTime": {
     "end_time": "2021-09-08T21:54:08.176984Z",
     "start_time": "2021-09-08T21:54:02.302181Z"
    }
   },
   "outputs": [
    {
     "name": "stdout",
     "output_type": "stream",
     "text": [
      "\u001b[01;34m## Checking options and input files ##\u001b[0m\n",
      "\u001b[01;34m## Initialise Nanocount ##\u001b[0m\n",
      "\u001b[32m\tParse Bam file and filter low quality alignments\u001b[0m\n",
      "\u001b[32m\tSummary of alignments parsed in input bam file\u001b[0m\n",
      "\u001b[32m\t\tValid alignments: 150,517\u001b[0m\n",
      "\u001b[32m\t\tDiscarded unmapped alignments: 9,545\u001b[0m\n",
      "\u001b[32m\t\tDiscarded alignment with invalid 3 prime end: 6,133\u001b[0m\n",
      "\u001b[32m\t\tDiscarded negative strand alignments: 4,515\u001b[0m\n",
      "\u001b[32m\t\tDiscarded supplementary alignments: 334\u001b[0m\n",
      "\u001b[32m\tSummary of reads filtered\u001b[0m\n",
      "\u001b[32m\t\tReads with valid best alignment: 85,908\u001b[0m\n",
      "\u001b[32m\t\tValid secondary alignments: 49,092\u001b[0m\n",
      "\u001b[32m\t\tInvalid secondary alignments: 13,650\u001b[0m\n",
      "\u001b[32m\t\tReads with low query fraction aligned: 1,628\u001b[0m\n",
      "\u001b[32m\tGenerate initial read/transcript compatibility index\u001b[0m\n",
      "\u001b[01;34m## Start EM abundance estimate ##\u001b[0m\n",
      "\tProgress: 17.0 rounds [00:02, 7.01 rounds/s]\n",
      "\u001b[32m\tExit EM loop after 17 rounds\u001b[0m\n",
      "\u001b[32m\tConvergence value: 0.004795139982321842\u001b[0m\n",
      "\u001b[01;34m## Summarize data ##\u001b[0m\n",
      "\u001b[32m\tConvert results to dataframe\u001b[0m\n",
      "\u001b[32m\tCompute estimated counts and TPM\u001b[0m\n",
      "\u001b[32m\tWrite file\u001b[0m\n",
      "(nanocount) transcript_name\traw\test_count\ttpm\n",
      "YHR174W_mRNA\t0.5770419415271139\t49572.5191127113\t577041.9415271139\n",
      "YGR192C_mRNA\t0.014985653368924351\t1287.3875096175532\t14985.653368924352\n",
      "YGR254W_mRNA\t0.012367659441483866\t1062.480887298996\t12367.659441483866\n",
      "YLR110C_mRNA\t0.009591656190343162\t824.0000000000003\t9591.656190343161\n",
      "YJR009C_mRNA\t0.00941808679575318\t809.0890004495642\t9418.08679575318\n",
      "YOL086C_mRNA\t0.008299576290915867\t713.0000000000003\t8299.576290915868\n",
      "YKL060C_mRNA\t0.006518601294407974\t560.0000000000002\t6518.601294407974\n",
      "YCR012W_mRNA\t0.005412767146249479\t465.0000000000003\t5412.767146249479\n",
      "YPR080W_mRNA\t0.0052556222936164295\t451.5000000000002\t5255.6222936164295\n",
      "(nanocount) "
     ]
    },
    {
     "ename": "",
     "evalue": "1",
     "output_type": "error",
     "traceback": []
    }
   ],
   "source": [
    "NanoCount -i ./data/aligned_reads_sorted.bam -o ./output/tx_counts.tsv --sec_scoring_threshold 0.8\n",
    "head ./output/tx_counts.tsv"
   ]
  },
  {
   "cell_type": "markdown",
   "metadata": {},
   "source": [
    "#### verbose mode"
   ]
  },
  {
   "cell_type": "markdown",
   "metadata": {},
   "source": [
    "Print additional information for QC and debugging"
   ]
  },
  {
   "cell_type": "code",
   "execution_count": 8,
   "metadata": {
    "ExecuteTime": {
     "end_time": "2021-09-08T21:54:18.398177Z",
     "start_time": "2021-09-08T21:54:12.333118Z"
    }
   },
   "outputs": [
    {
     "name": "stdout",
     "output_type": "stream",
     "text": [
      "\u001b[01;34m## Checking options and input files ##\u001b[0m\n",
      "\u001b[37m\t[DEBUG]: Options summary\u001b[0m\n",
      "\u001b[37m\t[DEBUG]: \tPackage name: NanoCount\u001b[0m\n",
      "\u001b[37m\t[DEBUG]: \tPackage version: 0.3.0.dev2\u001b[0m\n",
      "\u001b[37m\t[DEBUG]: \tTimestamp: 2021-09-08 22:54:12.755159\u001b[0m\n",
      "\u001b[37m\t[DEBUG]: \talignment_file: ./data/aligned_reads_sorted.bam\u001b[0m\n",
      "\u001b[37m\t[DEBUG]: \tcount_file: ./output/tx_counts.tsv\u001b[0m\n",
      "\u001b[37m\t[DEBUG]: \tfilter_bam_out: \u001b[0m\n",
      "\u001b[37m\t[DEBUG]: \tmin_alignment_length: 50\u001b[0m\n",
      "\u001b[37m\t[DEBUG]: \tkeep_supplementary: False\u001b[0m\n",
      "\u001b[37m\t[DEBUG]: \tmin_query_fraction_aligned: 0.5\u001b[0m\n",
      "\u001b[37m\t[DEBUG]: \tsec_scoring_threshold: 0.8\u001b[0m\n",
      "\u001b[37m\t[DEBUG]: \tsec_scoring_value: alignment_score\u001b[0m\n",
      "\u001b[37m\t[DEBUG]: \tconvergence_target: 0.005\u001b[0m\n",
      "\u001b[37m\t[DEBUG]: \tmax_em_rounds: 100\u001b[0m\n",
      "\u001b[37m\t[DEBUG]: \textra_tx_info: False\u001b[0m\n",
      "\u001b[37m\t[DEBUG]: \tprimary_score: alignment_score\u001b[0m\n",
      "\u001b[37m\t[DEBUG]: \tmax_dist_3_prime: 50\u001b[0m\n",
      "\u001b[37m\t[DEBUG]: \tmax_dist_5_prime: -1\u001b[0m\n",
      "\u001b[37m\t[DEBUG]: \tverbose: True\u001b[0m\n",
      "\u001b[37m\t[DEBUG]: \tquiet: False\u001b[0m\n",
      "\u001b[01;34m## Initialise Nanocount ##\u001b[0m\n",
      "\u001b[32m\tParse Bam file and filter low quality alignments\u001b[0m\n",
      "\u001b[32m\tSummary of alignments parsed in input bam file\u001b[0m\n",
      "\u001b[32m\t\tValid alignments: 150,517\u001b[0m\n",
      "\u001b[32m\t\tDiscarded unmapped alignments: 9,545\u001b[0m\n",
      "\u001b[32m\t\tDiscarded alignment with invalid 3 prime end: 6,133\u001b[0m\n",
      "\u001b[32m\t\tDiscarded negative strand alignments: 4,515\u001b[0m\n",
      "\u001b[32m\t\tDiscarded supplementary alignments: 334\u001b[0m\n",
      "\u001b[32m\tSummary of reads filtered\u001b[0m\n",
      "\u001b[32m\t\tReads with valid best alignment: 85,908\u001b[0m\n",
      "\u001b[32m\t\tValid secondary alignments: 49,092\u001b[0m\n",
      "\u001b[32m\t\tInvalid secondary alignments: 13,650\u001b[0m\n",
      "\u001b[32m\t\tReads with low query fraction aligned: 1,628\u001b[0m\n",
      "\u001b[32m\tGenerate initial read/transcript compatibility index\u001b[0m\n",
      "\u001b[01;34m## Start EM abundance estimate ##\u001b[0m\n",
      "\u001b[37m\t[DEBUG]: EM Round: 1 / Convergence value: 1\u001b[0m\n",
      "\u001b[37m\t[DEBUG]: EM Round: 2 / Convergence value: 0.08982516174030376\u001b[0m\n",
      "\u001b[37m\t[DEBUG]: EM Round: 3 / Convergence value: 0.07275793447585568\u001b[0m\n",
      "\u001b[37m\t[DEBUG]: EM Round: 4 / Convergence value: 0.05953041461618004\u001b[0m\n",
      "\u001b[37m\t[DEBUG]: EM Round: 5 / Convergence value: 0.04879243854714777\u001b[0m\n",
      "\u001b[37m\t[DEBUG]: EM Round: 6 / Convergence value: 0.040022962888262556\u001b[0m\n",
      "\u001b[37m\t[DEBUG]: EM Round: 7 / Convergence value: 0.03285040500110691\u001b[0m\n",
      "\u001b[37m\t[DEBUG]: EM Round: 8 / Convergence value: 0.026980252318091508\u001b[0m\n",
      "\u001b[37m\t[DEBUG]: EM Round: 9 / Convergence value: 0.022174110853707095\u001b[0m\n",
      "\u001b[37m\t[DEBUG]: EM Round: 10 / Convergence value: 0.01823785737980107\u001b[0m\n",
      "\u001b[37m\t[DEBUG]: EM Round: 11 / Convergence value: 0.015013106051349104\u001b[0m\n",
      "\u001b[37m\t[DEBUG]: EM Round: 12 / Convergence value: 0.012370502416389305\u001b[0m\n",
      "\u001b[37m\t[DEBUG]: EM Round: 13 / Convergence value: 0.010204386062917101\u001b[0m\n",
      "\u001b[37m\t[DEBUG]: EM Round: 14 / Convergence value: 0.008428311617153536\u001b[0m\n",
      "\u001b[37m\t[DEBUG]: EM Round: 15 / Convergence value: 0.0069715401043749445\u001b[0m\n",
      "\u001b[37m\t[DEBUG]: EM Round: 16 / Convergence value: 0.005776253476233076\u001b[0m\n",
      "\u001b[37m\t[DEBUG]: EM Round: 17 / Convergence value: 0.004795139982321842\u001b[0m\n",
      "\u001b[32m\tExit EM loop after 17 rounds\u001b[0m\n",
      "\u001b[32m\tConvergence value: 0.004795139982321842\u001b[0m\n",
      "\u001b[01;34m## Summarize data ##\u001b[0m\n",
      "\u001b[32m\tConvert results to dataframe\u001b[0m\n",
      "\u001b[32m\tCompute estimated counts and TPM\u001b[0m\n",
      "\u001b[32m\tWrite file\u001b[0m\n",
      "(nanocount) "
     ]
    },
    {
     "ename": "",
     "evalue": "1",
     "output_type": "error",
     "traceback": []
    }
   ],
   "source": [
    "NanoCount -i ./data/aligned_reads_sorted.bam -o ./output/tx_counts.tsv --sec_scoring_threshold 0.8  --verbose"
   ]
  }
 ],
 "metadata": {
  "kernelspec": {
   "display_name": "Bash",
   "language": "bash",
   "name": "bash"
  },
  "language_info": {
   "codemirror_mode": "shell",
   "file_extension": ".sh",
   "mimetype": "text/x-sh",
   "name": "bash"
  }
 },
 "nbformat": 4,
 "nbformat_minor": 4
}
