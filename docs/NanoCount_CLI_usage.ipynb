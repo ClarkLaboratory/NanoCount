{
 "cells": [
  {
   "cell_type": "markdown",
   "metadata": {
    "ExecuteTime": {
     "end_time": "2020-05-04T11:02:46.918334Z",
     "start_time": "2020-05-04T11:02:46.911996Z"
    }
   },
   "source": [
    "# NanoCount command line usage"
   ]
  },
  {
   "cell_type": "markdown",
   "metadata": {
    "ExecuteTime": {
     "end_time": "2020-05-04T12:47:10.312567Z",
     "start_time": "2020-05-04T12:47:10.033440Z"
    }
   },
   "source": [
    "### Activate virtual environment"
   ]
  },
  {
   "cell_type": "code",
   "execution_count": 1,
   "metadata": {
    "ExecuteTime": {
     "end_time": "2021-06-27T14:21:37.110611Z",
     "start_time": "2021-06-27T14:21:36.881483Z"
    }
   },
   "outputs": [
    {
     "name": "stdout",
     "output_type": "stream",
     "text": [
      "(nanocount) "
     ]
    },
    {
     "ename": "",
     "evalue": "1",
     "output_type": "error",
     "traceback": []
    }
   ],
   "source": [
    "conda activate nanocount"
   ]
  },
  {
   "cell_type": "markdown",
   "metadata": {},
   "source": [
    "### Running NanoCount"
   ]
  },
  {
   "cell_type": "code",
   "execution_count": 4,
   "metadata": {
    "ExecuteTime": {
     "end_time": "2021-06-27T14:24:57.360796Z",
     "start_time": "2021-06-27T14:24:56.857283Z"
    },
    "scrolled": true
   },
   "outputs": [
    {
     "name": "stdout",
     "output_type": "stream",
     "text": [
      "usage: NanoCount [-h] [--version] -i ALIGNMENT_FILE [-o COUNT_FILE]\n",
      "                 [-b FILTER_BAM_OUT] [-l MIN_READ_LENGTH]\n",
      "                 [-f MIN_QUERY_FRACTION_ALIGNED] [-t EQUIVALENT_THRESHOLD]\n",
      "                 [-s SCORING_VALUE] [-c CONVERGENCE_TARGET] [-e MAX_EM_ROUNDS]\n",
      "                 [-x] [-p PRIMARY_SCORE] [-a] [-3 MAX_DIST_3_PRIME]\n",
      "                 [-5 MAX_DIST_5_PRIME] [-v] [-q]\n",
      "\n",
      "NanoCount estimates transcripts abundance from Oxford Nanopore *direct-RNA\n",
      "sequencing* datasets, using an expectation-maximization approach like RSEM,\n",
      "Kallisto, salmon, etc to handle the uncertainty of multi-mapping reads\n",
      "\n",
      "optional arguments:\n",
      "  -h, --help            show this help message and exit\n",
      "  --version             show program's version number and exit\n",
      "\n",
      "Input/Output options:\n",
      "  -i ALIGNMENT_FILE, --alignment_file ALIGNMENT_FILE\n",
      "                        BAM or SAM file containing aligned ONT dRNA-Seq reads\n",
      "                        including secondary and supplementary alignment\n",
      "                        (required) [str]\n",
      "  -o COUNT_FILE, --count_file COUNT_FILE\n",
      "                        Output file path where to write estimated counts (TSV\n",
      "                        format) (default: None) [str]\n",
      "  -b FILTER_BAM_OUT, --filter_bam_out FILTER_BAM_OUT\n",
      "                        Optional output file path where to write filtered\n",
      "                        reads selected by NanoCount to perform quantification\n",
      "                        estimation (BAM format) (default: None) [str]\n",
      "\n",
      "Misc options:\n",
      "  -l MIN_READ_LENGTH, --min_read_length MIN_READ_LENGTH\n",
      "                        Minimal length of the read to be considered valid\n",
      "                        (default: 50) [int]\n",
      "  -f MIN_QUERY_FRACTION_ALIGNED, --min_query_fraction_aligned MIN_QUERY_FRACTION_ALIGNED\n",
      "                        Minimal fraction of the primary alignment query\n",
      "                        aligned to consider the read valid (default: 0.5)\n",
      "                        [float]\n",
      "  -t EQUIVALENT_THRESHOLD, --equivalent_threshold EQUIVALENT_THRESHOLD\n",
      "                        Fraction of the alignment score or the alignment\n",
      "                        length of secondary alignments compared to the primary\n",
      "                        alignment to be considered valid alignments (default:\n",
      "                        0.9) [float]\n",
      "  -s SCORING_VALUE, --scoring_value SCORING_VALUE\n",
      "                        Value to use for score thresholding of secondary\n",
      "                        alignments either \"alignment_score\" or\n",
      "                        \"alignment_length\" (default: alignment_score) [str]\n",
      "  -c CONVERGENCE_TARGET, --convergence_target CONVERGENCE_TARGET\n",
      "                        Convergence target value of the cummulative difference\n",
      "                        between abundance values of successive EM round to\n",
      "                        trigger the end of the EM loop. (default: 0.005)\n",
      "                        [float]\n",
      "  -e MAX_EM_ROUNDS, --max_em_rounds MAX_EM_ROUNDS\n",
      "                        Maximum number of EM rounds before triggering stop\n",
      "                        (default: 100) [int]\n",
      "  -x, --extra_tx_info   Add transcripts length and zero coverage transcripts\n",
      "                        to the output file (required valid bam/sam header)\n",
      "                        (default: False) [boolean]\n",
      "  -p PRIMARY_SCORE, --primary_score PRIMARY_SCORE\n",
      "                        Method to pick the best alignment for each read. By\n",
      "                        default (\"primary\") it uses the primary read defined\n",
      "                        by the aligner but it can be changed to use either the\n",
      "                        best alignment score (\"align_score\") or the best\n",
      "                        alignment length (\"align_len\"). choices = [primary,\n",
      "                        align_score, align_len] (default: primary) [str]\n",
      "  -a, --discard_suplementary\n",
      "                        Discard any supplementary alignment. Otherwise they\n",
      "                        are considered like secondary alignments (default:\n",
      "                        False) [boolean]\n",
      "  -3 MAX_DIST_3_PRIME, --max_dist_3_prime MAX_DIST_3_PRIME\n",
      "                        Maximum distance of alignment end to 3 prime of\n",
      "                        transcript. In ONT dRNA-Seq reads are assumed to start\n",
      "                        from the polyA tail (-1 to deactivate) (default: 100)\n",
      "                        [int]\n",
      "  -5 MAX_DIST_5_PRIME, --max_dist_5_prime MAX_DIST_5_PRIME\n",
      "                        Maximum distance of alignment start to 5 prime of\n",
      "                        transcript. In conjunction with max_dist_3_prime it\n",
      "                        can be used to select near full transcript length\n",
      "                        reads only (-1 to deactivate). (default: -1) [int]\n",
      "\n",
      "Verbosity options:\n",
      "  -v, --verbose         Increase verbosity for QC and debugging (default:\n",
      "                        False) [boolean]\n",
      "  -q, --quiet           Reduce verbosity (default: False) [boolean]\n",
      "(nanocount) "
     ]
    },
    {
     "ename": "",
     "evalue": "1",
     "output_type": "error",
     "traceback": []
    }
   ],
   "source": [
    "NanoCount --help"
   ]
  },
  {
   "cell_type": "markdown",
   "metadata": {},
   "source": [
    "#### Basic command"
   ]
  },
  {
   "cell_type": "code",
   "execution_count": 5,
   "metadata": {
    "ExecuteTime": {
     "end_time": "2021-06-27T14:25:03.403970Z",
     "start_time": "2021-06-27T14:24:59.760843Z"
    },
    "scrolled": false
   },
   "outputs": [
    {
     "name": "stdout",
     "output_type": "stream",
     "text": [
      "\u001b[01;34m## Checking options and input files ##\u001b[0m\n",
      "\u001b[01;34m## Initialise Nanocount ##\u001b[0m\n",
      "\u001b[32m\tParse Bam file and filter low quality alignments\u001b[0m\n",
      "\u001b[32m\tSummary of alignments parsed in input bam file\u001b[0m\n",
      "\u001b[32m\t\tValid alignments: 150,779\u001b[0m\n",
      "\u001b[32m\t\tDiscarded unmapped alignments: 9,545\u001b[0m\n",
      "\u001b[32m\t\tDiscarded alignment with invalid 3 prime end: 6,205\u001b[0m\n",
      "\u001b[32m\t\tDiscarded negative strand alignments: 4,515\u001b[0m\n",
      "\u001b[32m\tSummary of reads filtered\u001b[0m\n",
      "\u001b[32m\t\tReads with valid best alignment: 85,200\u001b[0m\n",
      "\u001b[32m\t\tInvalid secondary alignments: 58,464\u001b[0m\n",
      "\u001b[32m\t\tValid secondary alignments: 4,330\u001b[0m\n",
      "\u001b[32m\t\tReads with low query fraction aligned: 1,544\u001b[0m\n",
      "\u001b[32m\t\tReads too short: 817\u001b[0m\n",
      "\u001b[32m\tGenerate initial read/transcript compatibility index\u001b[0m\n",
      "\u001b[01;34m## Start EM abundance estimate ##\u001b[0m\n",
      "\tProgress: 3.00 rounds [00:00, 7.90 rounds/s]\n",
      "\u001b[32m\tExit EM loop after 3 rounds\u001b[0m\n",
      "\u001b[32m\tConvergence value: 0.0019414029372732597\u001b[0m\n",
      "\u001b[01;34m## Summarize data ##\u001b[0m\n",
      "\u001b[32m\tConvert results to dataframe\u001b[0m\n",
      "\u001b[32m\tCompute estimated counts and TPM\u001b[0m\n",
      "\u001b[32m\tWrite file\u001b[0m\n",
      "(nanocount) transcript_name\traw\test_count\ttpm\n",
      "YHR174W_mRNA\t0.5930218360040271\t50525.46042754311\t593021.8360040272\n",
      "YGR192C_mRNA\t0.020697465983375175\t1763.424101783565\t20697.465983375176\n",
      "YLR110C_mRNA\t0.009671361502347417\t823.9999999999999\t9671.361502347418\n",
      "YOL086C_mRNA\t0.008368544600938967\t713.0\t8368.544600938967\n",
      "YKL060C_mRNA\t0.006572769953051643\t560.0\t6572.769953051643\n",
      "YPR080W_mRNA\t0.005299295774647887\t451.5\t5299.295774647888\n",
      "YBR118W_mRNA\t0.005299295774647887\t451.5\t5299.295774647888\n",
      "YLR044C_mRNA\t0.0051056338028169015\t435.0\t5105.633802816901\n",
      "YKL152C_mRNA\t0.004237089201877934\t361.0\t4237.089201877934\n",
      "(nanocount) "
     ]
    },
    {
     "ename": "",
     "evalue": "1",
     "output_type": "error",
     "traceback": []
    }
   ],
   "source": [
    "NanoCount -i ./data/aligned_reads_sorted.bam -o ./output/tx_counts.tsv -3 50\n",
    "head ./output/tx_counts.tsv"
   ]
  },
  {
   "cell_type": "markdown",
   "metadata": {},
   "source": [
    "#### Adding extra transcripts information"
   ]
  },
  {
   "cell_type": "markdown",
   "metadata": {},
   "source": [
    "The `extra_tx_info` option adds a columns with the transcript lengths and also includes all the zero-coverage transcripts in the results"
   ]
  },
  {
   "cell_type": "code",
   "execution_count": 7,
   "metadata": {
    "ExecuteTime": {
     "end_time": "2021-06-27T14:28:05.139635Z",
     "start_time": "2021-06-27T14:28:01.431241Z"
    },
    "scrolled": false
   },
   "outputs": [
    {
     "name": "stdout",
     "output_type": "stream",
     "text": [
      "\u001b[01;34m## Checking options and input files ##\u001b[0m\n",
      "\u001b[01;34m## Initialise Nanocount ##\u001b[0m\n",
      "\u001b[32m\tParse Bam file and filter low quality alignments\u001b[0m\n",
      "\u001b[32m\tSummary of alignments parsed in input bam file\u001b[0m\n",
      "\u001b[32m\t\tValid alignments: 153,201\u001b[0m\n",
      "\u001b[32m\t\tDiscarded unmapped alignments: 9,545\u001b[0m\n",
      "\u001b[32m\t\tDiscarded negative strand alignments: 4,515\u001b[0m\n",
      "\u001b[32m\t\tDiscarded alignment with invalid 3 prime end: 3,783\u001b[0m\n",
      "\u001b[32m\tSummary of reads filtered\u001b[0m\n",
      "\u001b[32m\t\tReads with valid best alignment: 85,899\u001b[0m\n",
      "\u001b[32m\t\tInvalid secondary alignments: 60,112\u001b[0m\n",
      "\u001b[32m\t\tValid secondary alignments: 4,375\u001b[0m\n",
      "\u001b[32m\t\tReads with low query fraction aligned: 1,580\u001b[0m\n",
      "\u001b[32m\t\tReads too short: 798\u001b[0m\n",
      "\u001b[32m\tGenerate initial read/transcript compatibility index\u001b[0m\n",
      "\u001b[01;34m## Start EM abundance estimate ##\u001b[0m\n",
      "\tProgress: 3.00 rounds [00:00, 7.64 rounds/s]\n",
      "\u001b[32m\tExit EM loop after 3 rounds\u001b[0m\n",
      "\u001b[32m\tConvergence value: 0.0019319339005414125\u001b[0m\n",
      "\u001b[01;34m## Summarize data ##\u001b[0m\n",
      "\u001b[32m\tConvert results to dataframe\u001b[0m\n",
      "\u001b[32m\tCompute estimated counts and TPM\u001b[0m\n",
      "\u001b[32m\tWrite file\u001b[0m\n",
      "(nanocount) transcript_name\traw\test_count\ttpm\ttranscript_length\n",
      "YHR174W_mRNA\t0.5932131975393657\t50956.42045543398\t593213.1975393657\t1314\n",
      "YGR192C_mRNA\t0.020661735359370912\t1774.8224056346019\t20661.735359370912\t999\n",
      "YLR110C_mRNA\t0.00961594430668576\t826.0000000000001\t9615.94430668576\t402\n",
      "YOL086C_mRNA\t0.008358653767797064\t718.0\t8358.653767797065\t1047\n",
      "YKL060C_mRNA\t0.006635700066357001\t570.0\t6635.700066357001\t1080\n",
      "YBR118W_mRNA\t0.005273635315894248\t453.0\t5273.6353158942475\t1377\n",
      "YPR080W_mRNA\t0.005273635315894248\t453.0\t5273.6353158942475\t1377\n",
      "YLR044C_mRNA\t0.0050873700508737\t436.99999999999994\t5087.3700508737\t1692\n",
      "YKL152C_mRNA\t0.004237534779217453\t364.0\t4237.534779217453\t744\n",
      "(nanocount) "
     ]
    },
    {
     "ename": "",
     "evalue": "1",
     "output_type": "error",
     "traceback": []
    }
   ],
   "source": [
    "NanoCount -i ./data/aligned_reads_sorted.bam -o ./output/tx_counts.tsv --extra_tx_info\n",
    "head ./output/tx_counts.tsv"
   ]
  },
  {
   "cell_type": "markdown",
   "metadata": {},
   "source": [
    "#### Write selected alignment to BAM file"
   ]
  },
  {
   "cell_type": "code",
   "execution_count": 8,
   "metadata": {
    "ExecuteTime": {
     "end_time": "2021-06-27T14:29:20.249064Z",
     "start_time": "2021-06-27T14:29:06.914155Z"
    }
   },
   "outputs": [
    {
     "name": "stdout",
     "output_type": "stream",
     "text": [
      "\u001b[01;34m## Checking options and input files ##\u001b[0m\n",
      "\u001b[01;34m## Initialise Nanocount ##\u001b[0m\n",
      "\u001b[32m\tParse Bam file and filter low quality alignments\u001b[0m\n",
      "\u001b[32m\tSummary of alignments parsed in input bam file\u001b[0m\n",
      "\u001b[32m\t\tValid alignments: 153,201\u001b[0m\n",
      "\u001b[32m\t\tDiscarded unmapped alignments: 9,545\u001b[0m\n",
      "\u001b[32m\t\tDiscarded negative strand alignments: 4,515\u001b[0m\n",
      "\u001b[32m\t\tDiscarded alignment with invalid 3 prime end: 3,783\u001b[0m\n",
      "\u001b[32m\tSummary of reads filtered\u001b[0m\n",
      "\u001b[32m\t\tReads with valid best alignment: 85,899\u001b[0m\n",
      "\u001b[32m\t\tInvalid secondary alignments: 60,112\u001b[0m\n",
      "\u001b[32m\t\tValid secondary alignments: 4,375\u001b[0m\n",
      "\u001b[32m\t\tReads with low query fraction aligned: 1,580\u001b[0m\n",
      "\u001b[32m\t\tReads too short: 798\u001b[0m\n",
      "\u001b[32m\tWrite selected alignments to BAM file\u001b[0m\n",
      "\u001b[32m\tSummary of alignments written to bam\u001b[0m\n",
      "\u001b[32m\t\tAlignments to select: 90,274\u001b[0m\n",
      "\u001b[32m\t\tAlignments written: 90,274\u001b[0m\n",
      "\u001b[32m\t\tAlignments skipped: 80,770\u001b[0m\n",
      "\u001b[32m\tGenerate initial read/transcript compatibility index\u001b[0m\n",
      "\u001b[01;34m## Start EM abundance estimate ##\u001b[0m\n",
      "\tProgress: 3.00 rounds [00:00, 8.00 rounds/s]\n",
      "\u001b[32m\tExit EM loop after 3 rounds\u001b[0m\n",
      "\u001b[32m\tConvergence value: 0.0019319339005414125\u001b[0m\n",
      "\u001b[01;34m## Summarize data ##\u001b[0m\n",
      "\u001b[32m\tConvert results to dataframe\u001b[0m\n",
      "\u001b[32m\tCompute estimated counts and TPM\u001b[0m\n",
      "\u001b[32m\tWrite file\u001b[0m\n",
      "(nanocount) transcript_name\traw\test_count\ttpm\ttranscript_length\n",
      "YHR174W_mRNA\t0.5932131975393657\t50956.42045543398\t593213.1975393657\t1314\n",
      "YGR192C_mRNA\t0.020661735359370912\t1774.8224056346019\t20661.735359370912\t999\n",
      "YLR110C_mRNA\t0.00961594430668576\t826.0000000000001\t9615.94430668576\t402\n",
      "YOL086C_mRNA\t0.008358653767797064\t718.0\t8358.653767797065\t1047\n",
      "YKL060C_mRNA\t0.006635700066357001\t570.0\t6635.700066357001\t1080\n",
      "YBR118W_mRNA\t0.005273635315894248\t453.0\t5273.6353158942475\t1377\n",
      "YPR080W_mRNA\t0.005273635315894248\t453.0\t5273.6353158942475\t1377\n",
      "YLR044C_mRNA\t0.0050873700508737\t436.99999999999994\t5087.3700508737\t1692\n",
      "YKL152C_mRNA\t0.004237534779217453\t364.0\t4237.534779217453\t744\n",
      "(nanocount) "
     ]
    },
    {
     "ename": "",
     "evalue": "1",
     "output_type": "error",
     "traceback": []
    }
   ],
   "source": [
    "NanoCount -i ./data/aligned_reads_sorted.bam -o ./output/tx_counts.tsv -b ./output/aligned_reads_selected.bam --extra_tx_info\n",
    "head ./output/tx_counts.tsv"
   ]
  },
  {
   "cell_type": "markdown",
   "metadata": {},
   "source": [
    "#### Relaxing the equivalence threshold"
   ]
  },
  {
   "cell_type": "markdown",
   "metadata": {},
   "source": [
    "The default value is 0.9 (90% of the alignment score of the primary alignment) but this value could be lowered to allow more secondary alignments to be included in the uncertainty calculation.\n",
    "Lowering the value bellow 0.75 might not be relevant and will considerably increase the computation time."
   ]
  },
  {
   "cell_type": "code",
   "execution_count": 11,
   "metadata": {
    "ExecuteTime": {
     "end_time": "2020-06-10T11:00:32.160221Z",
     "start_time": "2020-06-10T11:00:23.809612Z"
    }
   },
   "outputs": [
    {
     "name": "stdout",
     "output_type": "stream",
     "text": [
      "\u001b[01;34m## Checking options and input files ##\u001b[0m\n",
      "\u001b[01;34m## Initialise Nanocount ##\u001b[0m\n",
      "\u001b[32m\tParse Bam file and filter low quality alignments\u001b[0m\n",
      "\u001b[32m\tSummary of alignments parsed in input bam file\u001b[0m\n",
      "\u001b[32m\t\tValid alignments: 153,201\u001b[0m\n",
      "\u001b[32m\t\tDiscarded unmapped alignments: 9,545\u001b[0m\n",
      "\u001b[32m\t\tDiscarded negative strand alignments: 4,515\u001b[0m\n",
      "\u001b[32m\t\tDiscarded alignment with invalid 3 prime end: 3,783\u001b[0m\n",
      "\u001b[32m\tSummary of reads filtered\u001b[0m\n",
      "\u001b[32m\t\tReads with valid best alignment: 85,899\u001b[0m\n",
      "\u001b[32m\t\tValid secondary alignments: 50,019\u001b[0m\n",
      "\u001b[32m\t\tInvalid secondary alignments: 14,468\u001b[0m\n",
      "\u001b[32m\t\tReads with low query fraction aligned: 1,580\u001b[0m\n",
      "\u001b[32m\t\tReads too short: 798\u001b[0m\n",
      "\u001b[32m\tGenerate initial read/transcript compatibility index\u001b[0m\n",
      "\u001b[01;34m## Start EM abundance estimate ##\u001b[0m\n",
      "\tProgress: 18.0 rounds [00:03, 4.75 rounds/s]\n",
      "\u001b[32m\tExit EM loop after 18 rounds\u001b[0m\n",
      "\u001b[32m\tConvergence value: 0.00462674973518923\u001b[0m\n",
      "\u001b[01;34m## Summarize data ##\u001b[0m\n",
      "\u001b[32m\tConvert results to dataframe\u001b[0m\n",
      "\u001b[32m\tCompute estimated counts and TPM\u001b[0m\n",
      "\u001b[32m\tWrite file\u001b[0m\n",
      "(NanoCount) transcript_name\traw\test_count\ttpm\n",
      "YHR174W_mRNA\t0.5828216847430426\t50063.79989774262\t582821.6847430427\n",
      "YGR192C_mRNA\t0.015176437715561169\t1303.6408233289887\t15176.43771556117\n",
      "YGR254W_mRNA\t0.011446001726217545\t983.200102280361\t11446.001726217546\n",
      "YLR110C_mRNA\t0.009615944306685751\t825.9999999999993\t9615.944306685751\n",
      "YJR009C_mRNA\t0.009392668850428238\t806.8208615829352\t9392.668850428237\n",
      "YOL086C_mRNA\t0.008358653767797057\t717.9999999999994\t8358.653767797057\n",
      "YKL060C_mRNA\t0.006635700066356995\t569.9999999999995\t6635.700066356995\n",
      "YPR080W_mRNA\t0.0052736353158942435\t452.9999999999996\t5273.635315894244\n",
      "YBR118W_mRNA\t0.0052736353158942435\t452.9999999999996\t5273.635315894244\n",
      "(NanoCount) "
     ]
    },
    {
     "ename": "",
     "evalue": "1",
     "output_type": "error",
     "traceback": []
    }
   ],
   "source": [
    "NanoCount -i ./data/aligned_reads_sorted.bam -o ./output/tx_counts.tsv --equivalent_threshold 0.8\n",
    "head ./output/tx_counts.tsv"
   ]
  },
  {
   "cell_type": "markdown",
   "metadata": {},
   "source": [
    "#### verbose mode"
   ]
  },
  {
   "cell_type": "markdown",
   "metadata": {},
   "source": [
    "Print additional information for QC and debugging"
   ]
  },
  {
   "cell_type": "code",
   "execution_count": 9,
   "metadata": {
    "ExecuteTime": {
     "end_time": "2021-06-27T14:29:59.628238Z",
     "start_time": "2021-06-27T14:29:53.602512Z"
    }
   },
   "outputs": [
    {
     "name": "stdout",
     "output_type": "stream",
     "text": [
      "\u001b[01;34m## Checking options and input files ##\u001b[0m\n",
      "\u001b[37m\t[DEBUG]: Options summary\u001b[0m\n",
      "\u001b[37m\t[DEBUG]: \tPackage name: NanoCount\u001b[0m\n",
      "\u001b[37m\t[DEBUG]: \tPackage version: 0.2.4.post1\u001b[0m\n",
      "\u001b[37m\t[DEBUG]: \tTimestamp: 2021-06-27 15:29:53.995009\u001b[0m\n",
      "\u001b[37m\t[DEBUG]: \talignment_file: ./data/aligned_reads_sorted.bam\u001b[0m\n",
      "\u001b[37m\t[DEBUG]: \tcount_file: ./output/tx_counts.tsv\u001b[0m\n",
      "\u001b[37m\t[DEBUG]: \tfilter_bam_out: \u001b[0m\n",
      "\u001b[37m\t[DEBUG]: \tmin_read_length: 50\u001b[0m\n",
      "\u001b[37m\t[DEBUG]: \tdiscard_suplementary: False\u001b[0m\n",
      "\u001b[37m\t[DEBUG]: \tmin_query_fraction_aligned: 0.5\u001b[0m\n",
      "\u001b[37m\t[DEBUG]: \tequivalent_threshold: 0.8\u001b[0m\n",
      "\u001b[37m\t[DEBUG]: \tscoring_value: alignment_score\u001b[0m\n",
      "\u001b[37m\t[DEBUG]: \tconvergence_target: 0.005\u001b[0m\n",
      "\u001b[37m\t[DEBUG]: \tmax_em_rounds: 100\u001b[0m\n",
      "\u001b[37m\t[DEBUG]: \textra_tx_info: False\u001b[0m\n",
      "\u001b[37m\t[DEBUG]: \tprimary_score: primary\u001b[0m\n",
      "\u001b[37m\t[DEBUG]: \tmax_dist_3_prime: 100\u001b[0m\n",
      "\u001b[37m\t[DEBUG]: \tmax_dist_5_prime: -1\u001b[0m\n",
      "\u001b[37m\t[DEBUG]: \tverbose: True\u001b[0m\n",
      "\u001b[37m\t[DEBUG]: \tquiet: False\u001b[0m\n",
      "\u001b[01;34m## Initialise Nanocount ##\u001b[0m\n",
      "\u001b[32m\tParse Bam file and filter low quality alignments\u001b[0m\n",
      "\u001b[32m\tSummary of alignments parsed in input bam file\u001b[0m\n",
      "\u001b[32m\t\tValid alignments: 153,201\u001b[0m\n",
      "\u001b[32m\t\tDiscarded unmapped alignments: 9,545\u001b[0m\n",
      "\u001b[32m\t\tDiscarded negative strand alignments: 4,515\u001b[0m\n",
      "\u001b[32m\t\tDiscarded alignment with invalid 3 prime end: 3,783\u001b[0m\n",
      "\u001b[32m\tSummary of reads filtered\u001b[0m\n",
      "\u001b[32m\t\tReads with valid best alignment: 85,899\u001b[0m\n",
      "\u001b[32m\t\tValid secondary alignments: 50,019\u001b[0m\n",
      "\u001b[32m\t\tInvalid secondary alignments: 14,468\u001b[0m\n",
      "\u001b[32m\t\tReads with low query fraction aligned: 1,580\u001b[0m\n",
      "\u001b[32m\t\tReads too short: 798\u001b[0m\n",
      "\u001b[32m\tGenerate initial read/transcript compatibility index\u001b[0m\n",
      "\u001b[01;34m## Start EM abundance estimate ##\u001b[0m\n",
      "\u001b[37m\t[DEBUG]: EM Round: 1 / Convergence value: 1\u001b[0m\n",
      "\u001b[37m\t[DEBUG]: EM Round: 2 / Convergence value: 0.08720399128271267\u001b[0m\n",
      "\u001b[37m\t[DEBUG]: EM Round: 3 / Convergence value: 0.07133539797136831\u001b[0m\n",
      "\u001b[37m\t[DEBUG]: EM Round: 4 / Convergence value: 0.05903341783390852\u001b[0m\n",
      "\u001b[37m\t[DEBUG]: EM Round: 5 / Convergence value: 0.04896312292947622\u001b[0m\n",
      "\u001b[37m\t[DEBUG]: EM Round: 6 / Convergence value: 0.04064731883556307\u001b[0m\n",
      "\u001b[37m\t[DEBUG]: EM Round: 7 / Convergence value: 0.03376476127281737\u001b[0m\n",
      "\u001b[37m\t[DEBUG]: EM Round: 8 / Convergence value: 0.028063598107109133\u001b[0m\n",
      "\u001b[37m\t[DEBUG]: EM Round: 9 / Convergence value: 0.023338884564741178\u001b[0m\n",
      "\u001b[37m\t[DEBUG]: EM Round: 10 / Convergence value: 0.01942206796576189\u001b[0m\n",
      "\u001b[37m\t[DEBUG]: EM Round: 11 / Convergence value: 0.016174069176588837\u001b[0m\n",
      "\u001b[37m\t[DEBUG]: EM Round: 12 / Convergence value: 0.013479965766639328\u001b[0m\n",
      "\u001b[37m\t[DEBUG]: EM Round: 13 / Convergence value: 0.011244768877683898\u001b[0m\n",
      "\u001b[37m\t[DEBUG]: EM Round: 14 / Convergence value: 0.009389820930918492\u001b[0m\n",
      "\u001b[37m\t[DEBUG]: EM Round: 15 / Convergence value: 0.007849972063348042\u001b[0m\n",
      "\u001b[37m\t[DEBUG]: EM Round: 16 / Convergence value: 0.006571327855500641\u001b[0m\n",
      "\u001b[37m\t[DEBUG]: EM Round: 17 / Convergence value: 0.005509248149704565\u001b[0m\n",
      "\u001b[37m\t[DEBUG]: EM Round: 18 / Convergence value: 0.0046267497351846565\u001b[0m\n",
      "\u001b[32m\tExit EM loop after 18 rounds\u001b[0m\n",
      "\u001b[32m\tConvergence value: 0.0046267497351846565\u001b[0m\n",
      "\u001b[01;34m## Summarize data ##\u001b[0m\n",
      "\u001b[32m\tConvert results to dataframe\u001b[0m\n",
      "\u001b[32m\tCompute estimated counts and TPM\u001b[0m\n",
      "\u001b[32m\tWrite file\u001b[0m\n",
      "(nanocount) "
     ]
    },
    {
     "ename": "",
     "evalue": "1",
     "output_type": "error",
     "traceback": []
    }
   ],
   "source": [
    "NanoCount -i ./data/aligned_reads_sorted.bam -o ./output/tx_counts.tsv --equivalent_threshold 0.8  --verbose"
   ]
  }
 ],
 "metadata": {
  "kernelspec": {
   "display_name": "Bash",
   "language": "bash",
   "name": "bash"
  },
  "language_info": {
   "codemirror_mode": "shell",
   "file_extension": ".sh",
   "mimetype": "text/x-sh",
   "name": "bash"
  }
 },
 "nbformat": 4,
 "nbformat_minor": 4
}
