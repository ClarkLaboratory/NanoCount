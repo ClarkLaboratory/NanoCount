{
 "cells": [
  {
   "cell_type": "markdown",
   "metadata": {
    "ExecuteTime": {
     "end_time": "2020-05-04T11:02:46.918334Z",
     "start_time": "2020-05-04T11:02:46.911996Z"
    }
   },
   "source": [
    "# NanoCount command line usage"
   ]
  },
  {
   "cell_type": "markdown",
   "metadata": {
    "ExecuteTime": {
     "end_time": "2020-05-04T12:47:10.312567Z",
     "start_time": "2020-05-04T12:47:10.033440Z"
    }
   },
   "source": [
    "### Activate virtual environment"
   ]
  },
  {
   "cell_type": "code",
   "execution_count": 1,
   "metadata": {
    "ExecuteTime": {
     "end_time": "2020-06-08T14:33:31.515540Z",
     "start_time": "2020-06-08T14:33:31.310371Z"
    }
   },
   "outputs": [
    {
     "name": "stdout",
     "output_type": "stream",
     "text": [
      "(NanoCount) "
     ]
    },
    {
     "ename": "",
     "evalue": "1",
     "output_type": "error",
     "traceback": []
    }
   ],
   "source": [
    "conda activate NanoCount"
   ]
  },
  {
   "cell_type": "markdown",
   "metadata": {},
   "source": [
    "### Running NanoCount"
   ]
  },
  {
   "cell_type": "code",
   "execution_count": 3,
   "metadata": {
    "ExecuteTime": {
     "end_time": "2020-06-08T14:33:48.439661Z",
     "start_time": "2020-06-08T14:33:47.709498Z"
    }
   },
   "outputs": [
    {
     "name": "stdout",
     "output_type": "stream",
     "text": [
      "usage: NanoCount [-h] [--version] -i ALIGNMENT_FILE [-o COUNT_FILE]\n",
      "                 [-l MIN_READ_LENGTH] [-f MIN_QUERY_FRACTION_ALIGNED]\n",
      "                 [-t EQUIVALENT_THRESHOLD] [-s SCORING_VALUE]\n",
      "                 [-c CONVERGENCE_TARGET] [-e MAX_EM_ROUNDS] [-x]\n",
      "                 [-p PRIMARY_SCORE] [-v] [-q]\n",
      "\n",
      "EM based transcripts abundance estimation from nanopore reads mapped to a\n",
      "transcriptome with minimap2\n",
      "\n",
      "optional arguments:\n",
      "  -h, --help            show this help message and exit\n",
      "  --version             show program's version number and exit\n",
      "\n",
      "Input/Output options:\n",
      "  -i ALIGNMENT_FILE, --alignment_file ALIGNMENT_FILE\n",
      "                        BAM or SAM file containing aligned ONT dRNA-Seq reads\n",
      "                        including secondary and supplementary alignment\n",
      "                        (required) [str]\n",
      "  -o COUNT_FILE, --count_file COUNT_FILE\n",
      "                        Output file path where to write estimated counts (TSV\n",
      "                        format) (default: None) [str]\n",
      "\n",
      "Misc options:\n",
      "  -l MIN_READ_LENGTH, --min_read_length MIN_READ_LENGTH\n",
      "                        Minimal length of the read to be considered valid\n",
      "                        (default: 50) [int]\n",
      "  -f MIN_QUERY_FRACTION_ALIGNED, --min_query_fraction_aligned MIN_QUERY_FRACTION_ALIGNED\n",
      "                        Minimal fraction of the primary hit query aligned to\n",
      "                        consider the read valid (default: 0.5) [float]\n",
      "  -t EQUIVALENT_THRESHOLD, --equivalent_threshold EQUIVALENT_THRESHOLD\n",
      "                        Fraction of the alignment score or the alignment\n",
      "                        length of secondary hits compared to the primary hit\n",
      "                        to be considered valid hits (default: 0.9) [float]\n",
      "  -s SCORING_VALUE, --scoring_value SCORING_VALUE\n",
      "                        Value to use for score thresholding of secondary hits\n",
      "                        either \"alignment_score\" or \"alignment_length\"\n",
      "                        (default: alignment_score) [str]\n",
      "  -c CONVERGENCE_TARGET, --convergence_target CONVERGENCE_TARGET\n",
      "                        Convergence target value of the cummulative difference\n",
      "                        between abundance values of successive EM round to\n",
      "                        trigger the end of the EM loop. (default: 0.005)\n",
      "                        [float]\n",
      "  -e MAX_EM_ROUNDS, --max_em_rounds MAX_EM_ROUNDS\n",
      "                        Maximum number of EM rounds before triggering stop\n",
      "                        (default: 100) [int]\n",
      "  -x, --extra_tx_info   Add transcripts length and zero coverage transcripts\n",
      "                        to the output file (required valid bam/sam header)\n",
      "                        (default: False) [boolean]\n",
      "  -p PRIMARY_SCORE, --primary_score PRIMARY_SCORE\n",
      "                        Method to pick the best alignment for each read. By\n",
      "                        default it uses the primary read defined by the\n",
      "                        aligner but it can be changed to use either the best\n",
      "                        alignment score (\"align_score\") or the best alignment\n",
      "                        length (\"align_len\"). (default: None) [str]\n",
      "\n",
      "Verbosity options:\n",
      "  -v, --verbose         Increase verbosity for QC and debugging (default:\n",
      "                        False) [boolean]\n",
      "  -q, --quiet           Reduce verbosity (default: False) [boolean]\n",
      "(NanoCount) "
     ]
    },
    {
     "ename": "",
     "evalue": "1",
     "output_type": "error",
     "traceback": []
    }
   ],
   "source": [
    "NanoCount --help"
   ]
  },
  {
   "cell_type": "markdown",
   "metadata": {},
   "source": [
    "#### Basic command"
   ]
  },
  {
   "cell_type": "code",
   "execution_count": 4,
   "metadata": {
    "ExecuteTime": {
     "end_time": "2020-06-08T14:34:02.742410Z",
     "start_time": "2020-06-08T14:33:58.835209Z"
    },
    "scrolled": false
   },
   "outputs": [
    {
     "name": "stdout",
     "output_type": "stream",
     "text": [
      "\u001b[01;34m## Checking options and input files ##\u001b[0m\n",
      "\u001b[01;34m## Initialise Nanocount ##\u001b[0m\n",
      "\u001b[32m\tParse Bam file and filter low quality hits\u001b[0m\n",
      "\u001b[32m\tGenerate initial read/transcript compatibility index\u001b[0m\n",
      "\u001b[01;34m## Start EM abundance estimate ##\u001b[0m\n",
      "\tProgress: 2.00 rounds [00:00, 14.8 rounds/s]\n",
      "\u001b[32m\tExit EM loop after 2 rounds\u001b[0m\n",
      "\u001b[32m\tConvergence value: 0.0026556625233718663\u001b[0m\n",
      "\u001b[01;34m## Summarize data ##\u001b[0m\n",
      "\u001b[32m\tConvert results to dataframe\u001b[0m\n",
      "\u001b[32m\tCompute estimated counts and TPM\u001b[0m\n",
      "\u001b[32m\tWrite file\u001b[0m\n",
      "(NanoCount) transcript_name\traw\test_count\ttpm\n",
      "YHR174W_mRNA\t0.037525253303454735\t921.3950696130275\t37525.25330345474\n",
      "YLR110C_mRNA\t0.032926045534605486\t808.466122056703\t32926.04553460549\n",
      "YKL060C_mRNA\t0.023539952757188228\t577.9999999999998\t23539.952757188228\n",
      "YKL152C_mRNA\t0.014865195080231321\t364.99999999999983\t14865.19508023132\n",
      "YCR012W_mRNA\t0.014539382585322141\t356.9999999999999\t14539.38258532214\n",
      "YDR050C_mRNA\t0.014539382585322141\t356.9999999999999\t14539.38258532214\n",
      "YOR369C_mRNA\t0.013165221113714695\t323.2588392261506\t13165.221113714695\n",
      "YMR116C_mRNA\t0.012340148244685179\t302.9999999999999\t12340.148244685179\n",
      "YLR340W_mRNA\t0.011810702940457761\t289.9999999999999\t11810.70294045776\n",
      "(NanoCount) "
     ]
    },
    {
     "ename": "",
     "evalue": "1",
     "output_type": "error",
     "traceback": []
    }
   ],
   "source": [
    "NanoCount -i ./data/aligned_reads.bam -o ./output/tx_counts.tsv\n",
    "head ./output/tx_counts.tsv"
   ]
  },
  {
   "cell_type": "markdown",
   "metadata": {},
   "source": [
    "#### Adding extra transcripts information"
   ]
  },
  {
   "cell_type": "markdown",
   "metadata": {},
   "source": [
    "The `extra_tx_info` option adds a columns with the transcript lengths and also includes all the zero-coverage transcripts in the results"
   ]
  },
  {
   "cell_type": "code",
   "execution_count": 7,
   "metadata": {
    "ExecuteTime": {
     "end_time": "2020-06-08T14:34:34.577532Z",
     "start_time": "2020-06-08T14:34:30.497345Z"
    },
    "scrolled": true
   },
   "outputs": [
    {
     "name": "stdout",
     "output_type": "stream",
     "text": [
      "\u001b[01;34m## Checking options and input files ##\u001b[0m\n",
      "\u001b[01;34m## Initialise Nanocount ##\u001b[0m\n",
      "\u001b[32m\tParse Bam file and filter low quality hits\u001b[0m\n",
      "\u001b[32m\tGenerate initial read/transcript compatibility index\u001b[0m\n",
      "\u001b[01;34m## Start EM abundance estimate ##\u001b[0m\n",
      "\tProgress: 2.00 rounds [00:00, 14.8 rounds/s]\n",
      "\u001b[32m\tExit EM loop after 2 rounds\u001b[0m\n",
      "\u001b[32m\tConvergence value: 0.0026556625233718663\u001b[0m\n",
      "\u001b[01;34m## Summarize data ##\u001b[0m\n",
      "\u001b[32m\tConvert results to dataframe\u001b[0m\n",
      "\u001b[32m\tCompute estimated counts and TPM\u001b[0m\n",
      "\u001b[32m\tWrite file\u001b[0m\n",
      "(NanoCount) transcript_name\traw\test_count\ttpm\ttranscript_length\n",
      "YHR174W_mRNA\t0.037525253303454735\t921.3950696130275\t37525.25330345474\t1314\n",
      "YLR110C_mRNA\t0.032926045534605486\t808.466122056703\t32926.04553460549\t402\n",
      "YKL060C_mRNA\t0.023539952757188228\t577.9999999999998\t23539.952757188228\t1080\n",
      "YKL152C_mRNA\t0.014865195080231321\t364.99999999999983\t14865.19508023132\t744\n",
      "YCR012W_mRNA\t0.014539382585322141\t356.9999999999999\t14539.38258532214\t1251\n",
      "YDR050C_mRNA\t0.014539382585322141\t356.9999999999999\t14539.38258532214\t747\n",
      "YOR369C_mRNA\t0.013165221113714695\t323.2588392261506\t13165.221113714695\t432\n",
      "YMR116C_mRNA\t0.012340148244685179\t302.9999999999999\t12340.148244685179\t960\n",
      "YLR340W_mRNA\t0.011810702940457761\t289.9999999999999\t11810.70294045776\t939\n",
      "(NanoCount) "
     ]
    },
    {
     "ename": "",
     "evalue": "1",
     "output_type": "error",
     "traceback": []
    }
   ],
   "source": [
    "NanoCount -i ./data/aligned_reads.bam -o ./output/tx_counts.tsv --extra_tx_info\n",
    "head ./output/tx_counts.tsv"
   ]
  },
  {
   "cell_type": "markdown",
   "metadata": {},
   "source": [
    "#### Relaxing the equivalence threshold"
   ]
  },
  {
   "cell_type": "markdown",
   "metadata": {},
   "source": [
    "The default value is 0.9 (90% of the alignment score of the primary alignment) but this value could be lowered to allow more secondary alignments to be included in the uncertainty calculation.\n",
    "Lowering the value bellow 0.75 might not be relevant and will considerably increase the computation time."
   ]
  },
  {
   "cell_type": "code",
   "execution_count": 8,
   "metadata": {
    "ExecuteTime": {
     "end_time": "2020-06-08T14:34:38.811661Z",
     "start_time": "2020-06-08T14:34:34.729375Z"
    }
   },
   "outputs": [
    {
     "name": "stdout",
     "output_type": "stream",
     "text": [
      "\u001b[01;34m## Checking options and input files ##\u001b[0m\n",
      "\u001b[01;34m## Initialise Nanocount ##\u001b[0m\n",
      "\u001b[32m\tParse Bam file and filter low quality hits\u001b[0m\n",
      "\u001b[32m\tGenerate initial read/transcript compatibility index\u001b[0m\n",
      "\u001b[01;34m## Start EM abundance estimate ##\u001b[0m\n",
      "\tProgress: 2.00 rounds [00:00, 14.8 rounds/s]\n",
      "\u001b[32m\tExit EM loop after 2 rounds\u001b[0m\n",
      "\u001b[32m\tConvergence value: 0.0026556625233718663\u001b[0m\n",
      "\u001b[01;34m## Summarize data ##\u001b[0m\n",
      "\u001b[32m\tConvert results to dataframe\u001b[0m\n",
      "\u001b[32m\tCompute estimated counts and TPM\u001b[0m\n",
      "\u001b[32m\tWrite file\u001b[0m\n",
      "(NanoCount) transcript_name\traw\test_count\ttpm\n",
      "YHR174W_mRNA\t0.037525253303454735\t921.3950696130275\t37525.25330345474\n",
      "YLR110C_mRNA\t0.032926045534605486\t808.466122056703\t32926.04553460549\n",
      "YKL060C_mRNA\t0.023539952757188228\t577.9999999999998\t23539.952757188228\n",
      "YKL152C_mRNA\t0.014865195080231321\t364.99999999999983\t14865.19508023132\n",
      "YCR012W_mRNA\t0.014539382585322141\t356.9999999999999\t14539.38258532214\n",
      "YDR050C_mRNA\t0.014539382585322141\t356.9999999999999\t14539.38258532214\n",
      "YOR369C_mRNA\t0.013165221113714695\t323.2588392261506\t13165.221113714695\n",
      "YMR116C_mRNA\t0.012340148244685179\t302.9999999999999\t12340.148244685179\n",
      "YLR340W_mRNA\t0.011810702940457761\t289.9999999999999\t11810.70294045776\n",
      "(NanoCount) "
     ]
    },
    {
     "ename": "",
     "evalue": "1",
     "output_type": "error",
     "traceback": []
    }
   ],
   "source": [
    "NanoCount -i ./data/aligned_reads.bam -o ./output/tx_counts.tsv --equivalent_threshold 0.8\n",
    "head ./output/tx_counts.tsv"
   ]
  },
  {
   "cell_type": "markdown",
   "metadata": {},
   "source": [
    "#### verbose mode"
   ]
  },
  {
   "cell_type": "markdown",
   "metadata": {},
   "source": [
    "Print additional information for QC and debugging"
   ]
  },
  {
   "cell_type": "code",
   "execution_count": 9,
   "metadata": {
    "ExecuteTime": {
     "end_time": "2020-06-08T14:34:43.159603Z",
     "start_time": "2020-06-08T14:34:38.969359Z"
    }
   },
   "outputs": [
    {
     "name": "stdout",
     "output_type": "stream",
     "text": [
      "\u001b[01;34m## Checking options and input files ##\u001b[0m\n",
      "\u001b[37m\t[DEBUG]: Options summary\u001b[0m\n",
      "\u001b[37m\t[DEBUG]: \tPackage name: NanoCount\u001b[0m\n",
      "\u001b[37m\t[DEBUG]: \tPackage version: 0.2.2\u001b[0m\n",
      "\u001b[37m\t[DEBUG]: \tTimestamp: 2020-06-08 15:34:39.567165\u001b[0m\n",
      "\u001b[37m\t[DEBUG]: \tquiet: False\u001b[0m\n",
      "\u001b[37m\t[DEBUG]: \tverbose: True\u001b[0m\n",
      "\u001b[37m\t[DEBUG]: \tprimary_score: \u001b[0m\n",
      "\u001b[37m\t[DEBUG]: \textra_tx_info: False\u001b[0m\n",
      "\u001b[37m\t[DEBUG]: \tmax_em_rounds: 100\u001b[0m\n",
      "\u001b[37m\t[DEBUG]: \tconvergence_target: 0.005\u001b[0m\n",
      "\u001b[37m\t[DEBUG]: \tscoring_value: alignment_score\u001b[0m\n",
      "\u001b[37m\t[DEBUG]: \tequivalent_threshold: 0.8\u001b[0m\n",
      "\u001b[37m\t[DEBUG]: \tmin_query_fraction_aligned: 0.5\u001b[0m\n",
      "\u001b[37m\t[DEBUG]: \tmin_read_length: 50\u001b[0m\n",
      "\u001b[37m\t[DEBUG]: \tcount_file: ./output/tx_counts.tsv\u001b[0m\n",
      "\u001b[37m\t[DEBUG]: \talignment_file: ./data/aligned_reads.bam\u001b[0m\n",
      "\u001b[01;34m## Initialise Nanocount ##\u001b[0m\n",
      "\u001b[32m\tParse Bam file and filter low quality hits\u001b[0m\n",
      "\u001b[37m\t[DEBUG]: Summary of reads parsed in input bam file\u001b[0m\n",
      "\u001b[37m\t[DEBUG]: \tMapped hits: 156,984\u001b[0m\n",
      "\u001b[37m\t[DEBUG]: \tUnmapped hits: 9,545\u001b[0m\n",
      "\u001b[37m\t[DEBUG]: \tWrong strand hits: 4,515\u001b[0m\n",
      "\u001b[37m\t[DEBUG]: Summary of reads parsed in input bam file\u001b[0m\n",
      "\u001b[37m\t[DEBUG]: \tReads too short: 64,129\u001b[0m\n",
      "\u001b[37m\t[DEBUG]: \tValid best hit: 24,554\u001b[0m\n",
      "\u001b[37m\t[DEBUG]: \tBest hit with low query fraction aligned: 1,374\u001b[0m\n",
      "\u001b[37m\t[DEBUG]: \tValid secondary hit: 321\u001b[0m\n",
      "\u001b[37m\t[DEBUG]: \tReads with zero score: 1\u001b[0m\n",
      "\u001b[32m\tGenerate initial read/transcript compatibility index\u001b[0m\n",
      "\u001b[01;34m## Start EM abundance estimate ##\u001b[0m\n",
      "\u001b[37m\t[DEBUG]: EM Round: 1 / Convergence value: 1\u001b[0m\n",
      "\u001b[37m\t[DEBUG]: EM Round: 2 / Convergence value: 0.0026556625233718663\u001b[0m\n",
      "\u001b[32m\tExit EM loop after 2 rounds\u001b[0m\n",
      "\u001b[32m\tConvergence value: 0.0026556625233718663\u001b[0m\n",
      "\u001b[01;34m## Summarize data ##\u001b[0m\n",
      "\u001b[32m\tConvert results to dataframe\u001b[0m\n",
      "\u001b[32m\tCompute estimated counts and TPM\u001b[0m\n",
      "\u001b[32m\tWrite file\u001b[0m\n",
      "(NanoCount) "
     ]
    },
    {
     "ename": "",
     "evalue": "1",
     "output_type": "error",
     "traceback": []
    }
   ],
   "source": [
    "NanoCount -i ./data/aligned_reads.bam -o ./output/tx_counts.tsv --equivalent_threshold 0.8  --verbose"
   ]
  }
 ],
 "metadata": {
  "kernelspec": {
   "display_name": "Bash",
   "language": "bash",
   "name": "bash"
  },
  "language_info": {
   "codemirror_mode": "shell",
   "file_extension": ".sh",
   "mimetype": "text/x-sh",
   "name": "bash"
  }
 },
 "nbformat": 4,
 "nbformat_minor": 4
}
