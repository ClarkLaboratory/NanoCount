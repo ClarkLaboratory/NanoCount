{
 "cells": [
  {
   "cell_type": "markdown",
   "metadata": {},
   "source": [
    "# Imports"
   ]
  },
  {
   "cell_type": "code",
   "execution_count": 1,
   "metadata": {
    "ExecuteTime": {
     "end_time": "2019-06-21T09:04:12.778389Z",
     "start_time": "2019-06-21T09:04:12.449583Z"
    }
   },
   "outputs": [],
   "source": [
    "from pprint import pprint as pp\n",
    "from pycltools.pycltools import *"
   ]
  },
  {
   "cell_type": "markdown",
   "metadata": {},
   "source": [
    "# Test package"
   ]
  },
  {
   "cell_type": "code",
   "execution_count": 2,
   "metadata": {
    "ExecuteTime": {
     "end_time": "2019-06-21T09:04:20.986204Z",
     "start_time": "2019-06-21T09:04:20.956997Z"
    }
   },
   "outputs": [],
   "source": [
    "from NanoCount.NanoCount import NanoCount as nc"
   ]
  },
  {
   "cell_type": "code",
   "execution_count": 3,
   "metadata": {
    "ExecuteTime": {
     "end_time": "2019-06-21T09:04:27.373964Z",
     "start_time": "2019-06-21T09:04:27.335530Z"
    },
    "scrolled": true
   },
   "outputs": [
    {
     "name": "stderr",
     "output_type": "stream",
     "text": [
      "Run parameters\n",
      "\tMinimal read length:50\n",
      "\tMinimal aligned fraction of query read:0.5\n",
      "\tEquivalent threshold:0.9\n",
      "\tScoring value:alignment_score\n",
      "\tConvergence target:0.005\n",
      "Parse Bam file and filter low quality hits\n",
      "\tMapped hits:21\n",
      "\tUnmapped hits:2\n",
      "\tValid best hit:20\n",
      "\tInvalid secondary hit:1\n",
      "Generate initial read/transcript compatibility index\n",
      "Start EM abundance estimate\n",
      "..\n",
      "Convergence target reached after 2 rounds\n",
      "Convergence value = 0.0\n"
     ]
    }
   ],
   "source": [
    "n = nc (alignment_file=\"./data/cDNA_aligned_reads.bam\", verbose=True)"
   ]
  },
  {
   "cell_type": "code",
   "execution_count": 5,
   "metadata": {
    "ExecuteTime": {
     "end_time": "2019-06-21T09:05:12.214327Z",
     "start_time": "2019-06-21T09:05:08.405065Z"
    },
    "scrolled": false
   },
   "outputs": [
    {
     "name": "stderr",
     "output_type": "stream",
     "text": [
      "Run parameters\n",
      "\tMinimal read length:50\n",
      "\tMinimal aligned fraction of query read:0.5\n",
      "\tEquivalent threshold:0.9\n",
      "\tScoring value:alignment_score\n",
      "\tConvergence target:0.005\n",
      "Parse Bam file and filter low quality hits\n",
      "\tMapped hits:118237\n",
      "\tWrong strand hits:1139\n",
      "\tUnmapped hits:38325\n",
      "\tValid best hit:72427\n",
      "\tValid secondary hit:31298\n",
      "\tInvalid secondary hit:12695\n",
      "\tBest hit with low query fraction aligned:1066\n",
      "Generate initial read/transcript compatibility index\n",
      "Start EM abundance estimate\n",
      "........\n",
      "Convergence target reached after 8 rounds\n",
      "Convergence value = 0.004801809595549253\n"
     ]
    },
    {
     "data": {
      "text/html": [
       "<div>\n",
       "<style scoped>\n",
       "    .dataframe tbody tr th:only-of-type {\n",
       "        vertical-align: middle;\n",
       "    }\n",
       "\n",
       "    .dataframe tbody tr th {\n",
       "        vertical-align: top;\n",
       "    }\n",
       "\n",
       "    .dataframe thead th {\n",
       "        text-align: right;\n",
       "    }\n",
       "</style>\n",
       "<table border=\"1\" class=\"dataframe\">\n",
       "  <thead>\n",
       "    <tr style=\"text-align: right;\">\n",
       "      <th></th>\n",
       "      <th>raw</th>\n",
       "      <th>est_count</th>\n",
       "      <th>tpm</th>\n",
       "    </tr>\n",
       "    <tr>\n",
       "      <th>transcript_name</th>\n",
       "      <th></th>\n",
       "      <th></th>\n",
       "      <th></th>\n",
       "    </tr>\n",
       "  </thead>\n",
       "  <tbody>\n",
       "    <tr>\n",
       "      <th>ENSDART00000010144|ENSDARG00000002768</th>\n",
       "      <td>0.031936</td>\n",
       "      <td>2313.0</td>\n",
       "      <td>2.313000e+09</td>\n",
       "    </tr>\n",
       "    <tr>\n",
       "      <th>ENSDART00000055062|ENSDARG00000037789</th>\n",
       "      <td>0.026882</td>\n",
       "      <td>1947.0</td>\n",
       "      <td>1.947000e+09</td>\n",
       "    </tr>\n",
       "    <tr>\n",
       "      <th>ENSDART00000055136|ENSDARG00000037840</th>\n",
       "      <td>0.019054</td>\n",
       "      <td>1380.0</td>\n",
       "      <td>1.380000e+09</td>\n",
       "    </tr>\n",
       "    <tr>\n",
       "      <th>ENSDART00000093609|ENSDARG00000063908</th>\n",
       "      <td>0.018184</td>\n",
       "      <td>1317.0</td>\n",
       "      <td>1.317000e+09</td>\n",
       "    </tr>\n",
       "    <tr>\n",
       "      <th>ENSDART00000023156|ENSDARG00000020850</th>\n",
       "      <td>0.011860</td>\n",
       "      <td>859.0</td>\n",
       "      <td>8.590000e+08</td>\n",
       "    </tr>\n",
       "  </tbody>\n",
       "</table>\n",
       "</div>"
      ],
      "text/plain": [
       "                                            raw  est_count           tpm\n",
       "transcript_name                                                         \n",
       "ENSDART00000010144|ENSDARG00000002768  0.031936     2313.0  2.313000e+09\n",
       "ENSDART00000055062|ENSDARG00000037789  0.026882     1947.0  1.947000e+09\n",
       "ENSDART00000055136|ENSDARG00000037840  0.019054     1380.0  1.380000e+09\n",
       "ENSDART00000093609|ENSDARG00000063908  0.018184     1317.0  1.317000e+09\n",
       "ENSDART00000023156|ENSDARG00000020850  0.011860      859.0  8.590000e+08"
      ]
     },
     "metadata": {},
     "output_type": "display_data"
    }
   ],
   "source": [
    "n = nc (alignment_file=\"/home/aleg/Analyses/Aligned_dRNASeq_example/transcriptome_day5.bam\", verbose=True)\n",
    "display(n.count_df.head())"
   ]
  },
  {
   "cell_type": "code",
   "execution_count": 7,
   "metadata": {
    "ExecuteTime": {
     "end_time": "2019-06-21T09:06:16.743836Z",
     "start_time": "2019-06-21T09:06:16.621171Z"
    }
   },
   "outputs": [
    {
     "name": "stderr",
     "output_type": "stream",
     "text": [
      "Run parameters\n",
      "\tMinimal read length:200\n",
      "\tMinimal aligned fraction of query read:0.5\n",
      "\tEquivalent threshold:0.8\n",
      "\tScoring value:alignment_score\n",
      "\tConvergence target:0.005\n",
      "Parse Bam file and filter low quality hits\n",
      "\tMapped hits:21\n",
      "\tUnmapped hits:2\n",
      "\tValid best hit:20\n",
      "\tValid secondary hit:1\n",
      "Generate initial read/transcript compatibility index\n",
      "Start EM abundance estimate\n",
      "..\n",
      "Convergence target reached after 2 rounds\n",
      "Convergence value = 0.0\n",
      "Write output count file"
     ]
    },
    {
     "name": "stdout",
     "output_type": "stream",
     "text": [
      "transcript_name raw  est_count tpm       \n",
      "YHR174W         0.15 3.0       3000000.0 \n",
      "YGR192C         0.1  2.0       2000000.0 \n",
      "YGR240C         0.05 1.0       1000000.0 \n",
      "YCR030C         0.05 1.0       1000000.0 \n",
      "YLR441C         0.05 1.0       1000000.0 \n",
      "YDR500C         0.05 1.0       1000000.0 \n",
      "YDR224C         0.05 1.0       1000000.0 \n",
      "YIL117C         0.05 1.0       1000000.0 \n",
      "YDL145C         0.05 1.0       1000000.0 \n",
      "\n"
     ]
    }
   ],
   "source": [
    "n = nc (alignment_file=\"./data/cDNA_aligned_reads.bam\", min_read_length=200, min_query_fraction_aligned=0.5, equivalent_threshold=0.80, verbose=True)\n",
    "n.write_count_file (\"./data/count_file.tsv\")\n",
    "head  (\"./data/count_file.tsv\")"
   ]
  },
  {
   "cell_type": "code",
   "execution_count": 9,
   "metadata": {
    "ExecuteTime": {
     "end_time": "2019-06-21T09:08:06.134523Z",
     "start_time": "2019-06-21T09:07:45.150608Z"
    },
    "scrolled": false
   },
   "outputs": [
    {
     "name": "stderr",
     "output_type": "stream",
     "text": [
      "Run parameters\n",
      "\tMinimal read length:50\n",
      "\tMinimal aligned fraction of query read:0.5\n",
      "\tEquivalent threshold:0.9\n",
      "\tScoring value:alignment_score\n",
      "\tConvergence target:0.0001\n",
      "Parse Bam file and filter low quality hits\n",
      "\tMapped hits:118237\n",
      "\tWrong strand hits:1139\n",
      "\tUnmapped hits:38325\n",
      "\tValid best hit:72427\n",
      "\tValid secondary hit:31298\n",
      "\tInvalid secondary hit:12695\n",
      "\tBest hit with low query fraction aligned:1066\n",
      "Generate initial read/transcript compatibility index\n",
      "Start EM abundance estimate\n",
      "....................................................................................................\n",
      "Cannot reach convergence after 100 rounds\n",
      "Convergence value = 0.0001319056616579426\n"
     ]
    },
    {
     "data": {
      "text/html": [
       "<div>\n",
       "<style scoped>\n",
       "    .dataframe tbody tr th:only-of-type {\n",
       "        vertical-align: middle;\n",
       "    }\n",
       "\n",
       "    .dataframe tbody tr th {\n",
       "        vertical-align: top;\n",
       "    }\n",
       "\n",
       "    .dataframe thead th {\n",
       "        text-align: right;\n",
       "    }\n",
       "</style>\n",
       "<table border=\"1\" class=\"dataframe\">\n",
       "  <thead>\n",
       "    <tr style=\"text-align: right;\">\n",
       "      <th></th>\n",
       "      <th>raw</th>\n",
       "      <th>est_count</th>\n",
       "      <th>tpm</th>\n",
       "    </tr>\n",
       "    <tr>\n",
       "      <th>transcript_name</th>\n",
       "      <th></th>\n",
       "      <th></th>\n",
       "      <th></th>\n",
       "    </tr>\n",
       "  </thead>\n",
       "  <tbody>\n",
       "    <tr>\n",
       "      <th>ENSDART00000010144|ENSDARG00000002768</th>\n",
       "      <td>0.031936</td>\n",
       "      <td>2313.0</td>\n",
       "      <td>2.313000e+09</td>\n",
       "    </tr>\n",
       "    <tr>\n",
       "      <th>ENSDART00000055062|ENSDARG00000037789</th>\n",
       "      <td>0.026882</td>\n",
       "      <td>1947.0</td>\n",
       "      <td>1.947000e+09</td>\n",
       "    </tr>\n",
       "    <tr>\n",
       "      <th>ENSDART00000055136|ENSDARG00000037840</th>\n",
       "      <td>0.019054</td>\n",
       "      <td>1380.0</td>\n",
       "      <td>1.380000e+09</td>\n",
       "    </tr>\n",
       "    <tr>\n",
       "      <th>ENSDART00000093609|ENSDARG00000063908</th>\n",
       "      <td>0.018184</td>\n",
       "      <td>1317.0</td>\n",
       "      <td>1.317000e+09</td>\n",
       "    </tr>\n",
       "    <tr>\n",
       "      <th>ENSDART00000023156|ENSDARG00000020850</th>\n",
       "      <td>0.011860</td>\n",
       "      <td>859.0</td>\n",
       "      <td>8.590000e+08</td>\n",
       "    </tr>\n",
       "  </tbody>\n",
       "</table>\n",
       "</div>"
      ],
      "text/plain": [
       "                                            raw  est_count           tpm\n",
       "transcript_name                                                         \n",
       "ENSDART00000010144|ENSDARG00000002768  0.031936     2313.0  2.313000e+09\n",
       "ENSDART00000055062|ENSDARG00000037789  0.026882     1947.0  1.947000e+09\n",
       "ENSDART00000055136|ENSDARG00000037840  0.019054     1380.0  1.380000e+09\n",
       "ENSDART00000093609|ENSDARG00000063908  0.018184     1317.0  1.317000e+09\n",
       "ENSDART00000023156|ENSDARG00000020850  0.011860      859.0  8.590000e+08"
      ]
     },
     "metadata": {},
     "output_type": "display_data"
    }
   ],
   "source": [
    "n = nc (alignment_file=\"/home/aleg/Analyses/Aligned_dRNASeq_example/transcriptome_day5.bam\", convergence_target=0.0001, verbose=True)\n",
    "display(n.count_df.head())"
   ]
  }
 ],
 "metadata": {
  "hide_input": false,
  "kernelspec": {
   "display_name": "NanoCount",
   "language": "python",
   "name": "nanocount"
  },
  "language_info": {
   "codemirror_mode": {
    "name": "ipython",
    "version": 3
   },
   "file_extension": ".py",
   "mimetype": "text/x-python",
   "name": "python",
   "nbconvert_exporter": "python",
   "pygments_lexer": "ipython3",
   "version": "3.6.6"
  }
 },
 "nbformat": 4,
 "nbformat_minor": 2
}
